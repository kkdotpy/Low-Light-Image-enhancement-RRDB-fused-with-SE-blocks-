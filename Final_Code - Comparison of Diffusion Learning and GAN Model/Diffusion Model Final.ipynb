{
  "cells": [
    {
      "cell_type": "markdown",
      "metadata": {},
      "source": [
        "# Initiation"
      ]
    },
    {
      "cell_type": "code",
      "execution_count": 3,
      "metadata": {
        "id": "0soa9rXuWN4z"
      },
      "outputs": [],
      "source": [
        "import os\n",
        "import random\n",
        "import numpy as np\n",
        "from PIL import Image\n",
        "import torch\n",
        "import torch.nn as nn\n",
        "from torch.utils.data import Dataset, DataLoader, random_split\n",
        "from torchvision import transforms\n",
        "import matplotlib.pyplot as plt\n",
        "from tqdm import tqdm\n",
        "from torchmetrics import PeakSignalNoiseRatio as PSNR, StructuralSimilarityIndexMeasure as SSIM\n",
        "from piq import LPIPS\n",
        "import os\n",
        "import torch.nn.functional as F\n",
        "from torchvision.models import vgg19\n",
        "from torchvision.utils import save_image\n",
        "from torchvision.datasets import DatasetFolder\n",
        "from datetime import datetime\n",
        "from sklearn.model_selection import train_test_split\n",
        "import random\n",
        "import torch\n",
        "import torch.nn as nn\n",
        "import torch.nn.functional as F\n",
        "from torch.utils.data import Dataset, DataLoader\n",
        "from torchvision import transforms\n",
        "from PIL import Image, ImageDraw, ImageFont\n",
        "from tqdm import tqdm\n",
        "from copy import deepcopy"
      ]
    },
    {
      "cell_type": "code",
      "execution_count": 4,
      "metadata": {
        "id": "EVq1eL9_fwQj"
      },
      "outputs": [],
      "source": [
        "def set_seed(seed=42):\n",
        "    \"\"\"Set all random seeds for reproducibility.\"\"\"\n",
        "    random.seed(seed)\n",
        "    np.random.seed(seed)\n",
        "    torch.manual_seed(seed)\n",
        "    torch.cuda.manual_seed(seed)\n",
        "    torch.cuda.manual_seed_all(seed)  # if using multi-GPU\n",
        "    torch.backends.cudnn.deterministic = True\n",
        "    torch.backends.cudnn.benchmark = False\n",
        "\n",
        "# Set the seed (choose any number you like)\n",
        "set_seed(42)"
      ]
    },
    {
      "cell_type": "markdown",
      "metadata": {
        "id": "nIvEtsp7pjOq"
      },
      "source": [
        "# DataLoaders\n"
      ]
    },
    {
      "cell_type": "code",
      "execution_count": 5,
      "metadata": {},
      "outputs": [],
      "source": [
        "class RandomAugment:\n",
        "    def __init__(self):\n",
        "        self.color_jitter = transforms.ColorJitter(\n",
        "            contrast=0.05,\n",
        "            saturation=0.1,\n",
        "            hue=0.2\n",
        "        )\n",
        "        self.gaussian_blur = transforms.GaussianBlur(kernel_size=3, sigma=(0.1, 1.5))\n",
        "        # self.to_grayscale = transforms.RandomGrayscale(p=0.3)\n",
        "        self.invert = transforms.RandomInvert(p=0.3)\n",
        "        \n",
        "    def __call__(self, img):\n",
        "        # Apply augmentations in random order\n",
        "        aug_order = random.sample(['color', 'blur', 'invert'], k=random.randint(0, 3))\n",
        "        \n",
        "        for aug in aug_order:\n",
        "            if aug == 'color' and random.random() < 0.7:  # 70% chance\n",
        "                img = self.color_jitter(img)\n",
        "            elif aug == 'blur' and random.random() < 0.5:  # 50% chance\n",
        "                img = self.gaussian_blur(img)\n",
        "            elif aug == 'invert':\n",
        "                img = self.invert(img)\n",
        "                \n",
        "        return img\n",
        "    \n",
        "def show_true_images(low_batch, high_batch, n=4):\n",
        "\n",
        "    \"\"\"\n",
        "    Shows EXACTLY what's in your dataset with correct color handling.\n",
        "    Works for both normalized and unnormalized images.\n",
        "    \"\"\"\n",
        "\n",
        "    plt.figure(figsize=(18, 8))\n",
        "\n",
        "    for i in range(min(n, len(low_batch))):\n",
        "        # --- Low-light ---\n",
        "        plt.subplot(2, n, i+1)\n",
        "        low_img = low_batch[i].permute(1, 2, 0).numpy()\n",
        "\n",
        "        # Handle normalization if present\n",
        "        if low_img.min() < 0:  # Likely normalized\n",
        "            low_img = (low_img * 0.5 + 0.5)  # Reverse imagenet norm\n",
        "\n",
        "        # Ensure proper image range\n",
        "        low_img = np.clip(low_img, 0, 1)\n",
        "        plt.imshow(low_img)\n",
        "        plt.title(f\"Low\")\n",
        "        plt.axis('off')\n",
        "\n",
        "        # --- Normal-light ---\n",
        "        plt.subplot(2, n, n+i+1)\n",
        "        high_img = high_batch[i].permute(1, 2, 0).numpy()\n",
        "\n",
        "        if high_img.min() < 0:  # Likely normalized\n",
        "            high_img = (high_img * 0.5 + 0.5)\n",
        "\n",
        "        high_img = np.clip(high_img, 0, 1)\n",
        "        plt.imshow(high_img)\n",
        "        plt.title(f\"High\")\n",
        "        plt.axis('off')\n",
        "\n",
        "    plt.tight_layout()\n",
        "    plt.show()"
      ]
    },
    {
      "cell_type": "markdown",
      "metadata": {},
      "source": [
        "# Run Data"
      ]
    },
    {
      "cell_type": "code",
      "execution_count": 8,
      "metadata": {},
      "outputs": [],
      "source": [
        "# Your existing dataset code\n",
        "dataset_path1 = r\"/home/ahansviar2/Deep Learning Project (GAN for Light)/downloaded_images\"\n",
        "train_path = f'{dataset_path1}/train'\n",
        "val_path = f'{dataset_path1}/val'\n",
        "test_path = f'{dataset_path1}/test'\n",
        "\n",
        "# Usage in Dataset\n",
        "transform = transforms.Compose([\n",
        "    # RandomAugment(),  # Your custom augmentations\n",
        "    # transforms.GaussianBlur(kernel_size=3, sigma=(0.1,0.5)),\n",
        "    transforms.Normalize(mean=[0.5, 0.5, 0.5], std=[0.5, 0.5, 0.5]),  # Scales to [-1, 1]\n",
        "    transforms.Resize((256, 256)), \n",
        "    transforms.ToTensor(),\n",
        "])\n",
        "\n",
        "# Transform Pipelines\n",
        "train_input_transform = transforms.Compose([\n",
        "    # RandomAugment(),\n",
        "    transforms.GaussianBlur(kernel_size=3, sigma=(0.1,0.5)),\n",
        "    transforms.Resize((256, 256)),\n",
        "    transforms.ToTensor(),\n",
        "])\n",
        "\n",
        "low_transform = transforms.Compose([\n",
        "    transforms.Resize((256, 256)),\n",
        "    transforms.ToTensor(),\n",
        "    transforms.Normalize((0.5, 0.5, 0.5), (0.5, 0.5, 0.5))\n",
        "])\n",
        "\n",
        "high_transform = transforms.Compose([\n",
        "    transforms.Resize((256, 256)),\n",
        "    transforms.ToTensor(),\n",
        "    transforms.Normalize((0.5, 0.5, 0.5), (0.5, 0.5, 0.5))\n",
        "])\n",
        "\n",
        "target_transform = transforms.Compose([\n",
        "    transforms.Resize((256, 256)),\n",
        "    transforms.ToTensor(),\n",
        "])"
      ]
    },
    {
      "cell_type": "code",
      "execution_count": 11,
      "metadata": {},
      "outputs": [
        {
          "name": "stdout",
          "output_type": "stream",
          "text": [
            "Using device: cuda:0\n"
          ]
        }
      ],
      "source": [
        "class CleanDataset(Dataset):\n",
        "    def __init__(self, root_dir, low_transform=None, high_transform=None):\n",
        "        self.root_dir = root_dir\n",
        "        self.low_transform = low_transform\n",
        "        self.high_transform = high_transform\n",
        "        self.low_dir = os.path.join(root_dir, \"low\")\n",
        "        self.high_dir = os.path.join(root_dir, \"high\")\n",
        "        self.image_names = sorted(os.listdir(self.low_dir))  # Ensures matching pairs\n",
        "\n",
        "    def __len__(self):\n",
        "        return len(self.image_names)\n",
        "\n",
        "    def __getitem__(self, idx):\n",
        "        low_img_path = os.path.join(self.low_dir, self.image_names[idx])\n",
        "        high_img_path = os.path.join(self.high_dir, self.image_names[idx])\n",
        "\n",
        "        low_img = Image.open(low_img_path).convert(\"RGB\")\n",
        "        high_img = Image.open(high_img_path).convert(\"RGB\")\n",
        "\n",
        "        # Apply separate transforms\n",
        "        if self.low_transform:\n",
        "            low_img = self.low_transform(low_img)\n",
        "        if self.high_transform:\n",
        "            high_img = self.high_transform(high_img)\n",
        "            \n",
        "        return low_img, high_img, os.path.basename(low_img_path)\n",
        "\n",
        "# Initialize datasets ONCE with correct parameters\n",
        "train_dataset = CleanDataset(\n",
        "    root_dir=train_path, \n",
        "    low_transform=low_transform,\n",
        "    high_transform=high_transform\n",
        ")\n",
        "\n",
        "val_dataset = CleanDataset(\n",
        "    root_dir=val_path,\n",
        "    low_transform=low_transform,\n",
        "    high_transform=high_transform\n",
        ")\n",
        "\n",
        "test_dataset = CleanDataset(\n",
        "    root_dir=test_path,\n",
        "    low_transform=low_transform,\n",
        "    high_transform=high_transform\n",
        ")\n",
        "\n",
        "# DataLoader setup (this part is correct)\n",
        "batch_size = 8\n",
        "\n",
        "train_loader = DataLoader(\n",
        "    train_dataset,\n",
        "    batch_size=batch_size,\n",
        "    shuffle=True,\n",
        "    num_workers=2,\n",
        "    pin_memory=True\n",
        ")\n",
        "\n",
        "val_loader = DataLoader(\n",
        "    val_dataset,\n",
        "    batch_size=batch_size,\n",
        "    shuffle=False,\n",
        "    num_workers=2,\n",
        "    pin_memory=True\n",
        ")\n",
        "\n",
        "test_loader = DataLoader(\n",
        "    test_dataset,\n",
        "    batch_size=1,\n",
        "    shuffle=False,\n",
        "    num_workers=1\n",
        ")\n",
        "\n",
        "device = torch.device(\"cuda:0\" if torch.cuda.is_available() else \"cpu\")\n",
        "print(f\"Using device: {device}\")"
      ]
    },
    {
      "cell_type": "markdown",
      "metadata": {},
      "source": [
        "## Data Checking"
      ]
    },
    {
      "cell_type": "code",
      "execution_count": 9,
      "metadata": {},
      "outputs": [
        {
          "name": "stdout",
          "output_type": "stream",
          "text": [
            "✅ All datasets have matched low/high pairs.\n"
          ]
        }
      ],
      "source": [
        "for split in ['train', 'val', 'test']:\n",
        "    low_dir = os.path.join(dataset_path1, split, 'low')\n",
        "    high_dir = os.path.join(dataset_path1, split, 'high')\n",
        "    low_files = set(os.listdir(low_dir))\n",
        "    high_files = set(os.listdir(high_dir))\n",
        "    assert low_files == high_files, f\"Mismatch in {split} set!\"\n",
        "print(\"✅ All datasets have matched low/high pairs.\")"
      ]
    },
    {
      "cell_type": "code",
      "execution_count": 12,
      "metadata": {},
      "outputs": [
        {
          "name": "stdout",
          "output_type": "stream",
          "text": [
            "Low batch shape: torch.Size([8, 3, 256, 256])\n",
            "High batch shape: torch.Size([8, 3, 256, 256])\n",
            "Pixel range - Low: [-1.00, 0.98]\n",
            "Pixel range - High: [-1.00, 1.00]\n"
          ]
        }
      ],
      "source": [
        "# Test one batch\n",
        "low_batch, high_batch, _ = next(iter(train_loader))\n",
        "print(f\"Low batch shape: {low_batch.shape}\")\n",
        "print(f\"High batch shape: {high_batch.shape}\")\n",
        "print(f\"Pixel range - Low: [{low_batch.min():.2f}, {low_batch.max():.2f}]\")\n",
        "print(f\"Pixel range - High: [{high_batch.min():.2f}, {high_batch.max():.2f}]\")"
      ]
    },
    {
      "cell_type": "code",
      "execution_count": 13,
      "metadata": {},
      "outputs": [],
      "source": [
        "def validate_image_pairs(dataset, n_samples=5):\n",
        "    \"\"\"Plot random pairs to visually inspect alignment/quality\"\"\"\n",
        "    indices = random.sample(range(len(dataset)), n_samples)\n",
        "    for idx in indices:\n",
        "        low, high, _ = dataset[idx]\n",
        "        plt.figure(figsize=(10, 5))\n",
        "        plt.subplot(1, 2, 1)\n",
        "        plt.imshow(low.permute(1, 2, 0).clamp(0, 1))\n",
        "        plt.title(\"Low-light\")\n",
        "        plt.subplot(1, 2, 2)\n",
        "        plt.imshow(high.permute(1, 2, 0).clamp(0, 1))\n",
        "        plt.title(\"Normal-light\")\n",
        "        plt.show()\n",
        "\n",
        "# validate_image_pairs(train_dataset)"
      ]
    },
    {
      "cell_type": "code",
      "execution_count": 14,
      "metadata": {},
      "outputs": [
        {
          "name": "stdout",
          "output_type": "stream",
          "text": [
            "Low-light stats - Mean: tensor([-0.6094, -0.6131, -0.6181]), Std: tensor([0.6393, 0.6413, 0.6484])\n"
          ]
        }
      ],
      "source": [
        "def analyze_channel_stats(loader):\n",
        "    \"\"\"Calculate mean/std per channel across dataset\"\"\"\n",
        "    channels_sum, channels_sq_sum, num_batches = 0, 0, 0\n",
        "    for low, high, _, in loader:\n",
        "        channels_sum += torch.mean(low, dim=[0, 2, 3])\n",
        "        channels_sq_sum += torch.mean(low**2, dim=[0, 2, 3])\n",
        "        num_batches += 1\n",
        "    mean = channels_sum / num_batches\n",
        "    std = (channels_sq_sum / num_batches - mean**2)**0.5\n",
        "    print(f\"Low-light stats - Mean: {mean}, Std: {std}\")\n",
        "\n",
        "analyze_channel_stats(train_loader)"
      ]
    },
    {
      "cell_type": "code",
      "execution_count": 15,
      "metadata": {},
      "outputs": [
        {
          "name": "stdout",
          "output_type": "stream",
          "text": [
            "Batch memory: 6.00 MB\n"
          ]
        }
      ],
      "source": [
        "low, high, _ = next(iter(train_loader))\n",
        "print(f\"Batch memory: {low.element_size() * low.nelement() / 1024**2:.2f} MB\")"
      ]
    },
    {
      "cell_type": "markdown",
      "metadata": {},
      "source": [
        "# MODEL ARCHITECTURE"
      ]
    },
    {
      "cell_type": "markdown",
      "metadata": {},
      "source": [
        "## Diffusion Experiment 2"
      ]
    },
    {
      "cell_type": "code",
      "execution_count": 16,
      "metadata": {
        "id": "78F5mzcafwQu",
        "outputId": "d50aa3d1-0846-484d-af6a-53f0bc60ea1c"
      },
      "outputs": [
        {
          "name": "stderr",
          "output_type": "stream",
          "text": [
            "Epoch 1/200: 100%|██████████| 49/49 [01:08<00:00,  1.40s/it]\n"
          ]
        },
        {
          "name": "stdout",
          "output_type": "stream",
          "text": [
            "Epoch 1 | Loss: 0.4734 | PSNR: 7.54 dB | SSIM: 0.307 | LPIPS: 0.421\n"
          ]
        },
        {
          "name": "stderr",
          "output_type": "stream",
          "text": [
            "Epoch 2/200: 100%|██████████| 49/49 [00:53<00:00,  1.08s/it]\n"
          ]
        },
        {
          "name": "stdout",
          "output_type": "stream",
          "text": [
            "Epoch 2 | Loss: 0.2134 | PSNR: 11.41 dB | SSIM: 0.453 | LPIPS: 0.267\n"
          ]
        },
        {
          "name": "stderr",
          "output_type": "stream",
          "text": [
            "Epoch 3/200: 100%|██████████| 49/49 [00:52<00:00,  1.08s/it]\n"
          ]
        },
        {
          "name": "stdout",
          "output_type": "stream",
          "text": [
            "Epoch 3 | Loss: 0.1736 | PSNR: 11.94 dB | SSIM: 0.478 | LPIPS: 0.237\n"
          ]
        },
        {
          "name": "stderr",
          "output_type": "stream",
          "text": [
            "Epoch 4/200: 100%|██████████| 49/49 [00:53<00:00,  1.08s/it]\n"
          ]
        },
        {
          "name": "stdout",
          "output_type": "stream",
          "text": [
            "Epoch 4 | Loss: 0.1548 | PSNR: 12.05 dB | SSIM: 0.493 | LPIPS: 0.222\n"
          ]
        },
        {
          "name": "stderr",
          "output_type": "stream",
          "text": [
            "Epoch 5/200: 100%|██████████| 49/49 [00:52<00:00,  1.07s/it]\n"
          ]
        },
        {
          "name": "stdout",
          "output_type": "stream",
          "text": [
            "Epoch 5 | Loss: 0.1389 | PSNR: 12.22 dB | SSIM: 0.508 | LPIPS: 0.214\n"
          ]
        },
        {
          "name": "stderr",
          "output_type": "stream",
          "text": [
            "Epoch 6/200: 100%|██████████| 49/49 [00:52<00:00,  1.07s/it]\n"
          ]
        },
        {
          "name": "stdout",
          "output_type": "stream",
          "text": [
            "Epoch 6 | Loss: 0.1349 | PSNR: 12.56 dB | SSIM: 0.543 | LPIPS: 0.207\n"
          ]
        },
        {
          "name": "stderr",
          "output_type": "stream",
          "text": [
            "Epoch 7/200: 100%|██████████| 49/49 [00:53<00:00,  1.09s/it]\n"
          ]
        },
        {
          "name": "stdout",
          "output_type": "stream",
          "text": [
            "Epoch 7 | Loss: 0.1258 | PSNR: 12.88 dB | SSIM: 0.581 | LPIPS: 0.198\n"
          ]
        },
        {
          "name": "stderr",
          "output_type": "stream",
          "text": [
            "Epoch 8/200: 100%|██████████| 49/49 [00:52<00:00,  1.07s/it]\n"
          ]
        },
        {
          "name": "stdout",
          "output_type": "stream",
          "text": [
            "Epoch 8 | Loss: 0.1179 | PSNR: 13.35 dB | SSIM: 0.622 | LPIPS: 0.191\n"
          ]
        },
        {
          "name": "stderr",
          "output_type": "stream",
          "text": [
            "Epoch 9/200: 100%|██████████| 49/49 [00:53<00:00,  1.08s/it]\n"
          ]
        },
        {
          "name": "stdout",
          "output_type": "stream",
          "text": [
            "Epoch 9 | Loss: 0.1155 | PSNR: 13.90 dB | SSIM: 0.654 | LPIPS: 0.185\n"
          ]
        },
        {
          "name": "stderr",
          "output_type": "stream",
          "text": [
            "Epoch 10/200: 100%|██████████| 49/49 [00:52<00:00,  1.07s/it]\n"
          ]
        },
        {
          "name": "stdout",
          "output_type": "stream",
          "text": [
            "Epoch 10 | Loss: 0.1089 | PSNR: 13.82 dB | SSIM: 0.656 | LPIPS: 0.180\n"
          ]
        },
        {
          "name": "stderr",
          "output_type": "stream",
          "text": [
            "Epoch 11/200: 100%|██████████| 49/49 [00:53<00:00,  1.09s/it]\n"
          ]
        },
        {
          "name": "stdout",
          "output_type": "stream",
          "text": [
            "Epoch 11 | Loss: 0.1105 | PSNR: 13.97 dB | SSIM: 0.658 | LPIPS: 0.181\n"
          ]
        },
        {
          "name": "stderr",
          "output_type": "stream",
          "text": [
            "Epoch 12/200: 100%|██████████| 49/49 [00:52<00:00,  1.07s/it]\n"
          ]
        },
        {
          "name": "stdout",
          "output_type": "stream",
          "text": [
            "Epoch 12 | Loss: 0.1091 | PSNR: 14.18 dB | SSIM: 0.702 | LPIPS: 0.175\n"
          ]
        },
        {
          "name": "stderr",
          "output_type": "stream",
          "text": [
            "Epoch 13/200: 100%|██████████| 49/49 [00:52<00:00,  1.08s/it]\n"
          ]
        },
        {
          "name": "stdout",
          "output_type": "stream",
          "text": [
            "Epoch 13 | Loss: 0.1100 | PSNR: 14.11 dB | SSIM: 0.709 | LPIPS: 0.177\n"
          ]
        },
        {
          "name": "stderr",
          "output_type": "stream",
          "text": [
            "Epoch 14/200: 100%|██████████| 49/49 [00:52<00:00,  1.08s/it]\n"
          ]
        },
        {
          "name": "stdout",
          "output_type": "stream",
          "text": [
            "Epoch 14 | Loss: 0.1044 | PSNR: 14.44 dB | SSIM: 0.752 | LPIPS: 0.171\n"
          ]
        },
        {
          "name": "stderr",
          "output_type": "stream",
          "text": [
            "Epoch 15/200: 100%|██████████| 49/49 [00:52<00:00,  1.08s/it]\n"
          ]
        },
        {
          "name": "stdout",
          "output_type": "stream",
          "text": [
            "Epoch 15 | Loss: 0.0987 | PSNR: 14.21 dB | SSIM: 0.760 | LPIPS: 0.170\n"
          ]
        },
        {
          "name": "stderr",
          "output_type": "stream",
          "text": [
            "Epoch 16/200: 100%|██████████| 49/49 [00:53<00:00,  1.09s/it]\n"
          ]
        },
        {
          "name": "stdout",
          "output_type": "stream",
          "text": [
            "Epoch 16 | Loss: 0.1010 | PSNR: 14.10 dB | SSIM: 0.771 | LPIPS: 0.168\n"
          ]
        },
        {
          "name": "stderr",
          "output_type": "stream",
          "text": [
            "Epoch 17/200: 100%|██████████| 49/49 [00:52<00:00,  1.07s/it]\n"
          ]
        },
        {
          "name": "stdout",
          "output_type": "stream",
          "text": [
            "Epoch 17 | Loss: 0.0955 | PSNR: 14.12 dB | SSIM: 0.785 | LPIPS: 0.166\n"
          ]
        },
        {
          "name": "stderr",
          "output_type": "stream",
          "text": [
            "Epoch 18/200: 100%|██████████| 49/49 [00:52<00:00,  1.08s/it]\n"
          ]
        },
        {
          "name": "stdout",
          "output_type": "stream",
          "text": [
            "Epoch 18 | Loss: 0.0964 | PSNR: 14.18 dB | SSIM: 0.812 | LPIPS: 0.159\n"
          ]
        },
        {
          "name": "stderr",
          "output_type": "stream",
          "text": [
            "Epoch 19/200: 100%|██████████| 49/49 [00:52<00:00,  1.07s/it]\n"
          ]
        },
        {
          "name": "stdout",
          "output_type": "stream",
          "text": [
            "Epoch 19 | Loss: 0.0935 | PSNR: 13.87 dB | SSIM: 0.811 | LPIPS: 0.162\n"
          ]
        },
        {
          "name": "stderr",
          "output_type": "stream",
          "text": [
            "Epoch 20/200: 100%|██████████| 49/49 [00:53<00:00,  1.08s/it]\n"
          ]
        },
        {
          "name": "stdout",
          "output_type": "stream",
          "text": [
            "Epoch 20 | Loss: 0.0954 | PSNR: 13.94 dB | SSIM: 0.835 | LPIPS: 0.154\n"
          ]
        },
        {
          "name": "stderr",
          "output_type": "stream",
          "text": [
            "Epoch 21/200: 100%|██████████| 49/49 [00:52<00:00,  1.07s/it]\n"
          ]
        },
        {
          "name": "stdout",
          "output_type": "stream",
          "text": [
            "Epoch 21 | Loss: 0.0894 | PSNR: 13.72 dB | SSIM: 0.842 | LPIPS: 0.157\n"
          ]
        },
        {
          "name": "stderr",
          "output_type": "stream",
          "text": [
            "Epoch 22/200: 100%|██████████| 49/49 [00:53<00:00,  1.09s/it]\n"
          ]
        },
        {
          "name": "stdout",
          "output_type": "stream",
          "text": [
            "Epoch 22 | Loss: 0.0864 | PSNR: 13.36 dB | SSIM: 0.849 | LPIPS: 0.156\n"
          ]
        },
        {
          "name": "stderr",
          "output_type": "stream",
          "text": [
            "Epoch 23/200: 100%|██████████| 49/49 [00:52<00:00,  1.07s/it]\n"
          ]
        },
        {
          "name": "stdout",
          "output_type": "stream",
          "text": [
            "Epoch 23 | Loss: 0.0882 | PSNR: 13.19 dB | SSIM: 0.852 | LPIPS: 0.158\n"
          ]
        },
        {
          "name": "stderr",
          "output_type": "stream",
          "text": [
            "Epoch 24/200: 100%|██████████| 49/49 [00:53<00:00,  1.09s/it]\n"
          ]
        },
        {
          "name": "stdout",
          "output_type": "stream",
          "text": [
            "Epoch 24 | Loss: 0.0862 | PSNR: 13.14 dB | SSIM: 0.866 | LPIPS: 0.154\n"
          ]
        },
        {
          "name": "stderr",
          "output_type": "stream",
          "text": [
            "Epoch 25/200: 100%|██████████| 49/49 [00:52<00:00,  1.08s/it]\n"
          ]
        },
        {
          "name": "stdout",
          "output_type": "stream",
          "text": [
            "Epoch 25 | Loss: 0.0820 | PSNR: 13.13 dB | SSIM: 0.887 | LPIPS: 0.148\n"
          ]
        },
        {
          "name": "stderr",
          "output_type": "stream",
          "text": [
            "Epoch 26/200: 100%|██████████| 49/49 [00:52<00:00,  1.07s/it]\n"
          ]
        },
        {
          "name": "stdout",
          "output_type": "stream",
          "text": [
            "Epoch 26 | Loss: 0.0846 | PSNR: 13.03 dB | SSIM: 0.892 | LPIPS: 0.150\n"
          ]
        },
        {
          "name": "stderr",
          "output_type": "stream",
          "text": [
            "Epoch 27/200: 100%|██████████| 49/49 [00:53<00:00,  1.09s/it]\n"
          ]
        },
        {
          "name": "stdout",
          "output_type": "stream",
          "text": [
            "Epoch 27 | Loss: 0.0842 | PSNR: 12.98 dB | SSIM: 0.891 | LPIPS: 0.149\n"
          ]
        },
        {
          "name": "stderr",
          "output_type": "stream",
          "text": [
            "Epoch 28/200: 100%|██████████| 49/49 [00:52<00:00,  1.07s/it]\n"
          ]
        },
        {
          "name": "stdout",
          "output_type": "stream",
          "text": [
            "Epoch 28 | Loss: 0.0842 | PSNR: 12.70 dB | SSIM: 0.908 | LPIPS: 0.147\n"
          ]
        },
        {
          "name": "stderr",
          "output_type": "stream",
          "text": [
            "Epoch 29/200: 100%|██████████| 49/49 [00:53<00:00,  1.08s/it]\n"
          ]
        },
        {
          "name": "stdout",
          "output_type": "stream",
          "text": [
            "Epoch 29 | Loss: 0.0830 | PSNR: 12.68 dB | SSIM: 0.912 | LPIPS: 0.147\n"
          ]
        },
        {
          "name": "stderr",
          "output_type": "stream",
          "text": [
            "Epoch 30/200: 100%|██████████| 49/49 [00:52<00:00,  1.07s/it]\n"
          ]
        },
        {
          "name": "stdout",
          "output_type": "stream",
          "text": [
            "Epoch 30 | Loss: 0.0790 | PSNR: 12.36 dB | SSIM: 0.933 | LPIPS: 0.139\n"
          ]
        },
        {
          "name": "stderr",
          "output_type": "stream",
          "text": [
            "Epoch 31/200: 100%|██████████| 49/49 [00:53<00:00,  1.09s/it]\n"
          ]
        },
        {
          "name": "stdout",
          "output_type": "stream",
          "text": [
            "Epoch 31 | Loss: 0.0805 | PSNR: 12.34 dB | SSIM: 0.922 | LPIPS: 0.146\n"
          ]
        },
        {
          "name": "stderr",
          "output_type": "stream",
          "text": [
            "Epoch 32/200: 100%|██████████| 49/49 [00:52<00:00,  1.07s/it]\n"
          ]
        },
        {
          "name": "stdout",
          "output_type": "stream",
          "text": [
            "Epoch 32 | Loss: 0.0777 | PSNR: 12.64 dB | SSIM: 0.927 | LPIPS: 0.141\n"
          ]
        },
        {
          "name": "stderr",
          "output_type": "stream",
          "text": [
            "Epoch 33/200: 100%|██████████| 49/49 [00:53<00:00,  1.08s/it]\n"
          ]
        },
        {
          "name": "stdout",
          "output_type": "stream",
          "text": [
            "Epoch 33 | Loss: 0.0781 | PSNR: 12.02 dB | SSIM: 0.941 | LPIPS: 0.138\n"
          ]
        },
        {
          "name": "stderr",
          "output_type": "stream",
          "text": [
            "Epoch 34/200: 100%|██████████| 49/49 [00:52<00:00,  1.07s/it]\n"
          ]
        },
        {
          "name": "stdout",
          "output_type": "stream",
          "text": [
            "Epoch 34 | Loss: 0.0789 | PSNR: 11.64 dB | SSIM: 0.945 | LPIPS: 0.145\n"
          ]
        },
        {
          "name": "stderr",
          "output_type": "stream",
          "text": [
            "Epoch 35/200: 100%|██████████| 49/49 [00:52<00:00,  1.08s/it]\n"
          ]
        },
        {
          "name": "stdout",
          "output_type": "stream",
          "text": [
            "Epoch 35 | Loss: 0.0771 | PSNR: 11.97 dB | SSIM: 0.958 | LPIPS: 0.134\n"
          ]
        },
        {
          "name": "stderr",
          "output_type": "stream",
          "text": [
            "Epoch 36/200: 100%|██████████| 49/49 [00:52<00:00,  1.08s/it]\n"
          ]
        },
        {
          "name": "stdout",
          "output_type": "stream",
          "text": [
            "Epoch 36 | Loss: 0.0784 | PSNR: 11.35 dB | SSIM: 0.950 | LPIPS: 0.143\n"
          ]
        },
        {
          "name": "stderr",
          "output_type": "stream",
          "text": [
            "Epoch 37/200: 100%|██████████| 49/49 [00:52<00:00,  1.07s/it]\n"
          ]
        },
        {
          "name": "stdout",
          "output_type": "stream",
          "text": [
            "Epoch 37 | Loss: 0.0721 | PSNR: 11.03 dB | SSIM: 0.959 | LPIPS: 0.133\n"
          ]
        },
        {
          "name": "stderr",
          "output_type": "stream",
          "text": [
            "Epoch 38/200: 100%|██████████| 49/49 [00:53<00:00,  1.09s/it]\n"
          ]
        },
        {
          "name": "stdout",
          "output_type": "stream",
          "text": [
            "Epoch 38 | Loss: 0.0722 | PSNR: 10.86 dB | SSIM: 0.968 | LPIPS: 0.131\n"
          ]
        },
        {
          "name": "stderr",
          "output_type": "stream",
          "text": [
            "Epoch 39/200: 100%|██████████| 49/49 [00:52<00:00,  1.07s/it]\n"
          ]
        },
        {
          "name": "stdout",
          "output_type": "stream",
          "text": [
            "Epoch 39 | Loss: 0.0676 | PSNR: 11.07 dB | SSIM: 0.981 | LPIPS: 0.128\n"
          ]
        },
        {
          "name": "stderr",
          "output_type": "stream",
          "text": [
            "Epoch 40/200: 100%|██████████| 49/49 [00:53<00:00,  1.09s/it]\n"
          ]
        },
        {
          "name": "stdout",
          "output_type": "stream",
          "text": [
            "Epoch 40 | Loss: 0.0697 | PSNR: 11.09 dB | SSIM: 0.984 | LPIPS: 0.126\n"
          ]
        },
        {
          "name": "stderr",
          "output_type": "stream",
          "text": [
            "Epoch 41/200: 100%|██████████| 49/49 [00:55<00:00,  1.14s/it]\n"
          ]
        },
        {
          "name": "stdout",
          "output_type": "stream",
          "text": [
            "Epoch 41 | Loss: 0.0693 | PSNR: 10.62 dB | SSIM: 0.987 | LPIPS: 0.125\n"
          ]
        },
        {
          "name": "stderr",
          "output_type": "stream",
          "text": [
            "Epoch 42/200: 100%|██████████| 49/49 [00:58<00:00,  1.20s/it]\n"
          ]
        },
        {
          "name": "stdout",
          "output_type": "stream",
          "text": [
            "Epoch 42 | Loss: 0.0629 | PSNR: 10.69 dB | SSIM: 0.989 | LPIPS: 0.121\n"
          ]
        },
        {
          "name": "stderr",
          "output_type": "stream",
          "text": [
            "Epoch 43/200: 100%|██████████| 49/49 [00:58<00:00,  1.19s/it]\n"
          ]
        },
        {
          "name": "stdout",
          "output_type": "stream",
          "text": [
            "Epoch 43 | Loss: 0.0675 | PSNR: 10.63 dB | SSIM: 0.988 | LPIPS: 0.123\n"
          ]
        },
        {
          "name": "stderr",
          "output_type": "stream",
          "text": [
            "Epoch 44/200: 100%|██████████| 49/49 [00:58<00:00,  1.19s/it]\n"
          ]
        },
        {
          "name": "stdout",
          "output_type": "stream",
          "text": [
            "Epoch 44 | Loss: 0.0692 | PSNR: 9.82 dB | SSIM: 0.986 | LPIPS: 0.133\n"
          ]
        },
        {
          "name": "stderr",
          "output_type": "stream",
          "text": [
            "Epoch 45/200: 100%|██████████| 49/49 [00:58<00:00,  1.20s/it]\n"
          ]
        },
        {
          "name": "stdout",
          "output_type": "stream",
          "text": [
            "Epoch 45 | Loss: 0.0628 | PSNR: 10.24 dB | SSIM: 0.989 | LPIPS: 0.123\n"
          ]
        },
        {
          "name": "stderr",
          "output_type": "stream",
          "text": [
            "Epoch 46/200: 100%|██████████| 49/49 [00:56<00:00,  1.15s/it]\n"
          ]
        },
        {
          "name": "stdout",
          "output_type": "stream",
          "text": [
            "Epoch 46 | Loss: 0.0626 | PSNR: 10.25 dB | SSIM: 0.990 | LPIPS: 0.119\n"
          ]
        },
        {
          "name": "stderr",
          "output_type": "stream",
          "text": [
            "Epoch 47/200: 100%|██████████| 49/49 [00:53<00:00,  1.09s/it]\n"
          ]
        },
        {
          "name": "stdout",
          "output_type": "stream",
          "text": [
            "Epoch 47 | Loss: 0.0618 | PSNR: 10.55 dB | SSIM: 0.990 | LPIPS: 0.117\n"
          ]
        },
        {
          "name": "stderr",
          "output_type": "stream",
          "text": [
            "Epoch 48/200: 100%|██████████| 49/49 [00:52<00:00,  1.07s/it]\n"
          ]
        },
        {
          "name": "stdout",
          "output_type": "stream",
          "text": [
            "Epoch 48 | Loss: 0.0643 | PSNR: 10.45 dB | SSIM: 0.990 | LPIPS: 0.118\n"
          ]
        },
        {
          "name": "stderr",
          "output_type": "stream",
          "text": [
            "Epoch 49/200: 100%|██████████| 49/49 [00:53<00:00,  1.09s/it]\n"
          ]
        },
        {
          "name": "stdout",
          "output_type": "stream",
          "text": [
            "Epoch 49 | Loss: 0.0631 | PSNR: 9.30 dB | SSIM: 0.990 | LPIPS: 0.121\n"
          ]
        },
        {
          "name": "stderr",
          "output_type": "stream",
          "text": [
            "Epoch 50/200: 100%|██████████| 49/49 [00:52<00:00,  1.08s/it]\n"
          ]
        },
        {
          "name": "stdout",
          "output_type": "stream",
          "text": [
            "Epoch 50 | Loss: 0.0613 | PSNR: 9.69 dB | SSIM: 0.992 | LPIPS: 0.117\n"
          ]
        },
        {
          "name": "stderr",
          "output_type": "stream",
          "text": [
            "Epoch 51/200: 100%|██████████| 49/49 [00:52<00:00,  1.08s/it]\n"
          ]
        },
        {
          "name": "stdout",
          "output_type": "stream",
          "text": [
            "Epoch 51 | Loss: 0.0641 | PSNR: 9.78 dB | SSIM: 0.990 | LPIPS: 0.120\n"
          ]
        },
        {
          "name": "stderr",
          "output_type": "stream",
          "text": [
            "Epoch 52/200: 100%|██████████| 49/49 [00:53<00:00,  1.08s/it]\n"
          ]
        },
        {
          "name": "stdout",
          "output_type": "stream",
          "text": [
            "Epoch 52 | Loss: 0.0644 | PSNR: 9.58 dB | SSIM: 0.990 | LPIPS: 0.118\n"
          ]
        },
        {
          "name": "stderr",
          "output_type": "stream",
          "text": [
            "Epoch 53/200: 100%|██████████| 49/49 [00:52<00:00,  1.08s/it]\n"
          ]
        },
        {
          "name": "stdout",
          "output_type": "stream",
          "text": [
            "Epoch 53 | Loss: 0.0625 | PSNR: 9.29 dB | SSIM: 0.992 | LPIPS: 0.118\n"
          ]
        },
        {
          "name": "stderr",
          "output_type": "stream",
          "text": [
            "Epoch 54/200: 100%|██████████| 49/49 [00:53<00:00,  1.09s/it]\n"
          ]
        },
        {
          "name": "stdout",
          "output_type": "stream",
          "text": [
            "Epoch 54 | Loss: 0.0617 | PSNR: 9.34 dB | SSIM: 0.992 | LPIPS: 0.116\n"
          ]
        },
        {
          "name": "stderr",
          "output_type": "stream",
          "text": [
            "Epoch 55/200: 100%|██████████| 49/49 [00:53<00:00,  1.09s/it]\n"
          ]
        },
        {
          "name": "stdout",
          "output_type": "stream",
          "text": [
            "Epoch 55 | Loss: 0.0626 | PSNR: 9.62 dB | SSIM: 0.992 | LPIPS: 0.116\n"
          ]
        },
        {
          "name": "stderr",
          "output_type": "stream",
          "text": [
            "Epoch 56/200: 100%|██████████| 49/49 [00:55<00:00,  1.13s/it]\n"
          ]
        },
        {
          "name": "stdout",
          "output_type": "stream",
          "text": [
            "Epoch 56 | Loss: 0.0570 | PSNR: 10.12 dB | SSIM: 0.992 | LPIPS: 0.106\n"
          ]
        },
        {
          "name": "stderr",
          "output_type": "stream",
          "text": [
            "Epoch 57/200: 100%|██████████| 49/49 [00:53<00:00,  1.09s/it]\n"
          ]
        },
        {
          "name": "stdout",
          "output_type": "stream",
          "text": [
            "Epoch 57 | Loss: 0.0619 | PSNR: 9.52 dB | SSIM: 0.993 | LPIPS: 0.111\n"
          ]
        },
        {
          "name": "stderr",
          "output_type": "stream",
          "text": [
            "Epoch 58/200: 100%|██████████| 49/49 [00:58<00:00,  1.19s/it]\n"
          ]
        },
        {
          "name": "stdout",
          "output_type": "stream",
          "text": [
            "Epoch 58 | Loss: 0.0606 | PSNR: 9.73 dB | SSIM: 0.993 | LPIPS: 0.111\n"
          ]
        },
        {
          "name": "stderr",
          "output_type": "stream",
          "text": [
            "Epoch 59/200: 100%|██████████| 49/49 [00:58<00:00,  1.19s/it]\n"
          ]
        },
        {
          "name": "stdout",
          "output_type": "stream",
          "text": [
            "Epoch 59 | Loss: 0.0594 | PSNR: 9.89 dB | SSIM: 0.992 | LPIPS: 0.114\n"
          ]
        },
        {
          "name": "stderr",
          "output_type": "stream",
          "text": [
            "Epoch 60/200: 100%|██████████| 49/49 [01:01<00:00,  1.25s/it]\n"
          ]
        },
        {
          "name": "stdout",
          "output_type": "stream",
          "text": [
            "Epoch 60 | Loss: 0.0577 | PSNR: 10.06 dB | SSIM: 0.993 | LPIPS: 0.109\n"
          ]
        },
        {
          "name": "stderr",
          "output_type": "stream",
          "text": [
            "Epoch 61/200: 100%|██████████| 49/49 [01:01<00:00,  1.26s/it]\n"
          ]
        },
        {
          "name": "stdout",
          "output_type": "stream",
          "text": [
            "Epoch 61 | Loss: 0.0580 | PSNR: 9.33 dB | SSIM: 0.993 | LPIPS: 0.112\n"
          ]
        },
        {
          "name": "stderr",
          "output_type": "stream",
          "text": [
            "Epoch 62/200: 100%|██████████| 49/49 [00:56<00:00,  1.15s/it]\n"
          ]
        },
        {
          "name": "stdout",
          "output_type": "stream",
          "text": [
            "Epoch 62 | Loss: 0.0606 | PSNR: 9.37 dB | SSIM: 0.993 | LPIPS: 0.110\n"
          ]
        },
        {
          "name": "stderr",
          "output_type": "stream",
          "text": [
            "Epoch 63/200: 100%|██████████| 49/49 [01:00<00:00,  1.24s/it]\n"
          ]
        },
        {
          "name": "stdout",
          "output_type": "stream",
          "text": [
            "Epoch 63 | Loss: 0.0543 | PSNR: 9.26 dB | SSIM: 0.993 | LPIPS: 0.108\n"
          ]
        },
        {
          "name": "stderr",
          "output_type": "stream",
          "text": [
            "Epoch 64/200: 100%|██████████| 49/49 [00:58<00:00,  1.20s/it]\n"
          ]
        },
        {
          "name": "stdout",
          "output_type": "stream",
          "text": [
            "Epoch 64 | Loss: 0.0563 | PSNR: 9.51 dB | SSIM: 0.993 | LPIPS: 0.107\n"
          ]
        },
        {
          "name": "stderr",
          "output_type": "stream",
          "text": [
            "Epoch 65/200: 100%|██████████| 49/49 [00:52<00:00,  1.07s/it]\n"
          ]
        },
        {
          "name": "stdout",
          "output_type": "stream",
          "text": [
            "Epoch 65 | Loss: 0.0570 | PSNR: 9.54 dB | SSIM: 0.993 | LPIPS: 0.110\n"
          ]
        },
        {
          "name": "stderr",
          "output_type": "stream",
          "text": [
            "Epoch 66/200: 100%|██████████| 49/49 [00:53<00:00,  1.09s/it]\n"
          ]
        },
        {
          "name": "stdout",
          "output_type": "stream",
          "text": [
            "Epoch 66 | Loss: 0.0597 | PSNR: 9.61 dB | SSIM: 0.993 | LPIPS: 0.108\n"
          ]
        },
        {
          "name": "stderr",
          "output_type": "stream",
          "text": [
            "Epoch 67/200: 100%|██████████| 49/49 [00:50<00:00,  1.04s/it]\n"
          ]
        },
        {
          "name": "stdout",
          "output_type": "stream",
          "text": [
            "Epoch 67 | Loss: 0.0529 | PSNR: 9.45 dB | SSIM: 0.994 | LPIPS: 0.105\n"
          ]
        },
        {
          "name": "stderr",
          "output_type": "stream",
          "text": [
            "Epoch 68/200: 100%|██████████| 49/49 [00:50<00:00,  1.04s/it]\n"
          ]
        },
        {
          "name": "stdout",
          "output_type": "stream",
          "text": [
            "Epoch 68 | Loss: 0.0578 | PSNR: 9.64 dB | SSIM: 0.993 | LPIPS: 0.112\n"
          ]
        },
        {
          "name": "stderr",
          "output_type": "stream",
          "text": [
            "Epoch 69/200: 100%|██████████| 49/49 [00:50<00:00,  1.03s/it]\n"
          ]
        },
        {
          "name": "stdout",
          "output_type": "stream",
          "text": [
            "Epoch 69 | Loss: 0.0530 | PSNR: 9.40 dB | SSIM: 0.995 | LPIPS: 0.105\n"
          ]
        },
        {
          "name": "stderr",
          "output_type": "stream",
          "text": [
            "Epoch 70/200: 100%|██████████| 49/49 [00:50<00:00,  1.03s/it]\n"
          ]
        },
        {
          "name": "stdout",
          "output_type": "stream",
          "text": [
            "Epoch 70 | Loss: 0.0525 | PSNR: 9.33 dB | SSIM: 0.995 | LPIPS: 0.102\n"
          ]
        },
        {
          "name": "stderr",
          "output_type": "stream",
          "text": [
            "Epoch 71/200: 100%|██████████| 49/49 [00:50<00:00,  1.03s/it]\n"
          ]
        },
        {
          "name": "stdout",
          "output_type": "stream",
          "text": [
            "Epoch 71 | Loss: 0.0544 | PSNR: 9.95 dB | SSIM: 0.995 | LPIPS: 0.102\n"
          ]
        },
        {
          "name": "stderr",
          "output_type": "stream",
          "text": [
            "Epoch 72/200: 100%|██████████| 49/49 [00:50<00:00,  1.03s/it]\n"
          ]
        },
        {
          "name": "stdout",
          "output_type": "stream",
          "text": [
            "Epoch 72 | Loss: 0.0557 | PSNR: 9.51 dB | SSIM: 0.995 | LPIPS: 0.102\n"
          ]
        },
        {
          "name": "stderr",
          "output_type": "stream",
          "text": [
            "Epoch 73/200: 100%|██████████| 49/49 [00:50<00:00,  1.03s/it]\n"
          ]
        },
        {
          "name": "stdout",
          "output_type": "stream",
          "text": [
            "Epoch 73 | Loss: 0.0525 | PSNR: 9.36 dB | SSIM: 0.995 | LPIPS: 0.104\n"
          ]
        },
        {
          "name": "stderr",
          "output_type": "stream",
          "text": [
            "Epoch 74/200: 100%|██████████| 49/49 [00:54<00:00,  1.12s/it]\n"
          ]
        },
        {
          "name": "stdout",
          "output_type": "stream",
          "text": [
            "Epoch 74 | Loss: 0.0535 | PSNR: 9.66 dB | SSIM: 0.995 | LPIPS: 0.105\n"
          ]
        },
        {
          "name": "stderr",
          "output_type": "stream",
          "text": [
            "Epoch 75/200: 100%|██████████| 49/49 [00:57<00:00,  1.18s/it]\n"
          ]
        },
        {
          "name": "stdout",
          "output_type": "stream",
          "text": [
            "Epoch 75 | Loss: 0.0572 | PSNR: 9.71 dB | SSIM: 0.995 | LPIPS: 0.104\n"
          ]
        },
        {
          "name": "stderr",
          "output_type": "stream",
          "text": [
            "Epoch 76/200: 100%|██████████| 49/49 [00:59<00:00,  1.20s/it]\n"
          ]
        },
        {
          "name": "stdout",
          "output_type": "stream",
          "text": [
            "Epoch 76 | Loss: 0.0577 | PSNR: 9.07 dB | SSIM: 0.994 | LPIPS: 0.108\n"
          ]
        },
        {
          "name": "stderr",
          "output_type": "stream",
          "text": [
            "Epoch 77/200: 100%|██████████| 49/49 [00:58<00:00,  1.20s/it]\n"
          ]
        },
        {
          "name": "stdout",
          "output_type": "stream",
          "text": [
            "Epoch 77 | Loss: 0.0526 | PSNR: 9.24 dB | SSIM: 0.996 | LPIPS: 0.103\n"
          ]
        },
        {
          "name": "stderr",
          "output_type": "stream",
          "text": [
            "Epoch 78/200: 100%|██████████| 49/49 [00:58<00:00,  1.19s/it]\n"
          ]
        },
        {
          "name": "stdout",
          "output_type": "stream",
          "text": [
            "Epoch 78 | Loss: 0.0516 | PSNR: 9.02 dB | SSIM: 0.995 | LPIPS: 0.102\n"
          ]
        },
        {
          "name": "stderr",
          "output_type": "stream",
          "text": [
            "Epoch 79/200: 100%|██████████| 49/49 [00:59<00:00,  1.21s/it]\n"
          ]
        },
        {
          "name": "stdout",
          "output_type": "stream",
          "text": [
            "Epoch 79 | Loss: 0.0541 | PSNR: 9.53 dB | SSIM: 0.995 | LPIPS: 0.101\n"
          ]
        },
        {
          "name": "stderr",
          "output_type": "stream",
          "text": [
            "Epoch 80/200: 100%|██████████| 49/49 [00:59<00:00,  1.22s/it]\n"
          ]
        },
        {
          "name": "stdout",
          "output_type": "stream",
          "text": [
            "Epoch 80 | Loss: 0.0522 | PSNR: 9.51 dB | SSIM: 0.995 | LPIPS: 0.102\n"
          ]
        },
        {
          "name": "stderr",
          "output_type": "stream",
          "text": [
            "Epoch 81/200: 100%|██████████| 49/49 [00:59<00:00,  1.21s/it]\n"
          ]
        },
        {
          "name": "stdout",
          "output_type": "stream",
          "text": [
            "Epoch 81 | Loss: 0.0511 | PSNR: 9.18 dB | SSIM: 0.996 | LPIPS: 0.098\n"
          ]
        },
        {
          "name": "stderr",
          "output_type": "stream",
          "text": [
            "Epoch 82/200: 100%|██████████| 49/49 [00:59<00:00,  1.21s/it]\n"
          ]
        },
        {
          "name": "stdout",
          "output_type": "stream",
          "text": [
            "Epoch 82 | Loss: 0.0505 | PSNR: 9.36 dB | SSIM: 0.996 | LPIPS: 0.097\n"
          ]
        },
        {
          "name": "stderr",
          "output_type": "stream",
          "text": [
            "Epoch 83/200: 100%|██████████| 49/49 [00:59<00:00,  1.22s/it]\n"
          ]
        },
        {
          "name": "stdout",
          "output_type": "stream",
          "text": [
            "Epoch 83 | Loss: 0.0499 | PSNR: 9.39 dB | SSIM: 0.996 | LPIPS: 0.098\n"
          ]
        },
        {
          "name": "stderr",
          "output_type": "stream",
          "text": [
            "Epoch 84/200: 100%|██████████| 49/49 [00:59<00:00,  1.22s/it]\n"
          ]
        },
        {
          "name": "stdout",
          "output_type": "stream",
          "text": [
            "Epoch 84 | Loss: 0.0516 | PSNR: 9.31 dB | SSIM: 0.996 | LPIPS: 0.094\n"
          ]
        },
        {
          "name": "stderr",
          "output_type": "stream",
          "text": [
            "Epoch 85/200: 100%|██████████| 49/49 [00:58<00:00,  1.19s/it]\n"
          ]
        },
        {
          "name": "stdout",
          "output_type": "stream",
          "text": [
            "Epoch 85 | Loss: 0.0504 | PSNR: 9.44 dB | SSIM: 0.996 | LPIPS: 0.095\n"
          ]
        },
        {
          "name": "stderr",
          "output_type": "stream",
          "text": [
            "Epoch 86/200: 100%|██████████| 49/49 [00:50<00:00,  1.04s/it]\n"
          ]
        },
        {
          "name": "stdout",
          "output_type": "stream",
          "text": [
            "Epoch 86 | Loss: 0.0544 | PSNR: 9.44 dB | SSIM: 0.996 | LPIPS: 0.099\n"
          ]
        },
        {
          "name": "stderr",
          "output_type": "stream",
          "text": [
            "Epoch 87/200: 100%|██████████| 49/49 [00:50<00:00,  1.03s/it]\n"
          ]
        },
        {
          "name": "stdout",
          "output_type": "stream",
          "text": [
            "Epoch 87 | Loss: 0.0497 | PSNR: 8.83 dB | SSIM: 0.995 | LPIPS: 0.097\n"
          ]
        },
        {
          "name": "stderr",
          "output_type": "stream",
          "text": [
            "Epoch 88/200: 100%|██████████| 49/49 [00:50<00:00,  1.03s/it]\n"
          ]
        },
        {
          "name": "stdout",
          "output_type": "stream",
          "text": [
            "Epoch 88 | Loss: 0.0470 | PSNR: 8.85 dB | SSIM: 0.997 | LPIPS: 0.091\n"
          ]
        },
        {
          "name": "stderr",
          "output_type": "stream",
          "text": [
            "Epoch 89/200: 100%|██████████| 49/49 [00:50<00:00,  1.03s/it]\n"
          ]
        },
        {
          "name": "stdout",
          "output_type": "stream",
          "text": [
            "Epoch 89 | Loss: 0.0453 | PSNR: 9.22 dB | SSIM: 0.996 | LPIPS: 0.093\n"
          ]
        },
        {
          "name": "stderr",
          "output_type": "stream",
          "text": [
            "Epoch 90/200: 100%|██████████| 49/49 [00:50<00:00,  1.03s/it]\n"
          ]
        },
        {
          "name": "stdout",
          "output_type": "stream",
          "text": [
            "Epoch 90 | Loss: 0.0475 | PSNR: 9.11 dB | SSIM: 0.996 | LPIPS: 0.095\n"
          ]
        },
        {
          "name": "stderr",
          "output_type": "stream",
          "text": [
            "Epoch 91/200: 100%|██████████| 49/49 [00:50<00:00,  1.03s/it]\n"
          ]
        },
        {
          "name": "stdout",
          "output_type": "stream",
          "text": [
            "Epoch 91 | Loss: 0.0490 | PSNR: 8.68 dB | SSIM: 0.996 | LPIPS: 0.094\n"
          ]
        },
        {
          "name": "stderr",
          "output_type": "stream",
          "text": [
            "Epoch 92/200: 100%|██████████| 49/49 [00:50<00:00,  1.04s/it]\n"
          ]
        },
        {
          "name": "stdout",
          "output_type": "stream",
          "text": [
            "Epoch 92 | Loss: 0.0513 | PSNR: 9.02 dB | SSIM: 0.996 | LPIPS: 0.099\n"
          ]
        },
        {
          "name": "stderr",
          "output_type": "stream",
          "text": [
            "Epoch 93/200: 100%|██████████| 49/49 [00:50<00:00,  1.03s/it]\n"
          ]
        },
        {
          "name": "stdout",
          "output_type": "stream",
          "text": [
            "Epoch 93 | Loss: 0.0522 | PSNR: 8.69 dB | SSIM: 0.996 | LPIPS: 0.096\n"
          ]
        },
        {
          "name": "stderr",
          "output_type": "stream",
          "text": [
            "Epoch 94/200: 100%|██████████| 49/49 [00:50<00:00,  1.03s/it]\n"
          ]
        },
        {
          "name": "stdout",
          "output_type": "stream",
          "text": [
            "Epoch 94 | Loss: 0.0502 | PSNR: 8.67 dB | SSIM: 0.996 | LPIPS: 0.094\n"
          ]
        },
        {
          "name": "stderr",
          "output_type": "stream",
          "text": [
            "Epoch 95/200: 100%|██████████| 49/49 [00:50<00:00,  1.03s/it]\n"
          ]
        },
        {
          "name": "stdout",
          "output_type": "stream",
          "text": [
            "Epoch 95 | Loss: 0.0481 | PSNR: 9.08 dB | SSIM: 0.997 | LPIPS: 0.093\n"
          ]
        },
        {
          "name": "stderr",
          "output_type": "stream",
          "text": [
            "Epoch 96/200: 100%|██████████| 49/49 [00:50<00:00,  1.04s/it]\n"
          ]
        },
        {
          "name": "stdout",
          "output_type": "stream",
          "text": [
            "Epoch 96 | Loss: 0.0487 | PSNR: 9.08 dB | SSIM: 0.997 | LPIPS: 0.095\n"
          ]
        },
        {
          "name": "stderr",
          "output_type": "stream",
          "text": [
            "Epoch 97/200: 100%|██████████| 49/49 [00:50<00:00,  1.03s/it]\n"
          ]
        },
        {
          "name": "stdout",
          "output_type": "stream",
          "text": [
            "Epoch 97 | Loss: 0.0466 | PSNR: 9.01 dB | SSIM: 0.997 | LPIPS: 0.092\n"
          ]
        },
        {
          "name": "stderr",
          "output_type": "stream",
          "text": [
            "Epoch 98/200: 100%|██████████| 49/49 [00:50<00:00,  1.03s/it]\n"
          ]
        },
        {
          "name": "stdout",
          "output_type": "stream",
          "text": [
            "Epoch 98 | Loss: 0.0457 | PSNR: 9.12 dB | SSIM: 0.997 | LPIPS: 0.086\n"
          ]
        },
        {
          "name": "stderr",
          "output_type": "stream",
          "text": [
            "Epoch 99/200: 100%|██████████| 49/49 [00:50<00:00,  1.04s/it]\n"
          ]
        },
        {
          "name": "stdout",
          "output_type": "stream",
          "text": [
            "Epoch 99 | Loss: 0.0458 | PSNR: 9.21 dB | SSIM: 0.997 | LPIPS: 0.090\n"
          ]
        },
        {
          "name": "stderr",
          "output_type": "stream",
          "text": [
            "Epoch 100/200: 100%|██████████| 49/49 [00:50<00:00,  1.04s/it]\n"
          ]
        },
        {
          "name": "stdout",
          "output_type": "stream",
          "text": [
            "Epoch 100 | Loss: 0.0461 | PSNR: 8.47 dB | SSIM: 0.997 | LPIPS: 0.092\n"
          ]
        },
        {
          "name": "stderr",
          "output_type": "stream",
          "text": [
            "Epoch 101/200: 100%|██████████| 49/49 [00:50<00:00,  1.03s/it]\n"
          ]
        },
        {
          "name": "stdout",
          "output_type": "stream",
          "text": [
            "Epoch 101 | Loss: 0.0459 | PSNR: 9.04 dB | SSIM: 0.997 | LPIPS: 0.088\n"
          ]
        },
        {
          "name": "stderr",
          "output_type": "stream",
          "text": [
            "Epoch 102/200: 100%|██████████| 49/49 [00:50<00:00,  1.04s/it]\n"
          ]
        },
        {
          "name": "stdout",
          "output_type": "stream",
          "text": [
            "Epoch 102 | Loss: 0.0475 | PSNR: 8.79 dB | SSIM: 0.997 | LPIPS: 0.090\n"
          ]
        },
        {
          "name": "stderr",
          "output_type": "stream",
          "text": [
            "Epoch 103/200: 100%|██████████| 49/49 [00:50<00:00,  1.03s/it]\n"
          ]
        },
        {
          "name": "stdout",
          "output_type": "stream",
          "text": [
            "Epoch 103 | Loss: 0.0445 | PSNR: 8.83 dB | SSIM: 0.997 | LPIPS: 0.089\n"
          ]
        },
        {
          "name": "stderr",
          "output_type": "stream",
          "text": [
            "Epoch 104/200: 100%|██████████| 49/49 [00:50<00:00,  1.04s/it]\n"
          ]
        },
        {
          "name": "stdout",
          "output_type": "stream",
          "text": [
            "Epoch 104 | Loss: 0.0488 | PSNR: 8.80 dB | SSIM: 0.996 | LPIPS: 0.093\n"
          ]
        },
        {
          "name": "stderr",
          "output_type": "stream",
          "text": [
            "Epoch 105/200: 100%|██████████| 49/49 [00:50<00:00,  1.04s/it]\n"
          ]
        },
        {
          "name": "stdout",
          "output_type": "stream",
          "text": [
            "Epoch 105 | Loss: 0.0456 | PSNR: 8.84 dB | SSIM: 0.997 | LPIPS: 0.091\n"
          ]
        },
        {
          "name": "stderr",
          "output_type": "stream",
          "text": [
            "Epoch 106/200: 100%|██████████| 49/49 [00:50<00:00,  1.03s/it]\n"
          ]
        },
        {
          "name": "stdout",
          "output_type": "stream",
          "text": [
            "Epoch 106 | Loss: 0.0428 | PSNR: 8.94 dB | SSIM: 0.997 | LPIPS: 0.086\n"
          ]
        },
        {
          "name": "stderr",
          "output_type": "stream",
          "text": [
            "Epoch 107/200: 100%|██████████| 49/49 [00:50<00:00,  1.04s/it]\n"
          ]
        },
        {
          "name": "stdout",
          "output_type": "stream",
          "text": [
            "Epoch 107 | Loss: 0.0454 | PSNR: 8.95 dB | SSIM: 0.997 | LPIPS: 0.088\n"
          ]
        },
        {
          "name": "stderr",
          "output_type": "stream",
          "text": [
            "Epoch 108/200: 100%|██████████| 49/49 [00:50<00:00,  1.03s/it]\n"
          ]
        },
        {
          "name": "stdout",
          "output_type": "stream",
          "text": [
            "Epoch 108 | Loss: 0.0446 | PSNR: 8.36 dB | SSIM: 0.997 | LPIPS: 0.089\n"
          ]
        },
        {
          "name": "stderr",
          "output_type": "stream",
          "text": [
            "Epoch 109/200: 100%|██████████| 49/49 [00:50<00:00,  1.03s/it]\n"
          ]
        },
        {
          "name": "stdout",
          "output_type": "stream",
          "text": [
            "Epoch 109 | Loss: 0.0446 | PSNR: 8.92 dB | SSIM: 0.997 | LPIPS: 0.083\n"
          ]
        },
        {
          "name": "stderr",
          "output_type": "stream",
          "text": [
            "Epoch 110/200: 100%|██████████| 49/49 [00:50<00:00,  1.03s/it]\n"
          ]
        },
        {
          "name": "stdout",
          "output_type": "stream",
          "text": [
            "Epoch 110 | Loss: 0.0434 | PSNR: 8.69 dB | SSIM: 0.997 | LPIPS: 0.086\n"
          ]
        },
        {
          "name": "stderr",
          "output_type": "stream",
          "text": [
            "Epoch 111/200: 100%|██████████| 49/49 [00:50<00:00,  1.03s/it]\n"
          ]
        },
        {
          "name": "stdout",
          "output_type": "stream",
          "text": [
            "Epoch 111 | Loss: 0.0462 | PSNR: 8.91 dB | SSIM: 0.997 | LPIPS: 0.087\n"
          ]
        },
        {
          "name": "stderr",
          "output_type": "stream",
          "text": [
            "Epoch 112/200: 100%|██████████| 49/49 [00:50<00:00,  1.04s/it]\n"
          ]
        },
        {
          "name": "stdout",
          "output_type": "stream",
          "text": [
            "Epoch 112 | Loss: 0.0489 | PSNR: 8.77 dB | SSIM: 0.997 | LPIPS: 0.092\n"
          ]
        },
        {
          "name": "stderr",
          "output_type": "stream",
          "text": [
            "Epoch 113/200: 100%|██████████| 49/49 [00:50<00:00,  1.04s/it]\n"
          ]
        },
        {
          "name": "stdout",
          "output_type": "stream",
          "text": [
            "Epoch 113 | Loss: 0.0442 | PSNR: 8.42 dB | SSIM: 0.997 | LPIPS: 0.090\n"
          ]
        },
        {
          "name": "stderr",
          "output_type": "stream",
          "text": [
            "Epoch 114/200: 100%|██████████| 49/49 [00:50<00:00,  1.04s/it]\n"
          ]
        },
        {
          "name": "stdout",
          "output_type": "stream",
          "text": [
            "Epoch 114 | Loss: 0.0474 | PSNR: 8.52 dB | SSIM: 0.997 | LPIPS: 0.090\n"
          ]
        },
        {
          "name": "stderr",
          "output_type": "stream",
          "text": [
            "Epoch 115/200: 100%|██████████| 49/49 [00:50<00:00,  1.03s/it]\n"
          ]
        },
        {
          "name": "stdout",
          "output_type": "stream",
          "text": [
            "Epoch 115 | Loss: 0.0490 | PSNR: 8.57 dB | SSIM: 0.997 | LPIPS: 0.089\n"
          ]
        },
        {
          "name": "stderr",
          "output_type": "stream",
          "text": [
            "Epoch 116/200: 100%|██████████| 49/49 [00:50<00:00,  1.03s/it]\n"
          ]
        },
        {
          "name": "stdout",
          "output_type": "stream",
          "text": [
            "Epoch 116 | Loss: 0.0433 | PSNR: 8.73 dB | SSIM: 0.998 | LPIPS: 0.086\n"
          ]
        },
        {
          "name": "stderr",
          "output_type": "stream",
          "text": [
            "Epoch 117/200: 100%|██████████| 49/49 [00:50<00:00,  1.03s/it]\n"
          ]
        },
        {
          "name": "stdout",
          "output_type": "stream",
          "text": [
            "Epoch 117 | Loss: 0.0427 | PSNR: 8.41 dB | SSIM: 0.998 | LPIPS: 0.084\n"
          ]
        },
        {
          "name": "stderr",
          "output_type": "stream",
          "text": [
            "Epoch 118/200: 100%|██████████| 49/49 [00:50<00:00,  1.03s/it]\n"
          ]
        },
        {
          "name": "stdout",
          "output_type": "stream",
          "text": [
            "Epoch 118 | Loss: 0.0454 | PSNR: 8.29 dB | SSIM: 0.997 | LPIPS: 0.087\n"
          ]
        },
        {
          "name": "stderr",
          "output_type": "stream",
          "text": [
            "Epoch 119/200: 100%|██████████| 49/49 [00:50<00:00,  1.04s/it]\n"
          ]
        },
        {
          "name": "stdout",
          "output_type": "stream",
          "text": [
            "Epoch 119 | Loss: 0.0418 | PSNR: 8.85 dB | SSIM: 0.998 | LPIPS: 0.086\n"
          ]
        },
        {
          "name": "stderr",
          "output_type": "stream",
          "text": [
            "Epoch 120/200: 100%|██████████| 49/49 [00:50<00:00,  1.03s/it]\n"
          ]
        },
        {
          "name": "stdout",
          "output_type": "stream",
          "text": [
            "Epoch 120 | Loss: 0.0438 | PSNR: 8.28 dB | SSIM: 0.997 | LPIPS: 0.086\n"
          ]
        },
        {
          "name": "stderr",
          "output_type": "stream",
          "text": [
            "Epoch 121/200: 100%|██████████| 49/49 [00:50<00:00,  1.04s/it]\n"
          ]
        },
        {
          "name": "stdout",
          "output_type": "stream",
          "text": [
            "Epoch 121 | Loss: 0.0411 | PSNR: 8.32 dB | SSIM: 0.998 | LPIPS: 0.084\n"
          ]
        },
        {
          "name": "stderr",
          "output_type": "stream",
          "text": [
            "Epoch 122/200: 100%|██████████| 49/49 [00:50<00:00,  1.03s/it]\n"
          ]
        },
        {
          "name": "stdout",
          "output_type": "stream",
          "text": [
            "Epoch 122 | Loss: 0.0424 | PSNR: 8.43 dB | SSIM: 0.997 | LPIPS: 0.087\n"
          ]
        },
        {
          "name": "stderr",
          "output_type": "stream",
          "text": [
            "Epoch 123/200: 100%|██████████| 49/49 [00:50<00:00,  1.03s/it]\n"
          ]
        },
        {
          "name": "stdout",
          "output_type": "stream",
          "text": [
            "Epoch 123 | Loss: 0.0452 | PSNR: 8.36 dB | SSIM: 0.997 | LPIPS: 0.088\n"
          ]
        },
        {
          "name": "stderr",
          "output_type": "stream",
          "text": [
            "Epoch 124/200: 100%|██████████| 49/49 [00:50<00:00,  1.03s/it]\n"
          ]
        },
        {
          "name": "stdout",
          "output_type": "stream",
          "text": [
            "Epoch 124 | Loss: 0.0409 | PSNR: 8.55 dB | SSIM: 0.998 | LPIPS: 0.084\n"
          ]
        },
        {
          "name": "stderr",
          "output_type": "stream",
          "text": [
            "Epoch 125/200: 100%|██████████| 49/49 [00:50<00:00,  1.03s/it]\n"
          ]
        },
        {
          "name": "stdout",
          "output_type": "stream",
          "text": [
            "Epoch 125 | Loss: 0.0463 | PSNR: 8.54 dB | SSIM: 0.997 | LPIPS: 0.085\n"
          ]
        },
        {
          "name": "stderr",
          "output_type": "stream",
          "text": [
            "Epoch 126/200: 100%|██████████| 49/49 [00:50<00:00,  1.03s/it]\n"
          ]
        },
        {
          "name": "stdout",
          "output_type": "stream",
          "text": [
            "Epoch 126 | Loss: 0.0414 | PSNR: 8.52 dB | SSIM: 0.998 | LPIPS: 0.082\n"
          ]
        },
        {
          "name": "stderr",
          "output_type": "stream",
          "text": [
            "Epoch 127/200: 100%|██████████| 49/49 [00:50<00:00,  1.03s/it]\n"
          ]
        },
        {
          "name": "stdout",
          "output_type": "stream",
          "text": [
            "Epoch 127 | Loss: 0.0412 | PSNR: 8.43 dB | SSIM: 0.998 | LPIPS: 0.082\n"
          ]
        },
        {
          "name": "stderr",
          "output_type": "stream",
          "text": [
            "Epoch 128/200: 100%|██████████| 49/49 [00:50<00:00,  1.04s/it]\n"
          ]
        },
        {
          "name": "stdout",
          "output_type": "stream",
          "text": [
            "Epoch 128 | Loss: 0.0429 | PSNR: 8.23 dB | SSIM: 0.997 | LPIPS: 0.084\n"
          ]
        },
        {
          "name": "stderr",
          "output_type": "stream",
          "text": [
            "Epoch 129/200: 100%|██████████| 49/49 [00:50<00:00,  1.03s/it]\n"
          ]
        },
        {
          "name": "stdout",
          "output_type": "stream",
          "text": [
            "Epoch 129 | Loss: 0.0426 | PSNR: 8.44 dB | SSIM: 0.998 | LPIPS: 0.081\n"
          ]
        },
        {
          "name": "stderr",
          "output_type": "stream",
          "text": [
            "Epoch 130/200: 100%|██████████| 49/49 [00:50<00:00,  1.03s/it]\n"
          ]
        },
        {
          "name": "stdout",
          "output_type": "stream",
          "text": [
            "Epoch 130 | Loss: 0.0438 | PSNR: 7.95 dB | SSIM: 0.998 | LPIPS: 0.084\n"
          ]
        },
        {
          "name": "stderr",
          "output_type": "stream",
          "text": [
            "Epoch 131/200: 100%|██████████| 49/49 [00:50<00:00,  1.03s/it]\n"
          ]
        },
        {
          "name": "stdout",
          "output_type": "stream",
          "text": [
            "Epoch 131 | Loss: 0.0427 | PSNR: 8.32 dB | SSIM: 0.997 | LPIPS: 0.084\n"
          ]
        },
        {
          "name": "stderr",
          "output_type": "stream",
          "text": [
            "Epoch 132/200: 100%|██████████| 49/49 [00:50<00:00,  1.03s/it]\n"
          ]
        },
        {
          "name": "stdout",
          "output_type": "stream",
          "text": [
            "Epoch 132 | Loss: 0.0413 | PSNR: 8.65 dB | SSIM: 0.998 | LPIPS: 0.082\n"
          ]
        },
        {
          "name": "stderr",
          "output_type": "stream",
          "text": [
            "Epoch 133/200: 100%|██████████| 49/49 [00:50<00:00,  1.03s/it]\n"
          ]
        },
        {
          "name": "stdout",
          "output_type": "stream",
          "text": [
            "Epoch 133 | Loss: 0.0423 | PSNR: 8.39 dB | SSIM: 0.998 | LPIPS: 0.081\n"
          ]
        },
        {
          "name": "stderr",
          "output_type": "stream",
          "text": [
            "Epoch 134/200: 100%|██████████| 49/49 [00:50<00:00,  1.04s/it]\n"
          ]
        },
        {
          "name": "stdout",
          "output_type": "stream",
          "text": [
            "Epoch 134 | Loss: 0.0411 | PSNR: 8.04 dB | SSIM: 0.998 | LPIPS: 0.084\n"
          ]
        },
        {
          "name": "stderr",
          "output_type": "stream",
          "text": [
            "Epoch 135/200: 100%|██████████| 49/49 [00:50<00:00,  1.03s/it]\n"
          ]
        },
        {
          "name": "stdout",
          "output_type": "stream",
          "text": [
            "Epoch 135 | Loss: 0.0405 | PSNR: 8.75 dB | SSIM: 0.998 | LPIPS: 0.078\n"
          ]
        },
        {
          "name": "stderr",
          "output_type": "stream",
          "text": [
            "Epoch 136/200: 100%|██████████| 49/49 [00:50<00:00,  1.03s/it]\n"
          ]
        },
        {
          "name": "stdout",
          "output_type": "stream",
          "text": [
            "Epoch 136 | Loss: 0.0416 | PSNR: 8.25 dB | SSIM: 0.998 | LPIPS: 0.080\n"
          ]
        },
        {
          "name": "stderr",
          "output_type": "stream",
          "text": [
            "Epoch 137/200: 100%|██████████| 49/49 [00:50<00:00,  1.04s/it]\n"
          ]
        },
        {
          "name": "stdout",
          "output_type": "stream",
          "text": [
            "Epoch 137 | Loss: 0.0404 | PSNR: 8.38 dB | SSIM: 0.998 | LPIPS: 0.083\n"
          ]
        },
        {
          "name": "stderr",
          "output_type": "stream",
          "text": [
            "Epoch 138/200: 100%|██████████| 49/49 [00:50<00:00,  1.03s/it]\n"
          ]
        },
        {
          "name": "stdout",
          "output_type": "stream",
          "text": [
            "Epoch 138 | Loss: 0.0394 | PSNR: 8.29 dB | SSIM: 0.998 | LPIPS: 0.077\n"
          ]
        },
        {
          "name": "stderr",
          "output_type": "stream",
          "text": [
            "Epoch 139/200: 100%|██████████| 49/49 [00:50<00:00,  1.03s/it]\n"
          ]
        },
        {
          "name": "stdout",
          "output_type": "stream",
          "text": [
            "Epoch 139 | Loss: 0.0411 | PSNR: 8.36 dB | SSIM: 0.998 | LPIPS: 0.081\n"
          ]
        },
        {
          "name": "stderr",
          "output_type": "stream",
          "text": [
            "Epoch 140/200: 100%|██████████| 49/49 [00:50<00:00,  1.03s/it]\n"
          ]
        },
        {
          "name": "stdout",
          "output_type": "stream",
          "text": [
            "Epoch 140 | Loss: 0.0422 | PSNR: 7.92 dB | SSIM: 0.998 | LPIPS: 0.080\n"
          ]
        },
        {
          "name": "stderr",
          "output_type": "stream",
          "text": [
            "Epoch 141/200: 100%|██████████| 49/49 [00:50<00:00,  1.04s/it]\n"
          ]
        },
        {
          "name": "stdout",
          "output_type": "stream",
          "text": [
            "Epoch 141 | Loss: 0.0405 | PSNR: 8.14 dB | SSIM: 0.998 | LPIPS: 0.078\n"
          ]
        },
        {
          "name": "stderr",
          "output_type": "stream",
          "text": [
            "Epoch 142/200: 100%|██████████| 49/49 [00:50<00:00,  1.04s/it]\n"
          ]
        },
        {
          "name": "stdout",
          "output_type": "stream",
          "text": [
            "Epoch 142 | Loss: 0.0385 | PSNR: 8.28 dB | SSIM: 0.998 | LPIPS: 0.077\n"
          ]
        },
        {
          "name": "stderr",
          "output_type": "stream",
          "text": [
            "Epoch 143/200: 100%|██████████| 49/49 [00:50<00:00,  1.04s/it]\n"
          ]
        },
        {
          "name": "stdout",
          "output_type": "stream",
          "text": [
            "Epoch 143 | Loss: 0.0393 | PSNR: 8.36 dB | SSIM: 0.998 | LPIPS: 0.077\n"
          ]
        },
        {
          "name": "stderr",
          "output_type": "stream",
          "text": [
            "Epoch 144/200: 100%|██████████| 49/49 [00:50<00:00,  1.04s/it]\n"
          ]
        },
        {
          "name": "stdout",
          "output_type": "stream",
          "text": [
            "Epoch 144 | Loss: 0.0391 | PSNR: 8.44 dB | SSIM: 0.998 | LPIPS: 0.077\n"
          ]
        },
        {
          "name": "stderr",
          "output_type": "stream",
          "text": [
            "Epoch 145/200: 100%|██████████| 49/49 [00:50<00:00,  1.04s/it]\n"
          ]
        },
        {
          "name": "stdout",
          "output_type": "stream",
          "text": [
            "Epoch 145 | Loss: 0.0390 | PSNR: 8.26 dB | SSIM: 0.998 | LPIPS: 0.076\n"
          ]
        },
        {
          "name": "stderr",
          "output_type": "stream",
          "text": [
            "Epoch 146/200: 100%|██████████| 49/49 [00:50<00:00,  1.04s/it]\n"
          ]
        },
        {
          "name": "stdout",
          "output_type": "stream",
          "text": [
            "Epoch 146 | Loss: 0.0388 | PSNR: 8.39 dB | SSIM: 0.998 | LPIPS: 0.079\n"
          ]
        },
        {
          "name": "stderr",
          "output_type": "stream",
          "text": [
            "Epoch 147/200: 100%|██████████| 49/49 [00:50<00:00,  1.04s/it]\n"
          ]
        },
        {
          "name": "stdout",
          "output_type": "stream",
          "text": [
            "Epoch 147 | Loss: 0.0388 | PSNR: 8.74 dB | SSIM: 0.998 | LPIPS: 0.076\n"
          ]
        },
        {
          "name": "stderr",
          "output_type": "stream",
          "text": [
            "Epoch 148/200: 100%|██████████| 49/49 [00:50<00:00,  1.04s/it]\n"
          ]
        },
        {
          "name": "stdout",
          "output_type": "stream",
          "text": [
            "Epoch 148 | Loss: 0.0392 | PSNR: 8.28 dB | SSIM: 0.998 | LPIPS: 0.079\n"
          ]
        },
        {
          "name": "stderr",
          "output_type": "stream",
          "text": [
            "Epoch 149/200: 100%|██████████| 49/49 [00:50<00:00,  1.04s/it]\n"
          ]
        },
        {
          "name": "stdout",
          "output_type": "stream",
          "text": [
            "Epoch 149 | Loss: 0.0375 | PSNR: 8.28 dB | SSIM: 0.998 | LPIPS: 0.073\n"
          ]
        },
        {
          "name": "stderr",
          "output_type": "stream",
          "text": [
            "Epoch 150/200: 100%|██████████| 49/49 [00:50<00:00,  1.04s/it]\n"
          ]
        },
        {
          "name": "stdout",
          "output_type": "stream",
          "text": [
            "Epoch 150 | Loss: 0.0386 | PSNR: 8.64 dB | SSIM: 0.998 | LPIPS: 0.074\n"
          ]
        },
        {
          "name": "stderr",
          "output_type": "stream",
          "text": [
            "Epoch 151/200: 100%|██████████| 49/49 [00:50<00:00,  1.03s/it]\n"
          ]
        },
        {
          "name": "stdout",
          "output_type": "stream",
          "text": [
            "Epoch 151 | Loss: 0.0361 | PSNR: 8.07 dB | SSIM: 0.998 | LPIPS: 0.076\n"
          ]
        },
        {
          "name": "stderr",
          "output_type": "stream",
          "text": [
            "Epoch 152/200: 100%|██████████| 49/49 [00:50<00:00,  1.03s/it]\n"
          ]
        },
        {
          "name": "stdout",
          "output_type": "stream",
          "text": [
            "Epoch 152 | Loss: 0.0399 | PSNR: 7.95 dB | SSIM: 0.998 | LPIPS: 0.081\n"
          ]
        },
        {
          "name": "stderr",
          "output_type": "stream",
          "text": [
            "Epoch 153/200: 100%|██████████| 49/49 [00:50<00:00,  1.04s/it]\n"
          ]
        },
        {
          "name": "stdout",
          "output_type": "stream",
          "text": [
            "Epoch 153 | Loss: 0.0405 | PSNR: 8.31 dB | SSIM: 0.998 | LPIPS: 0.081\n"
          ]
        },
        {
          "name": "stderr",
          "output_type": "stream",
          "text": [
            "Epoch 154/200: 100%|██████████| 49/49 [00:50<00:00,  1.03s/it]\n"
          ]
        },
        {
          "name": "stdout",
          "output_type": "stream",
          "text": [
            "Epoch 154 | Loss: 0.0381 | PSNR: 8.22 dB | SSIM: 0.998 | LPIPS: 0.077\n"
          ]
        },
        {
          "name": "stderr",
          "output_type": "stream",
          "text": [
            "Epoch 155/200: 100%|██████████| 49/49 [00:50<00:00,  1.04s/it]\n"
          ]
        },
        {
          "name": "stdout",
          "output_type": "stream",
          "text": [
            "Epoch 155 | Loss: 0.0378 | PSNR: 8.03 dB | SSIM: 0.998 | LPIPS: 0.077\n"
          ]
        },
        {
          "name": "stderr",
          "output_type": "stream",
          "text": [
            "Epoch 156/200: 100%|██████████| 49/49 [00:50<00:00,  1.04s/it]\n"
          ]
        },
        {
          "name": "stdout",
          "output_type": "stream",
          "text": [
            "Epoch 156 | Loss: 0.0377 | PSNR: 8.42 dB | SSIM: 0.998 | LPIPS: 0.078\n"
          ]
        },
        {
          "name": "stderr",
          "output_type": "stream",
          "text": [
            "Epoch 157/200: 100%|██████████| 49/49 [00:50<00:00,  1.04s/it]\n"
          ]
        },
        {
          "name": "stdout",
          "output_type": "stream",
          "text": [
            "Epoch 157 | Loss: 0.0394 | PSNR: 7.70 dB | SSIM: 0.998 | LPIPS: 0.078\n"
          ]
        },
        {
          "name": "stderr",
          "output_type": "stream",
          "text": [
            "Epoch 158/200: 100%|██████████| 49/49 [00:50<00:00,  1.04s/it]\n"
          ]
        },
        {
          "name": "stdout",
          "output_type": "stream",
          "text": [
            "Epoch 158 | Loss: 0.0395 | PSNR: 8.49 dB | SSIM: 0.998 | LPIPS: 0.077\n"
          ]
        },
        {
          "name": "stderr",
          "output_type": "stream",
          "text": [
            "Epoch 159/200: 100%|██████████| 49/49 [00:50<00:00,  1.04s/it]\n"
          ]
        },
        {
          "name": "stdout",
          "output_type": "stream",
          "text": [
            "Epoch 159 | Loss: 0.0366 | PSNR: 7.83 dB | SSIM: 0.998 | LPIPS: 0.075\n"
          ]
        },
        {
          "name": "stderr",
          "output_type": "stream",
          "text": [
            "Epoch 160/200: 100%|██████████| 49/49 [00:50<00:00,  1.04s/it]\n"
          ]
        },
        {
          "name": "stdout",
          "output_type": "stream",
          "text": [
            "Epoch 160 | Loss: 0.0373 | PSNR: 8.07 dB | SSIM: 0.998 | LPIPS: 0.077\n"
          ]
        },
        {
          "name": "stderr",
          "output_type": "stream",
          "text": [
            "Epoch 161/200: 100%|██████████| 49/49 [00:50<00:00,  1.04s/it]\n"
          ]
        },
        {
          "name": "stdout",
          "output_type": "stream",
          "text": [
            "Epoch 161 | Loss: 0.0369 | PSNR: 8.02 dB | SSIM: 0.998 | LPIPS: 0.074\n"
          ]
        },
        {
          "name": "stderr",
          "output_type": "stream",
          "text": [
            "Epoch 162/200: 100%|██████████| 49/49 [00:50<00:00,  1.04s/it]\n"
          ]
        },
        {
          "name": "stdout",
          "output_type": "stream",
          "text": [
            "Epoch 162 | Loss: 0.0362 | PSNR: 8.08 dB | SSIM: 0.998 | LPIPS: 0.072\n"
          ]
        },
        {
          "name": "stderr",
          "output_type": "stream",
          "text": [
            "Epoch 163/200: 100%|██████████| 49/49 [00:50<00:00,  1.04s/it]\n"
          ]
        },
        {
          "name": "stdout",
          "output_type": "stream",
          "text": [
            "Epoch 163 | Loss: 0.0397 | PSNR: 8.03 dB | SSIM: 0.998 | LPIPS: 0.080\n"
          ]
        },
        {
          "name": "stderr",
          "output_type": "stream",
          "text": [
            "Epoch 164/200: 100%|██████████| 49/49 [00:50<00:00,  1.03s/it]\n"
          ]
        },
        {
          "name": "stdout",
          "output_type": "stream",
          "text": [
            "Epoch 164 | Loss: 0.0342 | PSNR: 8.23 dB | SSIM: 0.998 | LPIPS: 0.070\n"
          ]
        },
        {
          "name": "stderr",
          "output_type": "stream",
          "text": [
            "Epoch 165/200: 100%|██████████| 49/49 [00:50<00:00,  1.04s/it]\n"
          ]
        },
        {
          "name": "stdout",
          "output_type": "stream",
          "text": [
            "Epoch 165 | Loss: 0.0354 | PSNR: 8.22 dB | SSIM: 0.998 | LPIPS: 0.074\n"
          ]
        },
        {
          "name": "stderr",
          "output_type": "stream",
          "text": [
            "Epoch 166/200: 100%|██████████| 49/49 [00:50<00:00,  1.03s/it]\n"
          ]
        },
        {
          "name": "stdout",
          "output_type": "stream",
          "text": [
            "Epoch 166 | Loss: 0.0405 | PSNR: 7.48 dB | SSIM: 0.998 | LPIPS: 0.083\n"
          ]
        },
        {
          "name": "stderr",
          "output_type": "stream",
          "text": [
            "Epoch 167/200: 100%|██████████| 49/49 [00:50<00:00,  1.03s/it]\n"
          ]
        },
        {
          "name": "stdout",
          "output_type": "stream",
          "text": [
            "Epoch 167 | Loss: 0.0364 | PSNR: 7.80 dB | SSIM: 0.998 | LPIPS: 0.074\n"
          ]
        },
        {
          "name": "stderr",
          "output_type": "stream",
          "text": [
            "Epoch 168/200: 100%|██████████| 49/49 [00:50<00:00,  1.04s/it]\n"
          ]
        },
        {
          "name": "stdout",
          "output_type": "stream",
          "text": [
            "Epoch 168 | Loss: 0.0376 | PSNR: 8.10 dB | SSIM: 0.998 | LPIPS: 0.075\n"
          ]
        },
        {
          "name": "stderr",
          "output_type": "stream",
          "text": [
            "Epoch 169/200: 100%|██████████| 49/49 [00:50<00:00,  1.04s/it]\n"
          ]
        },
        {
          "name": "stdout",
          "output_type": "stream",
          "text": [
            "Epoch 169 | Loss: 0.0373 | PSNR: 7.87 dB | SSIM: 0.998 | LPIPS: 0.075\n"
          ]
        },
        {
          "name": "stderr",
          "output_type": "stream",
          "text": [
            "Epoch 170/200: 100%|██████████| 49/49 [00:50<00:00,  1.03s/it]\n"
          ]
        },
        {
          "name": "stdout",
          "output_type": "stream",
          "text": [
            "Epoch 170 | Loss: 0.0359 | PSNR: 7.78 dB | SSIM: 0.999 | LPIPS: 0.073\n"
          ]
        },
        {
          "name": "stderr",
          "output_type": "stream",
          "text": [
            "Epoch 171/200: 100%|██████████| 49/49 [00:50<00:00,  1.04s/it]\n"
          ]
        },
        {
          "name": "stdout",
          "output_type": "stream",
          "text": [
            "Epoch 171 | Loss: 0.0357 | PSNR: 7.82 dB | SSIM: 0.998 | LPIPS: 0.074\n"
          ]
        },
        {
          "name": "stderr",
          "output_type": "stream",
          "text": [
            "Epoch 172/200: 100%|██████████| 49/49 [00:50<00:00,  1.03s/it]\n"
          ]
        },
        {
          "name": "stdout",
          "output_type": "stream",
          "text": [
            "Epoch 172 | Loss: 0.0382 | PSNR: 8.06 dB | SSIM: 0.998 | LPIPS: 0.075\n"
          ]
        },
        {
          "name": "stderr",
          "output_type": "stream",
          "text": [
            "Epoch 173/200: 100%|██████████| 49/49 [00:50<00:00,  1.04s/it]\n"
          ]
        },
        {
          "name": "stdout",
          "output_type": "stream",
          "text": [
            "Epoch 173 | Loss: 0.0365 | PSNR: 8.16 dB | SSIM: 0.998 | LPIPS: 0.075\n"
          ]
        },
        {
          "name": "stderr",
          "output_type": "stream",
          "text": [
            "Epoch 174/200: 100%|██████████| 49/49 [00:50<00:00,  1.04s/it]\n"
          ]
        },
        {
          "name": "stdout",
          "output_type": "stream",
          "text": [
            "Epoch 174 | Loss: 0.0350 | PSNR: 7.95 dB | SSIM: 0.998 | LPIPS: 0.072\n"
          ]
        },
        {
          "name": "stderr",
          "output_type": "stream",
          "text": [
            "Epoch 175/200: 100%|██████████| 49/49 [00:50<00:00,  1.04s/it]\n"
          ]
        },
        {
          "name": "stdout",
          "output_type": "stream",
          "text": [
            "Epoch 175 | Loss: 0.0345 | PSNR: 7.78 dB | SSIM: 0.998 | LPIPS: 0.070\n"
          ]
        },
        {
          "name": "stderr",
          "output_type": "stream",
          "text": [
            "Epoch 176/200: 100%|██████████| 49/49 [00:50<00:00,  1.03s/it]\n"
          ]
        },
        {
          "name": "stdout",
          "output_type": "stream",
          "text": [
            "Epoch 176 | Loss: 0.0347 | PSNR: 7.91 dB | SSIM: 0.998 | LPIPS: 0.072\n"
          ]
        },
        {
          "name": "stderr",
          "output_type": "stream",
          "text": [
            "Epoch 177/200: 100%|██████████| 49/49 [00:50<00:00,  1.04s/it]\n"
          ]
        },
        {
          "name": "stdout",
          "output_type": "stream",
          "text": [
            "Epoch 177 | Loss: 0.0362 | PSNR: 7.87 dB | SSIM: 0.998 | LPIPS: 0.073\n"
          ]
        },
        {
          "name": "stderr",
          "output_type": "stream",
          "text": [
            "Epoch 178/200: 100%|██████████| 49/49 [00:50<00:00,  1.04s/it]\n"
          ]
        },
        {
          "name": "stdout",
          "output_type": "stream",
          "text": [
            "Epoch 178 | Loss: 0.0329 | PSNR: 8.24 dB | SSIM: 0.998 | LPIPS: 0.068\n"
          ]
        },
        {
          "name": "stderr",
          "output_type": "stream",
          "text": [
            "Epoch 179/200: 100%|██████████| 49/49 [00:50<00:00,  1.04s/it]\n"
          ]
        },
        {
          "name": "stdout",
          "output_type": "stream",
          "text": [
            "Epoch 179 | Loss: 0.0347 | PSNR: 7.88 dB | SSIM: 0.998 | LPIPS: 0.070\n"
          ]
        },
        {
          "name": "stderr",
          "output_type": "stream",
          "text": [
            "Epoch 180/200: 100%|██████████| 49/49 [00:50<00:00,  1.04s/it]\n"
          ]
        },
        {
          "name": "stdout",
          "output_type": "stream",
          "text": [
            "Epoch 180 | Loss: 0.0367 | PSNR: 7.65 dB | SSIM: 0.998 | LPIPS: 0.075\n"
          ]
        },
        {
          "name": "stderr",
          "output_type": "stream",
          "text": [
            "Epoch 181/200: 100%|██████████| 49/49 [00:50<00:00,  1.04s/it]\n"
          ]
        },
        {
          "name": "stdout",
          "output_type": "stream",
          "text": [
            "Epoch 181 | Loss: 0.0370 | PSNR: 7.69 dB | SSIM: 0.998 | LPIPS: 0.074\n"
          ]
        },
        {
          "name": "stderr",
          "output_type": "stream",
          "text": [
            "Epoch 182/200: 100%|██████████| 49/49 [00:50<00:00,  1.04s/it]\n"
          ]
        },
        {
          "name": "stdout",
          "output_type": "stream",
          "text": [
            "Epoch 182 | Loss: 0.0362 | PSNR: 8.03 dB | SSIM: 0.998 | LPIPS: 0.073\n"
          ]
        },
        {
          "name": "stderr",
          "output_type": "stream",
          "text": [
            "Epoch 183/200: 100%|██████████| 49/49 [00:50<00:00,  1.04s/it]\n"
          ]
        },
        {
          "name": "stdout",
          "output_type": "stream",
          "text": [
            "Epoch 183 | Loss: 0.0353 | PSNR: 7.33 dB | SSIM: 0.999 | LPIPS: 0.071\n"
          ]
        },
        {
          "name": "stderr",
          "output_type": "stream",
          "text": [
            "Epoch 184/200: 100%|██████████| 49/49 [00:50<00:00,  1.04s/it]\n"
          ]
        },
        {
          "name": "stdout",
          "output_type": "stream",
          "text": [
            "Epoch 184 | Loss: 0.0339 | PSNR: 7.99 dB | SSIM: 0.999 | LPIPS: 0.069\n"
          ]
        },
        {
          "name": "stderr",
          "output_type": "stream",
          "text": [
            "Epoch 185/200: 100%|██████████| 49/49 [00:50<00:00,  1.04s/it]\n"
          ]
        },
        {
          "name": "stdout",
          "output_type": "stream",
          "text": [
            "Epoch 185 | Loss: 0.0345 | PSNR: 8.08 dB | SSIM: 0.999 | LPIPS: 0.070\n"
          ]
        },
        {
          "name": "stderr",
          "output_type": "stream",
          "text": [
            "Epoch 186/200: 100%|██████████| 49/49 [00:50<00:00,  1.03s/it]\n"
          ]
        },
        {
          "name": "stdout",
          "output_type": "stream",
          "text": [
            "Epoch 186 | Loss: 0.0363 | PSNR: 7.78 dB | SSIM: 0.998 | LPIPS: 0.074\n"
          ]
        },
        {
          "name": "stderr",
          "output_type": "stream",
          "text": [
            "Epoch 187/200: 100%|██████████| 49/49 [00:50<00:00,  1.04s/it]\n"
          ]
        },
        {
          "name": "stdout",
          "output_type": "stream",
          "text": [
            "Epoch 187 | Loss: 0.0359 | PSNR: 7.50 dB | SSIM: 0.999 | LPIPS: 0.074\n"
          ]
        },
        {
          "name": "stderr",
          "output_type": "stream",
          "text": [
            "Epoch 188/200: 100%|██████████| 49/49 [00:50<00:00,  1.04s/it]\n"
          ]
        },
        {
          "name": "stdout",
          "output_type": "stream",
          "text": [
            "Epoch 188 | Loss: 0.0348 | PSNR: 7.81 dB | SSIM: 0.999 | LPIPS: 0.072\n"
          ]
        },
        {
          "name": "stderr",
          "output_type": "stream",
          "text": [
            "Epoch 189/200: 100%|██████████| 49/49 [00:50<00:00,  1.04s/it]\n"
          ]
        },
        {
          "name": "stdout",
          "output_type": "stream",
          "text": [
            "Epoch 189 | Loss: 0.0338 | PSNR: 7.86 dB | SSIM: 0.999 | LPIPS: 0.070\n"
          ]
        },
        {
          "name": "stderr",
          "output_type": "stream",
          "text": [
            "Epoch 190/200: 100%|██████████| 49/49 [00:50<00:00,  1.04s/it]\n"
          ]
        },
        {
          "name": "stdout",
          "output_type": "stream",
          "text": [
            "Epoch 190 | Loss: 0.0321 | PSNR: 7.73 dB | SSIM: 0.999 | LPIPS: 0.066\n"
          ]
        },
        {
          "name": "stderr",
          "output_type": "stream",
          "text": [
            "Epoch 191/200: 100%|██████████| 49/49 [00:50<00:00,  1.04s/it]\n"
          ]
        },
        {
          "name": "stdout",
          "output_type": "stream",
          "text": [
            "Epoch 191 | Loss: 0.0318 | PSNR: 7.81 dB | SSIM: 0.999 | LPIPS: 0.067\n"
          ]
        },
        {
          "name": "stderr",
          "output_type": "stream",
          "text": [
            "Epoch 192/200: 100%|██████████| 49/49 [00:50<00:00,  1.04s/it]\n"
          ]
        },
        {
          "name": "stdout",
          "output_type": "stream",
          "text": [
            "Epoch 192 | Loss: 0.0351 | PSNR: 8.00 dB | SSIM: 0.998 | LPIPS: 0.070\n"
          ]
        },
        {
          "name": "stderr",
          "output_type": "stream",
          "text": [
            "Epoch 193/200: 100%|██████████| 49/49 [00:50<00:00,  1.04s/it]\n"
          ]
        },
        {
          "name": "stdout",
          "output_type": "stream",
          "text": [
            "Epoch 193 | Loss: 0.0348 | PSNR: 7.54 dB | SSIM: 0.999 | LPIPS: 0.069\n"
          ]
        },
        {
          "name": "stderr",
          "output_type": "stream",
          "text": [
            "Epoch 194/200: 100%|██████████| 49/49 [00:50<00:00,  1.04s/it]\n"
          ]
        },
        {
          "name": "stdout",
          "output_type": "stream",
          "text": [
            "Epoch 194 | Loss: 0.0350 | PSNR: 7.76 dB | SSIM: 0.998 | LPIPS: 0.073\n"
          ]
        },
        {
          "name": "stderr",
          "output_type": "stream",
          "text": [
            "Epoch 195/200: 100%|██████████| 49/49 [00:50<00:00,  1.04s/it]\n"
          ]
        },
        {
          "name": "stdout",
          "output_type": "stream",
          "text": [
            "Epoch 195 | Loss: 0.0365 | PSNR: 7.63 dB | SSIM: 0.998 | LPIPS: 0.075\n"
          ]
        },
        {
          "name": "stderr",
          "output_type": "stream",
          "text": [
            "Epoch 196/200: 100%|██████████| 49/49 [00:50<00:00,  1.04s/it]\n"
          ]
        },
        {
          "name": "stdout",
          "output_type": "stream",
          "text": [
            "Epoch 196 | Loss: 0.0364 | PSNR: 7.54 dB | SSIM: 0.998 | LPIPS: 0.072\n"
          ]
        },
        {
          "name": "stderr",
          "output_type": "stream",
          "text": [
            "Epoch 197/200: 100%|██████████| 49/49 [00:50<00:00,  1.03s/it]\n"
          ]
        },
        {
          "name": "stdout",
          "output_type": "stream",
          "text": [
            "Epoch 197 | Loss: 0.0341 | PSNR: 7.30 dB | SSIM: 0.999 | LPIPS: 0.071\n"
          ]
        },
        {
          "name": "stderr",
          "output_type": "stream",
          "text": [
            "Epoch 198/200: 100%|██████████| 49/49 [00:50<00:00,  1.03s/it]\n"
          ]
        },
        {
          "name": "stdout",
          "output_type": "stream",
          "text": [
            "Epoch 198 | Loss: 0.0353 | PSNR: 7.61 dB | SSIM: 0.998 | LPIPS: 0.073\n"
          ]
        },
        {
          "name": "stderr",
          "output_type": "stream",
          "text": [
            "Epoch 199/200: 100%|██████████| 49/49 [00:50<00:00,  1.04s/it]\n"
          ]
        },
        {
          "name": "stdout",
          "output_type": "stream",
          "text": [
            "Epoch 199 | Loss: 0.0346 | PSNR: 6.90 dB | SSIM: 0.999 | LPIPS: 0.071\n"
          ]
        },
        {
          "name": "stderr",
          "output_type": "stream",
          "text": [
            "Epoch 200/200: 100%|██████████| 49/49 [00:50<00:00,  1.04s/it]\n"
          ]
        },
        {
          "name": "stdout",
          "output_type": "stream",
          "text": [
            "Epoch 200 | Loss: 0.0353 | PSNR: 8.01 dB | SSIM: 0.999 | LPIPS: 0.073\n",
            "\n",
            "Training complete! Best metrics: Loss: 0.0318, PSNR: 7.81 dB, SSIM: 0.999, LPIPS: 0.067\n",
            "Total training time: 3h 1m 45.27s\n"
          ]
        }
      ],
      "source": [
        "import math\n",
        "import os\n",
        "import time\n",
        "import torch\n",
        "import torch.nn.functional as F\n",
        "from torchmetrics import StructuralSimilarityIndexMeasure as SSIM\n",
        "from piq import LPIPS\n",
        "from tqdm import tqdm\n",
        "from torch import nn, optim\n",
        "\n",
        "class TimeEmbedding(nn.Module):\n",
        "    def __init__(self, dim, device):\n",
        "        super().__init__()\n",
        "        self.dim = dim\n",
        "        half_dim = dim // 2\n",
        "        emb = math.log(10000) / (half_dim - 1)\n",
        "        emb = torch.exp(torch.arange(half_dim, device=device) * -emb)\n",
        "        self.register_buffer('emb', emb)\n",
        "\n",
        "    def forward(self, t):\n",
        "        emb = t[:, None] * self.emb[None, :]\n",
        "        emb = torch.cat((emb.sin(), emb.cos()), dim=-1)\n",
        "        return emb\n",
        "\n",
        "class UNetBlock(nn.Module):\n",
        "    def __init__(self, in_ch, out_ch, time_emb_dim):\n",
        "        super().__init__()\n",
        "        self.time_mlp = nn.Linear(time_emb_dim, out_ch)\n",
        "        self.conv1 = nn.Conv2d(in_ch, out_ch, 3, padding=1)\n",
        "        self.conv2 = nn.Conv2d(out_ch, out_ch, 3, padding=1)\n",
        "        self.norm = nn.BatchNorm2d(out_ch)\n",
        "        self.act = nn.SiLU()\n",
        "\n",
        "    def forward(self, x, t):\n",
        "        h = self.conv1(x)\n",
        "        time_emb = self.act(self.time_mlp(t))\n",
        "        h = h + time_emb[:, :, None, None]\n",
        "        h = self.norm(h)\n",
        "        h = self.act(h)\n",
        "        h = self.conv2(h)\n",
        "        h = self.norm(h)\n",
        "        h = self.act(h)\n",
        "        return h\n",
        "    \n",
        "class UNet(nn.Module):\n",
        "    def __init__(self, device):\n",
        "        super().__init__()\n",
        "        self.time_mlp = nn.Sequential(\n",
        "            TimeEmbedding(32, device),\n",
        "            nn.Linear(32, 32),\n",
        "            nn.SiLU(),\n",
        "            nn.Linear(32, 32)\n",
        "        )\n",
        "        \n",
        "        # Down blocks\n",
        "        self.down1 = UNetBlock(3, 64, 32)\n",
        "        self.down2 = UNetBlock(64, 128, 32)\n",
        "        self.down3 = UNetBlock(128, 256, 32)\n",
        "        \n",
        "        # Bottleneck\n",
        "        self.bottleneck = UNetBlock(256, 512, 32)\n",
        "        \n",
        "        # Up blocks\n",
        "        self.up1 = UNetBlock(512 + 256, 256, 32)\n",
        "        self.up2 = UNetBlock(256 + 128, 128, 32)\n",
        "        self.up3 = UNetBlock(128 + 64, 64, 32)\n",
        "        \n",
        "        # Output\n",
        "        self.out = nn.Conv2d(64, 3, 1)\n",
        "\n",
        "    def forward(self, x, t):\n",
        "        t = self.time_mlp(t)\n",
        "        d1 = self.down1(x, t)\n",
        "        d2 = self.down2(F.max_pool2d(d1, 2), t)\n",
        "        d3 = self.down3(F.max_pool2d(d2, 2), t)\n",
        "        \n",
        "        h = F.max_pool2d(d3, 2)\n",
        "        h = self.bottleneck(h, t)\n",
        "        \n",
        "        h = F.interpolate(h, scale_factor=2)\n",
        "        h = torch.cat([h, d3], dim=1)\n",
        "        h = self.up1(h, t)\n",
        "        \n",
        "        h = F.interpolate(h, scale_factor=2)\n",
        "        h = torch.cat([h, d2], dim=1)\n",
        "        h = self.up2(h, t)\n",
        "        \n",
        "        h = F.interpolate(h, scale_factor=2)\n",
        "        h = torch.cat([h, d1], dim=1)\n",
        "        h = self.up3(h, t)\n",
        "        \n",
        "        return self.out(h)\n",
        "\n",
        "class FrequencyCompensatedDecoder(nn.Module):\n",
        "    def __init__(self, latent_dim=256, output_ch=3):\n",
        "        super().__init__()\n",
        "        # Input projection to match latent_dim\n",
        "        self.input_proj = nn.Conv2d(3, latent_dim, 1)  # Changed from 259 to 3\n",
        "        \n",
        "        # LR feature extractor\n",
        "        self.lr_feature_extractor = nn.Sequential(\n",
        "            nn.Conv2d(3, 64, 3, padding=1),\n",
        "            nn.GroupNorm(32, 64),\n",
        "            nn.SiLU(),\n",
        "            nn.Conv2d(64, latent_dim, 3, padding=1)\n",
        "        )\n",
        "        \n",
        "        # Feature fusion\n",
        "        self.fusion = nn.Sequential(\n",
        "            nn.Conv2d(latent_dim*2, latent_dim, 1),\n",
        "            nn.GroupNorm(32, latent_dim),\n",
        "            nn.SiLU()\n",
        "        )\n",
        "        \n",
        "        # Frequency blocks\n",
        "        self.aff_blocks = nn.ModuleList([\n",
        "            AFFBlock(latent_dim) for _ in range(6)\n",
        "        ])\n",
        "        \n",
        "        # Output\n",
        "        self.output_conv = nn.Sequential(\n",
        "            nn.Conv2d(latent_dim, 64, 3, padding=1),\n",
        "            nn.GroupNorm(32, 64),\n",
        "            nn.SiLU(),\n",
        "            nn.Conv2d(64, output_ch, 3, padding=1)\n",
        "        )\n",
        "\n",
        "    def forward(self, x, lr_condition):\n",
        "        # Project input to latent_dim (3 -> 256)\n",
        "        x = self.input_proj(x)\n",
        "        \n",
        "        # Extract LR features (3 -> 256)\n",
        "        lr_features = self.lr_feature_extractor(lr_condition)\n",
        "        \n",
        "        # Fuse features (256 + 256 -> 256)\n",
        "        x = self.fusion(torch.cat([x, lr_features], dim=1))\n",
        "        \n",
        "        # Frequency processing\n",
        "        for block in self.aff_blocks:\n",
        "            x = block(x)\n",
        "            \n",
        "        return self.output_conv(x)\n",
        "\n",
        "class AFFBlock(nn.Module):\n",
        "    \"\"\"Adaptive Frequency Filtering block with proper FFT handling\"\"\"\n",
        "    def __init__(self, channels):\n",
        "        super().__init__()\n",
        "        self.channels = channels\n",
        "        self.conv = nn.Conv2d(channels, channels, 3, padding=1)\n",
        "        self.norm = nn.GroupNorm(32, channels)\n",
        "        self.act = nn.SiLU()\n",
        "        \n",
        "        # Learnable frequency filter\n",
        "        self.filter = nn.Parameter(torch.ones(1, channels, 1, 1))\n",
        "        \n",
        "    def forward(self, x):\n",
        "        # Spatial processing\n",
        "        h = self.act(self.norm(self.conv(x)))\n",
        "        \n",
        "        # Frequency processing\n",
        "        fft = torch.fft.rfft2(h, norm='ortho')\n",
        "        mag = torch.abs(fft)\n",
        "        phase = torch.angle(fft)\n",
        "        \n",
        "        # Apply learned frequency filter\n",
        "        filtered = mag * self.filter\n",
        "        \n",
        "        # Inverse FFT\n",
        "        real = filtered * torch.cos(phase)\n",
        "        imag = filtered * torch.sin(phase)\n",
        "        complex_tensor = torch.complex(real, imag)\n",
        "        reconstructed = torch.fft.irfft2(complex_tensor, norm='ortho')\n",
        "        \n",
        "        return x + reconstructed\n",
        "\n",
        "# Update SSMoE_UNet to handle input_channels\n",
        "class SSMoE_UNet(nn.Module):\n",
        "    def __init__(self, device, num_experts=4, T=1000, in_channels=3):\n",
        "        super().__init__()\n",
        "        self.device = device\n",
        "        self.num_experts = num_experts\n",
        "        self.T = T\n",
        "        self.time_embed_dim = 32\n",
        "        \n",
        "        # Time embedding\n",
        "        self.time_mlp = nn.Sequential(\n",
        "            TimeEmbedding(self.time_embed_dim, device),\n",
        "            nn.Linear(self.time_embed_dim, self.time_embed_dim),\n",
        "            nn.SiLU(),\n",
        "            nn.Linear(self.time_embed_dim, self.time_embed_dim)\n",
        "        )\n",
        "        \n",
        "        # Down blocks\n",
        "        self.down1 = UNetBlock(in_channels, 64, self.time_embed_dim)\n",
        "        self.down2 = UNetBlock(64, 128, self.time_embed_dim)\n",
        "        self.down3 = UNetBlock(128, 256, self.time_embed_dim)\n",
        "        \n",
        "        # Bottleneck with space MoE\n",
        "        self.bottleneck = UNetBlock(256, 512, self.time_embed_dim)\n",
        "        \n",
        "        # Up blocks\n",
        "        self.up1 = UNetBlock(512 + 256, 256, self.time_embed_dim)\n",
        "        self.up2 = UNetBlock(256 + 128, 128, self.time_embed_dim)\n",
        "        self.up3 = UNetBlock(128 + 64, 64, self.time_embed_dim)\n",
        "        \n",
        "        # Output\n",
        "        self.out = nn.Conv2d(64, 3, 1)\n",
        "        \n",
        "        # Initialize sampling MoEs\n",
        "        self.sampling_experts = nn.ModuleList([\n",
        "            self._create_expert() for _ in range(num_experts)\n",
        "        ])\n",
        "        \n",
        "    def _create_expert(self):\n",
        "        \"\"\"Create one expert network\"\"\"\n",
        "        return nn.Sequential(\n",
        "            nn.Conv2d(3, 64, 3, padding=1),\n",
        "            nn.GroupNorm(32, 64),\n",
        "            nn.SiLU(),\n",
        "            nn.Conv2d(64, 3, 3, padding=1)\n",
        "        )\n",
        "    \n",
        "    def forward(self, x, t):\n",
        "        # Time embedding\n",
        "        t_emb = self.time_mlp(t)\n",
        "        \n",
        "        # Select expert based on timestep\n",
        "        stage = (t.float() / self.T * self.num_experts).long().clamp(0, self.num_experts-1)\n",
        "        expert_out = torch.zeros_like(x, device=self.device)\n",
        "        \n",
        "        # Process each expert batch separately\n",
        "        for i in range(self.num_experts):\n",
        "            mask = (stage == i)\n",
        "            if mask.any():\n",
        "                expert_out[mask] = self.sampling_experts[i](x[mask])\n",
        "        \n",
        "        # Downsample\n",
        "        d1 = self.down1(x + expert_out, t_emb)\n",
        "        d2 = self.down2(F.max_pool2d(d1, 2), t_emb)\n",
        "        d3 = self.down3(F.max_pool2d(d2, 2), t_emb)\n",
        "        \n",
        "        # Bottleneck\n",
        "        h = F.max_pool2d(d3, 2)\n",
        "        h = self.bottleneck(h, t_emb)\n",
        "        \n",
        "        # Upsample with skip connections\n",
        "        h = F.interpolate(h, scale_factor=2)\n",
        "        h = torch.cat([h, d3], dim=1)\n",
        "        h = self.up1(h, t_emb)\n",
        "        \n",
        "        h = F.interpolate(h, scale_factor=2)\n",
        "        h = torch.cat([h, d2], dim=1)\n",
        "        h = self.up2(h, t_emb)\n",
        "        \n",
        "        h = F.interpolate(h, scale_factor=2)\n",
        "        h = torch.cat([h, d1], dim=1)\n",
        "        h = self.up3(h, t_emb)\n",
        "        \n",
        "        return self.out(h)\n",
        "\n",
        "class LatentDiffusionModel:\n",
        "    def __init__(self, T=1000, beta_start=1e-4, beta_end=0.02, device='cuda'):\n",
        "        self.T = T\n",
        "        self.device = device\n",
        "        self.betas = torch.linspace(beta_start, beta_end, T, device=device)\n",
        "        self.alphas = 1. - self.betas\n",
        "        self.alpha_bars = torch.cumprod(self.alphas, dim=0)\n",
        "        \n",
        "        # Initialize components with proper T\n",
        "        self.denoise_unet = SSMoE_UNet(device, T=T).to(device)\n",
        "        self.decoder = FrequencyCompensatedDecoder().to(device)\n",
        "        \n",
        "        # Metrics\n",
        "        self.lpips = LPIPS(replace_pooling=True).to(device).eval()\n",
        "        self.ssim = SSIM().to(device).eval()\n",
        "        \n",
        "        # Tracking training progress\n",
        "        self.current_epoch = 0\n",
        "        self.total_epochs = 200\n",
        "    \n",
        "    def forward_diffuse(self, x0, t):\n",
        "        \"\"\"Forward diffusion with noise schedule\"\"\"\n",
        "        t = t.to(self.device)\n",
        "        noise = torch.randn_like(x0)\n",
        "        sqrt_alpha_bar = torch.sqrt(self.alpha_bars[t])[:, None, None, None]\n",
        "        sqrt_one_minus_alpha_bar = torch.sqrt(1. - self.alpha_bars[t])[:, None, None, None]\n",
        "        xt = sqrt_alpha_bar * x0 + sqrt_one_minus_alpha_bar * noise\n",
        "        return xt, noise\n",
        "    \n",
        "    def train_step(self, x0, lr_condition, optimizer):\n",
        "        optimizer.zero_grad()\n",
        "        \n",
        "        # Sample random timesteps\n",
        "        t = torch.randint(0, self.T, (x0.size(0),), device=self.device)\n",
        "        \n",
        "        # Forward diffusion\n",
        "        xt, noise = self.forward_diffuse(x0, t)\n",
        "        \n",
        "        # Predict noise with UNet\n",
        "        pred_noise = self.denoise_unet(xt, t)\n",
        "        \n",
        "        # Decode to pixel space\n",
        "        pred_img = self.decoder(xt - pred_noise, lr_condition)\n",
        "        \n",
        "        # Hybrid loss\n",
        "        loss, metrics = self.hybrid_loss(pred_img, x0, pred_noise, noise)\n",
        "        \n",
        "        loss.backward()\n",
        "        optimizer.step()\n",
        "        return metrics\n",
        "    \n",
        "    def hybrid_loss(self, pred, target, noise_pred, true_noise):\n",
        "        \"\"\"Combined loss with dynamic weighting\"\"\"\n",
        "        # Base losses\n",
        "        mse_loss = F.mse_loss(noise_pred, true_noise)\n",
        "        lpips_loss = self.lpips(pred, target)\n",
        "        ssim_loss = 1 - self.ssim(pred, target)\n",
        "        \n",
        "        # Dynamic weights (progressively focus more on perceptual quality)\n",
        "        progress = self.current_epoch / self.total_epochs\n",
        "        lpips_w = 0.4  # Fixed high importance for perceptual quality\n",
        "        ssim_w = 0.3 * progress  # Increasing structural importance\n",
        "        mse_w = 1.0 - lpips_w - ssim_w  # Decreasing noise prediction importance\n",
        "        \n",
        "        total_loss = mse_w * mse_loss + lpips_w * lpips_loss + ssim_w * ssim_loss\n",
        "        \n",
        "        # Additional metrics\n",
        "        with torch.no_grad():\n",
        "            psnr = 10 * torch.log10(1 / F.mse_loss(pred, target))\n",
        "            \n",
        "        return total_loss, {\n",
        "            'loss': total_loss.item(),\n",
        "            'mse': mse_loss.item(),\n",
        "            'lpips': lpips_loss.item(),\n",
        "            'ssim': 1 - ssim_loss.item(),\n",
        "            'psnr': psnr.item()\n",
        "        }\n",
        "\n",
        "# Setup device\n",
        "device = torch.device('cuda:0' if torch.cuda.is_available() else 'cpu')\n",
        "\n",
        "# Ensure checkpoint directory exists\n",
        "os.makedirs('checkpoints', exist_ok=True)\n",
        "\n",
        "# Initialize model and optimizer\n",
        "diffusion = LatentDiffusionModel(device=device)\n",
        "optimizer = optim.Adam(\n",
        "    list(diffusion.denoise_unet.parameters()) + \n",
        "    list(diffusion.decoder.parameters()),\n",
        "    lr=1e-4\n",
        ")\n",
        "\n",
        "# Training loop\n",
        "epochs = 200\n",
        "diffusion.total_epochs = epochs\n",
        "best_metrics = {'loss': float('inf'), 'psnr': 0, 'ssim': 0, 'lpips': float('inf')}\n",
        "\n",
        "# Record total training time\n",
        "start_time = time.time()\n",
        "\n",
        "for epoch in range(epochs):\n",
        "    diffusion.current_epoch = epoch\n",
        "    epoch_metrics = {'loss': 0, 'mse': 0, 'lpips': 0, 'ssim': 0, 'psnr': 0}\n",
        "    \n",
        "    for low_imgs, high_imgs, _ in tqdm(train_loader, desc=f\"Epoch {epoch+1}/{epochs}\"):\n",
        "        low_imgs, high_imgs = low_imgs.to(device), high_imgs.to(device)\n",
        "        \n",
        "        # Train step with LR conditioning\n",
        "        metrics = diffusion.train_step(high_imgs, low_imgs, optimizer)\n",
        "        \n",
        "        # Update metrics\n",
        "        for k in epoch_metrics:\n",
        "            epoch_metrics[k] += metrics[k]\n",
        "    \n",
        "    # Average metrics\n",
        "    for k in epoch_metrics:\n",
        "        epoch_metrics[k] /= len(train_loader)\n",
        "    \n",
        "    # Save every epoch\n",
        "    torch.save({\n",
        "        'epoch': epoch,\n",
        "        'denoise_unet': diffusion.denoise_unet.state_dict(),\n",
        "        'decoder': diffusion.decoder.state_dict(),\n",
        "        'optimizer': optimizer.state_dict(),\n",
        "        'metrics': epoch_metrics\n",
        "    }, f'checkpoints/diffusion_epoch_{epoch+1}.pth')\n",
        "    \n",
        "    # Save best model\n",
        "    if epoch_metrics['loss'] < best_metrics['loss']:\n",
        "        best_metrics = epoch_metrics\n",
        "        torch.save({\n",
        "            'epoch': epoch,\n",
        "            'denoise_unet': diffusion.denoise_unet.state_dict(),\n",
        "            'decoder': diffusion.decoder.state_dict(),\n",
        "            'optimizer': optimizer.state_dict(),\n",
        "            'metrics': epoch_metrics\n",
        "        }, 'checkpoints/diffusion_best_model.pth')\n",
        "    \n",
        "    print(f\"Epoch {epoch+1} | \"\n",
        "          f\"Loss: {epoch_metrics['loss']:.4f} | \"\n",
        "          f\"PSNR: {epoch_metrics['psnr']:.2f} dB | \"\n",
        "          f\"SSIM: {epoch_metrics['ssim']:.3f} | \"\n",
        "          f\"LPIPS: {epoch_metrics['lpips']:.3f}\")\n",
        "\n",
        "total_training_time = time.time() - start_time\n",
        "hours, remainder = divmod(total_training_time, 3600)\n",
        "minutes, seconds = divmod(remainder, 60)\n",
        "\n",
        "print(f\"\\nTraining complete! Best metrics: \"\n",
        "      f\"Loss: {best_metrics['loss']:.4f}, \"\n",
        "      f\"PSNR: {best_metrics['psnr']:.2f} dB, \"\n",
        "      f\"SSIM: {best_metrics['ssim']:.3f}, \"\n",
        "      f\"LPIPS: {best_metrics['lpips']:.3f}\")\n",
        "print(f\"Total training time: {int(hours)}h {int(minutes)}m {seconds:.2f}s\")\n",
        "\n",
        "# Save final model\n",
        "torch.save({\n",
        "    'epoch': epochs,\n",
        "    'denoise_unet': diffusion.denoise_unet.state_dict(),\n",
        "    'decoder': diffusion.decoder.state_dict(),\n",
        "    'optimizer': optimizer.state_dict(),\n",
        "    'metrics': epoch_metrics,\n",
        "    'training_time': total_training_time\n",
        "}, 'checkpoints/diffusion_final_model.pth')"
      ]
    },
    {
      "cell_type": "code",
      "execution_count": 17,
      "metadata": {},
      "outputs": [
        {
          "name": "stderr",
          "output_type": "stream",
          "text": [
            "/home/ahansviar2/Deep Learning Project (GAN for Light)/.venv/lib/python3.10/site-packages/torchmetrics/utilities/prints.py:62: FutureWarning: Importing `PeakSignalNoiseRatio` from `torchmetrics` was deprecated and will be removed in 2.0. Import `PeakSignalNoiseRatio` from `torchmetrics.image` instead.\n",
            "  _future_warning(\n",
            "/home/ahansviar2/Deep Learning Project (GAN for Light)/.venv/lib/python3.10/site-packages/torchmetrics/utilities/prints.py:62: FutureWarning: Importing `StructuralSimilarityIndexMeasure` from `torchmetrics` was deprecated and will be removed in 2.0. Import `StructuralSimilarityIndexMeasure` from `torchmetrics.image` instead.\n",
            "  _future_warning(\n",
            "/home/ahansviar2/Deep Learning Project (GAN for Light)/.venv/lib/python3.10/site-packages/torchvision/models/_utils.py:208: UserWarning: The parameter 'pretrained' is deprecated since 0.13 and may be removed in the future, please use 'weights' instead.\n",
            "  warnings.warn(\n",
            "/home/ahansviar2/Deep Learning Project (GAN for Light)/.venv/lib/python3.10/site-packages/torchvision/models/_utils.py:223: UserWarning: Arguments other than a weight enum or `None` for 'weights' are deprecated since 0.13 and may be removed in the future. The current behavior is equivalent to passing `weights=VGG16_Weights.IMAGENET1K_V1`. You can also use `weights=VGG16_Weights.DEFAULT` to get the most up-to-date weights.\n",
            "  warnings.warn(msg)\n",
            "Evaluating: 100%|██████████| 15/15 [00:06<00:00,  2.47it/s]"
          ]
        },
        {
          "name": "stdout",
          "output_type": "stream",
          "text": [
            "\n",
            "Evaluation Results (Averages):\n",
            "PSNR: 24.31 dB\n",
            "SSIM: 0.8772\n",
            "LPIPS: 0.1053\n",
            "\n",
            "Detailed Results for All Samples:\n",
            "\n",
            "Sample 1:\n",
            "  PSNR: 22.06 dB\n",
            "  SSIM: 0.8629\n",
            "  LPIPS: 0.1336\n",
            "  Visualization saved at: experiment2_diffusion_samples_final/sample_00.png\n",
            "\n",
            "Sample 2:\n",
            "  PSNR: 20.87 dB\n",
            "  SSIM: 0.8442\n",
            "  LPIPS: 0.1023\n",
            "  Visualization saved at: experiment2_diffusion_samples_final/sample_01.png\n",
            "\n",
            "Sample 3:\n",
            "  PSNR: 20.02 dB\n",
            "  SSIM: 0.8876\n",
            "  LPIPS: 0.0920\n",
            "  Visualization saved at: experiment2_diffusion_samples_final/sample_02.png\n",
            "\n",
            "Sample 4:\n",
            "  PSNR: 19.74 dB\n",
            "  SSIM: 0.8932\n",
            "  LPIPS: 0.1201\n",
            "  Visualization saved at: experiment2_diffusion_samples_final/sample_03.png\n",
            "\n",
            "Sample 5:\n",
            "  PSNR: 27.36 dB\n",
            "  SSIM: 0.9235\n",
            "  LPIPS: 0.0791\n",
            "  Visualization saved at: experiment2_diffusion_samples_final/sample_04.png\n",
            "\n",
            "Sample 6:\n",
            "  PSNR: 25.83 dB\n",
            "  SSIM: 0.9006\n",
            "  LPIPS: 0.1200\n",
            "  Visualization saved at: experiment2_diffusion_samples_final/sample_05.png\n",
            "\n",
            "Sample 7:\n",
            "  PSNR: 23.39 dB\n",
            "  SSIM: 0.8523\n",
            "  LPIPS: 0.1209\n",
            "  Visualization saved at: experiment2_diffusion_samples_final/sample_06.png\n",
            "\n",
            "Sample 8:\n",
            "  PSNR: 27.28 dB\n",
            "  SSIM: 0.9314\n",
            "  LPIPS: 0.0563\n",
            "  Visualization saved at: experiment2_diffusion_samples_final/sample_07.png\n",
            "\n",
            "Sample 9:\n",
            "  PSNR: 23.83 dB\n",
            "  SSIM: 0.9153\n",
            "  LPIPS: 0.0888\n",
            "  Visualization saved at: experiment2_diffusion_samples_final/sample_08.png\n",
            "\n",
            "Sample 10:\n",
            "  PSNR: 25.27 dB\n",
            "  SSIM: 0.7627\n",
            "  LPIPS: 0.1496\n",
            "  Visualization saved at: experiment2_diffusion_samples_final/sample_09.png\n",
            "\n",
            "Sample 11:\n",
            "  PSNR: 22.60 dB\n",
            "  SSIM: 0.8185\n",
            "  LPIPS: 0.1370\n",
            "  Visualization saved at: experiment2_diffusion_samples_final/sample_10.png\n",
            "\n",
            "Sample 12:\n",
            "  PSNR: 27.81 dB\n",
            "  SSIM: 0.8545\n",
            "  LPIPS: 0.1850\n",
            "  Visualization saved at: experiment2_diffusion_samples_final/sample_11.png\n",
            "\n",
            "Sample 13:\n",
            "  PSNR: 25.68 dB\n",
            "  SSIM: 0.8707\n",
            "  LPIPS: 0.0982\n",
            "  Visualization saved at: experiment2_diffusion_samples_final/sample_12.png\n",
            "\n",
            "Sample 14:\n",
            "  PSNR: 30.75 dB\n",
            "  SSIM: 0.9778\n",
            "  LPIPS: 0.0180\n",
            "  Visualization saved at: experiment2_diffusion_samples_final/sample_13.png\n",
            "\n",
            "Sample 15:\n",
            "  PSNR: 22.11 dB\n",
            "  SSIM: 0.8634\n",
            "  LPIPS: 0.0791\n",
            "  Visualization saved at: experiment2_diffusion_samples_final/sample_14.png\n",
            "\n",
            "Average Metrics Across All Samples:\n",
            "PSNR: 24.31 dB\n",
            "SSIM: 0.8772\n",
            "LPIPS: 0.1053\n",
            "\n",
            "All metrics saved to: diffusion_metrics_20250421_162824.pth\n"
          ]
        },
        {
          "name": "stderr",
          "output_type": "stream",
          "text": [
            "\n"
          ]
        }
      ],
      "source": [
        "def evaluate_diffusion(denoise_unet, decoder, test_loader, device, diffusion, save_samples=True, sample_dir=\"experiment2_diffusion_samples_final\"):\n",
        "    # Initialize metrics\n",
        "    psnr = PSNR().to(device)\n",
        "    ssim = SSIM().to(device)\n",
        "    lpips = LPIPS(replace_pooling=True).to(device)\n",
        "    \n",
        "    metrics = {\n",
        "        'per_image': [],  # List to store per-image results\n",
        "        'average': {\n",
        "            'psnr': 0.0,\n",
        "            'ssim': 0.0,\n",
        "            'lpips': 0.0\n",
        "        }\n",
        "    }\n",
        "    \n",
        "    if save_samples:\n",
        "        os.makedirs(sample_dir, exist_ok=True)\n",
        "    \n",
        "    denoise_unet.eval()\n",
        "    decoder.eval()\n",
        "    sample_counter = 0\n",
        "    \n",
        "    with torch.no_grad():\n",
        "        for batch_idx, (low_imgs, high_imgs, *_) in enumerate(tqdm(test_loader, desc=\"Evaluating\")):\n",
        "            low_imgs, high_imgs = low_imgs.to(device), high_imgs.to(device)\n",
        "            \n",
        "            # Use t=0 (final timestep) for evaluation\n",
        "            t = torch.zeros(low_imgs.size(0), dtype=torch.long, device=device)\n",
        "            \n",
        "            # Forward diffusion process\n",
        "            xt, _ = diffusion.forward_diffuse(high_imgs, t)\n",
        "            \n",
        "            # Denoise and decode\n",
        "            pred_noise = denoise_unet(xt, t)\n",
        "            enhanced_imgs = decoder(xt - pred_noise, low_imgs)\n",
        "            \n",
        "            # Clamp outputs to valid range\n",
        "            enhanced_imgs = enhanced_imgs.clamp(0, 1)\n",
        "            high_imgs = high_imgs.clamp(0, 1)\n",
        "            \n",
        "            # Process each image in the batch individually\n",
        "            for img_idx in range(low_imgs.size(0)):\n",
        "                # Calculate metrics for this single image\n",
        "                img_metrics = {\n",
        "                    'psnr': psnr(enhanced_imgs[img_idx].unsqueeze(0), high_imgs[img_idx].unsqueeze(0)).item(),\n",
        "                    'ssim': ssim(enhanced_imgs[img_idx].unsqueeze(0), high_imgs[img_idx].unsqueeze(0)).item(),\n",
        "                    'lpips': lpips(enhanced_imgs[img_idx].unsqueeze(0), high_imgs[img_idx].unsqueeze(0)).item()\n",
        "                }\n",
        "                \n",
        "                # Create comparison grid (C,H,W)\n",
        "                comparison = torch.cat([\n",
        "                    low_imgs[img_idx].clamp(0, 1),  # Low-light\n",
        "                    enhanced_imgs[img_idx],         # Enhanced\n",
        "                    high_imgs[img_idx]              # Ground truth\n",
        "                ], dim=-1)\n",
        "                \n",
        "                # Convert to PIL\n",
        "                comparison_pil = transforms.ToPILImage()(comparison.cpu())\n",
        "                \n",
        "                if save_samples and sample_counter < 15:\n",
        "                    # Add labels to the image\n",
        "                    draw = ImageDraw.Draw(comparison_pil)\n",
        "                    try:\n",
        "                        font = ImageFont.truetype(\"arial.ttf\", 15)\n",
        "                    except:\n",
        "                        font = ImageFont.load_default()\n",
        "                    \n",
        "                    width = comparison_pil.width\n",
        "                    draw.text((10, 10), \"Low Light\", fill=\"white\", font=font)\n",
        "                    draw.text((width//3 + 10, 10), \"Enhanced\", fill=\"white\", font=font)\n",
        "                    draw.text((2*width//3 + 10, 10), \"Ground Truth\", fill=\"white\", font=font)\n",
        "                    \n",
        "                    # Add metric text below each section\n",
        "                    text_y = comparison_pil.height - 30\n",
        "                    draw.text((10, text_y), f\"PSNR: -\", fill=\"white\", font=font)  # Low-light has no PSNR\n",
        "                    draw.text((width//3 + 10, text_y), \n",
        "                             f\"PSNR: {img_metrics['psnr']:.2f}\\nSSIM: {img_metrics['ssim']:.3f}\\nLPIPS: {img_metrics['lpips']:.3f}\", \n",
        "                             fill=\"white\", font=font)\n",
        "                    draw.text((2*width//3 + 10, text_y), \n",
        "                             f\"PSNR: ∞\\nSSIM: 1.000\\nLPIPS: 0.000\", \n",
        "                             fill=\"white\", font=font)\n",
        "                    \n",
        "                    # Save sample\n",
        "                    sample_path = os.path.join(sample_dir, f\"sample_{sample_counter:02d}.png\")\n",
        "                    comparison_pil.save(sample_path)\n",
        "                    img_metrics['image_path'] = sample_path\n",
        "                    sample_counter += 1\n",
        "                \n",
        "                # Store per-image results\n",
        "                metrics['per_image'].append(img_metrics)\n",
        "                \n",
        "                # Accumulate for averages\n",
        "                metrics['average']['psnr'] += img_metrics['psnr']\n",
        "                metrics['average']['ssim'] += img_metrics['ssim']\n",
        "                metrics['average']['lpips'] += img_metrics['lpips']\n",
        "    \n",
        "    # Calculate final averages\n",
        "    total_samples = len(metrics['per_image'])\n",
        "    metrics['average']['psnr'] /= total_samples\n",
        "    metrics['average']['ssim'] /= total_samples\n",
        "    metrics['average']['lpips'] /= total_samples\n",
        "    \n",
        "    print(f\"\\nEvaluation Results (Averages):\")\n",
        "    print(f\"PSNR: {metrics['average']['psnr']:.2f} dB\")\n",
        "    print(f\"SSIM: {metrics['average']['ssim']:.4f}\")\n",
        "    print(f\"LPIPS: {metrics['average']['lpips']:.4f}\")\n",
        "    \n",
        "    return metrics\n",
        "\n",
        "metrics = evaluate_diffusion(\n",
        "    denoise_unet=diffusion.denoise_unet,\n",
        "    decoder=diffusion.decoder,\n",
        "    test_loader=test_loader,\n",
        "    device=device,\n",
        "    diffusion=diffusion,\n",
        "    save_samples=True\n",
        ")\n",
        "\n",
        "# Process all samples\n",
        "print(\"\\nDetailed Results for All Samples:\")\n",
        "for idx, img_result in enumerate(metrics['per_image']):\n",
        "    print(f\"\\nSample {idx + 1}:\")\n",
        "    print(f\"  PSNR: {img_result['psnr']:.2f} dB\")\n",
        "    print(f\"  SSIM: {img_result['ssim']:.4f}\")\n",
        "    print(f\"  LPIPS: {img_result['lpips']:.4f}\")\n",
        "    if 'image_path' in img_result:\n",
        "        print(f\"  Visualization saved at: {img_result['image_path']}\")\n",
        "\n",
        "# Print averages\n",
        "print(\"\\nAverage Metrics Across All Samples:\")\n",
        "print(f\"PSNR: {metrics['average']['psnr']:.2f} dB\")\n",
        "print(f\"SSIM: {metrics['average']['ssim']:.4f}\")\n",
        "print(f\"LPIPS: {metrics['average']['lpips']:.4f}\")\n",
        "\n",
        "# Save full metrics with timestamp\n",
        "import datetime\n",
        "timestamp = datetime.datetime.now().strftime(\"%Y%m%d_%H%M%S\")\n",
        "metrics_filename = f'diffusion_metrics_{timestamp}.pth'\n",
        "torch.save(metrics, metrics_filename)\n",
        "print(f\"\\nAll metrics saved to: {metrics_filename}\")"
      ]
    },
    {
      "cell_type": "code",
      "execution_count": 27,
      "metadata": {},
      "outputs": [
        {
          "name": "stderr",
          "output_type": "stream",
          "text": [
            "Evaluating: 100%|██████████| 15/15 [00:08<00:00,  1.69it/s]"
          ]
        },
        {
          "name": "stdout",
          "output_type": "stream",
          "text": [
            "\n",
            "Evaluation Results (Averages):\n",
            "PSNR: 24.30 dB\n",
            "SSIM: 0.8772\n",
            "LPIPS: 0.1054\n"
          ]
        },
        {
          "name": "stderr",
          "output_type": "stream",
          "text": [
            "\n"
          ]
        }
      ],
      "source": [
        "import os\n",
        "import torch\n",
        "from torchvision import transforms\n",
        "from PIL import ImageDraw, ImageFont\n",
        "from tqdm import tqdm\n",
        "\n",
        "def evaluate_diffusion(denoise_unet, decoder, test_loader, device, diffusion, save_samples=True, sample_dir=\"sample\"):\n",
        "    # Initialize metrics\n",
        "    psnr = PSNR().to(device)\n",
        "    ssim = SSIM().to(device)\n",
        "    lpips = LPIPS(replace_pooling=True).to(device)\n",
        "    \n",
        "    metrics = {\n",
        "        'per_image': [],\n",
        "        'average': {\n",
        "            'psnr': 0.0,\n",
        "            'ssim': 0.0,\n",
        "            'lpips': 0.0\n",
        "        }\n",
        "    }\n",
        "    \n",
        "    if save_samples:\n",
        "        os.makedirs(sample_dir, exist_ok=True)\n",
        "    \n",
        "    denoise_unet.eval()\n",
        "    decoder.eval()\n",
        "    sample_counter = 0\n",
        "    \n",
        "    with torch.no_grad():\n",
        "        for batch_idx, (low_imgs, high_imgs, *_) in enumerate(tqdm(test_loader, desc=\"Evaluating\")):\n",
        "            low_imgs, high_imgs = low_imgs.to(device), high_imgs.to(device)\n",
        "            \n",
        "            # Use t=0 (final timestep) for evaluation\n",
        "            t = torch.zeros(low_imgs.size(0), dtype=torch.long, device=device)\n",
        "            \n",
        "            # Forward diffusion process\n",
        "            xt, _ = diffusion.forward_diffuse(high_imgs, t)\n",
        "            \n",
        "            # Denoise and decode\n",
        "            pred_noise = denoise_unet(xt, t)\n",
        "            enhanced_imgs = decoder(xt - pred_noise, low_imgs)\n",
        "            \n",
        "            # Clamp outputs to valid range\n",
        "            enhanced_imgs = enhanced_imgs.clamp(0, 1)\n",
        "            high_imgs = high_imgs.clamp(0, 1)\n",
        "            \n",
        "            for img_idx in range(low_imgs.size(0)):\n",
        "                # Calculate metrics\n",
        "                img_metrics = {\n",
        "                    'psnr': psnr(enhanced_imgs[img_idx].unsqueeze(0), high_imgs[img_idx].unsqueeze(0)).item(),\n",
        "                    'ssim': ssim(enhanced_imgs[img_idx].unsqueeze(0), high_imgs[img_idx].unsqueeze(0)).item(),\n",
        "                    'lpips': lpips(enhanced_imgs[img_idx].unsqueeze(0), high_imgs[img_idx].unsqueeze(0)).item()\n",
        "                }\n",
        "                \n",
        "                # Denormalize low-light image for visualization\n",
        "                low_img_denorm = (low_imgs[img_idx] * 0.5) + 0.5\n",
        "                low_img_denorm = low_img_denorm.clamp(0, 1)\n",
        "                \n",
        "                # Create a 4-column comparison image (C, H, W*4)\n",
        "                comparison = torch.cat([\n",
        "                    low_imgs[img_idx].clamp(0, 1),  # Low-light (normalized)\n",
        "                    low_img_denorm,                 # Low-light (denormalized)\n",
        "                    enhanced_imgs[img_idx],         # Enhanced\n",
        "                    high_imgs[img_idx]              # Ground truth\n",
        "                ], dim=-1)\n",
        "                \n",
        "                # Convert to PIL\n",
        "                comparison_pil = transforms.ToPILImage()(comparison.cpu())\n",
        "                \n",
        "                if save_samples:\n",
        "                    # Add labels\n",
        "                    draw = ImageDraw.Draw(comparison_pil)\n",
        "                    try:\n",
        "                        font = ImageFont.truetype(\"arial.ttf\", 15)\n",
        "                    except:\n",
        "                        font = ImageFont.load_default()\n",
        "                    \n",
        "                    width = comparison_pil.width // 4\n",
        "                    draw.text((10, 10), \"Low Light\\n(Normalized)\", fill=\"white\", font=font)\n",
        "                    draw.text((width + 10, 10), \"Low Light\\n(Denormalized)\", fill=\"white\", font=font)\n",
        "                    draw.text((2 * width + 10, 10), \"Enhanced\", fill=\"white\", font=font)\n",
        "                    draw.text((3 * width + 10, 10), \"Ground Truth\", fill=\"white\", font=font)\n",
        "\n",
        "                    # Metrics under Enhanced\n",
        "                    text_y = comparison_pil.height - 40\n",
        "                    draw.text((2 * width + 10, text_y), \n",
        "                              f\"PSNR: {img_metrics['psnr']:.2f}\\nSSIM: {img_metrics['ssim']:.3f}\\nLPIPS: {img_metrics['lpips']:.3f}\", \n",
        "                              fill=\"white\", font=font)\n",
        "\n",
        "                    # Save image\n",
        "                    sample_path = os.path.join(sample_dir, f\"sample_{sample_counter:04d}.png\")\n",
        "                    comparison_pil.save(sample_path)\n",
        "                    img_metrics['image_path'] = sample_path\n",
        "                    sample_counter += 1\n",
        "                \n",
        "                # Store metrics\n",
        "                metrics['per_image'].append(img_metrics)\n",
        "                metrics['average']['psnr'] += img_metrics['psnr']\n",
        "                metrics['average']['ssim'] += img_metrics['ssim']\n",
        "                metrics['average']['lpips'] += img_metrics['lpips']\n",
        "    \n",
        "    # Compute averages\n",
        "    total_samples = len(metrics['per_image'])\n",
        "    metrics['average']['psnr'] /= total_samples\n",
        "    metrics['average']['ssim'] /= total_samples\n",
        "    metrics['average']['lpips'] /= total_samples\n",
        "    \n",
        "    print(f\"\\nEvaluation Results (Averages):\")\n",
        "    print(f\"PSNR: {metrics['average']['psnr']:.2f} dB\")\n",
        "    print(f\"SSIM: {metrics['average']['ssim']:.4f}\")\n",
        "    print(f\"LPIPS: {metrics['average']['lpips']:.4f}\")\n",
        "    \n",
        "    return metrics\n",
        "\n",
        "# Initialize model\n",
        "diffusion = LatentDiffusionModel(device=device)\n",
        "\n",
        "# Load checkpoint\n",
        "checkpoint = torch.load('checkpoints/diffusion_epoch_200.pth', map_location=device)\n",
        "\n",
        "# Load state_dict into model components\n",
        "diffusion.denoise_unet.load_state_dict(checkpoint['denoise_unet'])\n",
        "diffusion.decoder.load_state_dict(checkpoint['decoder'])\n",
        "\n",
        "# Evaluate\n",
        "metrics = evaluate_diffusion(\n",
        "    denoise_unet=diffusion.denoise_unet,\n",
        "    decoder=diffusion.decoder,\n",
        "    test_loader=test_loader,  # Your test DataLoader\n",
        "    device=device,\n",
        "    diffusion=diffusion,      # Already has forward_diffuse()\n",
        "    save_samples=True,         # Save all comparison images\n",
        "    sample_dir=\"diffusion_sample\"\n",
        ")"
      ]
    },
    {
      "cell_type": "code",
      "execution_count": 28,
      "metadata": {},
      "outputs": [
        {
          "name": "stderr",
          "output_type": "stream",
          "text": [
            "Evaluating: 100%|██████████| 15/15 [00:12<00:00,  1.23it/s]"
          ]
        },
        {
          "name": "stdout",
          "output_type": "stream",
          "text": [
            "\n",
            "Evaluation Results (Averages):\n",
            "PSNR: 24.85 dB\n",
            "SSIM: 0.8796\n",
            "LPIPS: 0.1200\n"
          ]
        },
        {
          "name": "stderr",
          "output_type": "stream",
          "text": [
            "\n"
          ]
        }
      ],
      "source": [
        "import os\n",
        "import torch\n",
        "from torchvision import transforms\n",
        "from PIL import ImageDraw, ImageFont\n",
        "from tqdm import tqdm\n",
        "from torchmetrics import PeakSignalNoiseRatio as PSNR\n",
        "from torchmetrics import StructuralSimilarityIndexMeasure as SSIM\n",
        "from piq import LPIPS\n",
        "\n",
        "def denormalize(img):\n",
        "    \"\"\"Convert image from [-1, 1] to [0, 1] for visualization\"\"\"\n",
        "    return img * 0.5 + 0.5\n",
        "\n",
        "def evaluate_diffusion(denoise_unet, decoder, test_loader, device, diffusion, save_samples=True, sample_dir=\"diffusion_normalized_result\"):\n",
        "    # Initialize metrics\n",
        "    psnr = PSNR().to(device)\n",
        "    ssim = SSIM().to(device)\n",
        "    lpips = LPIPS(replace_pooling=True).to(device)\n",
        "\n",
        "    metrics = {\n",
        "        'per_image': [],\n",
        "        'average': {\n",
        "            'psnr': 0.0,\n",
        "            'ssim': 0.0,\n",
        "            'lpips': 0.0\n",
        "        }\n",
        "    }\n",
        "\n",
        "    if save_samples:\n",
        "        os.makedirs(sample_dir, exist_ok=True)\n",
        "\n",
        "    denoise_unet.eval()\n",
        "    decoder.eval()\n",
        "    sample_counter = 0\n",
        "\n",
        "    with torch.no_grad():\n",
        "        for batch_idx, (low_imgs, high_imgs, *_) in enumerate(tqdm(test_loader, desc=\"Evaluating\")):\n",
        "            low_imgs, high_imgs = low_imgs.to(device), high_imgs.to(device)\n",
        "\n",
        "            # Use t=0 (final timestep) for evaluation\n",
        "            t = torch.zeros(low_imgs.size(0), dtype=torch.long, device=device)\n",
        "\n",
        "            # Forward diffusion process\n",
        "            xt, _ = diffusion.forward_diffuse(high_imgs, t)\n",
        "\n",
        "            # Denoise and decode\n",
        "            pred_noise = denoise_unet(xt, t)\n",
        "            enhanced_imgs = decoder(xt - pred_noise, low_imgs)\n",
        "\n",
        "            # Clamp all images to [-1, 1] range first\n",
        "            low_imgs = low_imgs.clamp(-1, 1)\n",
        "            enhanced_imgs = enhanced_imgs.clamp(-1, 1)\n",
        "            high_imgs = high_imgs.clamp(-1, 1)\n",
        "\n",
        "            for img_idx in range(low_imgs.size(0)):\n",
        "                # Denormalize for metric computation\n",
        "                enhanced = denormalize(enhanced_imgs[img_idx])\n",
        "                high = denormalize(high_imgs[img_idx])\n",
        "\n",
        "                # Calculate metrics\n",
        "                img_metrics = {\n",
        "                    'psnr': psnr(enhanced.unsqueeze(0), high.unsqueeze(0)).item(),\n",
        "                    'ssim': ssim(enhanced.unsqueeze(0), high.unsqueeze(0)).item(),\n",
        "                    'lpips': lpips(enhanced.unsqueeze(0), high.unsqueeze(0)).item()\n",
        "                }\n",
        "\n",
        "                # Denormalize all images for visualization\n",
        "                low_img_norm = denormalize(low_imgs[img_idx])               # Low-light (normalized)\n",
        "                low_img_denorm = low_img_norm.clone()                       # Low-light (denormalized)\n",
        "                enhanced_img_vis = denormalize(enhanced_imgs[img_idx])      # Enhanced\n",
        "                high_img_vis = denormalize(high_imgs[img_idx])              # Ground Truth\n",
        "\n",
        "                # Create a 4-column comparison image (C, H, W*4)\n",
        "                comparison = torch.cat([\n",
        "                    low_imgs[img_idx].clamp(0, 1),  # Low-light (still normalized for first col)\n",
        "                    low_img_denorm.clamp(0, 1),     # Low-light (denormalized)\n",
        "                    enhanced_img_vis.clamp(0, 1),   # Enhanced\n",
        "                    high_img_vis.clamp(0, 1)        # Ground truth\n",
        "                ], dim=-1)\n",
        "\n",
        "                # Convert to PIL\n",
        "                comparison_pil = transforms.ToPILImage()(comparison.cpu())\n",
        "\n",
        "                if save_samples:\n",
        "                    draw = ImageDraw.Draw(comparison_pil)\n",
        "                    try:\n",
        "                        font = ImageFont.truetype(\"arial.ttf\", 15)\n",
        "                    except:\n",
        "                        font = ImageFont.load_default()\n",
        "\n",
        "                    width = comparison_pil.width // 4\n",
        "                    draw.text((10, 10), \"Low Light\\n(Normalized)\", fill=\"white\", font=font)\n",
        "                    draw.text((width + 10, 10), \"Low Light\\n(Denormalized)\", fill=\"white\", font=font)\n",
        "                    draw.text((2 * width + 10, 10), \"Enhanced\", fill=\"white\", font=font)\n",
        "                    draw.text((3 * width + 10, 10), \"Ground Truth\", fill=\"white\", font=font)\n",
        "\n",
        "                    # Metrics under Enhanced\n",
        "                    text_y = comparison_pil.height - 40\n",
        "                    draw.text((2 * width + 10, text_y),\n",
        "                              f\"PSNR: {img_metrics['psnr']:.2f}\\nSSIM: {img_metrics['ssim']:.3f}\\nLPIPS: {img_metrics['lpips']:.3f}\",\n",
        "                              fill=\"white\", font=font)\n",
        "\n",
        "                    # Save image\n",
        "                    sample_path = os.path.join(sample_dir, f\"sample_{sample_counter:04d}.png\")\n",
        "                    comparison_pil.save(sample_path)\n",
        "                    img_metrics['image_path'] = sample_path\n",
        "                    sample_counter += 1\n",
        "\n",
        "                # Store metrics\n",
        "                metrics['per_image'].append(img_metrics)\n",
        "                metrics['average']['psnr'] += img_metrics['psnr']\n",
        "                metrics['average']['ssim'] += img_metrics['ssim']\n",
        "                metrics['average']['lpips'] += img_metrics['lpips']\n",
        "\n",
        "    # Compute averages\n",
        "    total_samples = len(metrics['per_image'])\n",
        "    metrics['average']['psnr'] /= total_samples\n",
        "    metrics['average']['ssim'] /= total_samples\n",
        "    metrics['average']['lpips'] /= total_samples\n",
        "\n",
        "    print(f\"\\nEvaluation Results (Averages):\")\n",
        "    print(f\"PSNR: {metrics['average']['psnr']:.2f} dB\")\n",
        "    print(f\"SSIM: {metrics['average']['ssim']:.4f}\")\n",
        "    print(f\"LPIPS: {metrics['average']['lpips']:.4f}\")\n",
        "\n",
        "    return metrics\n",
        "\n",
        "# Initialize model\n",
        "diffusion = LatentDiffusionModel(device=device)\n",
        "\n",
        "# Load checkpoint\n",
        "checkpoint = torch.load('checkpoints/diffusion_epoch_190.pth', map_location=device)\n",
        "\n",
        "# Load state_dict into model components\n",
        "diffusion.denoise_unet.load_state_dict(checkpoint['denoise_unet'])\n",
        "diffusion.decoder.load_state_dict(checkpoint['decoder'])\n",
        "\n",
        "# Evaluate\n",
        "metrics = evaluate_diffusion(\n",
        "    denoise_unet=diffusion.denoise_unet,\n",
        "    decoder=diffusion.decoder,\n",
        "    test_loader=test_loader,  # Your test DataLoader\n",
        "    device=device,\n",
        "    diffusion=diffusion,      # Already has forward_diffuse()\n",
        "    save_samples=True         # Save all comparison images\n",
        ")"
      ]
    }
  ],
  "metadata": {
    "colab": {
      "provenance": []
    },
    "kernelspec": {
      "display_name": ".venv",
      "language": "python",
      "name": "python3"
    },
    "language_info": {
      "codemirror_mode": {
        "name": "ipython",
        "version": 3
      },
      "file_extension": ".py",
      "mimetype": "text/x-python",
      "name": "python",
      "nbconvert_exporter": "python",
      "pygments_lexer": "ipython3",
      "version": "3.10.12"
    },
    "widgets": {
      "application/vnd.jupyter.widget-state+json": {
        "581b12bc469a450e92c9ace7583453ea": {
          "model_module": "@jupyter-widgets/base",
          "model_module_version": "1.2.0",
          "model_name": "LayoutModel",
          "state": {
            "_model_module": "@jupyter-widgets/base",
            "_model_module_version": "1.2.0",
            "_model_name": "LayoutModel",
            "_view_count": null,
            "_view_module": "@jupyter-widgets/base",
            "_view_module_version": "1.2.0",
            "_view_name": "LayoutView",
            "align_content": null,
            "align_items": null,
            "align_self": null,
            "border": null,
            "bottom": null,
            "display": null,
            "flex": null,
            "flex_flow": null,
            "grid_area": null,
            "grid_auto_columns": null,
            "grid_auto_flow": null,
            "grid_auto_rows": null,
            "grid_column": null,
            "grid_gap": null,
            "grid_row": null,
            "grid_template_areas": null,
            "grid_template_columns": null,
            "grid_template_rows": null,
            "height": null,
            "justify_content": null,
            "justify_items": null,
            "left": null,
            "margin": null,
            "max_height": null,
            "max_width": null,
            "min_height": null,
            "min_width": null,
            "object_fit": null,
            "object_position": null,
            "order": null,
            "overflow": null,
            "overflow_x": null,
            "overflow_y": null,
            "padding": null,
            "right": null,
            "top": null,
            "visibility": null,
            "width": null
          }
        },
        "68a90f67a4d64e52a12dfb164b94dd5f": {
          "model_module": "@jupyter-widgets/controls",
          "model_module_version": "1.5.0",
          "model_name": "ButtonStyleModel",
          "state": {
            "_model_module": "@jupyter-widgets/controls",
            "_model_module_version": "1.5.0",
            "_model_name": "ButtonStyleModel",
            "_view_count": null,
            "_view_module": "@jupyter-widgets/base",
            "_view_module_version": "1.2.0",
            "_view_name": "StyleView",
            "button_color": null,
            "font_weight": ""
          }
        },
        "ba39a0ede4bc468f935b270069c4891d": {
          "model_module": "@jupyter-widgets/controls",
          "model_module_version": "1.5.0",
          "model_name": "FileUploadModel",
          "state": {
            "_counter": 7,
            "_dom_classes": [],
            "_model_module": "@jupyter-widgets/controls",
            "_model_module_version": "1.5.0",
            "_model_name": "FileUploadModel",
            "_view_count": null,
            "_view_module": "@jupyter-widgets/controls",
            "_view_module_version": "1.5.0",
            "_view_name": "FileUploadView",
            "accept": "image/*",
            "button_style": "",
            "data": [
              null
            ],
            "description": "Upload",
            "description_tooltip": null,
            "disabled": false,
            "error": "",
            "icon": "upload",
            "layout": "IPY_MODEL_581b12bc469a450e92c9ace7583453ea",
            "metadata": [
              {
                "lastModified": 1743833649773,
                "name": "test_2.jpg",
                "size": 61333,
                "type": "image/jpeg"
              }
            ],
            "multiple": false,
            "style": "IPY_MODEL_68a90f67a4d64e52a12dfb164b94dd5f"
          }
        }
      }
    }
  },
  "nbformat": 4,
  "nbformat_minor": 0
}
