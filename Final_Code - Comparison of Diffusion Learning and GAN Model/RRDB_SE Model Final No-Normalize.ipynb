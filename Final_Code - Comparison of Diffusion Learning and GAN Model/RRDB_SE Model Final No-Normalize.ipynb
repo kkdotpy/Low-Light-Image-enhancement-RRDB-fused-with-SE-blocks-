{
  "cells": [
    {
      "cell_type": "markdown",
      "metadata": {},
      "source": [
        "# Initiation"
      ]
    },
    {
      "cell_type": "code",
      "execution_count": 1,
      "metadata": {
        "id": "0soa9rXuWN4z"
      },
      "outputs": [],
      "source": [
        "import os\n",
        "import random\n",
        "import numpy as np\n",
        "import torch\n",
        "import torch.nn as nn\n",
        "from torch.utils.data import Dataset, DataLoader, random_split\n",
        "from torchvision import transforms\n",
        "import matplotlib.pyplot as plt\n",
        "from tqdm import tqdm\n",
        "from torchmetrics import PeakSignalNoiseRatio as PSNR, StructuralSimilarityIndexMeasure as SSIM\n",
        "from piq import LPIPS\n",
        "import os\n",
        "import torch.nn.functional as F\n",
        "from torchvision.models import vgg19\n",
        "from torchvision.utils import save_image\n",
        "from torchvision.datasets import DatasetFolder\n",
        "from datetime import datetime\n",
        "from sklearn.model_selection import train_test_split\n",
        "from torchvision import transforms\n",
        "from PIL import Image, ImageDraw, ImageFont\n",
        "from copy import deepcopy\n",
        "import time\n",
        "\n",
        "import os\n",
        "import numpy as np\n",
        "import torch\n",
        "from torch.utils.data import Dataset, DataLoader\n",
        "import torchvision.transforms as transforms\n",
        "from PIL import Image\n",
        "import torch.nn as nn\n",
        "import torchvision.models as models\n",
        "import torch.nn.functional as F\n",
        "import torch.optim as optim\n",
        "import io\n",
        "from torchmetrics import PeakSignalNoiseRatio as PSNR, StructuralSimilarityIndexMeasure as SSIM\n",
        "from piq import LPIPS\n",
        "import ipywidgets as widgets\n",
        "from IPython.display import display, clear_output\n",
        "import matplotlib.pyplot as plt\n",
        "from tqdm import tqdm\n",
        "from torch.optim.lr_scheduler import LambdaLR\n",
        "from torchvision.utils import save_image\n",
        "import random\n"
      ]
    },
    {
      "cell_type": "code",
      "execution_count": 2,
      "metadata": {
        "id": "EVq1eL9_fwQj"
      },
      "outputs": [],
      "source": [
        "def set_seed(seed=42):\n",
        "    \"\"\"Set all random seeds for reproducibility.\"\"\"\n",
        "    random.seed(seed)\n",
        "    np.random.seed(seed)\n",
        "    torch.manual_seed(seed)\n",
        "    torch.cuda.manual_seed(seed)\n",
        "    torch.cuda.manual_seed_all(seed)  # if using multi-GPU\n",
        "    torch.backends.cudnn.deterministic = True\n",
        "    torch.backends.cudnn.benchmark = False\n",
        "\n",
        "# Set the seed (choose any number you like)\n",
        "set_seed(42)"
      ]
    },
    {
      "cell_type": "markdown",
      "metadata": {
        "id": "nIvEtsp7pjOq"
      },
      "source": [
        "# DataLoaders\n"
      ]
    },
    {
      "cell_type": "code",
      "execution_count": 3,
      "metadata": {},
      "outputs": [],
      "source": [
        "# Your existing dataset code\n",
        "dataset_path1 = r\"/home/ahansviar2/Deep Learning Project (GAN for Light)/downloaded_images\"\n",
        "train_path = f'{dataset_path1}/train'\n",
        "val_path = f'{dataset_path1}/val'\n",
        "test_path = f'{dataset_path1}/test'"
      ]
    },
    {
      "cell_type": "code",
      "execution_count": 4,
      "metadata": {},
      "outputs": [],
      "source": [
        "class CleanDataset(Dataset):\n",
        "    def __init__(self, root_dir, target_transform=None):\n",
        "        self.root_dir = root_dir\n",
        "        self.target_transform = target_transform\n",
        "        self.low_dir = os.path.join(root_dir, \"low\")\n",
        "        self.high_dir = os.path.join(root_dir, \"high\")\n",
        "        self.image_names = sorted(os.listdir(self.low_dir))\n",
        "\n",
        "    def __len__(self):\n",
        "        return len(self.image_names)\n",
        "\n",
        "    def __getitem__(self, idx):\n",
        "        low_img_path = os.path.join(self.low_dir, self.image_names[idx])\n",
        "        high_img_path = os.path.join(self.high_dir, self.image_names[idx])\n",
        "\n",
        "        low_img = Image.open(low_img_path).convert(\"RGB\")\n",
        "        high_img = Image.open(high_img_path).convert(\"RGB\")\n",
        "\n",
        "        if self.target_transform:\n",
        "            low_img = self.target_transform(low_img)\n",
        "            high_img = self.target_transform(high_img)\n",
        "            \n",
        "            \n",
        "        low_filename = os.path.basename(low_img_path)\n",
        "        high_filename = os.path.basename(high_img_path)\n",
        "        \n",
        "        return low_img, high_img, low_filename, high_filename\n",
        "\n",
        "target_transform = transforms.Compose([\n",
        "    transforms.Resize((256, 256)),\n",
        "    transforms.ToTensor(),\n",
        "    # transforms.Normalize((0.5, 0.5, 0.5), (0.5, 0.5, 0.5)),\n",
        "])\n",
        "\n",
        "train_dataset = CleanDataset(\n",
        "    root_dir=train_path, \n",
        "    target_transform = target_transform\n",
        ")\n",
        "\n",
        "val_dataset = CleanDataset(\n",
        "    root_dir=val_path,\n",
        "    target_transform = target_transform\n",
        ")\n",
        "\n",
        "test_dataset = CleanDataset(root_dir=test_path, target_transform = target_transform)\n",
        "\n",
        "batch_size = 8\n",
        "train_loader = DataLoader(\n",
        "    train_dataset,\n",
        "    batch_size=batch_size,\n",
        "    shuffle=True,\n",
        "    num_workers=2,\n",
        "    pin_memory=True   # Speeds up transfer to GPU\n",
        ")\n",
        "\n",
        "val_loader = DataLoader(\n",
        "    val_dataset,\n",
        "    batch_size=batch_size,\n",
        "    shuffle=False,         # No need for validation\n",
        "    num_workers=2,\n",
        "    pin_memory=True\n",
        ")\n",
        "\n",
        "test_loader = DataLoader(\n",
        "    test_dataset,\n",
        "    batch_size=1,       # Often use batch_size=1 for testing\n",
        "    shuffle=False,\n",
        "    num_workers=1\n",
        ")"
      ]
    },
    {
      "cell_type": "markdown",
      "metadata": {},
      "source": [
        "# Run Data"
      ]
    },
    {
      "cell_type": "code",
      "execution_count": 5,
      "metadata": {},
      "outputs": [
        {
          "name": "stdout",
          "output_type": "stream",
          "text": [
            "Using device: cuda:6\n"
          ]
        }
      ],
      "source": [
        "device = torch.device(\"cuda:6\" if torch.cuda.is_available() else \"cpu\")\n",
        "print(f\"Using device: {device}\")"
      ]
    },
    {
      "cell_type": "markdown",
      "metadata": {},
      "source": [
        "# MODEL ARCHITECTURE"
      ]
    },
    {
      "cell_type": "markdown",
      "metadata": {},
      "source": [
        "## RRDB GAN"
      ]
    },
    {
      "cell_type": "code",
      "execution_count": 6,
      "metadata": {
        "id": "78F5mzcafwQu",
        "outputId": "d50aa3d1-0846-484d-af6a-53f0bc60ea1c"
      },
      "outputs": [
        {
          "name": "stderr",
          "output_type": "stream",
          "text": [
            "/home/ahansviar2/Deep Learning Project (GAN for Light)/.venv/lib/python3.10/site-packages/torchmetrics/utilities/prints.py:62: FutureWarning: Importing `PeakSignalNoiseRatio` from `torchmetrics` was deprecated and will be removed in 2.0. Import `PeakSignalNoiseRatio` from `torchmetrics.image` instead.\n",
            "  _future_warning(\n",
            "/home/ahansviar2/Deep Learning Project (GAN for Light)/.venv/lib/python3.10/site-packages/torchmetrics/utilities/prints.py:62: FutureWarning: Importing `StructuralSimilarityIndexMeasure` from `torchmetrics` was deprecated and will be removed in 2.0. Import `StructuralSimilarityIndexMeasure` from `torchmetrics.image` instead.\n",
            "  _future_warning(\n",
            "/home/ahansviar2/Deep Learning Project (GAN for Light)/.venv/lib/python3.10/site-packages/torchvision/models/_utils.py:208: UserWarning: The parameter 'pretrained' is deprecated since 0.13 and may be removed in the future, please use 'weights' instead.\n",
            "  warnings.warn(\n",
            "/home/ahansviar2/Deep Learning Project (GAN for Light)/.venv/lib/python3.10/site-packages/torchvision/models/_utils.py:223: UserWarning: Arguments other than a weight enum or `None` for 'weights' are deprecated since 0.13 and may be removed in the future. The current behavior is equivalent to passing `weights=VGG16_Weights.IMAGENET1K_V1`. You can also use `weights=VGG16_Weights.DEFAULT` to get the most up-to-date weights.\n",
            "  warnings.warn(msg)\n",
            "/home/ahansviar2/Deep Learning Project (GAN for Light)/.venv/lib/python3.10/site-packages/torchvision/models/_utils.py:223: UserWarning: Arguments other than a weight enum or `None` for 'weights' are deprecated since 0.13 and may be removed in the future. The current behavior is equivalent to passing `weights=VGG19_Weights.IMAGENET1K_V1`. You can also use `weights=VGG19_Weights.DEFAULT` to get the most up-to-date weights.\n",
            "  warnings.warn(msg)\n",
            "Epoch 1/200: 100%|██████████| 49/49 [00:19<00:00,  2.55it/s, D_loss=261.509, G_loss=2.367, Hybrid=0.237]  \n",
            "                                                                   \r"
          ]
        },
        {
          "name": "stdout",
          "output_type": "stream",
          "text": [
            "\n",
            "Validation @ Epoch 1:\n",
            "PSNR: 13.56 dB | SSIM: 0.5283 | LPIPS: 0.5988 | Hybrid: 0.2672\n"
          ]
        },
        {
          "name": "stderr",
          "output_type": "stream",
          "text": [
            "Epoch 2/200: 100%|██████████| 49/49 [00:18<00:00,  2.63it/s, D_loss=100.323, G_loss=1.856, Hybrid=0.219]\n",
            "                                                                   \r"
          ]
        },
        {
          "name": "stdout",
          "output_type": "stream",
          "text": [
            "\n",
            "Validation @ Epoch 2:\n",
            "PSNR: 14.37 dB | SSIM: 0.5750 | LPIPS: 0.5357 | Hybrid: 0.2263\n"
          ]
        },
        {
          "name": "stderr",
          "output_type": "stream",
          "text": [
            "Epoch 3/200: 100%|██████████| 49/49 [00:18<00:00,  2.59it/s, D_loss=128.703, G_loss=2.266, Hybrid=0.261]\n",
            "                                                                   \r"
          ]
        },
        {
          "name": "stdout",
          "output_type": "stream",
          "text": [
            "\n",
            "Validation @ Epoch 3:\n",
            "PSNR: 13.98 dB | SSIM: 0.5899 | LPIPS: 0.5005 | Hybrid: 0.2338\n"
          ]
        },
        {
          "name": "stderr",
          "output_type": "stream",
          "text": [
            "Epoch 4/200: 100%|██████████| 49/49 [00:19<00:00,  2.58it/s, D_loss=139.117, G_loss=2.404, Hybrid=0.227]\n",
            "                                                                   \r"
          ]
        },
        {
          "name": "stdout",
          "output_type": "stream",
          "text": [
            "\n",
            "Validation @ Epoch 4:\n",
            "PSNR: 14.96 dB | SSIM: 0.5968 | LPIPS: 0.5131 | Hybrid: 0.2109\n"
          ]
        },
        {
          "name": "stderr",
          "output_type": "stream",
          "text": [
            "Epoch 5/200: 100%|██████████| 49/49 [00:19<00:00,  2.56it/s, D_loss=1.186, G_loss=1.817, Hybrid=0.201] \n",
            "                                                                   \r"
          ]
        },
        {
          "name": "stdout",
          "output_type": "stream",
          "text": [
            "\n",
            "Validation @ Epoch 5:\n",
            "PSNR: 15.73 dB | SSIM: 0.6292 | LPIPS: 0.4807 | Hybrid: 0.2006\n"
          ]
        },
        {
          "name": "stderr",
          "output_type": "stream",
          "text": [
            "Epoch 6/200: 100%|██████████| 49/49 [00:19<00:00,  2.55it/s, D_loss=7.163, G_loss=2.286, Hybrid=0.208] \n",
            "                                                                   \r"
          ]
        },
        {
          "name": "stdout",
          "output_type": "stream",
          "text": [
            "\n",
            "Validation @ Epoch 6:\n",
            "PSNR: 15.83 dB | SSIM: 0.6279 | LPIPS: 0.4749 | Hybrid: 0.1966\n"
          ]
        },
        {
          "name": "stderr",
          "output_type": "stream",
          "text": [
            "Epoch 7/200: 100%|██████████| 49/49 [00:19<00:00,  2.55it/s, D_loss=19.673, G_loss=1.931, Hybrid=0.216]\n",
            "                                                                   \r"
          ]
        },
        {
          "name": "stdout",
          "output_type": "stream",
          "text": [
            "\n",
            "Validation @ Epoch 7:\n",
            "PSNR: 16.08 dB | SSIM: 0.6409 | LPIPS: 0.4637 | Hybrid: 0.1968\n"
          ]
        },
        {
          "name": "stderr",
          "output_type": "stream",
          "text": [
            "Epoch 8/200: 100%|██████████| 49/49 [00:19<00:00,  2.54it/s, D_loss=4.751, G_loss=2.086, Hybrid=0.182] \n",
            "                                                                   \r"
          ]
        },
        {
          "name": "stdout",
          "output_type": "stream",
          "text": [
            "\n",
            "Validation @ Epoch 8:\n",
            "PSNR: 15.86 dB | SSIM: 0.6347 | LPIPS: 0.4633 | Hybrid: 0.1877\n"
          ]
        },
        {
          "name": "stderr",
          "output_type": "stream",
          "text": [
            "Epoch 9/200: 100%|██████████| 49/49 [00:19<00:00,  2.53it/s, D_loss=6.218, G_loss=2.668, Hybrid=0.259] \n",
            "                                                                   \r"
          ]
        },
        {
          "name": "stdout",
          "output_type": "stream",
          "text": [
            "\n",
            "Validation @ Epoch 9:\n",
            "PSNR: 15.82 dB | SSIM: 0.6421 | LPIPS: 0.4588 | Hybrid: 0.1990\n"
          ]
        },
        {
          "name": "stderr",
          "output_type": "stream",
          "text": [
            "Epoch 10/200: 100%|██████████| 49/49 [00:19<00:00,  2.54it/s, D_loss=35.103, G_loss=2.482, Hybrid=0.248]\n",
            "                                                                    \r"
          ]
        },
        {
          "name": "stdout",
          "output_type": "stream",
          "text": [
            "\n",
            "Validation @ Epoch 10:\n",
            "PSNR: 15.90 dB | SSIM: 0.6374 | LPIPS: 0.4801 | Hybrid: 0.2009\n"
          ]
        },
        {
          "name": "stderr",
          "output_type": "stream",
          "text": [
            "Epoch 11/200: 100%|██████████| 49/49 [00:19<00:00,  2.54it/s, D_loss=3.294, G_loss=1.679, Hybrid=0.195] \n",
            "                                                                    \r"
          ]
        },
        {
          "name": "stdout",
          "output_type": "stream",
          "text": [
            "\n",
            "Validation @ Epoch 11:\n",
            "PSNR: 16.28 dB | SSIM: 0.6548 | LPIPS: 0.4422 | Hybrid: 0.1974\n"
          ]
        },
        {
          "name": "stderr",
          "output_type": "stream",
          "text": [
            "Epoch 12/200: 100%|██████████| 49/49 [00:19<00:00,  2.53it/s, D_loss=5.010, G_loss=2.180, Hybrid=0.221] \n",
            "                                                                    \r"
          ]
        },
        {
          "name": "stdout",
          "output_type": "stream",
          "text": [
            "\n",
            "Validation @ Epoch 12:\n",
            "PSNR: 16.26 dB | SSIM: 0.6518 | LPIPS: 0.4418 | Hybrid: 0.1816\n"
          ]
        },
        {
          "name": "stderr",
          "output_type": "stream",
          "text": [
            "Epoch 13/200: 100%|██████████| 49/49 [00:19<00:00,  2.53it/s, D_loss=4.161, G_loss=1.913, Hybrid=0.199] \n",
            "                                                                    \r"
          ]
        },
        {
          "name": "stdout",
          "output_type": "stream",
          "text": [
            "\n",
            "Validation @ Epoch 13:\n",
            "PSNR: 16.49 dB | SSIM: 0.6608 | LPIPS: 0.4349 | Hybrid: 0.1906\n"
          ]
        },
        {
          "name": "stderr",
          "output_type": "stream",
          "text": [
            "Epoch 14/200: 100%|██████████| 49/49 [00:19<00:00,  2.53it/s, D_loss=1.495, G_loss=1.767, Hybrid=0.181] \n",
            "                                                                    \r"
          ]
        },
        {
          "name": "stdout",
          "output_type": "stream",
          "text": [
            "\n",
            "Validation @ Epoch 14:\n",
            "PSNR: 16.58 dB | SSIM: 0.6666 | LPIPS: 0.4249 | Hybrid: 0.1782\n"
          ]
        },
        {
          "name": "stderr",
          "output_type": "stream",
          "text": [
            "Epoch 15/200: 100%|██████████| 49/49 [00:19<00:00,  2.53it/s, D_loss=1.003, G_loss=1.924, Hybrid=0.221] \n",
            "                                                                    \r"
          ]
        },
        {
          "name": "stdout",
          "output_type": "stream",
          "text": [
            "\n",
            "Validation @ Epoch 15:\n",
            "PSNR: 16.63 dB | SSIM: 0.6766 | LPIPS: 0.4219 | Hybrid: 0.1777\n"
          ]
        },
        {
          "name": "stderr",
          "output_type": "stream",
          "text": [
            "Epoch 16/200: 100%|██████████| 49/49 [00:19<00:00,  2.53it/s, D_loss=0.960, G_loss=1.806, Hybrid=0.208] \n",
            "                                                                    \r"
          ]
        },
        {
          "name": "stdout",
          "output_type": "stream",
          "text": [
            "\n",
            "Validation @ Epoch 16:\n",
            "PSNR: 16.74 dB | SSIM: 0.6779 | LPIPS: 0.4148 | Hybrid: 0.1803\n"
          ]
        },
        {
          "name": "stderr",
          "output_type": "stream",
          "text": [
            "Epoch 17/200: 100%|██████████| 49/49 [00:19<00:00,  2.53it/s, D_loss=24.491, G_loss=2.080, Hybrid=0.202]\n",
            "                                                                    \r"
          ]
        },
        {
          "name": "stdout",
          "output_type": "stream",
          "text": [
            "\n",
            "Validation @ Epoch 17:\n",
            "PSNR: 16.66 dB | SSIM: 0.6779 | LPIPS: 0.4088 | Hybrid: 0.1761\n"
          ]
        },
        {
          "name": "stderr",
          "output_type": "stream",
          "text": [
            "Epoch 18/200: 100%|██████████| 49/49 [00:19<00:00,  2.53it/s, D_loss=1.289, G_loss=1.732, Hybrid=0.189]\n",
            "                                                                    \r"
          ]
        },
        {
          "name": "stdout",
          "output_type": "stream",
          "text": [
            "\n",
            "Validation @ Epoch 18:\n",
            "PSNR: 17.00 dB | SSIM: 0.6977 | LPIPS: 0.3928 | Hybrid: 0.1729\n"
          ]
        },
        {
          "name": "stderr",
          "output_type": "stream",
          "text": [
            "Epoch 19/200: 100%|██████████| 49/49 [00:19<00:00,  2.53it/s, D_loss=3.559, G_loss=2.115, Hybrid=0.194]\n",
            "                                                                    \r"
          ]
        },
        {
          "name": "stdout",
          "output_type": "stream",
          "text": [
            "\n",
            "Validation @ Epoch 19:\n",
            "PSNR: 16.98 dB | SSIM: 0.7029 | LPIPS: 0.3861 | Hybrid: 0.1775\n"
          ]
        },
        {
          "name": "stderr",
          "output_type": "stream",
          "text": [
            "Epoch 20/200: 100%|██████████| 49/49 [00:19<00:00,  2.53it/s, D_loss=1.049, G_loss=1.930, Hybrid=0.174]\n",
            "                                                                    \r"
          ]
        },
        {
          "name": "stdout",
          "output_type": "stream",
          "text": [
            "\n",
            "Validation @ Epoch 20:\n",
            "PSNR: 17.41 dB | SSIM: 0.7224 | LPIPS: 0.3711 | Hybrid: 0.1612\n"
          ]
        },
        {
          "name": "stderr",
          "output_type": "stream",
          "text": [
            "Epoch 21/200: 100%|██████████| 49/49 [00:19<00:00,  2.53it/s, D_loss=12.600, G_loss=1.870, Hybrid=0.200]  \n",
            "                                                                    \r"
          ]
        },
        {
          "name": "stdout",
          "output_type": "stream",
          "text": [
            "\n",
            "Validation @ Epoch 21:\n",
            "PSNR: 17.53 dB | SSIM: 0.7244 | LPIPS: 0.3720 | Hybrid: 0.1553\n"
          ]
        },
        {
          "name": "stderr",
          "output_type": "stream",
          "text": [
            "Epoch 22/200: 100%|██████████| 49/49 [00:19<00:00,  2.53it/s, D_loss=2.942, G_loss=1.655, Hybrid=0.155]   \n",
            "                                                                    \r"
          ]
        },
        {
          "name": "stdout",
          "output_type": "stream",
          "text": [
            "\n",
            "Validation @ Epoch 22:\n",
            "PSNR: 17.36 dB | SSIM: 0.7193 | LPIPS: 0.3694 | Hybrid: 0.1717\n"
          ]
        },
        {
          "name": "stderr",
          "output_type": "stream",
          "text": [
            "Epoch 23/200: 100%|██████████| 49/49 [00:19<00:00,  2.53it/s, D_loss=0.794, G_loss=1.829, Hybrid=0.182] \n",
            "                                                                    \r"
          ]
        },
        {
          "name": "stdout",
          "output_type": "stream",
          "text": [
            "\n",
            "Validation @ Epoch 23:\n",
            "PSNR: 17.76 dB | SSIM: 0.7329 | LPIPS: 0.3598 | Hybrid: 0.1591\n"
          ]
        },
        {
          "name": "stderr",
          "output_type": "stream",
          "text": [
            "Epoch 24/200: 100%|██████████| 49/49 [00:19<00:00,  2.53it/s, D_loss=1.141, G_loss=2.415, Hybrid=0.200] \n",
            "                                                                    \r"
          ]
        },
        {
          "name": "stdout",
          "output_type": "stream",
          "text": [
            "\n",
            "Validation @ Epoch 24:\n",
            "PSNR: 17.74 dB | SSIM: 0.7387 | LPIPS: 0.3553 | Hybrid: 0.1525\n"
          ]
        },
        {
          "name": "stderr",
          "output_type": "stream",
          "text": [
            "Epoch 25/200: 100%|██████████| 49/49 [00:20<00:00,  2.45it/s, D_loss=1.461, G_loss=2.457, Hybrid=0.195] \n",
            "                                                                    \r"
          ]
        },
        {
          "name": "stdout",
          "output_type": "stream",
          "text": [
            "\n",
            "Validation @ Epoch 25:\n",
            "PSNR: 17.61 dB | SSIM: 0.7368 | LPIPS: 0.3518 | Hybrid: 0.1624\n"
          ]
        },
        {
          "name": "stderr",
          "output_type": "stream",
          "text": [
            "Epoch 26/200: 100%|██████████| 49/49 [00:19<00:00,  2.53it/s, D_loss=1.715, G_loss=2.217, Hybrid=0.211] \n",
            "                                                                    \r"
          ]
        },
        {
          "name": "stdout",
          "output_type": "stream",
          "text": [
            "\n",
            "Validation @ Epoch 26:\n",
            "PSNR: 17.47 dB | SSIM: 0.7412 | LPIPS: 0.3504 | Hybrid: 0.1593\n"
          ]
        },
        {
          "name": "stderr",
          "output_type": "stream",
          "text": [
            "Epoch 27/200: 100%|██████████| 49/49 [00:19<00:00,  2.53it/s, D_loss=1.617, G_loss=1.946, Hybrid=0.210] \n",
            "                                                                    \r"
          ]
        },
        {
          "name": "stdout",
          "output_type": "stream",
          "text": [
            "\n",
            "Validation @ Epoch 27:\n",
            "PSNR: 17.52 dB | SSIM: 0.7459 | LPIPS: 0.3452 | Hybrid: 0.1612\n"
          ]
        },
        {
          "name": "stderr",
          "output_type": "stream",
          "text": [
            "Epoch 28/200: 100%|██████████| 49/49 [00:19<00:00,  2.53it/s, D_loss=0.856, G_loss=1.632, Hybrid=0.181] \n",
            "                                                                    \r"
          ]
        },
        {
          "name": "stdout",
          "output_type": "stream",
          "text": [
            "\n",
            "Validation @ Epoch 28:\n",
            "PSNR: 17.78 dB | SSIM: 0.7520 | LPIPS: 0.3394 | Hybrid: 0.1465\n"
          ]
        },
        {
          "name": "stderr",
          "output_type": "stream",
          "text": [
            "Epoch 29/200: 100%|██████████| 49/49 [00:19<00:00,  2.53it/s, D_loss=0.963, G_loss=2.134, Hybrid=0.161]\n",
            "                                                                    \r"
          ]
        },
        {
          "name": "stdout",
          "output_type": "stream",
          "text": [
            "\n",
            "Validation @ Epoch 29:\n",
            "PSNR: 17.85 dB | SSIM: 0.7542 | LPIPS: 0.3370 | Hybrid: 0.1511\n"
          ]
        },
        {
          "name": "stderr",
          "output_type": "stream",
          "text": [
            "Epoch 30/200: 100%|██████████| 49/49 [00:19<00:00,  2.52it/s, D_loss=9.039, G_loss=2.192, Hybrid=0.227]\n",
            "                                                                    \r"
          ]
        },
        {
          "name": "stdout",
          "output_type": "stream",
          "text": [
            "\n",
            "Validation @ Epoch 30:\n",
            "PSNR: 17.79 dB | SSIM: 0.7591 | LPIPS: 0.3365 | Hybrid: 0.1478\n"
          ]
        },
        {
          "name": "stderr",
          "output_type": "stream",
          "text": [
            "Epoch 31/200: 100%|██████████| 49/49 [00:19<00:00,  2.53it/s, D_loss=0.900, G_loss=2.096, Hybrid=0.146]\n",
            "                                                                    \r"
          ]
        },
        {
          "name": "stdout",
          "output_type": "stream",
          "text": [
            "\n",
            "Validation @ Epoch 31:\n",
            "PSNR: 17.80 dB | SSIM: 0.7565 | LPIPS: 0.3336 | Hybrid: 0.1495\n"
          ]
        },
        {
          "name": "stderr",
          "output_type": "stream",
          "text": [
            "Epoch 32/200: 100%|██████████| 49/49 [00:19<00:00,  2.53it/s, D_loss=0.787, G_loss=1.856, Hybrid=0.200] \n",
            "                                                                    \r"
          ]
        },
        {
          "name": "stdout",
          "output_type": "stream",
          "text": [
            "\n",
            "Validation @ Epoch 32:\n",
            "PSNR: 17.99 dB | SSIM: 0.7622 | LPIPS: 0.3318 | Hybrid: 0.1508\n"
          ]
        },
        {
          "name": "stderr",
          "output_type": "stream",
          "text": [
            "Epoch 33/200: 100%|██████████| 49/49 [00:19<00:00,  2.53it/s, D_loss=1.322, G_loss=1.458, Hybrid=0.139]\n",
            "                                                                    \r"
          ]
        },
        {
          "name": "stdout",
          "output_type": "stream",
          "text": [
            "\n",
            "Validation @ Epoch 33:\n",
            "PSNR: 17.78 dB | SSIM: 0.7651 | LPIPS: 0.3286 | Hybrid: 0.1410\n"
          ]
        },
        {
          "name": "stderr",
          "output_type": "stream",
          "text": [
            "Epoch 34/200: 100%|██████████| 49/49 [00:19<00:00,  2.53it/s, D_loss=0.710, G_loss=1.682, Hybrid=0.179]\n",
            "                                                                    \r"
          ]
        },
        {
          "name": "stdout",
          "output_type": "stream",
          "text": [
            "\n",
            "Validation @ Epoch 34:\n",
            "PSNR: 17.78 dB | SSIM: 0.7642 | LPIPS: 0.3277 | Hybrid: 0.1510\n"
          ]
        },
        {
          "name": "stderr",
          "output_type": "stream",
          "text": [
            "Epoch 35/200: 100%|██████████| 49/49 [00:19<00:00,  2.53it/s, D_loss=0.771, G_loss=1.523, Hybrid=0.152]\n",
            "                                                                    \r"
          ]
        },
        {
          "name": "stdout",
          "output_type": "stream",
          "text": [
            "\n",
            "Validation @ Epoch 35:\n",
            "PSNR: 17.81 dB | SSIM: 0.7701 | LPIPS: 0.3249 | Hybrid: 0.1484\n"
          ]
        },
        {
          "name": "stderr",
          "output_type": "stream",
          "text": [
            "Epoch 36/200: 100%|██████████| 49/49 [00:19<00:00,  2.53it/s, D_loss=2.288, G_loss=1.767, Hybrid=0.168]\n",
            "                                                                    \r"
          ]
        },
        {
          "name": "stdout",
          "output_type": "stream",
          "text": [
            "\n",
            "Validation @ Epoch 36:\n",
            "PSNR: 17.80 dB | SSIM: 0.7698 | LPIPS: 0.3232 | Hybrid: 0.1484\n"
          ]
        },
        {
          "name": "stderr",
          "output_type": "stream",
          "text": [
            "Epoch 37/200: 100%|██████████| 49/49 [00:19<00:00,  2.53it/s, D_loss=10.024, G_loss=1.811, Hybrid=0.173]\n",
            "                                                                    \r"
          ]
        },
        {
          "name": "stdout",
          "output_type": "stream",
          "text": [
            "\n",
            "Validation @ Epoch 37:\n",
            "PSNR: 18.10 dB | SSIM: 0.7786 | LPIPS: 0.3169 | Hybrid: 0.1440\n"
          ]
        },
        {
          "name": "stderr",
          "output_type": "stream",
          "text": [
            "Epoch 38/200: 100%|██████████| 49/49 [00:19<00:00,  2.53it/s, D_loss=0.723, G_loss=1.516, Hybrid=0.157] \n",
            "                                                                    \r"
          ]
        },
        {
          "name": "stdout",
          "output_type": "stream",
          "text": [
            "\n",
            "Validation @ Epoch 38:\n",
            "PSNR: 18.00 dB | SSIM: 0.7759 | LPIPS: 0.3197 | Hybrid: 0.1457\n"
          ]
        },
        {
          "name": "stderr",
          "output_type": "stream",
          "text": [
            "Epoch 39/200: 100%|██████████| 49/49 [00:19<00:00,  2.53it/s, D_loss=0.893, G_loss=1.979, Hybrid=0.166]\n",
            "                                                                    \r"
          ]
        },
        {
          "name": "stdout",
          "output_type": "stream",
          "text": [
            "\n",
            "Validation @ Epoch 39:\n",
            "PSNR: 17.62 dB | SSIM: 0.7729 | LPIPS: 0.3138 | Hybrid: 0.1338\n"
          ]
        },
        {
          "name": "stderr",
          "output_type": "stream",
          "text": [
            "Epoch 40/200: 100%|██████████| 49/49 [00:19<00:00,  2.53it/s, D_loss=4.034, G_loss=2.016, Hybrid=0.196]\n",
            "                                                                    \r"
          ]
        },
        {
          "name": "stdout",
          "output_type": "stream",
          "text": [
            "\n",
            "Validation @ Epoch 40:\n",
            "PSNR: 18.02 dB | SSIM: 0.7812 | LPIPS: 0.3115 | Hybrid: 0.1379\n"
          ]
        },
        {
          "name": "stderr",
          "output_type": "stream",
          "text": [
            "Epoch 41/200: 100%|██████████| 49/49 [00:19<00:00,  2.53it/s, D_loss=0.736, G_loss=1.617, Hybrid=0.156]\n",
            "                                                                    \r"
          ]
        },
        {
          "name": "stdout",
          "output_type": "stream",
          "text": [
            "\n",
            "Validation @ Epoch 41:\n",
            "PSNR: 17.96 dB | SSIM: 0.7803 | LPIPS: 0.3143 | Hybrid: 0.1411\n"
          ]
        },
        {
          "name": "stderr",
          "output_type": "stream",
          "text": [
            "Epoch 42/200: 100%|██████████| 49/49 [00:19<00:00,  2.53it/s, D_loss=0.814, G_loss=1.953, Hybrid=0.192]\n",
            "                                                                    \r"
          ]
        },
        {
          "name": "stdout",
          "output_type": "stream",
          "text": [
            "\n",
            "Validation @ Epoch 42:\n",
            "PSNR: 17.96 dB | SSIM: 0.7830 | LPIPS: 0.3097 | Hybrid: 0.1440\n"
          ]
        },
        {
          "name": "stderr",
          "output_type": "stream",
          "text": [
            "Epoch 43/200: 100%|██████████| 49/49 [00:19<00:00,  2.53it/s, D_loss=0.887, G_loss=1.499, Hybrid=0.102]\n",
            "                                                                    \r"
          ]
        },
        {
          "name": "stdout",
          "output_type": "stream",
          "text": [
            "\n",
            "Validation @ Epoch 43:\n",
            "PSNR: 18.17 dB | SSIM: 0.7888 | LPIPS: 0.3080 | Hybrid: 0.1396\n"
          ]
        },
        {
          "name": "stderr",
          "output_type": "stream",
          "text": [
            "Epoch 44/200: 100%|██████████| 49/49 [00:19<00:00,  2.50it/s, D_loss=0.796, G_loss=1.549, Hybrid=0.135]\n",
            "                                                                    \r"
          ]
        },
        {
          "name": "stdout",
          "output_type": "stream",
          "text": [
            "\n",
            "Validation @ Epoch 44:\n",
            "PSNR: 17.85 dB | SSIM: 0.7841 | LPIPS: 0.3095 | Hybrid: 0.1481\n"
          ]
        },
        {
          "name": "stderr",
          "output_type": "stream",
          "text": [
            "Epoch 45/200: 100%|██████████| 49/49 [00:19<00:00,  2.53it/s, D_loss=1.127, G_loss=1.802, Hybrid=0.174]\n",
            "                                                                    \r"
          ]
        },
        {
          "name": "stdout",
          "output_type": "stream",
          "text": [
            "\n",
            "Validation @ Epoch 45:\n",
            "PSNR: 18.08 dB | SSIM: 0.7899 | LPIPS: 0.3065 | Hybrid: 0.1455\n"
          ]
        },
        {
          "name": "stderr",
          "output_type": "stream",
          "text": [
            "Epoch 46/200: 100%|██████████| 49/49 [00:19<00:00,  2.53it/s, D_loss=0.830, G_loss=1.842, Hybrid=0.123]\n",
            "                                                                    \r"
          ]
        },
        {
          "name": "stdout",
          "output_type": "stream",
          "text": [
            "\n",
            "Validation @ Epoch 46:\n",
            "PSNR: 18.02 dB | SSIM: 0.7899 | LPIPS: 0.3023 | Hybrid: 0.1304\n"
          ]
        },
        {
          "name": "stderr",
          "output_type": "stream",
          "text": [
            "Epoch 47/200: 100%|██████████| 49/49 [00:19<00:00,  2.53it/s, D_loss=1.007, G_loss=2.074, Hybrid=0.230]\n",
            "                                                                    \r"
          ]
        },
        {
          "name": "stdout",
          "output_type": "stream",
          "text": [
            "\n",
            "Validation @ Epoch 47:\n",
            "PSNR: 18.33 dB | SSIM: 0.7954 | LPIPS: 0.3023 | Hybrid: 0.1422\n"
          ]
        },
        {
          "name": "stderr",
          "output_type": "stream",
          "text": [
            "Epoch 48/200: 100%|██████████| 49/49 [00:19<00:00,  2.53it/s, D_loss=0.831, G_loss=2.174, Hybrid=0.139]\n",
            "                                                                    \r"
          ]
        },
        {
          "name": "stdout",
          "output_type": "stream",
          "text": [
            "\n",
            "Validation @ Epoch 48:\n",
            "PSNR: 18.26 dB | SSIM: 0.7972 | LPIPS: 0.2996 | Hybrid: 0.1397\n"
          ]
        },
        {
          "name": "stderr",
          "output_type": "stream",
          "text": [
            "Epoch 49/200: 100%|██████████| 49/49 [00:19<00:00,  2.53it/s, D_loss=0.751, G_loss=1.920, Hybrid=0.200]\n",
            "                                                                    \r"
          ]
        },
        {
          "name": "stdout",
          "output_type": "stream",
          "text": [
            "\n",
            "Validation @ Epoch 49:\n",
            "PSNR: 18.33 dB | SSIM: 0.7988 | LPIPS: 0.3037 | Hybrid: 0.1367\n"
          ]
        },
        {
          "name": "stderr",
          "output_type": "stream",
          "text": [
            "Epoch 50/200: 100%|██████████| 49/49 [00:19<00:00,  2.53it/s, D_loss=0.800, G_loss=1.824, Hybrid=0.124]\n",
            "                                                                    \r"
          ]
        },
        {
          "name": "stdout",
          "output_type": "stream",
          "text": [
            "\n",
            "Validation @ Epoch 50:\n",
            "PSNR: 18.04 dB | SSIM: 0.7983 | LPIPS: 0.2980 | Hybrid: 0.1313\n"
          ]
        },
        {
          "name": "stderr",
          "output_type": "stream",
          "text": [
            "Epoch 51/200: 100%|██████████| 49/49 [00:19<00:00,  2.53it/s, D_loss=0.866, G_loss=1.298, Hybrid=0.132]\n",
            "                                                                    \r"
          ]
        },
        {
          "name": "stdout",
          "output_type": "stream",
          "text": [
            "\n",
            "Validation @ Epoch 51:\n",
            "PSNR: 18.17 dB | SSIM: 0.7962 | LPIPS: 0.3021 | Hybrid: 0.1521\n"
          ]
        },
        {
          "name": "stderr",
          "output_type": "stream",
          "text": [
            "Epoch 52/200: 100%|██████████| 49/49 [00:19<00:00,  2.53it/s, D_loss=0.802, G_loss=1.636, Hybrid=0.127]\n",
            "                                                                    \r"
          ]
        },
        {
          "name": "stdout",
          "output_type": "stream",
          "text": [
            "\n",
            "Validation @ Epoch 52:\n",
            "PSNR: 18.06 dB | SSIM: 0.7976 | LPIPS: 0.2950 | Hybrid: 0.1363\n"
          ]
        },
        {
          "name": "stderr",
          "output_type": "stream",
          "text": [
            "Epoch 53/200: 100%|██████████| 49/49 [00:19<00:00,  2.53it/s, D_loss=0.795, G_loss=1.614, Hybrid=0.152]\n",
            "                                                                    \r"
          ]
        },
        {
          "name": "stdout",
          "output_type": "stream",
          "text": [
            "\n",
            "Validation @ Epoch 53:\n",
            "PSNR: 18.20 dB | SSIM: 0.8006 | LPIPS: 0.2999 | Hybrid: 0.1409\n"
          ]
        },
        {
          "name": "stderr",
          "output_type": "stream",
          "text": [
            "Epoch 54/200: 100%|██████████| 49/49 [00:19<00:00,  2.53it/s, D_loss=0.724, G_loss=1.772, Hybrid=0.133]\n",
            "                                                                    \r"
          ]
        },
        {
          "name": "stdout",
          "output_type": "stream",
          "text": [
            "\n",
            "Validation @ Epoch 54:\n",
            "PSNR: 18.11 dB | SSIM: 0.8013 | LPIPS: 0.2962 | Hybrid: 0.1464\n"
          ]
        },
        {
          "name": "stderr",
          "output_type": "stream",
          "text": [
            "Epoch 55/200: 100%|██████████| 49/49 [00:19<00:00,  2.53it/s, D_loss=0.705, G_loss=1.347, Hybrid=0.126]\n",
            "                                                                    \r"
          ]
        },
        {
          "name": "stdout",
          "output_type": "stream",
          "text": [
            "\n",
            "Validation @ Epoch 55:\n",
            "PSNR: 18.16 dB | SSIM: 0.8035 | LPIPS: 0.2946 | Hybrid: 0.1424\n"
          ]
        },
        {
          "name": "stderr",
          "output_type": "stream",
          "text": [
            "Epoch 56/200: 100%|██████████| 49/49 [00:19<00:00,  2.53it/s, D_loss=37.750, G_loss=2.383, Hybrid=0.200] \n",
            "                                                                    \r"
          ]
        },
        {
          "name": "stdout",
          "output_type": "stream",
          "text": [
            "\n",
            "Validation @ Epoch 56:\n",
            "PSNR: 18.27 dB | SSIM: 0.8058 | LPIPS: 0.2910 | Hybrid: 0.1380\n"
          ]
        },
        {
          "name": "stderr",
          "output_type": "stream",
          "text": [
            "Epoch 57/200: 100%|██████████| 49/49 [00:19<00:00,  2.53it/s, D_loss=3.516, G_loss=1.922, Hybrid=0.185]\n",
            "                                                                    \r"
          ]
        },
        {
          "name": "stdout",
          "output_type": "stream",
          "text": [
            "\n",
            "Validation @ Epoch 57:\n",
            "PSNR: 18.28 dB | SSIM: 0.8068 | LPIPS: 0.2929 | Hybrid: 0.1328\n"
          ]
        },
        {
          "name": "stderr",
          "output_type": "stream",
          "text": [
            "Epoch 58/200: 100%|██████████| 49/49 [00:19<00:00,  2.53it/s, D_loss=3.670, G_loss=2.469, Hybrid=0.224]\n",
            "                                                                    \r"
          ]
        },
        {
          "name": "stdout",
          "output_type": "stream",
          "text": [
            "\n",
            "Validation @ Epoch 58:\n",
            "PSNR: 17.82 dB | SSIM: 0.7983 | LPIPS: 0.2944 | Hybrid: 0.1281\n"
          ]
        },
        {
          "name": "stderr",
          "output_type": "stream",
          "text": [
            "Epoch 59/200: 100%|██████████| 49/49 [00:19<00:00,  2.53it/s, D_loss=0.806, G_loss=1.970, Hybrid=0.193]\n",
            "                                                                    \r"
          ]
        },
        {
          "name": "stdout",
          "output_type": "stream",
          "text": [
            "\n",
            "Validation @ Epoch 59:\n",
            "PSNR: 18.44 dB | SSIM: 0.8120 | LPIPS: 0.2888 | Hybrid: 0.1366\n"
          ]
        },
        {
          "name": "stderr",
          "output_type": "stream",
          "text": [
            "Epoch 60/200: 100%|██████████| 49/49 [00:19<00:00,  2.53it/s, D_loss=0.974, G_loss=1.848, Hybrid=0.114]\n",
            "                                                                    \r"
          ]
        },
        {
          "name": "stdout",
          "output_type": "stream",
          "text": [
            "\n",
            "Validation @ Epoch 60:\n",
            "PSNR: 17.73 dB | SSIM: 0.7990 | LPIPS: 0.2881 | Hybrid: 0.1327\n"
          ]
        },
        {
          "name": "stderr",
          "output_type": "stream",
          "text": [
            "Epoch 61/200: 100%|██████████| 49/49 [00:19<00:00,  2.53it/s, D_loss=0.773, G_loss=1.663, Hybrid=0.119]\n",
            "                                                                    \r"
          ]
        },
        {
          "name": "stdout",
          "output_type": "stream",
          "text": [
            "\n",
            "Validation @ Epoch 61:\n",
            "PSNR: 18.35 dB | SSIM: 0.8102 | LPIPS: 0.2886 | Hybrid: 0.1351\n"
          ]
        },
        {
          "name": "stderr",
          "output_type": "stream",
          "text": [
            "Epoch 62/200: 100%|██████████| 49/49 [00:19<00:00,  2.53it/s, D_loss=0.788, G_loss=1.854, Hybrid=0.162]\n",
            "                                                                    \r"
          ]
        },
        {
          "name": "stdout",
          "output_type": "stream",
          "text": [
            "\n",
            "Validation @ Epoch 62:\n",
            "PSNR: 17.94 dB | SSIM: 0.8026 | LPIPS: 0.2890 | Hybrid: 0.1390\n"
          ]
        },
        {
          "name": "stderr",
          "output_type": "stream",
          "text": [
            "Epoch 63/200: 100%|██████████| 49/49 [00:19<00:00,  2.53it/s, D_loss=1.000, G_loss=1.730, Hybrid=0.156]\n",
            "                                                                    \r"
          ]
        },
        {
          "name": "stdout",
          "output_type": "stream",
          "text": [
            "\n",
            "Validation @ Epoch 63:\n",
            "PSNR: 18.40 dB | SSIM: 0.8094 | LPIPS: 0.2882 | Hybrid: 0.1425\n"
          ]
        },
        {
          "name": "stderr",
          "output_type": "stream",
          "text": [
            "Epoch 64/200: 100%|██████████| 49/49 [00:19<00:00,  2.53it/s, D_loss=1.580, G_loss=1.777, Hybrid=0.152]\n",
            "                                                                    \r"
          ]
        },
        {
          "name": "stdout",
          "output_type": "stream",
          "text": [
            "\n",
            "Validation @ Epoch 64:\n",
            "PSNR: 18.30 dB | SSIM: 0.8106 | LPIPS: 0.2845 | Hybrid: 0.1334\n"
          ]
        },
        {
          "name": "stderr",
          "output_type": "stream",
          "text": [
            "Epoch 65/200: 100%|██████████| 49/49 [00:19<00:00,  2.53it/s, D_loss=0.742, G_loss=1.674, Hybrid=0.165]\n",
            "                                                                    \r"
          ]
        },
        {
          "name": "stdout",
          "output_type": "stream",
          "text": [
            "\n",
            "Validation @ Epoch 65:\n",
            "PSNR: 18.51 dB | SSIM: 0.8151 | LPIPS: 0.2801 | Hybrid: 0.1322\n"
          ]
        },
        {
          "name": "stderr",
          "output_type": "stream",
          "text": [
            "Epoch 66/200: 100%|██████████| 49/49 [00:19<00:00,  2.53it/s, D_loss=0.724, G_loss=1.803, Hybrid=0.145]\n",
            "                                                                    \r"
          ]
        },
        {
          "name": "stdout",
          "output_type": "stream",
          "text": [
            "\n",
            "Validation @ Epoch 66:\n",
            "PSNR: 18.36 dB | SSIM: 0.8147 | LPIPS: 0.2833 | Hybrid: 0.1331\n"
          ]
        },
        {
          "name": "stderr",
          "output_type": "stream",
          "text": [
            "Epoch 67/200: 100%|██████████| 49/49 [00:19<00:00,  2.53it/s, D_loss=0.723, G_loss=2.214, Hybrid=0.155]\n",
            "                                                                    \r"
          ]
        },
        {
          "name": "stdout",
          "output_type": "stream",
          "text": [
            "\n",
            "Validation @ Epoch 67:\n",
            "PSNR: 18.28 dB | SSIM: 0.8162 | LPIPS: 0.2810 | Hybrid: 0.1354\n"
          ]
        },
        {
          "name": "stderr",
          "output_type": "stream",
          "text": [
            "Epoch 68/200: 100%|██████████| 49/49 [00:19<00:00,  2.53it/s, D_loss=0.734, G_loss=1.480, Hybrid=0.143]\n",
            "                                                                    \r"
          ]
        },
        {
          "name": "stdout",
          "output_type": "stream",
          "text": [
            "\n",
            "Validation @ Epoch 68:\n",
            "PSNR: 18.04 dB | SSIM: 0.8128 | LPIPS: 0.2806 | Hybrid: 0.1356\n"
          ]
        },
        {
          "name": "stderr",
          "output_type": "stream",
          "text": [
            "Epoch 69/200: 100%|██████████| 49/49 [00:19<00:00,  2.53it/s, D_loss=0.966, G_loss=1.726, Hybrid=0.141]\n",
            "                                                                    \r"
          ]
        },
        {
          "name": "stdout",
          "output_type": "stream",
          "text": [
            "\n",
            "Validation @ Epoch 69:\n",
            "PSNR: 18.69 dB | SSIM: 0.8143 | LPIPS: 0.2830 | Hybrid: 0.1411\n"
          ]
        },
        {
          "name": "stderr",
          "output_type": "stream",
          "text": [
            "Epoch 70/200: 100%|██████████| 49/49 [00:19<00:00,  2.53it/s, D_loss=0.708, G_loss=1.579, Hybrid=0.153]\n",
            "                                                                    \r"
          ]
        },
        {
          "name": "stdout",
          "output_type": "stream",
          "text": [
            "\n",
            "Validation @ Epoch 70:\n",
            "PSNR: 18.50 dB | SSIM: 0.8109 | LPIPS: 0.2806 | Hybrid: 0.1454\n"
          ]
        },
        {
          "name": "stderr",
          "output_type": "stream",
          "text": [
            "Epoch 71/200: 100%|██████████| 49/49 [00:19<00:00,  2.53it/s, D_loss=0.755, G_loss=1.643, Hybrid=0.157]\n",
            "                                                                    \r"
          ]
        },
        {
          "name": "stdout",
          "output_type": "stream",
          "text": [
            "\n",
            "Validation @ Epoch 71:\n",
            "PSNR: 18.58 dB | SSIM: 0.8194 | LPIPS: 0.2758 | Hybrid: 0.1358\n"
          ]
        },
        {
          "name": "stderr",
          "output_type": "stream",
          "text": [
            "Epoch 72/200: 100%|██████████| 49/49 [00:19<00:00,  2.53it/s, D_loss=0.721, G_loss=1.368, Hybrid=0.125]\n",
            "                                                                    \r"
          ]
        },
        {
          "name": "stdout",
          "output_type": "stream",
          "text": [
            "\n",
            "Validation @ Epoch 72:\n",
            "PSNR: 18.00 dB | SSIM: 0.8134 | LPIPS: 0.2765 | Hybrid: 0.1288\n"
          ]
        },
        {
          "name": "stderr",
          "output_type": "stream",
          "text": [
            "Epoch 73/200: 100%|██████████| 49/49 [00:19<00:00,  2.53it/s, D_loss=0.754, G_loss=1.660, Hybrid=0.158]\n",
            "                                                                    \r"
          ]
        },
        {
          "name": "stdout",
          "output_type": "stream",
          "text": [
            "\n",
            "Validation @ Epoch 73:\n",
            "PSNR: 18.54 dB | SSIM: 0.8149 | LPIPS: 0.2838 | Hybrid: 0.1487\n"
          ]
        },
        {
          "name": "stderr",
          "output_type": "stream",
          "text": [
            "Epoch 74/200: 100%|██████████| 49/49 [00:19<00:00,  2.53it/s, D_loss=0.810, G_loss=2.041, Hybrid=0.183]\n",
            "                                                                    \r"
          ]
        },
        {
          "name": "stdout",
          "output_type": "stream",
          "text": [
            "\n",
            "Validation @ Epoch 74:\n",
            "PSNR: 18.47 dB | SSIM: 0.8203 | LPIPS: 0.2717 | Hybrid: 0.1337\n"
          ]
        },
        {
          "name": "stderr",
          "output_type": "stream",
          "text": [
            "Epoch 75/200: 100%|██████████| 49/49 [00:19<00:00,  2.53it/s, D_loss=0.816, G_loss=2.107, Hybrid=0.169]\n",
            "                                                                    \r"
          ]
        },
        {
          "name": "stdout",
          "output_type": "stream",
          "text": [
            "\n",
            "Validation @ Epoch 75:\n",
            "PSNR: 18.63 dB | SSIM: 0.8239 | LPIPS: 0.2749 | Hybrid: 0.1365\n"
          ]
        },
        {
          "name": "stderr",
          "output_type": "stream",
          "text": [
            "Epoch 76/200: 100%|██████████| 49/49 [00:19<00:00,  2.53it/s, D_loss=0.783, G_loss=1.829, Hybrid=0.124]\n",
            "                                                                    \r"
          ]
        },
        {
          "name": "stdout",
          "output_type": "stream",
          "text": [
            "\n",
            "Validation @ Epoch 76:\n",
            "PSNR: 18.43 dB | SSIM: 0.8217 | LPIPS: 0.2722 | Hybrid: 0.1337\n"
          ]
        },
        {
          "name": "stderr",
          "output_type": "stream",
          "text": [
            "Epoch 77/200: 100%|██████████| 49/49 [00:19<00:00,  2.52it/s, D_loss=0.733, G_loss=2.181, Hybrid=0.176]\n",
            "                                                                    \r"
          ]
        },
        {
          "name": "stdout",
          "output_type": "stream",
          "text": [
            "\n",
            "Validation @ Epoch 77:\n",
            "PSNR: 18.49 dB | SSIM: 0.8253 | LPIPS: 0.2703 | Hybrid: 0.1299\n"
          ]
        },
        {
          "name": "stderr",
          "output_type": "stream",
          "text": [
            "Epoch 78/200: 100%|██████████| 49/49 [00:19<00:00,  2.53it/s, D_loss=0.987, G_loss=2.167, Hybrid=0.195]\n",
            "                                                                    \r"
          ]
        },
        {
          "name": "stdout",
          "output_type": "stream",
          "text": [
            "\n",
            "Validation @ Epoch 78:\n",
            "PSNR: 18.43 dB | SSIM: 0.8220 | LPIPS: 0.2707 | Hybrid: 0.1324\n"
          ]
        },
        {
          "name": "stderr",
          "output_type": "stream",
          "text": [
            "Epoch 79/200: 100%|██████████| 49/49 [00:19<00:00,  2.53it/s, D_loss=0.725, G_loss=1.792, Hybrid=0.147]\n",
            "                                                                    \r"
          ]
        },
        {
          "name": "stdout",
          "output_type": "stream",
          "text": [
            "\n",
            "Validation @ Epoch 79:\n",
            "PSNR: 18.22 dB | SSIM: 0.8202 | LPIPS: 0.2758 | Hybrid: 0.1301\n"
          ]
        },
        {
          "name": "stderr",
          "output_type": "stream",
          "text": [
            "Epoch 80/200: 100%|██████████| 49/49 [00:19<00:00,  2.53it/s, D_loss=0.745, G_loss=2.202, Hybrid=0.209]\n",
            "                                                                    \r"
          ]
        },
        {
          "name": "stdout",
          "output_type": "stream",
          "text": [
            "\n",
            "Validation @ Epoch 80:\n",
            "PSNR: 18.41 dB | SSIM: 0.8238 | LPIPS: 0.2749 | Hybrid: 0.1301\n"
          ]
        },
        {
          "name": "stderr",
          "output_type": "stream",
          "text": [
            "Epoch 81/200: 100%|██████████| 49/49 [00:19<00:00,  2.53it/s, D_loss=0.849, G_loss=1.851, Hybrid=0.173]\n",
            "                                                                    \r"
          ]
        },
        {
          "name": "stdout",
          "output_type": "stream",
          "text": [
            "\n",
            "Validation @ Epoch 81:\n",
            "PSNR: 18.17 dB | SSIM: 0.8195 | LPIPS: 0.2714 | Hybrid: 0.1415\n"
          ]
        },
        {
          "name": "stderr",
          "output_type": "stream",
          "text": [
            "Epoch 82/200: 100%|██████████| 49/49 [00:19<00:00,  2.53it/s, D_loss=0.712, G_loss=1.620, Hybrid=0.153]\n",
            "                                                                    \r"
          ]
        },
        {
          "name": "stdout",
          "output_type": "stream",
          "text": [
            "\n",
            "Validation @ Epoch 82:\n",
            "PSNR: 18.59 dB | SSIM: 0.8244 | LPIPS: 0.2699 | Hybrid: 0.1409\n"
          ]
        },
        {
          "name": "stderr",
          "output_type": "stream",
          "text": [
            "Epoch 83/200: 100%|██████████| 49/49 [00:19<00:00,  2.53it/s, D_loss=0.752, G_loss=1.857, Hybrid=0.146]\n",
            "                                                                    \r"
          ]
        },
        {
          "name": "stdout",
          "output_type": "stream",
          "text": [
            "\n",
            "Validation @ Epoch 83:\n",
            "PSNR: 18.48 dB | SSIM: 0.8234 | LPIPS: 0.2717 | Hybrid: 0.1343\n"
          ]
        },
        {
          "name": "stderr",
          "output_type": "stream",
          "text": [
            "Epoch 84/200: 100%|██████████| 49/49 [00:19<00:00,  2.52it/s, D_loss=0.789, G_loss=2.106, Hybrid=0.167]\n",
            "                                                                    \r"
          ]
        },
        {
          "name": "stdout",
          "output_type": "stream",
          "text": [
            "\n",
            "Validation @ Epoch 84:\n",
            "PSNR: 18.39 dB | SSIM: 0.8206 | LPIPS: 0.2737 | Hybrid: 0.1450\n"
          ]
        },
        {
          "name": "stderr",
          "output_type": "stream",
          "text": [
            "Epoch 85/200: 100%|██████████| 49/49 [00:19<00:00,  2.53it/s, D_loss=0.732, G_loss=1.649, Hybrid=0.129]\n",
            "                                                                    \r"
          ]
        },
        {
          "name": "stdout",
          "output_type": "stream",
          "text": [
            "\n",
            "Validation @ Epoch 85:\n",
            "PSNR: 18.34 dB | SSIM: 0.8231 | LPIPS: 0.2651 | Hybrid: 0.1312\n"
          ]
        },
        {
          "name": "stderr",
          "output_type": "stream",
          "text": [
            "Epoch 86/200: 100%|██████████| 49/49 [00:19<00:00,  2.53it/s, D_loss=0.747, G_loss=1.989, Hybrid=0.169]\n",
            "                                                                    \r"
          ]
        },
        {
          "name": "stdout",
          "output_type": "stream",
          "text": [
            "\n",
            "Validation @ Epoch 86:\n",
            "PSNR: 18.47 dB | SSIM: 0.8269 | LPIPS: 0.2636 | Hybrid: 0.1341\n"
          ]
        },
        {
          "name": "stderr",
          "output_type": "stream",
          "text": [
            "Epoch 87/200: 100%|██████████| 49/49 [00:19<00:00,  2.53it/s, D_loss=0.797, G_loss=1.808, Hybrid=0.142]\n",
            "                                                                    \r"
          ]
        },
        {
          "name": "stdout",
          "output_type": "stream",
          "text": [
            "\n",
            "Validation @ Epoch 87:\n",
            "PSNR: 18.29 dB | SSIM: 0.8226 | LPIPS: 0.2642 | Hybrid: 0.1304\n"
          ]
        },
        {
          "name": "stderr",
          "output_type": "stream",
          "text": [
            "Epoch 88/200: 100%|██████████| 49/49 [00:19<00:00,  2.53it/s, D_loss=0.703, G_loss=1.611, Hybrid=0.165]\n",
            "                                                                    \r"
          ]
        },
        {
          "name": "stdout",
          "output_type": "stream",
          "text": [
            "\n",
            "Validation @ Epoch 88:\n",
            "PSNR: 18.46 dB | SSIM: 0.8272 | LPIPS: 0.2635 | Hybrid: 0.1290\n"
          ]
        },
        {
          "name": "stderr",
          "output_type": "stream",
          "text": [
            "Epoch 89/200: 100%|██████████| 49/49 [00:19<00:00,  2.53it/s, D_loss=0.735, G_loss=1.428, Hybrid=0.107]\n",
            "                                                                    \r"
          ]
        },
        {
          "name": "stdout",
          "output_type": "stream",
          "text": [
            "\n",
            "Validation @ Epoch 89:\n",
            "PSNR: 18.20 dB | SSIM: 0.8244 | LPIPS: 0.2635 | Hybrid: 0.1314\n"
          ]
        },
        {
          "name": "stderr",
          "output_type": "stream",
          "text": [
            "Epoch 90/200: 100%|██████████| 49/49 [00:19<00:00,  2.52it/s, D_loss=0.834, G_loss=1.797, Hybrid=0.144]\n",
            "                                                                    \r"
          ]
        },
        {
          "name": "stdout",
          "output_type": "stream",
          "text": [
            "\n",
            "Validation @ Epoch 90:\n",
            "PSNR: 18.30 dB | SSIM: 0.8265 | LPIPS: 0.2651 | Hybrid: 0.1358\n"
          ]
        },
        {
          "name": "stderr",
          "output_type": "stream",
          "text": [
            "Epoch 91/200: 100%|██████████| 49/49 [00:19<00:00,  2.53it/s, D_loss=0.749, G_loss=1.601, Hybrid=0.134]\n",
            "                                                                    \r"
          ]
        },
        {
          "name": "stdout",
          "output_type": "stream",
          "text": [
            "\n",
            "Validation @ Epoch 91:\n",
            "PSNR: 18.31 dB | SSIM: 0.8245 | LPIPS: 0.2660 | Hybrid: 0.1390\n"
          ]
        },
        {
          "name": "stderr",
          "output_type": "stream",
          "text": [
            "Epoch 92/200: 100%|██████████| 49/49 [00:19<00:00,  2.53it/s, D_loss=0.793, G_loss=1.633, Hybrid=0.161]\n",
            "                                                                    \r"
          ]
        },
        {
          "name": "stdout",
          "output_type": "stream",
          "text": [
            "\n",
            "Validation @ Epoch 92:\n",
            "PSNR: 18.52 dB | SSIM: 0.8327 | LPIPS: 0.2585 | Hybrid: 0.1306\n"
          ]
        },
        {
          "name": "stderr",
          "output_type": "stream",
          "text": [
            "Epoch 93/200: 100%|██████████| 49/49 [00:19<00:00,  2.53it/s, D_loss=0.742, G_loss=1.664, Hybrid=0.154]\n",
            "                                                                    \r"
          ]
        },
        {
          "name": "stdout",
          "output_type": "stream",
          "text": [
            "\n",
            "Validation @ Epoch 93:\n",
            "PSNR: 18.55 dB | SSIM: 0.8316 | LPIPS: 0.2589 | Hybrid: 0.1328\n"
          ]
        },
        {
          "name": "stderr",
          "output_type": "stream",
          "text": [
            "Epoch 94/200: 100%|██████████| 49/49 [00:19<00:00,  2.53it/s, D_loss=0.716, G_loss=1.467, Hybrid=0.126]\n",
            "                                                                    \r"
          ]
        },
        {
          "name": "stdout",
          "output_type": "stream",
          "text": [
            "\n",
            "Validation @ Epoch 94:\n",
            "PSNR: 18.68 dB | SSIM: 0.8314 | LPIPS: 0.2595 | Hybrid: 0.1312\n"
          ]
        },
        {
          "name": "stderr",
          "output_type": "stream",
          "text": [
            "Epoch 95/200: 100%|██████████| 49/49 [00:19<00:00,  2.53it/s, D_loss=0.722, G_loss=1.856, Hybrid=0.164]\n",
            "                                                                    \r"
          ]
        },
        {
          "name": "stdout",
          "output_type": "stream",
          "text": [
            "\n",
            "Validation @ Epoch 95:\n",
            "PSNR: 18.65 dB | SSIM: 0.8263 | LPIPS: 0.2650 | Hybrid: 0.1425\n"
          ]
        },
        {
          "name": "stderr",
          "output_type": "stream",
          "text": [
            "Epoch 96/200: 100%|██████████| 49/49 [00:19<00:00,  2.53it/s, D_loss=0.716, G_loss=1.509, Hybrid=0.128]\n",
            "                                                                    \r"
          ]
        },
        {
          "name": "stdout",
          "output_type": "stream",
          "text": [
            "\n",
            "Validation @ Epoch 96:\n",
            "PSNR: 18.30 dB | SSIM: 0.8287 | LPIPS: 0.2571 | Hybrid: 0.1393\n"
          ]
        },
        {
          "name": "stderr",
          "output_type": "stream",
          "text": [
            "Epoch 97/200: 100%|██████████| 49/49 [00:19<00:00,  2.53it/s, D_loss=0.708, G_loss=1.818, Hybrid=0.194]\n",
            "                                                                    \r"
          ]
        },
        {
          "name": "stdout",
          "output_type": "stream",
          "text": [
            "\n",
            "Validation @ Epoch 97:\n",
            "PSNR: 18.66 dB | SSIM: 0.8367 | LPIPS: 0.2580 | Hybrid: 0.1340\n"
          ]
        },
        {
          "name": "stderr",
          "output_type": "stream",
          "text": [
            "Epoch 98/200: 100%|██████████| 49/49 [00:19<00:00,  2.53it/s, D_loss=0.734, G_loss=1.642, Hybrid=0.149]\n",
            "                                                                    \r"
          ]
        },
        {
          "name": "stdout",
          "output_type": "stream",
          "text": [
            "\n",
            "Validation @ Epoch 98:\n",
            "PSNR: 18.60 dB | SSIM: 0.8304 | LPIPS: 0.2612 | Hybrid: 0.1397\n"
          ]
        },
        {
          "name": "stderr",
          "output_type": "stream",
          "text": [
            "Epoch 99/200: 100%|██████████| 49/49 [00:19<00:00,  2.53it/s, D_loss=0.715, G_loss=1.951, Hybrid=0.140]\n",
            "                                                                    \r"
          ]
        },
        {
          "name": "stdout",
          "output_type": "stream",
          "text": [
            "\n",
            "Validation @ Epoch 99:\n",
            "PSNR: 18.29 dB | SSIM: 0.8347 | LPIPS: 0.2569 | Hybrid: 0.1391\n"
          ]
        },
        {
          "name": "stderr",
          "output_type": "stream",
          "text": [
            "Epoch 100/200: 100%|██████████| 49/49 [00:19<00:00,  2.53it/s, D_loss=0.743, G_loss=1.724, Hybrid=0.134]\n",
            "                                                                     \r"
          ]
        },
        {
          "name": "stdout",
          "output_type": "stream",
          "text": [
            "\n",
            "Validation @ Epoch 100:\n",
            "PSNR: 18.67 dB | SSIM: 0.8341 | LPIPS: 0.2580 | Hybrid: 0.1418\n"
          ]
        },
        {
          "name": "stderr",
          "output_type": "stream",
          "text": [
            "Epoch 101/200: 100%|██████████| 49/49 [00:19<00:00,  2.53it/s, D_loss=0.871, G_loss=1.602, Hybrid=0.162]\n",
            "                                                                     \r"
          ]
        },
        {
          "name": "stdout",
          "output_type": "stream",
          "text": [
            "\n",
            "Validation @ Epoch 101:\n",
            "PSNR: 18.45 dB | SSIM: 0.8324 | LPIPS: 0.2570 | Hybrid: 0.1384\n"
          ]
        },
        {
          "name": "stderr",
          "output_type": "stream",
          "text": [
            "Epoch 102/200: 100%|██████████| 49/49 [00:19<00:00,  2.52it/s, D_loss=0.715, G_loss=1.805, Hybrid=0.196]\n",
            "                                                                     \r"
          ]
        },
        {
          "name": "stdout",
          "output_type": "stream",
          "text": [
            "\n",
            "Validation @ Epoch 102:\n",
            "PSNR: 18.72 dB | SSIM: 0.8374 | LPIPS: 0.2557 | Hybrid: 0.1298\n"
          ]
        },
        {
          "name": "stderr",
          "output_type": "stream",
          "text": [
            "Epoch 103/200: 100%|██████████| 49/49 [00:19<00:00,  2.53it/s, D_loss=0.706, G_loss=1.506, Hybrid=0.126]\n",
            "                                                                     \r"
          ]
        },
        {
          "name": "stdout",
          "output_type": "stream",
          "text": [
            "\n",
            "Validation @ Epoch 103:\n",
            "PSNR: 18.54 dB | SSIM: 0.8375 | LPIPS: 0.2563 | Hybrid: 0.1379\n"
          ]
        },
        {
          "name": "stderr",
          "output_type": "stream",
          "text": [
            "Epoch 104/200: 100%|██████████| 49/49 [00:19<00:00,  2.53it/s, D_loss=0.773, G_loss=1.976, Hybrid=0.135]\n",
            "                                                                     \r"
          ]
        },
        {
          "name": "stdout",
          "output_type": "stream",
          "text": [
            "\n",
            "Validation @ Epoch 104:\n",
            "PSNR: 18.47 dB | SSIM: 0.8350 | LPIPS: 0.2523 | Hybrid: 0.1341\n"
          ]
        },
        {
          "name": "stderr",
          "output_type": "stream",
          "text": [
            "Epoch 105/200: 100%|██████████| 49/49 [00:19<00:00,  2.53it/s, D_loss=0.748, G_loss=1.967, Hybrid=0.162]\n",
            "                                                                     \r"
          ]
        },
        {
          "name": "stdout",
          "output_type": "stream",
          "text": [
            "\n",
            "Validation @ Epoch 105:\n",
            "PSNR: 18.41 dB | SSIM: 0.8340 | LPIPS: 0.2531 | Hybrid: 0.1299\n"
          ]
        },
        {
          "name": "stderr",
          "output_type": "stream",
          "text": [
            "Epoch 106/200: 100%|██████████| 49/49 [00:19<00:00,  2.53it/s, D_loss=0.729, G_loss=1.751, Hybrid=0.135]\n",
            "                                                                     \r"
          ]
        },
        {
          "name": "stdout",
          "output_type": "stream",
          "text": [
            "\n",
            "Validation @ Epoch 106:\n",
            "PSNR: 18.77 dB | SSIM: 0.8390 | LPIPS: 0.2534 | Hybrid: 0.1284\n"
          ]
        },
        {
          "name": "stderr",
          "output_type": "stream",
          "text": [
            "Epoch 107/200: 100%|██████████| 49/49 [00:19<00:00,  2.53it/s, D_loss=0.712, G_loss=1.935, Hybrid=0.210]\n",
            "                                                                     \r"
          ]
        },
        {
          "name": "stdout",
          "output_type": "stream",
          "text": [
            "\n",
            "Validation @ Epoch 107:\n",
            "PSNR: 18.63 dB | SSIM: 0.8329 | LPIPS: 0.2603 | Hybrid: 0.1404\n"
          ]
        },
        {
          "name": "stderr",
          "output_type": "stream",
          "text": [
            "Epoch 108/200: 100%|██████████| 49/49 [00:19<00:00,  2.53it/s, D_loss=0.771, G_loss=2.189, Hybrid=0.148]\n",
            "                                                                     \r"
          ]
        },
        {
          "name": "stdout",
          "output_type": "stream",
          "text": [
            "\n",
            "Validation @ Epoch 108:\n",
            "PSNR: 18.38 dB | SSIM: 0.8350 | LPIPS: 0.2508 | Hybrid: 0.1333\n"
          ]
        },
        {
          "name": "stderr",
          "output_type": "stream",
          "text": [
            "Epoch 109/200: 100%|██████████| 49/49 [00:19<00:00,  2.52it/s, D_loss=0.729, G_loss=1.687, Hybrid=0.139]\n",
            "                                                                     \r"
          ]
        },
        {
          "name": "stdout",
          "output_type": "stream",
          "text": [
            "\n",
            "Validation @ Epoch 109:\n",
            "PSNR: 18.74 dB | SSIM: 0.8378 | LPIPS: 0.2535 | Hybrid: 0.1303\n"
          ]
        },
        {
          "name": "stderr",
          "output_type": "stream",
          "text": [
            "Epoch 110/200: 100%|██████████| 49/49 [00:19<00:00,  2.53it/s, D_loss=0.716, G_loss=1.682, Hybrid=0.161]\n",
            "                                                                     \r"
          ]
        },
        {
          "name": "stdout",
          "output_type": "stream",
          "text": [
            "\n",
            "Validation @ Epoch 110:\n",
            "PSNR: 18.64 dB | SSIM: 0.8384 | LPIPS: 0.2523 | Hybrid: 0.1282\n"
          ]
        },
        {
          "name": "stderr",
          "output_type": "stream",
          "text": [
            "Epoch 111/200: 100%|██████████| 49/49 [00:19<00:00,  2.53it/s, D_loss=0.751, G_loss=1.917, Hybrid=0.116]\n",
            "                                                                     \r"
          ]
        },
        {
          "name": "stdout",
          "output_type": "stream",
          "text": [
            "\n",
            "Validation @ Epoch 111:\n",
            "PSNR: 18.70 dB | SSIM: 0.8422 | LPIPS: 0.2501 | Hybrid: 0.1303\n"
          ]
        },
        {
          "name": "stderr",
          "output_type": "stream",
          "text": [
            "Epoch 112/200: 100%|██████████| 49/49 [00:19<00:00,  2.53it/s, D_loss=0.723, G_loss=1.671, Hybrid=0.160]\n",
            "                                                                     \r"
          ]
        },
        {
          "name": "stdout",
          "output_type": "stream",
          "text": [
            "\n",
            "Validation @ Epoch 112:\n",
            "PSNR: 18.79 dB | SSIM: 0.8402 | LPIPS: 0.2498 | Hybrid: 0.1273\n"
          ]
        },
        {
          "name": "stderr",
          "output_type": "stream",
          "text": [
            "Epoch 113/200: 100%|██████████| 49/49 [00:19<00:00,  2.53it/s, D_loss=0.698, G_loss=1.668, Hybrid=0.166]\n",
            "                                                                     \r"
          ]
        },
        {
          "name": "stdout",
          "output_type": "stream",
          "text": [
            "\n",
            "Validation @ Epoch 113:\n",
            "PSNR: 18.09 dB | SSIM: 0.8319 | LPIPS: 0.2510 | Hybrid: 0.1306\n"
          ]
        },
        {
          "name": "stderr",
          "output_type": "stream",
          "text": [
            "Epoch 114/200: 100%|██████████| 49/49 [00:19<00:00,  2.53it/s, D_loss=0.727, G_loss=1.612, Hybrid=0.142]\n",
            "                                                                     \r"
          ]
        },
        {
          "name": "stdout",
          "output_type": "stream",
          "text": [
            "\n",
            "Validation @ Epoch 114:\n",
            "PSNR: 19.07 dB | SSIM: 0.8322 | LPIPS: 0.2590 | Hybrid: 0.1379\n"
          ]
        },
        {
          "name": "stderr",
          "output_type": "stream",
          "text": [
            "Epoch 115/200: 100%|██████████| 49/49 [00:19<00:00,  2.53it/s, D_loss=0.723, G_loss=1.650, Hybrid=0.163]\n",
            "                                                                     \r"
          ]
        },
        {
          "name": "stdout",
          "output_type": "stream",
          "text": [
            "\n",
            "Validation @ Epoch 115:\n",
            "PSNR: 18.64 dB | SSIM: 0.8410 | LPIPS: 0.2462 | Hybrid: 0.1279\n"
          ]
        },
        {
          "name": "stderr",
          "output_type": "stream",
          "text": [
            "Epoch 116/200: 100%|██████████| 49/49 [00:19<00:00,  2.53it/s, D_loss=0.696, G_loss=1.368, Hybrid=0.130]\n",
            "                                                                     \r"
          ]
        },
        {
          "name": "stdout",
          "output_type": "stream",
          "text": [
            "\n",
            "Validation @ Epoch 116:\n",
            "PSNR: 19.00 dB | SSIM: 0.8415 | LPIPS: 0.2531 | Hybrid: 0.1397\n"
          ]
        },
        {
          "name": "stderr",
          "output_type": "stream",
          "text": [
            "Epoch 117/200: 100%|██████████| 49/49 [00:19<00:00,  2.53it/s, D_loss=0.712, G_loss=1.724, Hybrid=0.138]\n",
            "                                                                     \r"
          ]
        },
        {
          "name": "stdout",
          "output_type": "stream",
          "text": [
            "\n",
            "Validation @ Epoch 117:\n",
            "PSNR: 18.86 dB | SSIM: 0.8426 | LPIPS: 0.2467 | Hybrid: 0.1313\n"
          ]
        },
        {
          "name": "stderr",
          "output_type": "stream",
          "text": [
            "Epoch 118/200: 100%|██████████| 49/49 [00:19<00:00,  2.53it/s, D_loss=0.729, G_loss=1.602, Hybrid=0.140]\n",
            "                                                                     \r"
          ]
        },
        {
          "name": "stdout",
          "output_type": "stream",
          "text": [
            "\n",
            "Validation @ Epoch 118:\n",
            "PSNR: 18.76 dB | SSIM: 0.8409 | LPIPS: 0.2488 | Hybrid: 0.1318\n"
          ]
        },
        {
          "name": "stderr",
          "output_type": "stream",
          "text": [
            "Epoch 119/200: 100%|██████████| 49/49 [00:19<00:00,  2.53it/s, D_loss=0.702, G_loss=1.449, Hybrid=0.108]\n",
            "                                                                     \r"
          ]
        },
        {
          "name": "stdout",
          "output_type": "stream",
          "text": [
            "\n",
            "Validation @ Epoch 119:\n",
            "PSNR: 18.43 dB | SSIM: 0.8381 | LPIPS: 0.2479 | Hybrid: 0.1283\n"
          ]
        },
        {
          "name": "stderr",
          "output_type": "stream",
          "text": [
            "Epoch 120/200: 100%|██████████| 49/49 [00:19<00:00,  2.53it/s, D_loss=0.734, G_loss=1.775, Hybrid=0.151]\n",
            "                                                                     \r"
          ]
        },
        {
          "name": "stdout",
          "output_type": "stream",
          "text": [
            "\n",
            "Validation @ Epoch 120:\n",
            "PSNR: 18.19 dB | SSIM: 0.8374 | LPIPS: 0.2513 | Hybrid: 0.1318\n"
          ]
        },
        {
          "name": "stderr",
          "output_type": "stream",
          "text": [
            "Epoch 121/200: 100%|██████████| 49/49 [00:19<00:00,  2.53it/s, D_loss=0.735, G_loss=1.769, Hybrid=0.194]\n",
            "                                                                     \r"
          ]
        },
        {
          "name": "stdout",
          "output_type": "stream",
          "text": [
            "\n",
            "Validation @ Epoch 121:\n",
            "PSNR: 18.73 dB | SSIM: 0.8427 | LPIPS: 0.2488 | Hybrid: 0.1265\n"
          ]
        },
        {
          "name": "stderr",
          "output_type": "stream",
          "text": [
            "Epoch 122/200: 100%|██████████| 49/49 [00:19<00:00,  2.53it/s, D_loss=0.731, G_loss=1.469, Hybrid=0.111]\n",
            "                                                                     \r"
          ]
        },
        {
          "name": "stdout",
          "output_type": "stream",
          "text": [
            "\n",
            "Validation @ Epoch 122:\n",
            "PSNR: 18.23 dB | SSIM: 0.8368 | LPIPS: 0.2483 | Hybrid: 0.1401\n"
          ]
        },
        {
          "name": "stderr",
          "output_type": "stream",
          "text": [
            "Epoch 123/200: 100%|██████████| 49/49 [00:19<00:00,  2.53it/s, D_loss=0.708, G_loss=1.415, Hybrid=0.121]\n",
            "                                                                     \r"
          ]
        },
        {
          "name": "stdout",
          "output_type": "stream",
          "text": [
            "\n",
            "Validation @ Epoch 123:\n",
            "PSNR: 18.49 dB | SSIM: 0.8399 | LPIPS: 0.2482 | Hybrid: 0.1279\n"
          ]
        },
        {
          "name": "stderr",
          "output_type": "stream",
          "text": [
            "Epoch 124/200: 100%|██████████| 49/49 [00:19<00:00,  2.53it/s, D_loss=0.702, G_loss=1.407, Hybrid=0.112]\n",
            "                                                                     \r"
          ]
        },
        {
          "name": "stdout",
          "output_type": "stream",
          "text": [
            "\n",
            "Validation @ Epoch 124:\n",
            "PSNR: 18.79 dB | SSIM: 0.8431 | LPIPS: 0.2489 | Hybrid: 0.1315\n"
          ]
        },
        {
          "name": "stderr",
          "output_type": "stream",
          "text": [
            "Epoch 125/200: 100%|██████████| 49/49 [00:19<00:00,  2.53it/s, D_loss=0.700, G_loss=1.828, Hybrid=0.158]\n",
            "                                                                     \r"
          ]
        },
        {
          "name": "stdout",
          "output_type": "stream",
          "text": [
            "\n",
            "Validation @ Epoch 125:\n",
            "PSNR: 18.62 dB | SSIM: 0.8388 | LPIPS: 0.2462 | Hybrid: 0.1256\n"
          ]
        },
        {
          "name": "stderr",
          "output_type": "stream",
          "text": [
            "Epoch 126/200: 100%|██████████| 49/49 [00:19<00:00,  2.53it/s, D_loss=0.702, G_loss=1.672, Hybrid=0.120]\n",
            "                                                                     \r"
          ]
        },
        {
          "name": "stdout",
          "output_type": "stream",
          "text": [
            "\n",
            "Validation @ Epoch 126:\n",
            "PSNR: 18.16 dB | SSIM: 0.8369 | LPIPS: 0.2473 | Hybrid: 0.1287\n"
          ]
        },
        {
          "name": "stderr",
          "output_type": "stream",
          "text": [
            "Epoch 127/200: 100%|██████████| 49/49 [00:19<00:00,  2.53it/s, D_loss=0.698, G_loss=2.050, Hybrid=0.148]\n",
            "                                                                     \r"
          ]
        },
        {
          "name": "stdout",
          "output_type": "stream",
          "text": [
            "\n",
            "Validation @ Epoch 127:\n",
            "PSNR: 18.57 dB | SSIM: 0.8425 | LPIPS: 0.2465 | Hybrid: 0.1317\n"
          ]
        },
        {
          "name": "stderr",
          "output_type": "stream",
          "text": [
            "Epoch 128/200: 100%|██████████| 49/49 [00:19<00:00,  2.53it/s, D_loss=0.724, G_loss=1.646, Hybrid=0.132]\n",
            "                                                                     \r"
          ]
        },
        {
          "name": "stdout",
          "output_type": "stream",
          "text": [
            "\n",
            "Validation @ Epoch 128:\n",
            "PSNR: 18.57 dB | SSIM: 0.8402 | LPIPS: 0.2485 | Hybrid: 0.1301\n"
          ]
        },
        {
          "name": "stderr",
          "output_type": "stream",
          "text": [
            "Epoch 129/200: 100%|██████████| 49/49 [00:19<00:00,  2.53it/s, D_loss=0.741, G_loss=1.967, Hybrid=0.152]\n",
            "                                                                     \r"
          ]
        },
        {
          "name": "stdout",
          "output_type": "stream",
          "text": [
            "\n",
            "Validation @ Epoch 129:\n",
            "PSNR: 18.39 dB | SSIM: 0.8379 | LPIPS: 0.2452 | Hybrid: 0.1310\n"
          ]
        },
        {
          "name": "stderr",
          "output_type": "stream",
          "text": [
            "Epoch 130/200: 100%|██████████| 49/49 [00:19<00:00,  2.53it/s, D_loss=0.697, G_loss=1.698, Hybrid=0.156]\n",
            "                                                                     \r"
          ]
        },
        {
          "name": "stdout",
          "output_type": "stream",
          "text": [
            "\n",
            "Validation @ Epoch 130:\n",
            "PSNR: 18.84 dB | SSIM: 0.8443 | LPIPS: 0.2474 | Hybrid: 0.1279\n"
          ]
        },
        {
          "name": "stderr",
          "output_type": "stream",
          "text": [
            "Epoch 131/200: 100%|██████████| 49/49 [00:19<00:00,  2.53it/s, D_loss=0.707, G_loss=1.648, Hybrid=0.104]\n",
            "                                                                     \r"
          ]
        },
        {
          "name": "stdout",
          "output_type": "stream",
          "text": [
            "\n",
            "Validation @ Epoch 131:\n",
            "PSNR: 18.82 dB | SSIM: 0.8406 | LPIPS: 0.2436 | Hybrid: 0.1342\n"
          ]
        },
        {
          "name": "stderr",
          "output_type": "stream",
          "text": [
            "Epoch 132/200: 100%|██████████| 49/49 [00:19<00:00,  2.53it/s, D_loss=0.705, G_loss=1.768, Hybrid=0.129]\n",
            "                                                                     \r"
          ]
        },
        {
          "name": "stdout",
          "output_type": "stream",
          "text": [
            "\n",
            "Validation @ Epoch 132:\n",
            "PSNR: 18.88 dB | SSIM: 0.8417 | LPIPS: 0.2483 | Hybrid: 0.1350\n"
          ]
        },
        {
          "name": "stderr",
          "output_type": "stream",
          "text": [
            "Epoch 133/200: 100%|██████████| 49/49 [00:19<00:00,  2.53it/s, D_loss=0.726, G_loss=1.525, Hybrid=0.143]\n",
            "                                                                     \r"
          ]
        },
        {
          "name": "stdout",
          "output_type": "stream",
          "text": [
            "\n",
            "Validation @ Epoch 133:\n",
            "PSNR: 18.80 dB | SSIM: 0.8460 | LPIPS: 0.2422 | Hybrid: 0.1339\n"
          ]
        },
        {
          "name": "stderr",
          "output_type": "stream",
          "text": [
            "Epoch 134/200: 100%|██████████| 49/49 [00:19<00:00,  2.53it/s, D_loss=0.714, G_loss=1.464, Hybrid=0.133]\n",
            "                                                                     \r"
          ]
        },
        {
          "name": "stdout",
          "output_type": "stream",
          "text": [
            "\n",
            "Validation @ Epoch 134:\n",
            "PSNR: 18.81 dB | SSIM: 0.8456 | LPIPS: 0.2428 | Hybrid: 0.1319\n"
          ]
        },
        {
          "name": "stderr",
          "output_type": "stream",
          "text": [
            "Epoch 135/200: 100%|██████████| 49/49 [00:19<00:00,  2.53it/s, D_loss=0.754, G_loss=1.782, Hybrid=0.134]\n",
            "                                                                     \r"
          ]
        },
        {
          "name": "stdout",
          "output_type": "stream",
          "text": [
            "\n",
            "Validation @ Epoch 135:\n",
            "PSNR: 18.54 dB | SSIM: 0.8439 | LPIPS: 0.2460 | Hybrid: 0.1352\n"
          ]
        },
        {
          "name": "stderr",
          "output_type": "stream",
          "text": [
            "Epoch 136/200: 100%|██████████| 49/49 [00:19<00:00,  2.53it/s, D_loss=0.704, G_loss=1.777, Hybrid=0.187]\n",
            "                                                                     \r"
          ]
        },
        {
          "name": "stdout",
          "output_type": "stream",
          "text": [
            "\n",
            "Validation @ Epoch 136:\n",
            "PSNR: 18.47 dB | SSIM: 0.8425 | LPIPS: 0.2454 | Hybrid: 0.1329\n"
          ]
        },
        {
          "name": "stderr",
          "output_type": "stream",
          "text": [
            "Epoch 137/200: 100%|██████████| 49/49 [00:19<00:00,  2.53it/s, D_loss=0.701, G_loss=1.896, Hybrid=0.143]\n",
            "                                                                     \r"
          ]
        },
        {
          "name": "stdout",
          "output_type": "stream",
          "text": [
            "\n",
            "Validation @ Epoch 137:\n",
            "PSNR: 18.53 dB | SSIM: 0.8385 | LPIPS: 0.2482 | Hybrid: 0.1302\n"
          ]
        },
        {
          "name": "stderr",
          "output_type": "stream",
          "text": [
            "Epoch 138/200: 100%|██████████| 49/49 [00:19<00:00,  2.53it/s, D_loss=0.702, G_loss=1.767, Hybrid=0.142]\n",
            "                                                                     \r"
          ]
        },
        {
          "name": "stdout",
          "output_type": "stream",
          "text": [
            "\n",
            "Validation @ Epoch 138:\n",
            "PSNR: 18.61 dB | SSIM: 0.8417 | LPIPS: 0.2423 | Hybrid: 0.1326\n"
          ]
        },
        {
          "name": "stderr",
          "output_type": "stream",
          "text": [
            "Epoch 139/200: 100%|██████████| 49/49 [00:19<00:00,  2.53it/s, D_loss=0.709, G_loss=1.563, Hybrid=0.109]\n",
            "                                                                     \r"
          ]
        },
        {
          "name": "stdout",
          "output_type": "stream",
          "text": [
            "\n",
            "Validation @ Epoch 139:\n",
            "PSNR: 18.85 dB | SSIM: 0.8452 | LPIPS: 0.2412 | Hybrid: 0.1287\n"
          ]
        },
        {
          "name": "stderr",
          "output_type": "stream",
          "text": [
            "Epoch 140/200: 100%|██████████| 49/49 [00:19<00:00,  2.53it/s, D_loss=0.702, G_loss=1.670, Hybrid=0.147]\n",
            "                                                                     \r"
          ]
        },
        {
          "name": "stdout",
          "output_type": "stream",
          "text": [
            "\n",
            "Validation @ Epoch 140:\n",
            "PSNR: 18.83 dB | SSIM: 0.8451 | LPIPS: 0.2442 | Hybrid: 0.1316\n"
          ]
        },
        {
          "name": "stderr",
          "output_type": "stream",
          "text": [
            "Epoch 141/200: 100%|██████████| 49/49 [00:19<00:00,  2.53it/s, D_loss=0.695, G_loss=1.622, Hybrid=0.103]\n",
            "                                                                     \r"
          ]
        },
        {
          "name": "stdout",
          "output_type": "stream",
          "text": [
            "\n",
            "Validation @ Epoch 141:\n",
            "PSNR: 18.63 dB | SSIM: 0.8408 | LPIPS: 0.2426 | Hybrid: 0.1377\n"
          ]
        },
        {
          "name": "stderr",
          "output_type": "stream",
          "text": [
            "Epoch 142/200: 100%|██████████| 49/49 [00:19<00:00,  2.53it/s, D_loss=0.697, G_loss=2.108, Hybrid=0.155]\n",
            "                                                                     \r"
          ]
        },
        {
          "name": "stdout",
          "output_type": "stream",
          "text": [
            "\n",
            "Validation @ Epoch 142:\n",
            "PSNR: 19.00 dB | SSIM: 0.8474 | LPIPS: 0.2406 | Hybrid: 0.1341\n"
          ]
        },
        {
          "name": "stderr",
          "output_type": "stream",
          "text": [
            "Epoch 143/200: 100%|██████████| 49/49 [00:19<00:00,  2.53it/s, D_loss=0.698, G_loss=1.805, Hybrid=0.155]\n",
            "                                                                     \r"
          ]
        },
        {
          "name": "stdout",
          "output_type": "stream",
          "text": [
            "\n",
            "Validation @ Epoch 143:\n",
            "PSNR: 18.89 dB | SSIM: 0.8474 | LPIPS: 0.2409 | Hybrid: 0.1323\n"
          ]
        },
        {
          "name": "stderr",
          "output_type": "stream",
          "text": [
            "Epoch 144/200: 100%|██████████| 49/49 [00:19<00:00,  2.53it/s, D_loss=0.698, G_loss=1.575, Hybrid=0.142]\n",
            "                                                                     \r"
          ]
        },
        {
          "name": "stdout",
          "output_type": "stream",
          "text": [
            "\n",
            "Validation @ Epoch 144:\n",
            "PSNR: 18.68 dB | SSIM: 0.8409 | LPIPS: 0.2437 | Hybrid: 0.1265\n"
          ]
        },
        {
          "name": "stderr",
          "output_type": "stream",
          "text": [
            "Epoch 145/200: 100%|██████████| 49/49 [00:19<00:00,  2.52it/s, D_loss=0.705, G_loss=1.722, Hybrid=0.116]\n",
            "                                                                     \r"
          ]
        },
        {
          "name": "stdout",
          "output_type": "stream",
          "text": [
            "\n",
            "Validation @ Epoch 145:\n",
            "PSNR: 18.81 dB | SSIM: 0.8473 | LPIPS: 0.2418 | Hybrid: 0.1368\n"
          ]
        },
        {
          "name": "stderr",
          "output_type": "stream",
          "text": [
            "Epoch 146/200: 100%|██████████| 49/49 [00:19<00:00,  2.53it/s, D_loss=0.706, G_loss=1.848, Hybrid=0.160]\n",
            "                                                                     \r"
          ]
        },
        {
          "name": "stdout",
          "output_type": "stream",
          "text": [
            "\n",
            "Validation @ Epoch 146:\n",
            "PSNR: 19.40 dB | SSIM: 0.8496 | LPIPS: 0.2426 | Hybrid: 0.1401\n"
          ]
        },
        {
          "name": "stderr",
          "output_type": "stream",
          "text": [
            "Epoch 147/200: 100%|██████████| 49/49 [00:19<00:00,  2.53it/s, D_loss=0.710, G_loss=1.889, Hybrid=0.144]\n",
            "                                                                     \r"
          ]
        },
        {
          "name": "stdout",
          "output_type": "stream",
          "text": [
            "\n",
            "Validation @ Epoch 147:\n",
            "PSNR: 18.53 dB | SSIM: 0.8427 | LPIPS: 0.2406 | Hybrid: 0.1296\n"
          ]
        },
        {
          "name": "stderr",
          "output_type": "stream",
          "text": [
            "Epoch 148/200: 100%|██████████| 49/49 [00:19<00:00,  2.53it/s, D_loss=0.707, G_loss=1.806, Hybrid=0.141]\n",
            "                                                                     \r"
          ]
        },
        {
          "name": "stdout",
          "output_type": "stream",
          "text": [
            "\n",
            "Validation @ Epoch 148:\n",
            "PSNR: 18.38 dB | SSIM: 0.8420 | LPIPS: 0.2464 | Hybrid: 0.1368\n"
          ]
        },
        {
          "name": "stderr",
          "output_type": "stream",
          "text": [
            "Epoch 149/200: 100%|██████████| 49/49 [00:19<00:00,  2.52it/s, D_loss=0.702, G_loss=1.777, Hybrid=0.165]\n",
            "                                                                     \r"
          ]
        },
        {
          "name": "stdout",
          "output_type": "stream",
          "text": [
            "\n",
            "Validation @ Epoch 149:\n",
            "PSNR: 18.77 dB | SSIM: 0.8364 | LPIPS: 0.2502 | Hybrid: 0.1506\n"
          ]
        },
        {
          "name": "stderr",
          "output_type": "stream",
          "text": [
            "Epoch 150/200: 100%|██████████| 49/49 [00:19<00:00,  2.53it/s, D_loss=0.701, G_loss=1.395, Hybrid=0.118]\n",
            "                                                                     \r"
          ]
        },
        {
          "name": "stdout",
          "output_type": "stream",
          "text": [
            "\n",
            "Validation @ Epoch 150:\n",
            "PSNR: 18.69 dB | SSIM: 0.8424 | LPIPS: 0.2388 | Hybrid: 0.1289\n"
          ]
        },
        {
          "name": "stderr",
          "output_type": "stream",
          "text": [
            "Epoch 151/200: 100%|██████████| 49/49 [00:19<00:00,  2.53it/s, D_loss=0.708, G_loss=1.333, Hybrid=0.117]\n",
            "                                                                     \r"
          ]
        },
        {
          "name": "stdout",
          "output_type": "stream",
          "text": [
            "\n",
            "Validation @ Epoch 151:\n",
            "PSNR: 18.95 dB | SSIM: 0.8507 | LPIPS: 0.2416 | Hybrid: 0.1461\n"
          ]
        },
        {
          "name": "stderr",
          "output_type": "stream",
          "text": [
            "Epoch 152/200: 100%|██████████| 49/49 [00:19<00:00,  2.53it/s, D_loss=0.708, G_loss=1.573, Hybrid=0.168]\n",
            "                                                                     \r"
          ]
        },
        {
          "name": "stdout",
          "output_type": "stream",
          "text": [
            "\n",
            "Validation @ Epoch 152:\n",
            "PSNR: 19.00 dB | SSIM: 0.8480 | LPIPS: 0.2415 | Hybrid: 0.1360\n"
          ]
        },
        {
          "name": "stderr",
          "output_type": "stream",
          "text": [
            "Epoch 153/200: 100%|██████████| 49/49 [00:19<00:00,  2.53it/s, D_loss=0.696, G_loss=1.581, Hybrid=0.126]\n",
            "                                                                     \r"
          ]
        },
        {
          "name": "stdout",
          "output_type": "stream",
          "text": [
            "\n",
            "Validation @ Epoch 153:\n",
            "PSNR: 18.63 dB | SSIM: 0.8424 | LPIPS: 0.2432 | Hybrid: 0.1291\n"
          ]
        },
        {
          "name": "stderr",
          "output_type": "stream",
          "text": [
            "Epoch 154/200: 100%|██████████| 49/49 [00:19<00:00,  2.53it/s, D_loss=0.713, G_loss=1.828, Hybrid=0.114]\n",
            "                                                                     \r"
          ]
        },
        {
          "name": "stdout",
          "output_type": "stream",
          "text": [
            "\n",
            "Validation @ Epoch 154:\n",
            "PSNR: 18.60 dB | SSIM: 0.8449 | LPIPS: 0.2425 | Hybrid: 0.1335\n"
          ]
        },
        {
          "name": "stderr",
          "output_type": "stream",
          "text": [
            "Epoch 155/200: 100%|██████████| 49/49 [00:19<00:00,  2.53it/s, D_loss=0.705, G_loss=1.721, Hybrid=0.118]\n",
            "                                                                     \r"
          ]
        },
        {
          "name": "stdout",
          "output_type": "stream",
          "text": [
            "\n",
            "Validation @ Epoch 155:\n",
            "PSNR: 18.55 dB | SSIM: 0.8457 | LPIPS: 0.2399 | Hybrid: 0.1479\n"
          ]
        },
        {
          "name": "stderr",
          "output_type": "stream",
          "text": [
            "Epoch 156/200: 100%|██████████| 49/49 [00:19<00:00,  2.53it/s, D_loss=0.700, G_loss=1.636, Hybrid=0.099]\n",
            "                                                                     \r"
          ]
        },
        {
          "name": "stdout",
          "output_type": "stream",
          "text": [
            "\n",
            "Validation @ Epoch 156:\n",
            "PSNR: 18.76 dB | SSIM: 0.8453 | LPIPS: 0.2447 | Hybrid: 0.1449\n"
          ]
        },
        {
          "name": "stderr",
          "output_type": "stream",
          "text": [
            "Epoch 157/200: 100%|██████████| 49/49 [00:19<00:00,  2.53it/s, D_loss=0.695, G_loss=1.784, Hybrid=0.165]\n",
            "                                                                     \r"
          ]
        },
        {
          "name": "stdout",
          "output_type": "stream",
          "text": [
            "\n",
            "Validation @ Epoch 157:\n",
            "PSNR: 18.87 dB | SSIM: 0.8449 | LPIPS: 0.2416 | Hybrid: 0.1374\n"
          ]
        },
        {
          "name": "stderr",
          "output_type": "stream",
          "text": [
            "Epoch 158/200: 100%|██████████| 49/49 [00:19<00:00,  2.53it/s, D_loss=0.696, G_loss=1.755, Hybrid=0.166]\n",
            "                                                                     \r"
          ]
        },
        {
          "name": "stdout",
          "output_type": "stream",
          "text": [
            "\n",
            "Validation @ Epoch 158:\n",
            "PSNR: 18.83 dB | SSIM: 0.8471 | LPIPS: 0.2383 | Hybrid: 0.1351\n"
          ]
        },
        {
          "name": "stderr",
          "output_type": "stream",
          "text": [
            "Epoch 159/200: 100%|██████████| 49/49 [00:19<00:00,  2.53it/s, D_loss=0.714, G_loss=1.541, Hybrid=0.126]\n",
            "                                                                     \r"
          ]
        },
        {
          "name": "stdout",
          "output_type": "stream",
          "text": [
            "\n",
            "Validation @ Epoch 159:\n",
            "PSNR: 18.57 dB | SSIM: 0.8428 | LPIPS: 0.2373 | Hybrid: 0.1348\n"
          ]
        },
        {
          "name": "stderr",
          "output_type": "stream",
          "text": [
            "Epoch 160/200: 100%|██████████| 49/49 [00:19<00:00,  2.53it/s, D_loss=0.703, G_loss=1.618, Hybrid=0.148]\n",
            "                                                                     \r"
          ]
        },
        {
          "name": "stdout",
          "output_type": "stream",
          "text": [
            "\n",
            "Validation @ Epoch 160:\n",
            "PSNR: 18.55 dB | SSIM: 0.8438 | LPIPS: 0.2381 | Hybrid: 0.1329\n"
          ]
        },
        {
          "name": "stderr",
          "output_type": "stream",
          "text": [
            "Epoch 161/200: 100%|██████████| 49/49 [00:19<00:00,  2.53it/s, D_loss=0.702, G_loss=1.952, Hybrid=0.146]\n",
            "                                                                     \r"
          ]
        },
        {
          "name": "stdout",
          "output_type": "stream",
          "text": [
            "\n",
            "Validation @ Epoch 161:\n",
            "PSNR: 18.64 dB | SSIM: 0.8477 | LPIPS: 0.2405 | Hybrid: 0.1330\n"
          ]
        },
        {
          "name": "stderr",
          "output_type": "stream",
          "text": [
            "Epoch 162/200: 100%|██████████| 49/49 [00:19<00:00,  2.53it/s, D_loss=0.706, G_loss=1.791, Hybrid=0.113]\n",
            "                                                                     \r"
          ]
        },
        {
          "name": "stdout",
          "output_type": "stream",
          "text": [
            "\n",
            "Validation @ Epoch 162:\n",
            "PSNR: 18.31 dB | SSIM: 0.8438 | LPIPS: 0.2428 | Hybrid: 0.1360\n"
          ]
        },
        {
          "name": "stderr",
          "output_type": "stream",
          "text": [
            "Epoch 163/200: 100%|██████████| 49/49 [00:19<00:00,  2.53it/s, D_loss=0.698, G_loss=1.831, Hybrid=0.188]\n",
            "                                                                     \r"
          ]
        },
        {
          "name": "stdout",
          "output_type": "stream",
          "text": [
            "\n",
            "Validation @ Epoch 163:\n",
            "PSNR: 18.72 dB | SSIM: 0.8474 | LPIPS: 0.2372 | Hybrid: 0.1307\n"
          ]
        },
        {
          "name": "stderr",
          "output_type": "stream",
          "text": [
            "Epoch 164/200: 100%|██████████| 49/49 [00:19<00:00,  2.53it/s, D_loss=29.525, G_loss=1.576, Hybrid=0.115]   \n",
            "                                                                     \r"
          ]
        },
        {
          "name": "stdout",
          "output_type": "stream",
          "text": [
            "\n",
            "Validation @ Epoch 164:\n",
            "PSNR: 18.89 dB | SSIM: 0.8457 | LPIPS: 0.2395 | Hybrid: 0.1348\n"
          ]
        },
        {
          "name": "stderr",
          "output_type": "stream",
          "text": [
            "Epoch 165/200: 100%|██████████| 49/49 [00:19<00:00,  2.53it/s, D_loss=3.993, G_loss=1.758, Hybrid=0.164] \n",
            "                                                                     \r"
          ]
        },
        {
          "name": "stdout",
          "output_type": "stream",
          "text": [
            "\n",
            "Validation @ Epoch 165:\n",
            "PSNR: 18.76 dB | SSIM: 0.8473 | LPIPS: 0.2361 | Hybrid: 0.1312\n"
          ]
        },
        {
          "name": "stderr",
          "output_type": "stream",
          "text": [
            "Epoch 166/200: 100%|██████████| 49/49 [00:19<00:00,  2.53it/s, D_loss=1.017, G_loss=1.387, Hybrid=0.103] \n",
            "                                                                     \r"
          ]
        },
        {
          "name": "stdout",
          "output_type": "stream",
          "text": [
            "\n",
            "Validation @ Epoch 166:\n",
            "PSNR: 18.78 dB | SSIM: 0.8503 | LPIPS: 0.2348 | Hybrid: 0.1317\n"
          ]
        },
        {
          "name": "stderr",
          "output_type": "stream",
          "text": [
            "Epoch 167/200: 100%|██████████| 49/49 [00:19<00:00,  2.53it/s, D_loss=1.110, G_loss=2.047, Hybrid=0.184] \n",
            "                                                                     \r"
          ]
        },
        {
          "name": "stdout",
          "output_type": "stream",
          "text": [
            "\n",
            "Validation @ Epoch 167:\n",
            "PSNR: 18.77 dB | SSIM: 0.8441 | LPIPS: 0.2371 | Hybrid: 0.1323\n"
          ]
        },
        {
          "name": "stderr",
          "output_type": "stream",
          "text": [
            "Epoch 168/200: 100%|██████████| 49/49 [00:19<00:00,  2.53it/s, D_loss=1.771, G_loss=1.775, Hybrid=0.168]\n",
            "                                                                     \r"
          ]
        },
        {
          "name": "stdout",
          "output_type": "stream",
          "text": [
            "\n",
            "Validation @ Epoch 168:\n",
            "PSNR: 19.06 dB | SSIM: 0.8505 | LPIPS: 0.2353 | Hybrid: 0.1337\n"
          ]
        },
        {
          "name": "stderr",
          "output_type": "stream",
          "text": [
            "Epoch 169/200: 100%|██████████| 49/49 [00:19<00:00,  2.53it/s, D_loss=1.559, G_loss=1.908, Hybrid=0.155]\n",
            "                                                                     \r"
          ]
        },
        {
          "name": "stdout",
          "output_type": "stream",
          "text": [
            "\n",
            "Validation @ Epoch 169:\n",
            "PSNR: 18.55 dB | SSIM: 0.8447 | LPIPS: 0.2363 | Hybrid: 0.1348\n"
          ]
        },
        {
          "name": "stderr",
          "output_type": "stream",
          "text": [
            "Epoch 170/200: 100%|██████████| 49/49 [00:19<00:00,  2.53it/s, D_loss=1.538, G_loss=1.609, Hybrid=0.170]\n",
            "                                                                     \r"
          ]
        },
        {
          "name": "stdout",
          "output_type": "stream",
          "text": [
            "\n",
            "Validation @ Epoch 170:\n",
            "PSNR: 18.51 dB | SSIM: 0.8436 | LPIPS: 0.2360 | Hybrid: 0.1319\n"
          ]
        },
        {
          "name": "stderr",
          "output_type": "stream",
          "text": [
            "Epoch 171/200: 100%|██████████| 49/49 [00:19<00:00,  2.53it/s, D_loss=9.737, G_loss=1.414, Hybrid=0.157]\n",
            "                                                                     \r"
          ]
        },
        {
          "name": "stdout",
          "output_type": "stream",
          "text": [
            "\n",
            "Validation @ Epoch 171:\n",
            "PSNR: 18.59 dB | SSIM: 0.8460 | LPIPS: 0.2369 | Hybrid: 0.1325\n"
          ]
        },
        {
          "name": "stderr",
          "output_type": "stream",
          "text": [
            "Epoch 172/200: 100%|██████████| 49/49 [00:19<00:00,  2.53it/s, D_loss=1.262, G_loss=1.532, Hybrid=0.144]\n",
            "                                                                     \r"
          ]
        },
        {
          "name": "stdout",
          "output_type": "stream",
          "text": [
            "\n",
            "Validation @ Epoch 172:\n",
            "PSNR: 18.87 dB | SSIM: 0.8499 | LPIPS: 0.2364 | Hybrid: 0.1433\n"
          ]
        },
        {
          "name": "stderr",
          "output_type": "stream",
          "text": [
            "Epoch 173/200: 100%|██████████| 49/49 [00:19<00:00,  2.53it/s, D_loss=0.910, G_loss=1.475, Hybrid=0.125]\n",
            "                                                                     \r"
          ]
        },
        {
          "name": "stdout",
          "output_type": "stream",
          "text": [
            "\n",
            "Validation @ Epoch 173:\n",
            "PSNR: 19.10 dB | SSIM: 0.8538 | LPIPS: 0.2333 | Hybrid: 0.1384\n"
          ]
        },
        {
          "name": "stderr",
          "output_type": "stream",
          "text": [
            "Epoch 174/200: 100%|██████████| 49/49 [00:19<00:00,  2.53it/s, D_loss=1.611, G_loss=1.854, Hybrid=0.152]\n",
            "                                                                     \r"
          ]
        },
        {
          "name": "stdout",
          "output_type": "stream",
          "text": [
            "\n",
            "Validation @ Epoch 174:\n",
            "PSNR: 19.19 dB | SSIM: 0.8549 | LPIPS: 0.2340 | Hybrid: 0.1382\n"
          ]
        },
        {
          "name": "stderr",
          "output_type": "stream",
          "text": [
            "Epoch 175/200: 100%|██████████| 49/49 [00:19<00:00,  2.53it/s, D_loss=1.176, G_loss=1.757, Hybrid=0.132]\n",
            "                                                                     \r"
          ]
        },
        {
          "name": "stdout",
          "output_type": "stream",
          "text": [
            "\n",
            "Validation @ Epoch 175:\n",
            "PSNR: 18.39 dB | SSIM: 0.8442 | LPIPS: 0.2375 | Hybrid: 0.1361\n"
          ]
        },
        {
          "name": "stderr",
          "output_type": "stream",
          "text": [
            "Epoch 176/200: 100%|██████████| 49/49 [00:19<00:00,  2.53it/s, D_loss=1.015, G_loss=1.746, Hybrid=0.134]\n",
            "                                                                     \r"
          ]
        },
        {
          "name": "stdout",
          "output_type": "stream",
          "text": [
            "\n",
            "Validation @ Epoch 176:\n",
            "PSNR: 18.78 dB | SSIM: 0.8495 | LPIPS: 0.2340 | Hybrid: 0.1351\n"
          ]
        },
        {
          "name": "stderr",
          "output_type": "stream",
          "text": [
            "Epoch 177/200: 100%|██████████| 49/49 [00:19<00:00,  2.53it/s, D_loss=0.763, G_loss=1.692, Hybrid=0.143]\n",
            "                                                                     \r"
          ]
        },
        {
          "name": "stdout",
          "output_type": "stream",
          "text": [
            "\n",
            "Validation @ Epoch 177:\n",
            "PSNR: 19.12 dB | SSIM: 0.8535 | LPIPS: 0.2338 | Hybrid: 0.1366\n"
          ]
        },
        {
          "name": "stderr",
          "output_type": "stream",
          "text": [
            "Epoch 178/200: 100%|██████████| 49/49 [00:19<00:00,  2.53it/s, D_loss=0.950, G_loss=1.614, Hybrid=0.143]\n",
            "                                                                     \r"
          ]
        },
        {
          "name": "stdout",
          "output_type": "stream",
          "text": [
            "\n",
            "Validation @ Epoch 178:\n",
            "PSNR: 18.58 dB | SSIM: 0.8441 | LPIPS: 0.2370 | Hybrid: 0.1322\n"
          ]
        },
        {
          "name": "stderr",
          "output_type": "stream",
          "text": [
            "Epoch 179/200: 100%|██████████| 49/49 [00:19<00:00,  2.53it/s, D_loss=0.764, G_loss=1.676, Hybrid=0.154]\n",
            "                                                                     \r"
          ]
        },
        {
          "name": "stdout",
          "output_type": "stream",
          "text": [
            "\n",
            "Validation @ Epoch 179:\n",
            "PSNR: 18.45 dB | SSIM: 0.8450 | LPIPS: 0.2362 | Hybrid: 0.1334\n"
          ]
        },
        {
          "name": "stderr",
          "output_type": "stream",
          "text": [
            "Epoch 180/200: 100%|██████████| 49/49 [00:19<00:00,  2.53it/s, D_loss=1.074, G_loss=1.439, Hybrid=0.131]\n",
            "                                                                     \r"
          ]
        },
        {
          "name": "stdout",
          "output_type": "stream",
          "text": [
            "\n",
            "Validation @ Epoch 180:\n",
            "PSNR: 18.67 dB | SSIM: 0.8457 | LPIPS: 0.2393 | Hybrid: 0.1328\n"
          ]
        },
        {
          "name": "stderr",
          "output_type": "stream",
          "text": [
            "Epoch 181/200: 100%|██████████| 49/49 [00:19<00:00,  2.53it/s, D_loss=1.161, G_loss=1.706, Hybrid=0.160]\n",
            "                                                                     \r"
          ]
        },
        {
          "name": "stdout",
          "output_type": "stream",
          "text": [
            "\n",
            "Validation @ Epoch 181:\n",
            "PSNR: 19.11 dB | SSIM: 0.8531 | LPIPS: 0.2347 | Hybrid: 0.1395\n"
          ]
        },
        {
          "name": "stderr",
          "output_type": "stream",
          "text": [
            "Epoch 182/200: 100%|██████████| 49/49 [00:19<00:00,  2.53it/s, D_loss=0.752, G_loss=1.580, Hybrid=0.144]\n",
            "                                                                     \r"
          ]
        },
        {
          "name": "stdout",
          "output_type": "stream",
          "text": [
            "\n",
            "Validation @ Epoch 182:\n",
            "PSNR: 18.72 dB | SSIM: 0.8457 | LPIPS: 0.2356 | Hybrid: 0.1294\n"
          ]
        },
        {
          "name": "stderr",
          "output_type": "stream",
          "text": [
            "Epoch 183/200: 100%|██████████| 49/49 [00:19<00:00,  2.53it/s, D_loss=1.292, G_loss=1.635, Hybrid=0.185]\n",
            "                                                                     \r"
          ]
        },
        {
          "name": "stdout",
          "output_type": "stream",
          "text": [
            "\n",
            "Validation @ Epoch 183:\n",
            "PSNR: 19.09 dB | SSIM: 0.8552 | LPIPS: 0.2322 | Hybrid: 0.1431\n"
          ]
        },
        {
          "name": "stderr",
          "output_type": "stream",
          "text": [
            "Epoch 184/200: 100%|██████████| 49/49 [00:19<00:00,  2.53it/s, D_loss=0.914, G_loss=1.519, Hybrid=0.122]\n",
            "                                                                     \r"
          ]
        },
        {
          "name": "stdout",
          "output_type": "stream",
          "text": [
            "\n",
            "Validation @ Epoch 184:\n",
            "PSNR: 19.08 dB | SSIM: 0.8555 | LPIPS: 0.2310 | Hybrid: 0.1398\n"
          ]
        },
        {
          "name": "stderr",
          "output_type": "stream",
          "text": [
            "Epoch 185/200: 100%|██████████| 49/49 [00:19<00:00,  2.53it/s, D_loss=0.736, G_loss=1.929, Hybrid=0.146]\n",
            "                                                                     \r"
          ]
        },
        {
          "name": "stdout",
          "output_type": "stream",
          "text": [
            "\n",
            "Validation @ Epoch 185:\n",
            "PSNR: 18.67 dB | SSIM: 0.8508 | LPIPS: 0.2374 | Hybrid: 0.1334\n"
          ]
        },
        {
          "name": "stderr",
          "output_type": "stream",
          "text": [
            "Epoch 186/200: 100%|██████████| 49/49 [00:19<00:00,  2.53it/s, D_loss=1.752, G_loss=1.859, Hybrid=0.152] \n",
            "                                                                     \r"
          ]
        },
        {
          "name": "stdout",
          "output_type": "stream",
          "text": [
            "\n",
            "Validation @ Epoch 186:\n",
            "PSNR: 18.94 dB | SSIM: 0.8474 | LPIPS: 0.2383 | Hybrid: 0.1308\n"
          ]
        },
        {
          "name": "stderr",
          "output_type": "stream",
          "text": [
            "Epoch 187/200: 100%|██████████| 49/49 [00:19<00:00,  2.53it/s, D_loss=2.111, G_loss=1.667, Hybrid=0.129]\n",
            "                                                                     \r"
          ]
        },
        {
          "name": "stdout",
          "output_type": "stream",
          "text": [
            "\n",
            "Validation @ Epoch 187:\n",
            "PSNR: 18.94 dB | SSIM: 0.8510 | LPIPS: 0.2325 | Hybrid: 0.1334\n"
          ]
        },
        {
          "name": "stderr",
          "output_type": "stream",
          "text": [
            "Epoch 188/200: 100%|██████████| 49/49 [00:19<00:00,  2.53it/s, D_loss=1.290, G_loss=1.531, Hybrid=0.140]\n",
            "                                                                     \r"
          ]
        },
        {
          "name": "stdout",
          "output_type": "stream",
          "text": [
            "\n",
            "Validation @ Epoch 188:\n",
            "PSNR: 18.77 dB | SSIM: 0.8462 | LPIPS: 0.2399 | Hybrid: 0.1387\n"
          ]
        },
        {
          "name": "stderr",
          "output_type": "stream",
          "text": [
            "Epoch 189/200: 100%|██████████| 49/49 [00:19<00:00,  2.53it/s, D_loss=1.488, G_loss=1.441, Hybrid=0.134]\n",
            "                                                                     \r"
          ]
        },
        {
          "name": "stdout",
          "output_type": "stream",
          "text": [
            "\n",
            "Validation @ Epoch 189:\n",
            "PSNR: 18.81 dB | SSIM: 0.8516 | LPIPS: 0.2326 | Hybrid: 0.1343\n"
          ]
        },
        {
          "name": "stderr",
          "output_type": "stream",
          "text": [
            "Epoch 190/200: 100%|██████████| 49/49 [00:19<00:00,  2.53it/s, D_loss=1.106, G_loss=1.828, Hybrid=0.132]\n",
            "                                                                     \r"
          ]
        },
        {
          "name": "stdout",
          "output_type": "stream",
          "text": [
            "\n",
            "Validation @ Epoch 190:\n",
            "PSNR: 18.30 dB | SSIM: 0.8424 | LPIPS: 0.2382 | Hybrid: 0.1401\n"
          ]
        },
        {
          "name": "stderr",
          "output_type": "stream",
          "text": [
            "Epoch 191/200: 100%|██████████| 49/49 [00:19<00:00,  2.53it/s, D_loss=1.699, G_loss=1.718, Hybrid=0.129] \n",
            "                                                                     \r"
          ]
        },
        {
          "name": "stdout",
          "output_type": "stream",
          "text": [
            "\n",
            "Validation @ Epoch 191:\n",
            "PSNR: 18.86 dB | SSIM: 0.8530 | LPIPS: 0.2328 | Hybrid: 0.1385\n"
          ]
        },
        {
          "name": "stderr",
          "output_type": "stream",
          "text": [
            "Epoch 192/200: 100%|██████████| 49/49 [00:19<00:00,  2.52it/s, D_loss=0.745, G_loss=1.539, Hybrid=0.144]\n",
            "                                                                     \r"
          ]
        },
        {
          "name": "stdout",
          "output_type": "stream",
          "text": [
            "\n",
            "Validation @ Epoch 192:\n",
            "PSNR: 18.62 dB | SSIM: 0.8471 | LPIPS: 0.2320 | Hybrid: 0.1384\n"
          ]
        },
        {
          "name": "stderr",
          "output_type": "stream",
          "text": [
            "Epoch 193/200: 100%|██████████| 49/49 [00:19<00:00,  2.53it/s, D_loss=1.141, G_loss=1.870, Hybrid=0.173]\n",
            "                                                                     \r"
          ]
        },
        {
          "name": "stdout",
          "output_type": "stream",
          "text": [
            "\n",
            "Validation @ Epoch 193:\n",
            "PSNR: 19.01 dB | SSIM: 0.8456 | LPIPS: 0.2405 | Hybrid: 0.1424\n"
          ]
        },
        {
          "name": "stderr",
          "output_type": "stream",
          "text": [
            "Epoch 194/200: 100%|██████████| 49/49 [00:19<00:00,  2.53it/s, D_loss=1.707, G_loss=1.565, Hybrid=0.171]\n",
            "                                                                     \r"
          ]
        },
        {
          "name": "stdout",
          "output_type": "stream",
          "text": [
            "\n",
            "Validation @ Epoch 194:\n",
            "PSNR: 18.72 dB | SSIM: 0.8522 | LPIPS: 0.2362 | Hybrid: 0.1433\n"
          ]
        },
        {
          "name": "stderr",
          "output_type": "stream",
          "text": [
            "Epoch 195/200: 100%|██████████| 49/49 [00:19<00:00,  2.53it/s, D_loss=0.993, G_loss=1.374, Hybrid=0.108]\n",
            "                                                                     \r"
          ]
        },
        {
          "name": "stdout",
          "output_type": "stream",
          "text": [
            "\n",
            "Validation @ Epoch 195:\n",
            "PSNR: 18.72 dB | SSIM: 0.8517 | LPIPS: 0.2330 | Hybrid: 0.1377\n"
          ]
        },
        {
          "name": "stderr",
          "output_type": "stream",
          "text": [
            "Epoch 196/200: 100%|██████████| 49/49 [00:19<00:00,  2.53it/s, D_loss=0.864, G_loss=1.528, Hybrid=0.154]\n",
            "                                                                     \r"
          ]
        },
        {
          "name": "stdout",
          "output_type": "stream",
          "text": [
            "\n",
            "Validation @ Epoch 196:\n",
            "PSNR: 19.01 dB | SSIM: 0.8525 | LPIPS: 0.2317 | Hybrid: 0.1413\n"
          ]
        },
        {
          "name": "stderr",
          "output_type": "stream",
          "text": [
            "Epoch 197/200: 100%|██████████| 49/49 [00:19<00:00,  2.53it/s, D_loss=1.114, G_loss=1.551, Hybrid=0.136]\n",
            "                                                                     \r"
          ]
        },
        {
          "name": "stdout",
          "output_type": "stream",
          "text": [
            "\n",
            "Validation @ Epoch 197:\n",
            "PSNR: 18.85 dB | SSIM: 0.8509 | LPIPS: 0.2326 | Hybrid: 0.1331\n"
          ]
        },
        {
          "name": "stderr",
          "output_type": "stream",
          "text": [
            "Epoch 198/200: 100%|██████████| 49/49 [00:19<00:00,  2.53it/s, D_loss=1.004, G_loss=1.841, Hybrid=0.171]\n",
            "                                                                     \r"
          ]
        },
        {
          "name": "stdout",
          "output_type": "stream",
          "text": [
            "\n",
            "Validation @ Epoch 198:\n",
            "PSNR: 18.73 dB | SSIM: 0.8514 | LPIPS: 0.2346 | Hybrid: 0.1324\n"
          ]
        },
        {
          "name": "stderr",
          "output_type": "stream",
          "text": [
            "Epoch 199/200: 100%|██████████| 49/49 [00:19<00:00,  2.53it/s, D_loss=1.066, G_loss=1.789, Hybrid=0.143]\n",
            "                                                                     \r"
          ]
        },
        {
          "name": "stdout",
          "output_type": "stream",
          "text": [
            "\n",
            "Validation @ Epoch 199:\n",
            "PSNR: 18.56 dB | SSIM: 0.8447 | LPIPS: 0.2358 | Hybrid: 0.1354\n"
          ]
        },
        {
          "name": "stderr",
          "output_type": "stream",
          "text": [
            "Epoch 200/200: 100%|██████████| 49/49 [00:19<00:00,  2.53it/s, D_loss=0.892, G_loss=1.611, Hybrid=0.153]\n",
            "                                                                     \r"
          ]
        },
        {
          "name": "stdout",
          "output_type": "stream",
          "text": [
            "\n",
            "Validation @ Epoch 200:\n",
            "PSNR: 18.86 dB | SSIM: 0.8541 | LPIPS: 0.2293 | Hybrid: 0.1390\n",
            "Total training time: 1h 11m 18.31s\n"
          ]
        }
      ],
      "source": [
        "import math\n",
        "import os\n",
        "import time\n",
        "import torch\n",
        "import torch.nn.functional as F\n",
        "from torchmetrics import StructuralSimilarityIndexMeasure as SSIM\n",
        "from torchmetrics import PeakSignalNoiseRatio as PSNR\n",
        "from piq import LPIPS\n",
        "from tqdm import tqdm\n",
        "from torch import nn, optim\n",
        "from torchvision import models\n",
        "from torchvision.utils import save_image\n",
        "\n",
        "#SE Blocks:\n",
        "\n",
        "class SEBlock(nn.Module):\n",
        "    \"\"\"Squeeze-and-Excitation block for channel attention\"\"\"\n",
        "\n",
        "    def __init__(self, channels, reduction=16):\n",
        "        super().__init__()\n",
        "        self.avg_pool = nn.AdaptiveAvgPool2d(1)\n",
        "        self.fc = nn.Sequential(\n",
        "            nn.Linear(channels, channels // reduction),\n",
        "            nn.ReLU(),\n",
        "            nn.Linear(channels // reduction, channels),\n",
        "            nn.Sigmoid()\n",
        "        )\n",
        "\n",
        "    def forward(self, x):\n",
        "        b, c, _, _ = x.size()\n",
        "        y = self.avg_pool(x).view(b, c)\n",
        "        y = self.fc(y).view(b, c, 1, 1)\n",
        "        return x * y\n",
        "\n",
        "\n",
        "# Residual-in-Residual Dense Block (RRDB)\n",
        "\n",
        "class RRDB(nn.Module):\n",
        "    \"\"\"Residual-in-Residual Dense Block\"\"\"\n",
        "    def __init__(self, channels):\n",
        "        super().__init__()\n",
        "        self.conv1 = nn.Conv2d(channels, channels, 3, padding=1)\n",
        "        self.conv2 = nn.Conv2d(channels*2, channels, 3, padding=1)\n",
        "        self.conv3 = nn.Conv2d(channels*3, channels, 3, padding=1)\n",
        "        self.lrelu = nn.LeakyReLU(0.2)\n",
        "        self.se = SEBlock(channels)\n",
        "\n",
        "    def forward(self, x):\n",
        "        out1 = self.lrelu(self.conv1(x))\n",
        "        out2 = self.lrelu(self.conv2(torch.cat([x, out1], 1)))\n",
        "        out3 = self.conv3(torch.cat([x, out1, out2], 1))\n",
        "        return self.se(out3 * 0.2 + x)  # Residual scaling\n",
        "\n",
        "class Generator(nn.Module):\n",
        "    def __init__(self, num_rrdb=6):\n",
        "        super(Generator, self).__init__()\n",
        "\n",
        "        # Initial feature extraction\n",
        "        self.initial_conv = nn.Sequential(\n",
        "            nn.Conv2d(3, 64, kernel_size=3, padding=1),\n",
        "            nn.ReLU(inplace=True),\n",
        "            nn.Conv2d(64, 64, kernel_size=3, padding=1),\n",
        "            nn.ReLU(inplace=True)\n",
        "        )\n",
        "\n",
        "        # RRDB Blocks\n",
        "        self.rrdb_blocks = nn.Sequential(*[RRDB(64) for _ in range(num_rrdb)])\n",
        "\n",
        "        # Global Residual Path (helps learn overall brightness correction)\n",
        "        self.global_residual = nn.Conv2d(3, 3, kernel_size=3, padding=1)\n",
        "\n",
        "        # Final convolution layers for reconstruction\n",
        "        self.final_conv = nn.Sequential(\n",
        "            nn.Conv2d(64, 64, kernel_size=3, padding=1),\n",
        "            nn.ReLU(inplace=True),\n",
        "            nn.Conv2d(64, 3, kernel_size=3, padding=1)\n",
        "        )\n",
        "\n",
        "    def forward(self, x):\n",
        "        initial_features = self.initial_conv(x)\n",
        "        enhanced_features = self.rrdb_blocks(initial_features)\n",
        "        reconstructed = self.final_conv(enhanced_features)\n",
        "        \n",
        "        # Adding the global residual path\n",
        "        output = reconstructed + self.global_residual(x)\n",
        "        \n",
        "        return torch.sigmoid(output)  # Normalize output to [0,1]\n",
        "    \n",
        "class PatchGANDiscriminator(nn.Module):\n",
        "    def __init__(self, in_channels=3, num_filters=64, num_layers=3):\n",
        "        super(PatchGANDiscriminator, self).__init__()\n",
        "        \n",
        "        # Initial convolutional layer\n",
        "        layers = [\n",
        "            nn.Conv2d(in_channels, num_filters, kernel_size=4, stride=2, padding=1),\n",
        "            nn.LeakyReLU(0.2, inplace=True)\n",
        "        ]\n",
        "        \n",
        "        # Intermediate convolutional layers\n",
        "        for i in range(1, num_layers):\n",
        "            layers += [\n",
        "                nn.Conv2d(num_filters * (2 ** (i - 1)), num_filters * (2 ** i), kernel_size=4, stride=2, padding=1),\n",
        "                nn.InstanceNorm2d(num_filters * (2 ** i)),\n",
        "                nn.LeakyReLU(0.2, inplace=True)\n",
        "            ]\n",
        "        \n",
        "        # Final convolutional layer\n",
        "        layers += [\n",
        "            nn.Conv2d(num_filters * (2 ** (num_layers - 1)), 1, kernel_size=4, stride=1, padding=1)\n",
        "        ]\n",
        "        \n",
        "        self.model = nn.Sequential(*layers)\n",
        "\n",
        "    def forward(self, x):\n",
        "        return self.model(x)  # Output shape: [batch_size, 1, H, W]\n",
        "    \n",
        "class GANLoss(nn.Module):\n",
        "    def __init__(self):\n",
        "        super().__init__()\n",
        "        self.loss = nn.BCEWithLogitsLoss()\n",
        "\n",
        "    def forward(self, pred, target_is_real):\n",
        "        target = torch.ones_like(pred) if target_is_real else torch.zeros_like(pred)\n",
        "        return self.loss(pred, target)\n",
        "\n",
        "class PerceptualLoss(nn.Module):\n",
        "    def __init__(self):\n",
        "        super(PerceptualLoss, self).__init__()\n",
        "        vgg = models.vgg19(pretrained=True).features[:16]  # Use first few layers\n",
        "        for param in vgg.parameters():\n",
        "            param.requires_grad = False  # Freeze VGG model\n",
        "        self.vgg = vgg.eval()\n",
        "        self.criterion = nn.L1Loss()\n",
        "\n",
        "    def forward(self, x, y):\n",
        "        x_features = self.vgg(x)\n",
        "        y_features = self.vgg(y)\n",
        "        return self.criterion(x_features, y_features)\n",
        "    \n",
        "def compute_gradient_penalty(disc, real_samples, fake_samples):\n",
        "    \"\"\"Calculates the gradient penalty loss for WGAN GP\"\"\"\n",
        "    # Random weight term for interpolation between real and fake samples\n",
        "    device = real_samples.device\n",
        "    alpha = torch.rand(real_samples.size(0), 1, 1, 1, device=device)\n",
        "    # Get random interpolation between real and fake samples\n",
        "    interpolates = (alpha * real_samples + ((1 - alpha) * fake_samples)).requires_grad_(True)\n",
        "    d_interpolates = disc(interpolates)\n",
        "    fake = torch.ones_like(d_interpolates)\n",
        "    \n",
        "    # Get gradient w.r.t. interpolates\n",
        "    gradients = torch.autograd.grad(\n",
        "        outputs=d_interpolates,\n",
        "        inputs=interpolates,\n",
        "        grad_outputs=fake,\n",
        "        create_graph=True,\n",
        "        retain_graph=True,\n",
        "        only_inputs=True,\n",
        "    )[0]\n",
        "    gradients = gradients.view(gradients.size(0), -1)\n",
        "    gradient_penalty = ((gradients.norm(2, dim=1) - 1) ** 2).mean()\n",
        "    return gradient_penalty\n",
        "\n",
        "def validate(generator, val_loader, epoch, criterion_perceptual, ssim, psnr, lpips, device):\n",
        "    generator.eval()\n",
        "    val_metrics = {'psnr': 0, 'ssim': 0, 'lpips': 0, 'val_loss': 0}\n",
        "\n",
        "    with torch.no_grad():\n",
        "        for low, high, *_ in tqdm(val_loader, desc=f'Validation Epoch {epoch}', leave=False):\n",
        "            low, high = low.to(device), high.to(device)\n",
        "            fake = generator(low)\n",
        "\n",
        "            # Validation loss (L1 + perceptual)\n",
        "            loss = (10 * F.l1_loss(fake, high) + 0.1 * criterion_perceptual(fake, high)).item()\n",
        "            \n",
        "            # Update metrics\n",
        "            val_metrics['val_loss'] += loss\n",
        "            val_metrics['psnr'] += psnr(fake, high)\n",
        "            val_metrics['ssim'] += ssim(fake, high)\n",
        "            val_metrics['lpips'] += lpips(fake, high)\n",
        "\n",
        "    for k in val_metrics:\n",
        "        val_metrics[k] /= len(val_loader)\n",
        "    return val_metrics\n",
        "\n",
        "class HybridLoss(nn.Module):\n",
        "    def __init__(self, device, total_epochs=200):\n",
        "        super().__init__()\n",
        "        self.lpips = LPIPS(replace_pooling=True).to(device).eval()\n",
        "        self.ssim = SSIM().to(device).eval()\n",
        "        self.total_epochs = total_epochs\n",
        "        self.current_epoch = 0\n",
        "        \n",
        "    def forward(self, pred, target, noise_pred=None, true_noise=None):\n",
        "        \"\"\"Combined loss with dynamic weighting\"\"\"\n",
        "        # Base losses\n",
        "        mse_loss = F.mse_loss(pred, target)  # If noise_pred is not provided, use direct MSE\n",
        "        if noise_pred is not None and true_noise is not None:\n",
        "            mse_loss = F.mse_loss(noise_pred, true_noise)\n",
        "            \n",
        "        lpips_loss = self.lpips(pred, target)\n",
        "        ssim_loss = 1 - self.ssim(pred, target)\n",
        "        \n",
        "        # Dynamic weights (progressively focus more on perceptual quality)\n",
        "        progress = self.current_epoch / self.total_epochs\n",
        "        lpips_w = 0.4  # Fixed high importance for perceptual quality\n",
        "        ssim_w = 0.3 * progress  # Increasing structural importance\n",
        "        mse_w = 1.0 - lpips_w - ssim_w  # Decreasing noise prediction importance\n",
        "        \n",
        "        total_loss = mse_w * mse_loss + lpips_w * lpips_loss + ssim_w * ssim_loss\n",
        "        \n",
        "        # Additional metrics\n",
        "        with torch.no_grad():\n",
        "            psnr = 10 * torch.log10(1 / F.mse_loss(pred, target))\n",
        "            \n",
        "        return total_loss, {\n",
        "            'loss': total_loss.item(),\n",
        "            'mse': mse_loss.item(),\n",
        "            'lpips': lpips_loss.item(),\n",
        "            'ssim': 1 - ssim_loss.item(),\n",
        "            'psnr': psnr.item()\n",
        "        }\n",
        "    \n",
        "def train_gan(\n",
        "    generator,\n",
        "    discriminator,\n",
        "    train_loader,\n",
        "    val_loader,\n",
        "    criterion_gan,\n",
        "    criterion_l1,\n",
        "    criterion_perceptual,\n",
        "    criterion_hybrid,\n",
        "    opt_g,\n",
        "    opt_d,\n",
        "    epochs,\n",
        "    device,\n",
        "    save_dir=\"NOAUG_NONORM_RRDB_SE_CHECKPOINTS\"\n",
        "):\n",
        "    os.makedirs(save_dir, exist_ok=True)\n",
        "    best_ssim = 0\n",
        "    best_psnr = 0\n",
        "    best_lpips = 100\n",
        "    best_hybrid_loss = float('inf')\n",
        "    \n",
        "    # Record training start time\n",
        "    start_time = time.time()\n",
        "\n",
        "    for epoch in range(epochs):\n",
        "        # Update current epoch for hybrid loss\n",
        "        criterion_hybrid.current_epoch = epoch\n",
        "        \n",
        "        # Training phase\n",
        "        generator.train()\n",
        "        discriminator.train()\n",
        "\n",
        "        train_bar = tqdm(train_loader, desc=f'Epoch {epoch+1}/{epochs}')\n",
        "        for low, high, *_ in train_bar:\n",
        "            low, high = low.to(device), high.to(device)\n",
        "\n",
        "            # --- Discriminator Update ---\n",
        "            opt_d.zero_grad()\n",
        "\n",
        "            # Real images\n",
        "            real_pred = discriminator(high)\n",
        "            real_loss = criterion_gan(real_pred, True)\n",
        "\n",
        "            # Fake images\n",
        "            fake = generator(low).detach()\n",
        "            fake_pred = discriminator(fake)\n",
        "            fake_loss = criterion_gan(fake_pred, False)\n",
        "            \n",
        "            gp = compute_gradient_penalty(discriminator, high.data, fake.data)\n",
        "            d_loss = (real_loss + fake_loss) / 2 + 10*gp\n",
        "            d_loss.backward()\n",
        "            opt_d.step()\n",
        "\n",
        "            # --- Generator Update ---\n",
        "            opt_g.zero_grad()\n",
        "            fake = generator(low)\n",
        "            \n",
        "            # GAN loss\n",
        "            g_gan_loss = criterion_gan(discriminator(fake), True)\n",
        "            \n",
        "            # Hybrid loss\n",
        "            hybrid_loss, hybrid_metrics = criterion_hybrid(fake, high)\n",
        "            \n",
        "            # Content loss\n",
        "            g_l1_loss = criterion_l1(fake, high) * 10\n",
        "            g_perc_loss = criterion_perceptual(fake, high) * 0.1\n",
        "            \n",
        "            # Combined generator loss\n",
        "            g_loss = g_gan_loss + 0.5 * hybrid_loss + g_l1_loss + g_perc_loss\n",
        "            g_loss.backward()\n",
        "            opt_g.step()\n",
        "\n",
        "            # Update progress bar\n",
        "            train_bar.set_postfix({\n",
        "                'D_loss': f'{d_loss.item():.3f}',\n",
        "                'G_loss': f'{g_loss.item():.3f}',\n",
        "                'Hybrid': f'{hybrid_loss.item():.3f}'\n",
        "            })\n",
        "\n",
        "        # Validation phase\n",
        "        val_metrics = validate(generator, val_loader, epoch+1, criterion_perceptual, ssim, psnr, lpips, device)\n",
        "        \n",
        "        # Calculate hybrid loss for validation\n",
        "        with torch.no_grad():\n",
        "            # Sample a batch from validation\n",
        "            val_low, val_high = next(iter(val_loader))[:2]\n",
        "            val_low, val_high = val_low.to(device), val_high.to(device)\n",
        "            val_fake = generator(val_low)\n",
        "            \n",
        "            # Compute hybrid loss\n",
        "            val_hybrid_loss, _ = criterion_hybrid(val_fake, val_high)\n",
        "            val_metrics['hybrid_loss'] = val_hybrid_loss.item()\n",
        "\n",
        "        # Print metrics\n",
        "        print(f\"\\nValidation @ Epoch {epoch+1}:\")\n",
        "        print(f\"PSNR: {val_metrics['psnr']:.2f} dB | SSIM: {val_metrics['ssim']:.4f} | LPIPS: {val_metrics['lpips']:.4f} | Hybrid: {val_metrics['hybrid_loss']:.4f}\")\n",
        "\n",
        "        # Save checkpoint for every epoch\n",
        "        torch.save({\n",
        "            'epoch': epoch+1,\n",
        "            'generator': generator.state_dict(),\n",
        "            'discriminator': discriminator.state_dict(),\n",
        "            'opt_g': opt_g.state_dict(),\n",
        "            'opt_d': opt_d.state_dict(),\n",
        "            'metrics': val_metrics\n",
        "        }, os.path.join(save_dir, f'epoch_{epoch+1}.pth'))\n",
        "\n",
        "        # Save best model - Hybrid Loss\n",
        "        if val_metrics['hybrid_loss'] < best_hybrid_loss:\n",
        "            best_hybrid_loss = val_metrics['hybrid_loss']\n",
        "            torch.save(generator.state_dict(), os.path.join(save_dir, 'best_hybrid.pth'))\n",
        "\n",
        "        # Save best model - Combined metrics\n",
        "        if (val_metrics['psnr'] > best_psnr) and (val_metrics['lpips'] < best_lpips) and (val_metrics['ssim'] > best_ssim):\n",
        "            torch.save(generator.state_dict(), os.path.join(save_dir, 'best_model.pth'))\n",
        "\n",
        "        if (val_metrics['lpips'] < best_lpips) and (val_metrics['ssim'] > best_ssim):\n",
        "            torch.save(generator.state_dict(), os.path.join(save_dir, 'best_lpips_ssim.pth'))\n",
        "\n",
        "        if (val_metrics['psnr'] > best_psnr) and (val_metrics['ssim'] > best_ssim):\n",
        "            torch.save(generator.state_dict(), os.path.join(save_dir, 'best_psnr_ssim.pth'))\n",
        "\n",
        "        if (val_metrics['psnr'] > best_psnr) and (val_metrics['lpips'] < best_lpips):\n",
        "            torch.save(generator.state_dict(), os.path.join(save_dir, 'best_psnr_lpips.pth'))\n",
        "                \n",
        "        if val_metrics['ssim'] > best_ssim:\n",
        "            best_ssim = val_metrics['ssim']\n",
        "            torch.save(generator.state_dict(), os.path.join(save_dir, 'best_ssim.pth'))\n",
        "                    \n",
        "        if val_metrics['psnr'] > best_psnr:\n",
        "            best_psnr = val_metrics['psnr']\n",
        "            torch.save(generator.state_dict(), os.path.join(save_dir, 'best_psnr.pth'))\n",
        "\n",
        "        if val_metrics['lpips'] < best_lpips:\n",
        "            best_lpips = val_metrics['lpips']\n",
        "            torch.save(generator.state_dict(), os.path.join(save_dir, 'best_lpips.pth'))\n",
        "\n",
        "        # Sample images\n",
        "        if (epoch+1) % 5 == 0:\n",
        "            with torch.no_grad():\n",
        "                fake = generator(low[:3])  # First 3 samples\n",
        "                save_image(\n",
        "                    torch.cat([low[:3], fake, high[:3]], 0),\n",
        "                    os.path.join(save_dir, f'sample_epoch_{epoch+1}.png'),\n",
        "                    nrow=3,\n",
        "                    normalize=True\n",
        "                )\n",
        "    \n",
        "    # Calculate and print total training time\n",
        "    total_training_time = time.time() - start_time\n",
        "    hours, remainder = divmod(total_training_time, 3600)\n",
        "    minutes, seconds = divmod(remainder, 60)\n",
        "    print(f\"Total training time: {int(hours)}h {int(minutes)}m {seconds:.2f}s\")\n",
        "    \n",
        "    # Save final model with training time information\n",
        "    torch.save({\n",
        "        'generator': generator.state_dict(),\n",
        "        'discriminator': discriminator.state_dict(),\n",
        "        'metrics': {\n",
        "            'best_psnr': best_psnr,\n",
        "            'best_ssim': best_ssim,\n",
        "            'best_lpips': best_lpips,\n",
        "            'best_hybrid_loss': best_hybrid_loss\n",
        "        },\n",
        "        'training_time': total_training_time\n",
        "    }, os.path.join(save_dir, 'final_model.pth'))\n",
        "\n",
        "## Common evaluating Metrics\n",
        "device = torch.device('cuda:6' if torch.cuda.is_available() else 'cpu')\n",
        "\n",
        "# Initialize metrics\n",
        "psnr = PSNR().to(device)\n",
        "ssim = SSIM().to(device)\n",
        "lpips = LPIPS(replace_pooling=True).to(device)\n",
        "\n",
        "# Initialize models and losses\n",
        "generator = Generator().to(device)\n",
        "discriminator = PatchGANDiscriminator().to(device)\n",
        "opt_g = optim.Adam(generator.parameters(), lr=1e-4, betas=(0.5, 0.999))\n",
        "opt_d = optim.Adam(discriminator.parameters(), lr=4e-4, betas=(0.5, 0.999))\n",
        "\n",
        "# Losses\n",
        "criterion_gan = GANLoss().to(device)\n",
        "criterion_l1 = nn.L1Loss().to(device)\n",
        "criterion_perceptual = PerceptualLoss().to(device)\n",
        "criterion_hybrid = HybridLoss(device, total_epochs=200)\n",
        "\n",
        "train_gan(\n",
        "    generator=generator,\n",
        "    discriminator=discriminator,\n",
        "    train_loader=train_loader,\n",
        "    val_loader=val_loader,\n",
        "    criterion_gan=criterion_gan,\n",
        "    criterion_l1=criterion_l1,\n",
        "    criterion_perceptual=criterion_perceptual,\n",
        "    criterion_hybrid=criterion_hybrid,\n",
        "    opt_g=opt_g,\n",
        "    opt_d=opt_d,\n",
        "    epochs=200,\n",
        "    device=device\n",
        ")"
      ]
    },
    {
      "cell_type": "code",
      "execution_count": 13,
      "metadata": {},
      "outputs": [
        {
          "name": "stderr",
          "output_type": "stream",
          "text": [
            "Testing: 100%|██████████| 15/15 [00:01<00:00,  8.84it/s]\n"
          ]
        },
        {
          "data": {
            "text/plain": [
              "{'psnr': tensor(18.7849, device='cuda:6'),\n",
              " 'ssim': tensor(0.8068, device='cuda:6'),\n",
              " 'lpips': tensor(0.2795, device='cuda:6'),\n",
              " 'samples': ['RRDB_SE_not_normalized_result/sample_00.png',\n",
              "  'RRDB_SE_not_normalized_result/sample_01.png',\n",
              "  'RRDB_SE_not_normalized_result/sample_02.png',\n",
              "  'RRDB_SE_not_normalized_result/sample_03.png',\n",
              "  'RRDB_SE_not_normalized_result/sample_04.png',\n",
              "  'RRDB_SE_not_normalized_result/sample_05.png',\n",
              "  'RRDB_SE_not_normalized_result/sample_06.png',\n",
              "  'RRDB_SE_not_normalized_result/sample_07.png',\n",
              "  'RRDB_SE_not_normalized_result/sample_08.png',\n",
              "  'RRDB_SE_not_normalized_result/sample_09.png',\n",
              "  'RRDB_SE_not_normalized_result/sample_10.png',\n",
              "  'RRDB_SE_not_normalized_result/sample_11.png',\n",
              "  'RRDB_SE_not_normalized_result/sample_12.png',\n",
              "  'RRDB_SE_not_normalized_result/sample_13.png',\n",
              "  'RRDB_SE_not_normalized_result/sample_14.png']}"
            ]
          },
          "execution_count": 13,
          "metadata": {},
          "output_type": "execute_result"
        }
      ],
      "source": [
        "def add_labels_to_image(image_tensor, labels):\n",
        "    \"\"\"\n",
        "    Add text labels to an image tensor\n",
        "    Args:\n",
        "        image_tensor: Tensor of shape (C, H, W)\n",
        "        labels: List of strings for each section\n",
        "    Returns:\n",
        "        Labeled PIL Image\n",
        "    \"\"\"\n",
        "    # Convert tensor to PIL Image\n",
        "    image = transforms.ToPILImage()(image_tensor.cpu())\n",
        "\n",
        "    # Create drawing context\n",
        "    draw = ImageDraw.Draw(image)\n",
        "\n",
        "    try:\n",
        "        font = ImageFont.truetype(\"arial.ttf\", 20)\n",
        "    except:\n",
        "        font = ImageFont.load_default()\n",
        "\n",
        "    # Calculate section widths\n",
        "    width = image.width\n",
        "    section_width = width // len(labels)\n",
        "\n",
        "    # Add labels to each section\n",
        "    for i, label in enumerate(labels):\n",
        "        # Get text bounding box (modern Pillow)\n",
        "        left, top, right, bottom = draw.textbbox((0, 0), label, font=font)\n",
        "        text_width = right - left\n",
        "        text_height = bottom - top\n",
        "\n",
        "        x = i * section_width + (section_width - text_width) // 2\n",
        "        draw.text((x, 10), label, font=font, fill=\"white\")\n",
        "\n",
        "    return image\n",
        "\n",
        "def evaluate_model(generator, test_loader, device, save_samples=True, sample_dir=\"RRDB_SE_not_normalized_result\"):\n",
        "    # Initialize metrics\n",
        "    psnr = PSNR().to(device)\n",
        "    ssim = SSIM().to(device)\n",
        "    lpips = LPIPS(replace_pooling=True).to(device)\n",
        "\n",
        "    metrics = {\n",
        "        'psnr': 0.0,\n",
        "        'ssim': 0.0,\n",
        "        'lpips': 0.0,\n",
        "        'samples': []\n",
        "    }\n",
        "\n",
        "    if save_samples:\n",
        "        os.makedirs(sample_dir, exist_ok=True)\n",
        "\n",
        "    generator.eval()\n",
        "    sample_counter = 0\n",
        "    with torch.no_grad():\n",
        "        for i, (low, high, *_) in enumerate(tqdm(test_loader, desc=\"Testing\")):\n",
        "            low, high = low.to(device), high.to(device)\n",
        "            fake = generator(low)\n",
        "\n",
        "            # Update metrics\n",
        "            metrics['psnr'] += psnr(fake, high) * low.size(0)\n",
        "            metrics['ssim'] += ssim(fake, high) * low.size(0)\n",
        "            metrics['lpips'] += lpips(fake, high) * low.size(0)\n",
        "\n",
        "            # Save ALL samples with labels\n",
        "            if save_samples:\n",
        "                for img_idx in range(low.size(0)):\n",
        "                    # Create horizontal comparison\n",
        "                    comparison = torch.cat([\n",
        "                        low[img_idx],\n",
        "                        fake[img_idx],\n",
        "                        high[img_idx]\n",
        "                    ], dim=-1)\n",
        "\n",
        "                    # Convert to labeled image\n",
        "                    labeled_img = add_labels_to_image(\n",
        "                        comparison,\n",
        "                        [\"Low Light Input\", \"Generated Output\", \"Ground Truth\"]\n",
        "                    )\n",
        "\n",
        "                    # Save image\n",
        "                    sample_path = os.path.join(sample_dir, f\"sample_{sample_counter:02d}.png\")\n",
        "                    labeled_img.save(sample_path)\n",
        "                    metrics['samples'].append(sample_path)\n",
        "                    sample_counter += 1\n",
        "\n",
        "                    if sample_counter >= 15:\n",
        "                        break\n",
        "\n",
        "    # Calculate average metrics\n",
        "    total_samples = min(15, len(test_loader.dataset))\n",
        "    metrics['psnr'] /= total_samples\n",
        "    metrics['ssim'] /= total_samples\n",
        "    metrics['lpips'] /= total_samples\n",
        "\n",
        "    return metrics\n",
        "\n",
        "generator = Generator().to(device)\n",
        "generator.load_state_dict(torch.load(\"NOAUG_NONORM_RRDB_SE_CHECKPOINTS/best_lpips_ssim.pth\"))\n",
        "\n",
        "# Running evaluation\n",
        "test_metrics = evaluate_model(\n",
        "        generator=generator,\n",
        "        test_loader=test_loader,  # Your prepared test loader\n",
        "        device=device,\n",
        "        save_samples=True,\n",
        "    )\n",
        "\n",
        "test_metrics"
      ]
    }
  ],
  "metadata": {
    "colab": {
      "provenance": []
    },
    "kernelspec": {
      "display_name": ".venv",
      "language": "python",
      "name": "python3"
    },
    "language_info": {
      "codemirror_mode": {
        "name": "ipython",
        "version": 3
      },
      "file_extension": ".py",
      "mimetype": "text/x-python",
      "name": "python",
      "nbconvert_exporter": "python",
      "pygments_lexer": "ipython3",
      "version": "3.10.12"
    },
    "widgets": {
      "application/vnd.jupyter.widget-state+json": {
        "581b12bc469a450e92c9ace7583453ea": {
          "model_module": "@jupyter-widgets/base",
          "model_module_version": "1.2.0",
          "model_name": "LayoutModel",
          "state": {
            "_model_module": "@jupyter-widgets/base",
            "_model_module_version": "1.2.0",
            "_model_name": "LayoutModel",
            "_view_count": null,
            "_view_module": "@jupyter-widgets/base",
            "_view_module_version": "1.2.0",
            "_view_name": "LayoutView",
            "align_content": null,
            "align_items": null,
            "align_self": null,
            "border": null,
            "bottom": null,
            "display": null,
            "flex": null,
            "flex_flow": null,
            "grid_area": null,
            "grid_auto_columns": null,
            "grid_auto_flow": null,
            "grid_auto_rows": null,
            "grid_column": null,
            "grid_gap": null,
            "grid_row": null,
            "grid_template_areas": null,
            "grid_template_columns": null,
            "grid_template_rows": null,
            "height": null,
            "justify_content": null,
            "justify_items": null,
            "left": null,
            "margin": null,
            "max_height": null,
            "max_width": null,
            "min_height": null,
            "min_width": null,
            "object_fit": null,
            "object_position": null,
            "order": null,
            "overflow": null,
            "overflow_x": null,
            "overflow_y": null,
            "padding": null,
            "right": null,
            "top": null,
            "visibility": null,
            "width": null
          }
        },
        "68a90f67a4d64e52a12dfb164b94dd5f": {
          "model_module": "@jupyter-widgets/controls",
          "model_module_version": "1.5.0",
          "model_name": "ButtonStyleModel",
          "state": {
            "_model_module": "@jupyter-widgets/controls",
            "_model_module_version": "1.5.0",
            "_model_name": "ButtonStyleModel",
            "_view_count": null,
            "_view_module": "@jupyter-widgets/base",
            "_view_module_version": "1.2.0",
            "_view_name": "StyleView",
            "button_color": null,
            "font_weight": ""
          }
        },
        "ba39a0ede4bc468f935b270069c4891d": {
          "model_module": "@jupyter-widgets/controls",
          "model_module_version": "1.5.0",
          "model_name": "FileUploadModel",
          "state": {
            "_counter": 7,
            "_dom_classes": [],
            "_model_module": "@jupyter-widgets/controls",
            "_model_module_version": "1.5.0",
            "_model_name": "FileUploadModel",
            "_view_count": null,
            "_view_module": "@jupyter-widgets/controls",
            "_view_module_version": "1.5.0",
            "_view_name": "FileUploadView",
            "accept": "image/*",
            "button_style": "",
            "data": [
              null
            ],
            "description": "Upload",
            "description_tooltip": null,
            "disabled": false,
            "error": "",
            "icon": "upload",
            "layout": "IPY_MODEL_581b12bc469a450e92c9ace7583453ea",
            "metadata": [
              {
                "lastModified": 1743833649773,
                "name": "test_2.jpg",
                "size": 61333,
                "type": "image/jpeg"
              }
            ],
            "multiple": false,
            "style": "IPY_MODEL_68a90f67a4d64e52a12dfb164b94dd5f"
          }
        }
      }
    }
  },
  "nbformat": 4,
  "nbformat_minor": 0
}
