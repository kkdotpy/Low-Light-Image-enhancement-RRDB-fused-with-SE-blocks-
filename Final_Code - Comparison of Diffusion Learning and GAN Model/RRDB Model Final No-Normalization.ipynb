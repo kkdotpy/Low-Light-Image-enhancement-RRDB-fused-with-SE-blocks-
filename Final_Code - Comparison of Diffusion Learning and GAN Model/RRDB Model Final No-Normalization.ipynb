{
  "cells": [
    {
      "cell_type": "markdown",
      "metadata": {},
      "source": [
        "# Initiation"
      ]
    },
    {
      "cell_type": "code",
      "execution_count": 1,
      "metadata": {
        "id": "0soa9rXuWN4z"
      },
      "outputs": [],
      "source": [
        "import os\n",
        "import random\n",
        "import numpy as np\n",
        "import torch\n",
        "import torch.nn as nn\n",
        "from torch.utils.data import Dataset, DataLoader, random_split\n",
        "from torchvision import transforms\n",
        "import matplotlib.pyplot as plt\n",
        "from tqdm import tqdm\n",
        "from torchmetrics import PeakSignalNoiseRatio as PSNR, StructuralSimilarityIndexMeasure as SSIM\n",
        "from piq import LPIPS\n",
        "import os\n",
        "import torch.nn.functional as F\n",
        "from torchvision.models import vgg19\n",
        "from torchvision.utils import save_image\n",
        "from torchvision.datasets import DatasetFolder\n",
        "from datetime import datetime\n",
        "from sklearn.model_selection import train_test_split\n",
        "from torchvision import transforms\n",
        "from PIL import Image, ImageDraw, ImageFont\n",
        "from copy import deepcopy\n",
        "import time\n",
        "\n",
        "import os\n",
        "import numpy as np\n",
        "import torch\n",
        "from torch.utils.data import Dataset, DataLoader\n",
        "import torchvision.transforms as transforms\n",
        "from PIL import Image\n",
        "import torch.nn as nn\n",
        "import torchvision.models as models\n",
        "import torch.nn.functional as F\n",
        "import torch.optim as optim\n",
        "import io\n",
        "from torchmetrics import PeakSignalNoiseRatio as PSNR, StructuralSimilarityIndexMeasure as SSIM\n",
        "from piq import LPIPS\n",
        "import ipywidgets as widgets\n",
        "from IPython.display import display, clear_output\n",
        "import matplotlib.pyplot as plt\n",
        "from tqdm import tqdm\n",
        "from torch.optim.lr_scheduler import LambdaLR\n",
        "from torchvision.utils import save_image\n",
        "import random\n"
      ]
    },
    {
      "cell_type": "code",
      "execution_count": 2,
      "metadata": {
        "id": "EVq1eL9_fwQj"
      },
      "outputs": [],
      "source": [
        "def set_seed(seed=42):\n",
        "    \"\"\"Set all random seeds for reproducibility.\"\"\"\n",
        "    random.seed(seed)\n",
        "    np.random.seed(seed)\n",
        "    torch.manual_seed(seed)\n",
        "    torch.cuda.manual_seed(seed)\n",
        "    torch.cuda.manual_seed_all(seed)  # if using multi-GPU\n",
        "    torch.backends.cudnn.deterministic = True\n",
        "    torch.backends.cudnn.benchmark = False\n",
        "\n",
        "# Set the seed (choose any number you like)\n",
        "set_seed(42)"
      ]
    },
    {
      "cell_type": "markdown",
      "metadata": {
        "id": "nIvEtsp7pjOq"
      },
      "source": [
        "# DataLoaders\n"
      ]
    },
    {
      "cell_type": "code",
      "execution_count": 3,
      "metadata": {},
      "outputs": [],
      "source": [
        "# Your existing dataset code\n",
        "dataset_path1 = r\"/home/ahansviar2/Deep Learning Project (GAN for Light)/downloaded_images\"\n",
        "train_path = f'{dataset_path1}/train'\n",
        "val_path = f'{dataset_path1}/val'\n",
        "test_path = f'{dataset_path1}/test'"
      ]
    },
    {
      "cell_type": "code",
      "execution_count": 4,
      "metadata": {},
      "outputs": [],
      "source": [
        "class CleanDataset(Dataset):\n",
        "    def __init__(self, root_dir, target_transform=None):\n",
        "        self.root_dir = root_dir\n",
        "        self.target_transform = target_transform\n",
        "        self.low_dir = os.path.join(root_dir, \"low\")\n",
        "        self.high_dir = os.path.join(root_dir, \"high\")\n",
        "        self.image_names = sorted(os.listdir(self.low_dir))\n",
        "\n",
        "    def __len__(self):\n",
        "        return len(self.image_names)\n",
        "\n",
        "    def __getitem__(self, idx):\n",
        "        low_img_path = os.path.join(self.low_dir, self.image_names[idx])\n",
        "        high_img_path = os.path.join(self.high_dir, self.image_names[idx])\n",
        "\n",
        "        low_img = Image.open(low_img_path).convert(\"RGB\")\n",
        "        high_img = Image.open(high_img_path).convert(\"RGB\")\n",
        "\n",
        "        if self.target_transform:\n",
        "            low_img = self.target_transform(low_img)\n",
        "            high_img = self.target_transform(high_img)\n",
        "            \n",
        "            \n",
        "        low_filename = os.path.basename(low_img_path)\n",
        "        high_filename = os.path.basename(high_img_path)\n",
        "        \n",
        "        return low_img, high_img, low_filename, high_filename\n",
        "\n",
        "target_transform = transforms.Compose([\n",
        "    transforms.Resize((256, 256)),\n",
        "    transforms.ToTensor(),\n",
        "    # transforms.Normalize((0.5, 0.5, 0.5), (0.5, 0.5, 0.5)),\n",
        "])\n",
        "\n",
        "train_dataset = CleanDataset(\n",
        "    root_dir=train_path, \n",
        "    target_transform = target_transform\n",
        ")\n",
        "\n",
        "val_dataset = CleanDataset(\n",
        "    root_dir=val_path,\n",
        "    target_transform = target_transform\n",
        ")\n",
        "\n",
        "test_dataset = CleanDataset(root_dir=test_path, target_transform = target_transform)\n",
        "\n",
        "batch_size = 8\n",
        "train_loader = DataLoader(\n",
        "    train_dataset,\n",
        "    batch_size=batch_size,\n",
        "    shuffle=True,\n",
        "    num_workers=2,\n",
        "    pin_memory=True   # Speeds up transfer to GPU\n",
        ")\n",
        "\n",
        "val_loader = DataLoader(\n",
        "    val_dataset,\n",
        "    batch_size=batch_size,\n",
        "    shuffle=False,         # No need for validation\n",
        "    num_workers=2,\n",
        "    pin_memory=True\n",
        ")\n",
        "\n",
        "test_loader = DataLoader(\n",
        "    test_dataset,\n",
        "    batch_size=1,       # Often use batch_size=1 for testing\n",
        "    shuffle=False,\n",
        "    num_workers=1\n",
        ")"
      ]
    },
    {
      "cell_type": "markdown",
      "metadata": {},
      "source": [
        "# Run Data"
      ]
    },
    {
      "cell_type": "code",
      "execution_count": 5,
      "metadata": {},
      "outputs": [
        {
          "name": "stdout",
          "output_type": "stream",
          "text": [
            "Using device: cuda:2\n"
          ]
        }
      ],
      "source": [
        "device = torch.device(\"cuda:2\" if torch.cuda.is_available() else \"cpu\")\n",
        "print(f\"Using device: {device}\")"
      ]
    },
    {
      "cell_type": "markdown",
      "metadata": {},
      "source": [
        "# MODEL ARCHITECTURE"
      ]
    },
    {
      "cell_type": "markdown",
      "metadata": {},
      "source": [
        "## RRDB GAN"
      ]
    },
    {
      "cell_type": "code",
      "execution_count": 6,
      "metadata": {
        "id": "78F5mzcafwQu",
        "outputId": "d50aa3d1-0846-484d-af6a-53f0bc60ea1c"
      },
      "outputs": [
        {
          "name": "stderr",
          "output_type": "stream",
          "text": [
            "/home/ahansviar2/Deep Learning Project (GAN for Light)/.venv/lib/python3.10/site-packages/torchmetrics/utilities/prints.py:62: FutureWarning: Importing `PeakSignalNoiseRatio` from `torchmetrics` was deprecated and will be removed in 2.0. Import `PeakSignalNoiseRatio` from `torchmetrics.image` instead.\n",
            "  _future_warning(\n",
            "/home/ahansviar2/Deep Learning Project (GAN for Light)/.venv/lib/python3.10/site-packages/torchmetrics/utilities/prints.py:62: FutureWarning: Importing `StructuralSimilarityIndexMeasure` from `torchmetrics` was deprecated and will be removed in 2.0. Import `StructuralSimilarityIndexMeasure` from `torchmetrics.image` instead.\n",
            "  _future_warning(\n",
            "/home/ahansviar2/Deep Learning Project (GAN for Light)/.venv/lib/python3.10/site-packages/torchvision/models/_utils.py:208: UserWarning: The parameter 'pretrained' is deprecated since 0.13 and may be removed in the future, please use 'weights' instead.\n",
            "  warnings.warn(\n",
            "/home/ahansviar2/Deep Learning Project (GAN for Light)/.venv/lib/python3.10/site-packages/torchvision/models/_utils.py:223: UserWarning: Arguments other than a weight enum or `None` for 'weights' are deprecated since 0.13 and may be removed in the future. The current behavior is equivalent to passing `weights=VGG16_Weights.IMAGENET1K_V1`. You can also use `weights=VGG16_Weights.DEFAULT` to get the most up-to-date weights.\n",
            "  warnings.warn(msg)\n",
            "/home/ahansviar2/Deep Learning Project (GAN for Light)/.venv/lib/python3.10/site-packages/torchvision/models/_utils.py:223: UserWarning: Arguments other than a weight enum or `None` for 'weights' are deprecated since 0.13 and may be removed in the future. The current behavior is equivalent to passing `weights=VGG19_Weights.IMAGENET1K_V1`. You can also use `weights=VGG19_Weights.DEFAULT` to get the most up-to-date weights.\n",
            "  warnings.warn(msg)\n",
            "Epoch 1/200: 100%|██████████| 49/49 [00:28<00:00,  1.71it/s, D_loss=714.586, G_loss=2.197, Hybrid=0.255]  \n",
            "                                                                   \r"
          ]
        },
        {
          "name": "stdout",
          "output_type": "stream",
          "text": [
            "\n",
            "Validation @ Epoch 1:\n",
            "PSNR: 14.86 dB | SSIM: 0.6145 | LPIPS: 0.4714 | Hybrid: 0.2168\n"
          ]
        },
        {
          "name": "stderr",
          "output_type": "stream",
          "text": [
            "Epoch 2/200: 100%|██████████| 49/49 [00:28<00:00,  1.72it/s, D_loss=40.938, G_loss=2.504, Hybrid=0.183] \n",
            "                                                                   \r"
          ]
        },
        {
          "name": "stdout",
          "output_type": "stream",
          "text": [
            "\n",
            "Validation @ Epoch 2:\n",
            "PSNR: 15.26 dB | SSIM: 0.6370 | LPIPS: 0.4272 | Hybrid: 0.1926\n"
          ]
        },
        {
          "name": "stderr",
          "output_type": "stream",
          "text": [
            "Epoch 3/200: 100%|██████████| 49/49 [00:28<00:00,  1.70it/s, D_loss=259.345, G_loss=2.448, Hybrid=0.185]\n",
            "                                                                   \r"
          ]
        },
        {
          "name": "stdout",
          "output_type": "stream",
          "text": [
            "\n",
            "Validation @ Epoch 3:\n",
            "PSNR: 15.57 dB | SSIM: 0.6723 | LPIPS: 0.3840 | Hybrid: 0.1789\n"
          ]
        },
        {
          "name": "stderr",
          "output_type": "stream",
          "text": [
            "Epoch 4/200: 100%|██████████| 49/49 [00:29<00:00,  1.69it/s, D_loss=6.620, G_loss=2.773, Hybrid=0.193]  \n",
            "                                                                   \r"
          ]
        },
        {
          "name": "stdout",
          "output_type": "stream",
          "text": [
            "\n",
            "Validation @ Epoch 4:\n",
            "PSNR: 15.24 dB | SSIM: 0.6798 | LPIPS: 0.3716 | Hybrid: 0.1746\n"
          ]
        },
        {
          "name": "stderr",
          "output_type": "stream",
          "text": [
            "Epoch 5/200: 100%|██████████| 49/49 [00:29<00:00,  1.68it/s, D_loss=14.034, G_loss=1.940, Hybrid=0.160]\n",
            "                                                                   \r"
          ]
        },
        {
          "name": "stdout",
          "output_type": "stream",
          "text": [
            "\n",
            "Validation @ Epoch 5:\n",
            "PSNR: 15.62 dB | SSIM: 0.7286 | LPIPS: 0.3468 | Hybrid: 0.1756\n"
          ]
        },
        {
          "name": "stderr",
          "output_type": "stream",
          "text": [
            "Epoch 6/200: 100%|██████████| 49/49 [00:29<00:00,  1.67it/s, D_loss=3.209, G_loss=2.002, Hybrid=0.178] \n",
            "                                                                   \r"
          ]
        },
        {
          "name": "stdout",
          "output_type": "stream",
          "text": [
            "\n",
            "Validation @ Epoch 6:\n",
            "PSNR: 16.33 dB | SSIM: 0.7518 | LPIPS: 0.3160 | Hybrid: 0.1538\n"
          ]
        },
        {
          "name": "stderr",
          "output_type": "stream",
          "text": [
            "Epoch 7/200: 100%|██████████| 49/49 [00:29<00:00,  1.67it/s, D_loss=4.924, G_loss=2.404, Hybrid=0.158]  \n",
            "                                                                   \r"
          ]
        },
        {
          "name": "stdout",
          "output_type": "stream",
          "text": [
            "\n",
            "Validation @ Epoch 7:\n",
            "PSNR: 16.49 dB | SSIM: 0.7527 | LPIPS: 0.3076 | Hybrid: 0.1517\n"
          ]
        },
        {
          "name": "stderr",
          "output_type": "stream",
          "text": [
            "Epoch 8/200: 100%|██████████| 49/49 [00:29<00:00,  1.67it/s, D_loss=4.269, G_loss=2.233, Hybrid=0.154] \n",
            "                                                                   \r"
          ]
        },
        {
          "name": "stdout",
          "output_type": "stream",
          "text": [
            "\n",
            "Validation @ Epoch 8:\n",
            "PSNR: 15.37 dB | SSIM: 0.7313 | LPIPS: 0.3227 | Hybrid: 0.1470\n"
          ]
        },
        {
          "name": "stderr",
          "output_type": "stream",
          "text": [
            "Epoch 9/200: 100%|██████████| 49/49 [00:29<00:00,  1.67it/s, D_loss=28.267, G_loss=2.063, Hybrid=0.178]\n",
            "                                                                   \r"
          ]
        },
        {
          "name": "stdout",
          "output_type": "stream",
          "text": [
            "\n",
            "Validation @ Epoch 9:\n",
            "PSNR: 16.20 dB | SSIM: 0.7599 | LPIPS: 0.2955 | Hybrid: 0.1399\n"
          ]
        },
        {
          "name": "stderr",
          "output_type": "stream",
          "text": [
            "Epoch 10/200: 100%|██████████| 49/49 [00:29<00:00,  1.67it/s, D_loss=5.522, G_loss=1.940, Hybrid=0.124] \n",
            "                                                                    \r"
          ]
        },
        {
          "name": "stdout",
          "output_type": "stream",
          "text": [
            "\n",
            "Validation @ Epoch 10:\n",
            "PSNR: 16.47 dB | SSIM: 0.7721 | LPIPS: 0.2881 | Hybrid: 0.1362\n"
          ]
        },
        {
          "name": "stderr",
          "output_type": "stream",
          "text": [
            "Epoch 11/200: 100%|██████████| 49/49 [00:29<00:00,  1.67it/s, D_loss=12.165, G_loss=1.988, Hybrid=0.104] \n",
            "                                                                    \r"
          ]
        },
        {
          "name": "stdout",
          "output_type": "stream",
          "text": [
            "\n",
            "Validation @ Epoch 11:\n",
            "PSNR: 16.43 dB | SSIM: 0.7780 | LPIPS: 0.2911 | Hybrid: 0.1423\n"
          ]
        },
        {
          "name": "stderr",
          "output_type": "stream",
          "text": [
            "Epoch 12/200: 100%|██████████| 49/49 [00:29<00:00,  1.67it/s, D_loss=1.510, G_loss=2.659, Hybrid=0.135] \n",
            "                                                                    \r"
          ]
        },
        {
          "name": "stdout",
          "output_type": "stream",
          "text": [
            "\n",
            "Validation @ Epoch 12:\n",
            "PSNR: 16.63 dB | SSIM: 0.7817 | LPIPS: 0.2731 | Hybrid: 0.1253\n"
          ]
        },
        {
          "name": "stderr",
          "output_type": "stream",
          "text": [
            "Epoch 13/200: 100%|██████████| 49/49 [00:29<00:00,  1.67it/s, D_loss=6.702, G_loss=2.131, Hybrid=0.142]  \n",
            "                                                                    \r"
          ]
        },
        {
          "name": "stdout",
          "output_type": "stream",
          "text": [
            "\n",
            "Validation @ Epoch 13:\n",
            "PSNR: 15.82 dB | SSIM: 0.7612 | LPIPS: 0.2783 | Hybrid: 0.1253\n"
          ]
        },
        {
          "name": "stderr",
          "output_type": "stream",
          "text": [
            "Epoch 14/200: 100%|██████████| 49/49 [00:29<00:00,  1.67it/s, D_loss=1.040, G_loss=2.108, Hybrid=0.138] \n",
            "                                                                    \r"
          ]
        },
        {
          "name": "stdout",
          "output_type": "stream",
          "text": [
            "\n",
            "Validation @ Epoch 14:\n",
            "PSNR: 16.65 dB | SSIM: 0.7890 | LPIPS: 0.2599 | Hybrid: 0.1263\n"
          ]
        },
        {
          "name": "stderr",
          "output_type": "stream",
          "text": [
            "Epoch 15/200: 100%|██████████| 49/49 [00:29<00:00,  1.67it/s, D_loss=2.805, G_loss=2.390, Hybrid=0.190] \n",
            "                                                                    \r"
          ]
        },
        {
          "name": "stdout",
          "output_type": "stream",
          "text": [
            "\n",
            "Validation @ Epoch 15:\n",
            "PSNR: 16.09 dB | SSIM: 0.7774 | LPIPS: 0.2694 | Hybrid: 0.1278\n"
          ]
        },
        {
          "name": "stderr",
          "output_type": "stream",
          "text": [
            "Epoch 16/200: 100%|██████████| 49/49 [00:29<00:00,  1.67it/s, D_loss=1.492, G_loss=2.427, Hybrid=0.128] \n",
            "                                                                    \r"
          ]
        },
        {
          "name": "stdout",
          "output_type": "stream",
          "text": [
            "\n",
            "Validation @ Epoch 16:\n",
            "PSNR: 15.93 dB | SSIM: 0.7716 | LPIPS: 0.2889 | Hybrid: 0.1525\n"
          ]
        },
        {
          "name": "stderr",
          "output_type": "stream",
          "text": [
            "Epoch 17/200: 100%|██████████| 49/49 [00:29<00:00,  1.67it/s, D_loss=1.364, G_loss=1.940, Hybrid=0.107]  \n",
            "                                                                    \r"
          ]
        },
        {
          "name": "stdout",
          "output_type": "stream",
          "text": [
            "\n",
            "Validation @ Epoch 17:\n",
            "PSNR: 15.96 dB | SSIM: 0.7548 | LPIPS: 0.2658 | Hybrid: 0.1551\n"
          ]
        },
        {
          "name": "stderr",
          "output_type": "stream",
          "text": [
            "Epoch 18/200: 100%|██████████| 49/49 [00:29<00:00,  1.67it/s, D_loss=26.578, G_loss=1.715, Hybrid=0.107]\n",
            "                                                                    \r"
          ]
        },
        {
          "name": "stdout",
          "output_type": "stream",
          "text": [
            "\n",
            "Validation @ Epoch 18:\n",
            "PSNR: 16.81 dB | SSIM: 0.8040 | LPIPS: 0.2475 | Hybrid: 0.1247\n"
          ]
        },
        {
          "name": "stderr",
          "output_type": "stream",
          "text": [
            "Epoch 19/200: 100%|██████████| 49/49 [00:29<00:00,  1.67it/s, D_loss=1.044, G_loss=2.191, Hybrid=0.103]  \n",
            "                                                                    \r"
          ]
        },
        {
          "name": "stdout",
          "output_type": "stream",
          "text": [
            "\n",
            "Validation @ Epoch 19:\n",
            "PSNR: 16.70 dB | SSIM: 0.8047 | LPIPS: 0.2472 | Hybrid: 0.1288\n"
          ]
        },
        {
          "name": "stderr",
          "output_type": "stream",
          "text": [
            "Epoch 20/200: 100%|██████████| 49/49 [00:29<00:00,  1.66it/s, D_loss=1.179, G_loss=1.747, Hybrid=0.141] \n",
            "                                                                    \r"
          ]
        },
        {
          "name": "stdout",
          "output_type": "stream",
          "text": [
            "\n",
            "Validation @ Epoch 20:\n",
            "PSNR: 16.32 dB | SSIM: 0.7937 | LPIPS: 0.2578 | Hybrid: 0.1336\n"
          ]
        },
        {
          "name": "stderr",
          "output_type": "stream",
          "text": [
            "Epoch 21/200: 100%|██████████| 49/49 [00:29<00:00,  1.66it/s, D_loss=14.111, G_loss=2.382, Hybrid=0.160]\n",
            "                                                                    \r"
          ]
        },
        {
          "name": "stdout",
          "output_type": "stream",
          "text": [
            "\n",
            "Validation @ Epoch 21:\n",
            "PSNR: 15.94 dB | SSIM: 0.7804 | LPIPS: 0.2573 | Hybrid: 0.1475\n"
          ]
        },
        {
          "name": "stderr",
          "output_type": "stream",
          "text": [
            "Epoch 22/200: 100%|██████████| 49/49 [00:29<00:00,  1.66it/s, D_loss=1.217, G_loss=1.528, Hybrid=0.090] \n",
            "                                                                    \r"
          ]
        },
        {
          "name": "stdout",
          "output_type": "stream",
          "text": [
            "\n",
            "Validation @ Epoch 22:\n",
            "PSNR: 17.20 dB | SSIM: 0.8086 | LPIPS: 0.2393 | Hybrid: 0.1236\n"
          ]
        },
        {
          "name": "stderr",
          "output_type": "stream",
          "text": [
            "Epoch 23/200: 100%|██████████| 49/49 [00:29<00:00,  1.67it/s, D_loss=1.107, G_loss=1.982, Hybrid=0.125] \n",
            "                                                                    \r"
          ]
        },
        {
          "name": "stdout",
          "output_type": "stream",
          "text": [
            "\n",
            "Validation @ Epoch 23:\n",
            "PSNR: 15.96 dB | SSIM: 0.7812 | LPIPS: 0.2627 | Hybrid: 0.1608\n"
          ]
        },
        {
          "name": "stderr",
          "output_type": "stream",
          "text": [
            "Epoch 24/200: 100%|██████████| 49/49 [00:29<00:00,  1.67it/s, D_loss=0.895, G_loss=2.105, Hybrid=0.144]\n",
            "                                                                    \r"
          ]
        },
        {
          "name": "stdout",
          "output_type": "stream",
          "text": [
            "\n",
            "Validation @ Epoch 24:\n",
            "PSNR: 16.26 dB | SSIM: 0.7874 | LPIPS: 0.2575 | Hybrid: 0.1434\n"
          ]
        },
        {
          "name": "stderr",
          "output_type": "stream",
          "text": [
            "Epoch 25/200: 100%|██████████| 49/49 [00:29<00:00,  1.66it/s, D_loss=0.715, G_loss=2.468, Hybrid=0.134]\n",
            "                                                                    \r"
          ]
        },
        {
          "name": "stdout",
          "output_type": "stream",
          "text": [
            "\n",
            "Validation @ Epoch 25:\n",
            "PSNR: 16.29 dB | SSIM: 0.7979 | LPIPS: 0.2519 | Hybrid: 0.1175\n"
          ]
        },
        {
          "name": "stderr",
          "output_type": "stream",
          "text": [
            "Epoch 26/200: 100%|██████████| 49/49 [00:29<00:00,  1.66it/s, D_loss=0.972, G_loss=2.164, Hybrid=0.135] \n",
            "                                                                    \r"
          ]
        },
        {
          "name": "stdout",
          "output_type": "stream",
          "text": [
            "\n",
            "Validation @ Epoch 26:\n",
            "PSNR: 17.07 dB | SSIM: 0.8154 | LPIPS: 0.2389 | Hybrid: 0.1155\n"
          ]
        },
        {
          "name": "stderr",
          "output_type": "stream",
          "text": [
            "Epoch 27/200: 100%|██████████| 49/49 [00:29<00:00,  1.66it/s, D_loss=10.082, G_loss=2.234, Hybrid=0.167]\n",
            "                                                                    \r"
          ]
        },
        {
          "name": "stdout",
          "output_type": "stream",
          "text": [
            "\n",
            "Validation @ Epoch 27:\n",
            "PSNR: 16.66 dB | SSIM: 0.8096 | LPIPS: 0.2498 | Hybrid: 0.1275\n"
          ]
        },
        {
          "name": "stderr",
          "output_type": "stream",
          "text": [
            "Epoch 28/200: 100%|██████████| 49/49 [00:29<00:00,  1.66it/s, D_loss=1.445, G_loss=1.807, Hybrid=0.118]\n",
            "                                                                    \r"
          ]
        },
        {
          "name": "stdout",
          "output_type": "stream",
          "text": [
            "\n",
            "Validation @ Epoch 28:\n",
            "PSNR: 16.40 dB | SSIM: 0.7985 | LPIPS: 0.2444 | Hybrid: 0.1229\n"
          ]
        },
        {
          "name": "stderr",
          "output_type": "stream",
          "text": [
            "Epoch 29/200: 100%|██████████| 49/49 [00:29<00:00,  1.67it/s, D_loss=0.870, G_loss=2.025, Hybrid=0.125]\n",
            "                                                                    \r"
          ]
        },
        {
          "name": "stdout",
          "output_type": "stream",
          "text": [
            "\n",
            "Validation @ Epoch 29:\n",
            "PSNR: 16.66 dB | SSIM: 0.8082 | LPIPS: 0.2478 | Hybrid: 0.1265\n"
          ]
        },
        {
          "name": "stderr",
          "output_type": "stream",
          "text": [
            "Epoch 30/200: 100%|██████████| 49/49 [00:29<00:00,  1.66it/s, D_loss=0.986, G_loss=1.826, Hybrid=0.102]\n",
            "                                                                    \r"
          ]
        },
        {
          "name": "stdout",
          "output_type": "stream",
          "text": [
            "\n",
            "Validation @ Epoch 30:\n",
            "PSNR: 16.60 dB | SSIM: 0.7974 | LPIPS: 0.2500 | Hybrid: 0.1325\n"
          ]
        },
        {
          "name": "stderr",
          "output_type": "stream",
          "text": [
            "Epoch 31/200: 100%|██████████| 49/49 [00:29<00:00,  1.67it/s, D_loss=1.176, G_loss=1.962, Hybrid=0.104]\n",
            "                                                                    \r"
          ]
        },
        {
          "name": "stdout",
          "output_type": "stream",
          "text": [
            "\n",
            "Validation @ Epoch 31:\n",
            "PSNR: 16.99 dB | SSIM: 0.8176 | LPIPS: 0.2348 | Hybrid: 0.1180\n"
          ]
        },
        {
          "name": "stderr",
          "output_type": "stream",
          "text": [
            "Epoch 32/200: 100%|██████████| 49/49 [00:29<00:00,  1.67it/s, D_loss=0.774, G_loss=2.466, Hybrid=0.123]\n",
            "                                                                    \r"
          ]
        },
        {
          "name": "stdout",
          "output_type": "stream",
          "text": [
            "\n",
            "Validation @ Epoch 32:\n",
            "PSNR: 16.43 dB | SSIM: 0.8018 | LPIPS: 0.2371 | Hybrid: 0.1173\n"
          ]
        },
        {
          "name": "stderr",
          "output_type": "stream",
          "text": [
            "Epoch 33/200: 100%|██████████| 49/49 [00:29<00:00,  1.67it/s, D_loss=0.893, G_loss=1.745, Hybrid=0.101]\n",
            "                                                                    \r"
          ]
        },
        {
          "name": "stdout",
          "output_type": "stream",
          "text": [
            "\n",
            "Validation @ Epoch 33:\n",
            "PSNR: 17.31 dB | SSIM: 0.8198 | LPIPS: 0.2293 | Hybrid: 0.1202\n"
          ]
        },
        {
          "name": "stderr",
          "output_type": "stream",
          "text": [
            "Epoch 34/200: 100%|██████████| 49/49 [00:29<00:00,  1.66it/s, D_loss=0.823, G_loss=1.890, Hybrid=0.129]\n",
            "                                                                    \r"
          ]
        },
        {
          "name": "stdout",
          "output_type": "stream",
          "text": [
            "\n",
            "Validation @ Epoch 34:\n",
            "PSNR: 16.84 dB | SSIM: 0.8181 | LPIPS: 0.2348 | Hybrid: 0.1202\n"
          ]
        },
        {
          "name": "stderr",
          "output_type": "stream",
          "text": [
            "Epoch 35/200: 100%|██████████| 49/49 [00:29<00:00,  1.66it/s, D_loss=1.481, G_loss=2.150, Hybrid=0.122]\n",
            "                                                                    \r"
          ]
        },
        {
          "name": "stdout",
          "output_type": "stream",
          "text": [
            "\n",
            "Validation @ Epoch 35:\n",
            "PSNR: 16.76 dB | SSIM: 0.8118 | LPIPS: 0.2408 | Hybrid: 0.1231\n"
          ]
        },
        {
          "name": "stderr",
          "output_type": "stream",
          "text": [
            "Epoch 36/200: 100%|██████████| 49/49 [00:29<00:00,  1.67it/s, D_loss=1.075, G_loss=1.506, Hybrid=0.093]\n",
            "                                                                    \r"
          ]
        },
        {
          "name": "stdout",
          "output_type": "stream",
          "text": [
            "\n",
            "Validation @ Epoch 36:\n",
            "PSNR: 16.99 dB | SSIM: 0.8132 | LPIPS: 0.2395 | Hybrid: 0.1319\n"
          ]
        },
        {
          "name": "stderr",
          "output_type": "stream",
          "text": [
            "Epoch 37/200: 100%|██████████| 49/49 [00:29<00:00,  1.67it/s, D_loss=1.145, G_loss=2.727, Hybrid=0.134]\n",
            "                                                                    \r"
          ]
        },
        {
          "name": "stdout",
          "output_type": "stream",
          "text": [
            "\n",
            "Validation @ Epoch 37:\n",
            "PSNR: 16.43 dB | SSIM: 0.8056 | LPIPS: 0.2309 | Hybrid: 0.1177\n"
          ]
        },
        {
          "name": "stderr",
          "output_type": "stream",
          "text": [
            "Epoch 38/200: 100%|██████████| 49/49 [00:29<00:00,  1.67it/s, D_loss=0.698, G_loss=2.154, Hybrid=0.152]\n",
            "                                                                    \r"
          ]
        },
        {
          "name": "stdout",
          "output_type": "stream",
          "text": [
            "\n",
            "Validation @ Epoch 38:\n",
            "PSNR: 16.97 dB | SSIM: 0.8205 | LPIPS: 0.2353 | Hybrid: 0.1179\n"
          ]
        },
        {
          "name": "stderr",
          "output_type": "stream",
          "text": [
            "Epoch 39/200: 100%|██████████| 49/49 [00:29<00:00,  1.67it/s, D_loss=1.347, G_loss=1.941, Hybrid=0.108] \n",
            "                                                                    \r"
          ]
        },
        {
          "name": "stdout",
          "output_type": "stream",
          "text": [
            "\n",
            "Validation @ Epoch 39:\n",
            "PSNR: 16.77 dB | SSIM: 0.8121 | LPIPS: 0.2341 | Hybrid: 0.1276\n"
          ]
        },
        {
          "name": "stderr",
          "output_type": "stream",
          "text": [
            "Epoch 40/200: 100%|██████████| 49/49 [00:29<00:00,  1.67it/s, D_loss=0.804, G_loss=1.839, Hybrid=0.138]\n",
            "                                                                    \r"
          ]
        },
        {
          "name": "stdout",
          "output_type": "stream",
          "text": [
            "\n",
            "Validation @ Epoch 40:\n",
            "PSNR: 17.29 dB | SSIM: 0.8214 | LPIPS: 0.2286 | Hybrid: 0.1361\n"
          ]
        },
        {
          "name": "stderr",
          "output_type": "stream",
          "text": [
            "Epoch 41/200: 100%|██████████| 49/49 [00:29<00:00,  1.67it/s, D_loss=1.134, G_loss=2.414, Hybrid=0.161]\n",
            "                                                                    \r"
          ]
        },
        {
          "name": "stdout",
          "output_type": "stream",
          "text": [
            "\n",
            "Validation @ Epoch 41:\n",
            "PSNR: 16.78 dB | SSIM: 0.8169 | LPIPS: 0.2274 | Hybrid: 0.1157\n"
          ]
        },
        {
          "name": "stderr",
          "output_type": "stream",
          "text": [
            "Epoch 42/200: 100%|██████████| 49/49 [00:29<00:00,  1.67it/s, D_loss=0.772, G_loss=1.514, Hybrid=0.096] \n",
            "                                                                    \r"
          ]
        },
        {
          "name": "stdout",
          "output_type": "stream",
          "text": [
            "\n",
            "Validation @ Epoch 42:\n",
            "PSNR: 17.16 dB | SSIM: 0.8282 | LPIPS: 0.2151 | Hybrid: 0.1138\n"
          ]
        },
        {
          "name": "stderr",
          "output_type": "stream",
          "text": [
            "Epoch 43/200: 100%|██████████| 49/49 [00:29<00:00,  1.67it/s, D_loss=0.802, G_loss=2.002, Hybrid=0.144]\n",
            "                                                                    \r"
          ]
        },
        {
          "name": "stdout",
          "output_type": "stream",
          "text": [
            "\n",
            "Validation @ Epoch 43:\n",
            "PSNR: 16.89 dB | SSIM: 0.8209 | LPIPS: 0.2197 | Hybrid: 0.1177\n"
          ]
        },
        {
          "name": "stderr",
          "output_type": "stream",
          "text": [
            "Epoch 44/200: 100%|██████████| 49/49 [00:29<00:00,  1.67it/s, D_loss=0.836, G_loss=1.553, Hybrid=0.110]\n",
            "                                                                    \r"
          ]
        },
        {
          "name": "stdout",
          "output_type": "stream",
          "text": [
            "\n",
            "Validation @ Epoch 44:\n",
            "PSNR: 16.63 dB | SSIM: 0.8027 | LPIPS: 0.2444 | Hybrid: 0.1428\n"
          ]
        },
        {
          "name": "stderr",
          "output_type": "stream",
          "text": [
            "Epoch 45/200: 100%|██████████| 49/49 [00:29<00:00,  1.67it/s, D_loss=1.148, G_loss=1.895, Hybrid=0.143]\n",
            "                                                                    \r"
          ]
        },
        {
          "name": "stdout",
          "output_type": "stream",
          "text": [
            "\n",
            "Validation @ Epoch 45:\n",
            "PSNR: 17.06 dB | SSIM: 0.8282 | LPIPS: 0.2097 | Hybrid: 0.1132\n"
          ]
        },
        {
          "name": "stderr",
          "output_type": "stream",
          "text": [
            "Epoch 46/200: 100%|██████████| 49/49 [00:29<00:00,  1.67it/s, D_loss=0.786, G_loss=1.948, Hybrid=0.132]\n",
            "                                                                    \r"
          ]
        },
        {
          "name": "stdout",
          "output_type": "stream",
          "text": [
            "\n",
            "Validation @ Epoch 46:\n",
            "PSNR: 16.93 dB | SSIM: 0.8187 | LPIPS: 0.2376 | Hybrid: 0.1191\n"
          ]
        },
        {
          "name": "stderr",
          "output_type": "stream",
          "text": [
            "Epoch 47/200: 100%|██████████| 49/49 [00:29<00:00,  1.67it/s, D_loss=0.854, G_loss=1.941, Hybrid=0.123]\n",
            "                                                                    \r"
          ]
        },
        {
          "name": "stdout",
          "output_type": "stream",
          "text": [
            "\n",
            "Validation @ Epoch 47:\n",
            "PSNR: 17.07 dB | SSIM: 0.8238 | LPIPS: 0.2248 | Hybrid: 0.1161\n"
          ]
        },
        {
          "name": "stderr",
          "output_type": "stream",
          "text": [
            "Epoch 48/200: 100%|██████████| 49/49 [00:29<00:00,  1.67it/s, D_loss=0.911, G_loss=1.973, Hybrid=0.136] \n",
            "                                                                    \r"
          ]
        },
        {
          "name": "stdout",
          "output_type": "stream",
          "text": [
            "\n",
            "Validation @ Epoch 48:\n",
            "PSNR: 16.73 dB | SSIM: 0.8191 | LPIPS: 0.2239 | Hybrid: 0.1288\n"
          ]
        },
        {
          "name": "stderr",
          "output_type": "stream",
          "text": [
            "Epoch 49/200: 100%|██████████| 49/49 [00:29<00:00,  1.67it/s, D_loss=2.044, G_loss=1.709, Hybrid=0.113]\n",
            "                                                                    \r"
          ]
        },
        {
          "name": "stdout",
          "output_type": "stream",
          "text": [
            "\n",
            "Validation @ Epoch 49:\n",
            "PSNR: 17.24 dB | SSIM: 0.8334 | LPIPS: 0.2083 | Hybrid: 0.1228\n"
          ]
        },
        {
          "name": "stderr",
          "output_type": "stream",
          "text": [
            "Epoch 50/200: 100%|██████████| 49/49 [00:29<00:00,  1.67it/s, D_loss=0.794, G_loss=2.276, Hybrid=0.159]\n",
            "                                                                    \r"
          ]
        },
        {
          "name": "stdout",
          "output_type": "stream",
          "text": [
            "\n",
            "Validation @ Epoch 50:\n",
            "PSNR: 17.15 dB | SSIM: 0.8031 | LPIPS: 0.2485 | Hybrid: 0.1356\n"
          ]
        },
        {
          "name": "stderr",
          "output_type": "stream",
          "text": [
            "Epoch 51/200: 100%|██████████| 49/49 [00:29<00:00,  1.67it/s, D_loss=0.769, G_loss=2.258, Hybrid=0.125]\n",
            "                                                                    \r"
          ]
        },
        {
          "name": "stdout",
          "output_type": "stream",
          "text": [
            "\n",
            "Validation @ Epoch 51:\n",
            "PSNR: 16.41 dB | SSIM: 0.8135 | LPIPS: 0.2161 | Hybrid: 0.1112\n"
          ]
        },
        {
          "name": "stderr",
          "output_type": "stream",
          "text": [
            "Epoch 52/200: 100%|██████████| 49/49 [00:29<00:00,  1.67it/s, D_loss=0.870, G_loss=2.096, Hybrid=0.114]\n",
            "                                                                    \r"
          ]
        },
        {
          "name": "stdout",
          "output_type": "stream",
          "text": [
            "\n",
            "Validation @ Epoch 52:\n",
            "PSNR: 16.60 dB | SSIM: 0.8202 | LPIPS: 0.2223 | Hybrid: 0.1134\n"
          ]
        },
        {
          "name": "stderr",
          "output_type": "stream",
          "text": [
            "Epoch 53/200: 100%|██████████| 49/49 [00:29<00:00,  1.66it/s, D_loss=0.768, G_loss=1.579, Hybrid=0.105]\n",
            "                                                                    \r"
          ]
        },
        {
          "name": "stdout",
          "output_type": "stream",
          "text": [
            "\n",
            "Validation @ Epoch 53:\n",
            "PSNR: 16.95 dB | SSIM: 0.8301 | LPIPS: 0.2135 | Hybrid: 0.1152\n"
          ]
        },
        {
          "name": "stderr",
          "output_type": "stream",
          "text": [
            "Epoch 54/200: 100%|██████████| 49/49 [00:29<00:00,  1.66it/s, D_loss=0.707, G_loss=1.584, Hybrid=0.124]\n",
            "                                                                    \r"
          ]
        },
        {
          "name": "stdout",
          "output_type": "stream",
          "text": [
            "\n",
            "Validation @ Epoch 54:\n",
            "PSNR: 16.27 dB | SSIM: 0.8143 | LPIPS: 0.2237 | Hybrid: 0.1090\n"
          ]
        },
        {
          "name": "stderr",
          "output_type": "stream",
          "text": [
            "Epoch 55/200: 100%|██████████| 49/49 [00:29<00:00,  1.67it/s, D_loss=1.199, G_loss=2.144, Hybrid=0.146]\n",
            "                                                                    \r"
          ]
        },
        {
          "name": "stdout",
          "output_type": "stream",
          "text": [
            "\n",
            "Validation @ Epoch 55:\n",
            "PSNR: 16.79 dB | SSIM: 0.8243 | LPIPS: 0.2238 | Hybrid: 0.1248\n"
          ]
        },
        {
          "name": "stderr",
          "output_type": "stream",
          "text": [
            "Epoch 56/200: 100%|██████████| 49/49 [00:29<00:00,  1.66it/s, D_loss=0.706, G_loss=1.971, Hybrid=0.119]\n",
            "                                                                    \r"
          ]
        },
        {
          "name": "stdout",
          "output_type": "stream",
          "text": [
            "\n",
            "Validation @ Epoch 56:\n",
            "PSNR: 17.08 dB | SSIM: 0.8323 | LPIPS: 0.2086 | Hybrid: 0.1229\n"
          ]
        },
        {
          "name": "stderr",
          "output_type": "stream",
          "text": [
            "Epoch 57/200: 100%|██████████| 49/49 [00:29<00:00,  1.66it/s, D_loss=0.752, G_loss=1.695, Hybrid=0.130]\n",
            "                                                                    \r"
          ]
        },
        {
          "name": "stdout",
          "output_type": "stream",
          "text": [
            "\n",
            "Validation @ Epoch 57:\n",
            "PSNR: 17.41 dB | SSIM: 0.8346 | LPIPS: 0.2060 | Hybrid: 0.1254\n"
          ]
        },
        {
          "name": "stderr",
          "output_type": "stream",
          "text": [
            "Epoch 58/200: 100%|██████████| 49/49 [00:29<00:00,  1.67it/s, D_loss=0.831, G_loss=1.768, Hybrid=0.118]\n",
            "                                                                    \r"
          ]
        },
        {
          "name": "stdout",
          "output_type": "stream",
          "text": [
            "\n",
            "Validation @ Epoch 58:\n",
            "PSNR: 16.92 dB | SSIM: 0.8256 | LPIPS: 0.2224 | Hybrid: 0.1302\n"
          ]
        },
        {
          "name": "stderr",
          "output_type": "stream",
          "text": [
            "Epoch 59/200: 100%|██████████| 49/49 [00:29<00:00,  1.67it/s, D_loss=0.796, G_loss=1.637, Hybrid=0.091]\n",
            "                                                                    \r"
          ]
        },
        {
          "name": "stdout",
          "output_type": "stream",
          "text": [
            "\n",
            "Validation @ Epoch 59:\n",
            "PSNR: 16.86 dB | SSIM: 0.8250 | LPIPS: 0.2109 | Hybrid: 0.1101\n"
          ]
        },
        {
          "name": "stderr",
          "output_type": "stream",
          "text": [
            "Epoch 60/200: 100%|██████████| 49/49 [00:29<00:00,  1.67it/s, D_loss=0.730, G_loss=1.701, Hybrid=0.099]\n",
            "                                                                    \r"
          ]
        },
        {
          "name": "stdout",
          "output_type": "stream",
          "text": [
            "\n",
            "Validation @ Epoch 60:\n",
            "PSNR: 16.72 dB | SSIM: 0.8241 | LPIPS: 0.2014 | Hybrid: 0.1038\n"
          ]
        },
        {
          "name": "stderr",
          "output_type": "stream",
          "text": [
            "Epoch 61/200: 100%|██████████| 49/49 [00:29<00:00,  1.67it/s, D_loss=0.752, G_loss=1.636, Hybrid=0.087]\n",
            "                                                                    \r"
          ]
        },
        {
          "name": "stdout",
          "output_type": "stream",
          "text": [
            "\n",
            "Validation @ Epoch 61:\n",
            "PSNR: 16.84 dB | SSIM: 0.8278 | LPIPS: 0.2036 | Hybrid: 0.1045\n"
          ]
        },
        {
          "name": "stderr",
          "output_type": "stream",
          "text": [
            "Epoch 62/200: 100%|██████████| 49/49 [00:29<00:00,  1.66it/s, D_loss=0.737, G_loss=1.495, Hybrid=0.111]\n",
            "                                                                    \r"
          ]
        },
        {
          "name": "stdout",
          "output_type": "stream",
          "text": [
            "\n",
            "Validation @ Epoch 62:\n",
            "PSNR: 17.21 dB | SSIM: 0.8377 | LPIPS: 0.2072 | Hybrid: 0.1215\n"
          ]
        },
        {
          "name": "stderr",
          "output_type": "stream",
          "text": [
            "Epoch 63/200: 100%|██████████| 49/49 [00:29<00:00,  1.67it/s, D_loss=0.838, G_loss=1.693, Hybrid=0.107]\n",
            "                                                                    \r"
          ]
        },
        {
          "name": "stdout",
          "output_type": "stream",
          "text": [
            "\n",
            "Validation @ Epoch 63:\n",
            "PSNR: 17.04 dB | SSIM: 0.8229 | LPIPS: 0.2246 | Hybrid: 0.1343\n"
          ]
        },
        {
          "name": "stderr",
          "output_type": "stream",
          "text": [
            "Epoch 64/200: 100%|██████████| 49/49 [00:29<00:00,  1.67it/s, D_loss=0.924, G_loss=1.809, Hybrid=0.126]\n",
            "                                                                    \r"
          ]
        },
        {
          "name": "stdout",
          "output_type": "stream",
          "text": [
            "\n",
            "Validation @ Epoch 64:\n",
            "PSNR: 17.11 dB | SSIM: 0.8407 | LPIPS: 0.2068 | Hybrid: 0.1243\n"
          ]
        },
        {
          "name": "stderr",
          "output_type": "stream",
          "text": [
            "Epoch 65/200: 100%|██████████| 49/49 [00:29<00:00,  1.67it/s, D_loss=0.699, G_loss=1.953, Hybrid=0.120]\n",
            "                                                                    \r"
          ]
        },
        {
          "name": "stdout",
          "output_type": "stream",
          "text": [
            "\n",
            "Validation @ Epoch 65:\n",
            "PSNR: 16.98 dB | SSIM: 0.8318 | LPIPS: 0.2086 | Hybrid: 0.1365\n"
          ]
        },
        {
          "name": "stderr",
          "output_type": "stream",
          "text": [
            "Epoch 66/200: 100%|██████████| 49/49 [00:29<00:00,  1.67it/s, D_loss=0.782, G_loss=2.613, Hybrid=0.197]\n",
            "                                                                    \r"
          ]
        },
        {
          "name": "stdout",
          "output_type": "stream",
          "text": [
            "\n",
            "Validation @ Epoch 66:\n",
            "PSNR: 17.02 dB | SSIM: 0.8331 | LPIPS: 0.2023 | Hybrid: 0.1139\n"
          ]
        },
        {
          "name": "stderr",
          "output_type": "stream",
          "text": [
            "Epoch 67/200: 100%|██████████| 49/49 [00:29<00:00,  1.67it/s, D_loss=0.715, G_loss=2.446, Hybrid=0.198]\n",
            "                                                                    \r"
          ]
        },
        {
          "name": "stdout",
          "output_type": "stream",
          "text": [
            "\n",
            "Validation @ Epoch 67:\n",
            "PSNR: 17.08 dB | SSIM: 0.8227 | LPIPS: 0.2229 | Hybrid: 0.1152\n"
          ]
        },
        {
          "name": "stderr",
          "output_type": "stream",
          "text": [
            "Epoch 68/200: 100%|██████████| 49/49 [00:29<00:00,  1.66it/s, D_loss=0.860, G_loss=2.483, Hybrid=0.131]\n",
            "                                                                    \r"
          ]
        },
        {
          "name": "stdout",
          "output_type": "stream",
          "text": [
            "\n",
            "Validation @ Epoch 68:\n",
            "PSNR: 16.46 dB | SSIM: 0.8238 | LPIPS: 0.2290 | Hybrid: 0.1426\n"
          ]
        },
        {
          "name": "stderr",
          "output_type": "stream",
          "text": [
            "Epoch 69/200: 100%|██████████| 49/49 [00:29<00:00,  1.67it/s, D_loss=0.857, G_loss=1.899, Hybrid=0.103]\n",
            "                                                                    \r"
          ]
        },
        {
          "name": "stdout",
          "output_type": "stream",
          "text": [
            "\n",
            "Validation @ Epoch 69:\n",
            "PSNR: 17.09 dB | SSIM: 0.8340 | LPIPS: 0.2102 | Hybrid: 0.1237\n"
          ]
        },
        {
          "name": "stderr",
          "output_type": "stream",
          "text": [
            "Epoch 70/200: 100%|██████████| 49/49 [00:29<00:00,  1.66it/s, D_loss=0.918, G_loss=1.782, Hybrid=0.111]\n",
            "                                                                    \r"
          ]
        },
        {
          "name": "stdout",
          "output_type": "stream",
          "text": [
            "\n",
            "Validation @ Epoch 70:\n",
            "PSNR: 17.38 dB | SSIM: 0.8406 | LPIPS: 0.1939 | Hybrid: 0.1110\n"
          ]
        },
        {
          "name": "stderr",
          "output_type": "stream",
          "text": [
            "Epoch 71/200: 100%|██████████| 49/49 [00:29<00:00,  1.66it/s, D_loss=0.744, G_loss=1.933, Hybrid=0.130]\n",
            "                                                                    \r"
          ]
        },
        {
          "name": "stdout",
          "output_type": "stream",
          "text": [
            "\n",
            "Validation @ Epoch 71:\n",
            "PSNR: 17.06 dB | SSIM: 0.8333 | LPIPS: 0.2109 | Hybrid: 0.1095\n"
          ]
        },
        {
          "name": "stderr",
          "output_type": "stream",
          "text": [
            "Epoch 72/200: 100%|██████████| 49/49 [00:29<00:00,  1.66it/s, D_loss=0.720, G_loss=1.751, Hybrid=0.133]\n",
            "                                                                    \r"
          ]
        },
        {
          "name": "stdout",
          "output_type": "stream",
          "text": [
            "\n",
            "Validation @ Epoch 72:\n",
            "PSNR: 16.23 dB | SSIM: 0.8113 | LPIPS: 0.2927 | Hybrid: 0.1746\n"
          ]
        },
        {
          "name": "stderr",
          "output_type": "stream",
          "text": [
            "Epoch 73/200: 100%|██████████| 49/49 [00:29<00:00,  1.67it/s, D_loss=0.915, G_loss=2.367, Hybrid=0.134]\n",
            "                                                                    \r"
          ]
        },
        {
          "name": "stdout",
          "output_type": "stream",
          "text": [
            "\n",
            "Validation @ Epoch 73:\n",
            "PSNR: 17.14 dB | SSIM: 0.8383 | LPIPS: 0.2047 | Hybrid: 0.1112\n"
          ]
        },
        {
          "name": "stderr",
          "output_type": "stream",
          "text": [
            "Epoch 74/200: 100%|██████████| 49/49 [00:29<00:00,  1.67it/s, D_loss=0.793, G_loss=1.821, Hybrid=0.116]\n",
            "                                                                    \r"
          ]
        },
        {
          "name": "stdout",
          "output_type": "stream",
          "text": [
            "\n",
            "Validation @ Epoch 74:\n",
            "PSNR: 16.39 dB | SSIM: 0.8332 | LPIPS: 0.2117 | Hybrid: 0.1376\n"
          ]
        },
        {
          "name": "stderr",
          "output_type": "stream",
          "text": [
            "Epoch 75/200: 100%|██████████| 49/49 [00:29<00:00,  1.67it/s, D_loss=0.749, G_loss=2.081, Hybrid=0.112]\n",
            "                                                                    \r"
          ]
        },
        {
          "name": "stdout",
          "output_type": "stream",
          "text": [
            "\n",
            "Validation @ Epoch 75:\n",
            "PSNR: 17.19 dB | SSIM: 0.8322 | LPIPS: 0.2082 | Hybrid: 0.1116\n"
          ]
        },
        {
          "name": "stderr",
          "output_type": "stream",
          "text": [
            "Epoch 76/200: 100%|██████████| 49/49 [00:29<00:00,  1.67it/s, D_loss=0.710, G_loss=1.882, Hybrid=0.132]\n",
            "                                                                    \r"
          ]
        },
        {
          "name": "stdout",
          "output_type": "stream",
          "text": [
            "\n",
            "Validation @ Epoch 76:\n",
            "PSNR: 17.12 dB | SSIM: 0.8357 | LPIPS: 0.2054 | Hybrid: 0.1095\n"
          ]
        },
        {
          "name": "stderr",
          "output_type": "stream",
          "text": [
            "Epoch 77/200: 100%|██████████| 49/49 [00:29<00:00,  1.67it/s, D_loss=0.757, G_loss=1.478, Hybrid=0.083]\n",
            "                                                                    \r"
          ]
        },
        {
          "name": "stdout",
          "output_type": "stream",
          "text": [
            "\n",
            "Validation @ Epoch 77:\n",
            "PSNR: 16.72 dB | SSIM: 0.8215 | LPIPS: 0.2252 | Hybrid: 0.1186\n"
          ]
        },
        {
          "name": "stderr",
          "output_type": "stream",
          "text": [
            "Epoch 78/200: 100%|██████████| 49/49 [00:29<00:00,  1.67it/s, D_loss=0.726, G_loss=1.566, Hybrid=0.105]\n",
            "                                                                    \r"
          ]
        },
        {
          "name": "stdout",
          "output_type": "stream",
          "text": [
            "\n",
            "Validation @ Epoch 78:\n",
            "PSNR: 16.09 dB | SSIM: 0.8082 | LPIPS: 0.2348 | Hybrid: 0.1599\n"
          ]
        },
        {
          "name": "stderr",
          "output_type": "stream",
          "text": [
            "Epoch 79/200: 100%|██████████| 49/49 [00:29<00:00,  1.66it/s, D_loss=0.697, G_loss=1.555, Hybrid=0.095]\n",
            "                                                                    \r"
          ]
        },
        {
          "name": "stdout",
          "output_type": "stream",
          "text": [
            "\n",
            "Validation @ Epoch 79:\n",
            "PSNR: 17.39 dB | SSIM: 0.8464 | LPIPS: 0.2072 | Hybrid: 0.1258\n"
          ]
        },
        {
          "name": "stderr",
          "output_type": "stream",
          "text": [
            "Epoch 80/200: 100%|██████████| 49/49 [00:29<00:00,  1.66it/s, D_loss=0.711, G_loss=2.028, Hybrid=0.123]\n",
            "                                                                    \r"
          ]
        },
        {
          "name": "stdout",
          "output_type": "stream",
          "text": [
            "\n",
            "Validation @ Epoch 80:\n",
            "PSNR: 16.91 dB | SSIM: 0.8195 | LPIPS: 0.2224 | Hybrid: 0.1270\n"
          ]
        },
        {
          "name": "stderr",
          "output_type": "stream",
          "text": [
            "Epoch 81/200: 100%|██████████| 49/49 [00:29<00:00,  1.67it/s, D_loss=0.722, G_loss=1.700, Hybrid=0.109]\n",
            "                                                                    \r"
          ]
        },
        {
          "name": "stdout",
          "output_type": "stream",
          "text": [
            "\n",
            "Validation @ Epoch 81:\n",
            "PSNR: 17.24 dB | SSIM: 0.8382 | LPIPS: 0.2085 | Hybrid: 0.1136\n"
          ]
        },
        {
          "name": "stderr",
          "output_type": "stream",
          "text": [
            "Epoch 82/200: 100%|██████████| 49/49 [00:29<00:00,  1.67it/s, D_loss=0.735, G_loss=2.235, Hybrid=0.128]\n",
            "                                                                    \r"
          ]
        },
        {
          "name": "stdout",
          "output_type": "stream",
          "text": [
            "\n",
            "Validation @ Epoch 82:\n",
            "PSNR: 17.03 dB | SSIM: 0.8291 | LPIPS: 0.2223 | Hybrid: 0.1412\n"
          ]
        },
        {
          "name": "stderr",
          "output_type": "stream",
          "text": [
            "Epoch 83/200: 100%|██████████| 49/49 [00:29<00:00,  1.66it/s, D_loss=0.790, G_loss=2.078, Hybrid=0.147]\n",
            "                                                                    \r"
          ]
        },
        {
          "name": "stdout",
          "output_type": "stream",
          "text": [
            "\n",
            "Validation @ Epoch 83:\n",
            "PSNR: 16.86 dB | SSIM: 0.8308 | LPIPS: 0.2166 | Hybrid: 0.1159\n"
          ]
        },
        {
          "name": "stderr",
          "output_type": "stream",
          "text": [
            "Epoch 84/200: 100%|██████████| 49/49 [00:29<00:00,  1.66it/s, D_loss=0.698, G_loss=1.751, Hybrid=0.082]\n",
            "                                                                    \r"
          ]
        },
        {
          "name": "stdout",
          "output_type": "stream",
          "text": [
            "\n",
            "Validation @ Epoch 84:\n",
            "PSNR: 17.07 dB | SSIM: 0.8329 | LPIPS: 0.2034 | Hybrid: 0.1074\n"
          ]
        },
        {
          "name": "stderr",
          "output_type": "stream",
          "text": [
            "Epoch 85/200: 100%|██████████| 49/49 [00:29<00:00,  1.67it/s, D_loss=0.722, G_loss=1.942, Hybrid=0.097]\n",
            "                                                                    \r"
          ]
        },
        {
          "name": "stdout",
          "output_type": "stream",
          "text": [
            "\n",
            "Validation @ Epoch 85:\n",
            "PSNR: 17.48 dB | SSIM: 0.8447 | LPIPS: 0.2273 | Hybrid: 0.1264\n"
          ]
        },
        {
          "name": "stderr",
          "output_type": "stream",
          "text": [
            "Epoch 86/200: 100%|██████████| 49/49 [00:29<00:00,  1.67it/s, D_loss=0.740, G_loss=2.108, Hybrid=0.130]\n",
            "                                                                    \r"
          ]
        },
        {
          "name": "stdout",
          "output_type": "stream",
          "text": [
            "\n",
            "Validation @ Epoch 86:\n",
            "PSNR: 16.93 dB | SSIM: 0.8318 | LPIPS: 0.2066 | Hybrid: 0.1076\n"
          ]
        },
        {
          "name": "stderr",
          "output_type": "stream",
          "text": [
            "Epoch 87/200: 100%|██████████| 49/49 [00:29<00:00,  1.67it/s, D_loss=1.211, G_loss=1.858, Hybrid=0.103]\n",
            "                                                                    \r"
          ]
        },
        {
          "name": "stdout",
          "output_type": "stream",
          "text": [
            "\n",
            "Validation @ Epoch 87:\n",
            "PSNR: 17.29 dB | SSIM: 0.8377 | LPIPS: 0.2176 | Hybrid: 0.1143\n"
          ]
        },
        {
          "name": "stderr",
          "output_type": "stream",
          "text": [
            "Epoch 88/200: 100%|██████████| 49/49 [00:29<00:00,  1.67it/s, D_loss=0.765, G_loss=1.539, Hybrid=0.083]\n",
            "                                                                    \r"
          ]
        },
        {
          "name": "stdout",
          "output_type": "stream",
          "text": [
            "\n",
            "Validation @ Epoch 88:\n",
            "PSNR: 17.44 dB | SSIM: 0.8455 | LPIPS: 0.2027 | Hybrid: 0.1078\n"
          ]
        },
        {
          "name": "stderr",
          "output_type": "stream",
          "text": [
            "Epoch 89/200: 100%|██████████| 49/49 [00:29<00:00,  1.66it/s, D_loss=0.713, G_loss=2.215, Hybrid=0.110]\n",
            "                                                                    \r"
          ]
        },
        {
          "name": "stdout",
          "output_type": "stream",
          "text": [
            "\n",
            "Validation @ Epoch 89:\n",
            "PSNR: 16.93 dB | SSIM: 0.8336 | LPIPS: 0.2114 | Hybrid: 0.1119\n"
          ]
        },
        {
          "name": "stderr",
          "output_type": "stream",
          "text": [
            "Epoch 90/200: 100%|██████████| 49/49 [00:29<00:00,  1.67it/s, D_loss=0.700, G_loss=1.953, Hybrid=0.115]\n",
            "                                                                    \r"
          ]
        },
        {
          "name": "stdout",
          "output_type": "stream",
          "text": [
            "\n",
            "Validation @ Epoch 90:\n",
            "PSNR: 16.97 dB | SSIM: 0.8351 | LPIPS: 0.1998 | Hybrid: 0.1070\n"
          ]
        },
        {
          "name": "stderr",
          "output_type": "stream",
          "text": [
            "Epoch 91/200: 100%|██████████| 49/49 [00:29<00:00,  1.67it/s, D_loss=0.723, G_loss=1.417, Hybrid=0.084]\n",
            "                                                                    \r"
          ]
        },
        {
          "name": "stdout",
          "output_type": "stream",
          "text": [
            "\n",
            "Validation @ Epoch 91:\n",
            "PSNR: 17.56 dB | SSIM: 0.8504 | LPIPS: 0.2011 | Hybrid: 0.1195\n"
          ]
        },
        {
          "name": "stderr",
          "output_type": "stream",
          "text": [
            "Epoch 92/200: 100%|██████████| 49/49 [00:29<00:00,  1.67it/s, D_loss=0.753, G_loss=1.614, Hybrid=0.106]\n",
            "                                                                    \r"
          ]
        },
        {
          "name": "stdout",
          "output_type": "stream",
          "text": [
            "\n",
            "Validation @ Epoch 92:\n",
            "PSNR: 17.32 dB | SSIM: 0.8399 | LPIPS: 0.1963 | Hybrid: 0.1072\n"
          ]
        },
        {
          "name": "stderr",
          "output_type": "stream",
          "text": [
            "Epoch 93/200: 100%|██████████| 49/49 [00:29<00:00,  1.67it/s, D_loss=0.942, G_loss=1.761, Hybrid=0.102]\n",
            "                                                                    \r"
          ]
        },
        {
          "name": "stdout",
          "output_type": "stream",
          "text": [
            "\n",
            "Validation @ Epoch 93:\n",
            "PSNR: 16.81 dB | SSIM: 0.8406 | LPIPS: 0.2011 | Hybrid: 0.1265\n"
          ]
        },
        {
          "name": "stderr",
          "output_type": "stream",
          "text": [
            "Epoch 94/200: 100%|██████████| 49/49 [00:29<00:00,  1.67it/s, D_loss=0.728, G_loss=1.833, Hybrid=0.112]\n",
            "                                                                    \r"
          ]
        },
        {
          "name": "stdout",
          "output_type": "stream",
          "text": [
            "\n",
            "Validation @ Epoch 94:\n",
            "PSNR: 17.42 dB | SSIM: 0.8484 | LPIPS: 0.2051 | Hybrid: 0.1264\n"
          ]
        },
        {
          "name": "stderr",
          "output_type": "stream",
          "text": [
            "Epoch 95/200: 100%|██████████| 49/49 [00:29<00:00,  1.67it/s, D_loss=0.734, G_loss=1.759, Hybrid=0.104]\n",
            "                                                                    \r"
          ]
        },
        {
          "name": "stdout",
          "output_type": "stream",
          "text": [
            "\n",
            "Validation @ Epoch 95:\n",
            "PSNR: 17.53 dB | SSIM: 0.8528 | LPIPS: 0.1885 | Hybrid: 0.1089\n"
          ]
        },
        {
          "name": "stderr",
          "output_type": "stream",
          "text": [
            "Epoch 96/200: 100%|██████████| 49/49 [00:29<00:00,  1.67it/s, D_loss=0.739, G_loss=1.903, Hybrid=0.093]\n",
            "                                                                    \r"
          ]
        },
        {
          "name": "stdout",
          "output_type": "stream",
          "text": [
            "\n",
            "Validation @ Epoch 96:\n",
            "PSNR: 17.09 dB | SSIM: 0.8465 | LPIPS: 0.1892 | Hybrid: 0.1144\n"
          ]
        },
        {
          "name": "stderr",
          "output_type": "stream",
          "text": [
            "Epoch 97/200: 100%|██████████| 49/49 [00:29<00:00,  1.67it/s, D_loss=0.738, G_loss=2.248, Hybrid=0.125]\n",
            "                                                                    \r"
          ]
        },
        {
          "name": "stdout",
          "output_type": "stream",
          "text": [
            "\n",
            "Validation @ Epoch 97:\n",
            "PSNR: 17.51 dB | SSIM: 0.8460 | LPIPS: 0.1927 | Hybrid: 0.1075\n"
          ]
        },
        {
          "name": "stderr",
          "output_type": "stream",
          "text": [
            "Epoch 98/200: 100%|██████████| 49/49 [00:29<00:00,  1.66it/s, D_loss=0.753, G_loss=1.556, Hybrid=0.124]\n",
            "                                                                    \r"
          ]
        },
        {
          "name": "stdout",
          "output_type": "stream",
          "text": [
            "\n",
            "Validation @ Epoch 98:\n",
            "PSNR: 17.54 dB | SSIM: 0.8462 | LPIPS: 0.1996 | Hybrid: 0.1267\n"
          ]
        },
        {
          "name": "stderr",
          "output_type": "stream",
          "text": [
            "Epoch 99/200: 100%|██████████| 49/49 [00:29<00:00,  1.67it/s, D_loss=0.727, G_loss=1.747, Hybrid=0.096]\n",
            "                                                                    \r"
          ]
        },
        {
          "name": "stdout",
          "output_type": "stream",
          "text": [
            "\n",
            "Validation @ Epoch 99:\n",
            "PSNR: 17.48 dB | SSIM: 0.8450 | LPIPS: 0.1939 | Hybrid: 0.1098\n"
          ]
        },
        {
          "name": "stderr",
          "output_type": "stream",
          "text": [
            "Epoch 100/200: 100%|██████████| 49/49 [00:29<00:00,  1.67it/s, D_loss=1.105, G_loss=2.002, Hybrid=0.157]\n",
            "                                                                     \r"
          ]
        },
        {
          "name": "stdout",
          "output_type": "stream",
          "text": [
            "\n",
            "Validation @ Epoch 100:\n",
            "PSNR: 17.18 dB | SSIM: 0.8262 | LPIPS: 0.2344 | Hybrid: 0.1466\n"
          ]
        },
        {
          "name": "stderr",
          "output_type": "stream",
          "text": [
            "Epoch 101/200: 100%|██████████| 49/49 [00:29<00:00,  1.67it/s, D_loss=0.745, G_loss=1.631, Hybrid=0.081]\n",
            "                                                                     \r"
          ]
        },
        {
          "name": "stdout",
          "output_type": "stream",
          "text": [
            "\n",
            "Validation @ Epoch 101:\n",
            "PSNR: 16.97 dB | SSIM: 0.8434 | LPIPS: 0.1979 | Hybrid: 0.1186\n"
          ]
        },
        {
          "name": "stderr",
          "output_type": "stream",
          "text": [
            "Epoch 102/200: 100%|██████████| 49/49 [00:29<00:00,  1.67it/s, D_loss=0.732, G_loss=1.949, Hybrid=0.124]\n",
            "                                                                     \r"
          ]
        },
        {
          "name": "stdout",
          "output_type": "stream",
          "text": [
            "\n",
            "Validation @ Epoch 102:\n",
            "PSNR: 17.13 dB | SSIM: 0.8357 | LPIPS: 0.2086 | Hybrid: 0.1174\n"
          ]
        },
        {
          "name": "stderr",
          "output_type": "stream",
          "text": [
            "Epoch 103/200: 100%|██████████| 49/49 [00:29<00:00,  1.67it/s, D_loss=0.767, G_loss=1.634, Hybrid=0.100]\n",
            "                                                                     \r"
          ]
        },
        {
          "name": "stdout",
          "output_type": "stream",
          "text": [
            "\n",
            "Validation @ Epoch 103:\n",
            "PSNR: 17.63 dB | SSIM: 0.8533 | LPIPS: 0.1948 | Hybrid: 0.1216\n"
          ]
        },
        {
          "name": "stderr",
          "output_type": "stream",
          "text": [
            "Epoch 104/200: 100%|██████████| 49/49 [00:29<00:00,  1.66it/s, D_loss=0.709, G_loss=1.676, Hybrid=0.129]\n",
            "                                                                     \r"
          ]
        },
        {
          "name": "stdout",
          "output_type": "stream",
          "text": [
            "\n",
            "Validation @ Epoch 104:\n",
            "PSNR: 17.61 dB | SSIM: 0.8443 | LPIPS: 0.2001 | Hybrid: 0.1149\n"
          ]
        },
        {
          "name": "stderr",
          "output_type": "stream",
          "text": [
            "Epoch 105/200: 100%|██████████| 49/49 [00:29<00:00,  1.66it/s, D_loss=0.716, G_loss=1.851, Hybrid=0.097]\n",
            "                                                                     \r"
          ]
        },
        {
          "name": "stdout",
          "output_type": "stream",
          "text": [
            "\n",
            "Validation @ Epoch 105:\n",
            "PSNR: 17.10 dB | SSIM: 0.8467 | LPIPS: 0.2018 | Hybrid: 0.1341\n"
          ]
        },
        {
          "name": "stderr",
          "output_type": "stream",
          "text": [
            "Epoch 106/200: 100%|██████████| 49/49 [00:29<00:00,  1.67it/s, D_loss=0.812, G_loss=1.778, Hybrid=0.125]\n",
            "                                                                     \r"
          ]
        },
        {
          "name": "stdout",
          "output_type": "stream",
          "text": [
            "\n",
            "Validation @ Epoch 106:\n",
            "PSNR: 17.79 dB | SSIM: 0.8513 | LPIPS: 0.1882 | Hybrid: 0.1153\n"
          ]
        },
        {
          "name": "stderr",
          "output_type": "stream",
          "text": [
            "Epoch 107/200: 100%|██████████| 49/49 [00:29<00:00,  1.67it/s, D_loss=0.722, G_loss=2.123, Hybrid=0.136]\n",
            "                                                                     \r"
          ]
        },
        {
          "name": "stdout",
          "output_type": "stream",
          "text": [
            "\n",
            "Validation @ Epoch 107:\n",
            "PSNR: 17.72 dB | SSIM: 0.8540 | LPIPS: 0.1884 | Hybrid: 0.1084\n"
          ]
        },
        {
          "name": "stderr",
          "output_type": "stream",
          "text": [
            "Epoch 108/200: 100%|██████████| 49/49 [00:29<00:00,  1.66it/s, D_loss=0.727, G_loss=1.743, Hybrid=0.108]\n",
            "                                                                     \r"
          ]
        },
        {
          "name": "stdout",
          "output_type": "stream",
          "text": [
            "\n",
            "Validation @ Epoch 108:\n",
            "PSNR: 17.52 dB | SSIM: 0.8482 | LPIPS: 0.2003 | Hybrid: 0.1183\n"
          ]
        },
        {
          "name": "stderr",
          "output_type": "stream",
          "text": [
            "Epoch 109/200: 100%|██████████| 49/49 [00:29<00:00,  1.67it/s, D_loss=0.746, G_loss=2.088, Hybrid=0.148]\n",
            "                                                                     \r"
          ]
        },
        {
          "name": "stdout",
          "output_type": "stream",
          "text": [
            "\n",
            "Validation @ Epoch 109:\n",
            "PSNR: 17.53 dB | SSIM: 0.8461 | LPIPS: 0.1877 | Hybrid: 0.1026\n"
          ]
        },
        {
          "name": "stderr",
          "output_type": "stream",
          "text": [
            "Epoch 110/200: 100%|██████████| 49/49 [00:29<00:00,  1.67it/s, D_loss=0.710, G_loss=2.229, Hybrid=0.154]\n",
            "                                                                     \r"
          ]
        },
        {
          "name": "stdout",
          "output_type": "stream",
          "text": [
            "\n",
            "Validation @ Epoch 110:\n",
            "PSNR: 16.99 dB | SSIM: 0.8397 | LPIPS: 0.1958 | Hybrid: 0.1141\n"
          ]
        },
        {
          "name": "stderr",
          "output_type": "stream",
          "text": [
            "Epoch 111/200: 100%|██████████| 49/49 [00:29<00:00,  1.67it/s, D_loss=0.786, G_loss=2.490, Hybrid=0.164]\n",
            "                                                                     \r"
          ]
        },
        {
          "name": "stdout",
          "output_type": "stream",
          "text": [
            "\n",
            "Validation @ Epoch 111:\n",
            "PSNR: 17.21 dB | SSIM: 0.8416 | LPIPS: 0.1944 | Hybrid: 0.1051\n"
          ]
        },
        {
          "name": "stderr",
          "output_type": "stream",
          "text": [
            "Epoch 112/200: 100%|██████████| 49/49 [00:29<00:00,  1.67it/s, D_loss=0.729, G_loss=1.905, Hybrid=0.106]\n",
            "                                                                     \r"
          ]
        },
        {
          "name": "stdout",
          "output_type": "stream",
          "text": [
            "\n",
            "Validation @ Epoch 112:\n",
            "PSNR: 17.05 dB | SSIM: 0.8391 | LPIPS: 0.2018 | Hybrid: 0.1186\n"
          ]
        },
        {
          "name": "stderr",
          "output_type": "stream",
          "text": [
            "Epoch 113/200: 100%|██████████| 49/49 [00:29<00:00,  1.67it/s, D_loss=0.783, G_loss=1.753, Hybrid=0.089]\n",
            "                                                                     \r"
          ]
        },
        {
          "name": "stdout",
          "output_type": "stream",
          "text": [
            "\n",
            "Validation @ Epoch 113:\n",
            "PSNR: 17.83 dB | SSIM: 0.8464 | LPIPS: 0.1933 | Hybrid: 0.1114\n"
          ]
        },
        {
          "name": "stderr",
          "output_type": "stream",
          "text": [
            "Epoch 114/200: 100%|██████████| 49/49 [00:29<00:00,  1.67it/s, D_loss=0.735, G_loss=2.074, Hybrid=0.128]\n",
            "                                                                     \r"
          ]
        },
        {
          "name": "stdout",
          "output_type": "stream",
          "text": [
            "\n",
            "Validation @ Epoch 114:\n",
            "PSNR: 16.94 dB | SSIM: 0.8394 | LPIPS: 0.2074 | Hybrid: 0.1241\n"
          ]
        },
        {
          "name": "stderr",
          "output_type": "stream",
          "text": [
            "Epoch 115/200: 100%|██████████| 49/49 [00:29<00:00,  1.67it/s, D_loss=0.713, G_loss=1.802, Hybrid=0.150]\n",
            "                                                                     \r"
          ]
        },
        {
          "name": "stdout",
          "output_type": "stream",
          "text": [
            "\n",
            "Validation @ Epoch 115:\n",
            "PSNR: 16.80 dB | SSIM: 0.8366 | LPIPS: 0.2173 | Hybrid: 0.1472\n"
          ]
        },
        {
          "name": "stderr",
          "output_type": "stream",
          "text": [
            "Epoch 116/200: 100%|██████████| 49/49 [00:29<00:00,  1.67it/s, D_loss=0.751, G_loss=1.838, Hybrid=0.121]\n",
            "                                                                     \r"
          ]
        },
        {
          "name": "stdout",
          "output_type": "stream",
          "text": [
            "\n",
            "Validation @ Epoch 116:\n",
            "PSNR: 17.69 dB | SSIM: 0.8508 | LPIPS: 0.1954 | Hybrid: 0.1152\n"
          ]
        },
        {
          "name": "stderr",
          "output_type": "stream",
          "text": [
            "Epoch 117/200: 100%|██████████| 49/49 [00:29<00:00,  1.66it/s, D_loss=1.514, G_loss=1.834, Hybrid=0.090] \n",
            "                                                                     \r"
          ]
        },
        {
          "name": "stdout",
          "output_type": "stream",
          "text": [
            "\n",
            "Validation @ Epoch 117:\n",
            "PSNR: 17.86 dB | SSIM: 0.8560 | LPIPS: 0.1841 | Hybrid: 0.1185\n"
          ]
        },
        {
          "name": "stderr",
          "output_type": "stream",
          "text": [
            "Epoch 118/200: 100%|██████████| 49/49 [00:29<00:00,  1.67it/s, D_loss=1.006, G_loss=1.532, Hybrid=0.083]  \n",
            "                                                                     \r"
          ]
        },
        {
          "name": "stdout",
          "output_type": "stream",
          "text": [
            "\n",
            "Validation @ Epoch 118:\n",
            "PSNR: 17.76 dB | SSIM: 0.8544 | LPIPS: 0.1930 | Hybrid: 0.1117\n"
          ]
        },
        {
          "name": "stderr",
          "output_type": "stream",
          "text": [
            "Epoch 119/200: 100%|██████████| 49/49 [00:29<00:00,  1.66it/s, D_loss=1.004, G_loss=2.000, Hybrid=0.143]\n",
            "                                                                     \r"
          ]
        },
        {
          "name": "stdout",
          "output_type": "stream",
          "text": [
            "\n",
            "Validation @ Epoch 119:\n",
            "PSNR: 17.33 dB | SSIM: 0.8468 | LPIPS: 0.1892 | Hybrid: 0.1090\n"
          ]
        },
        {
          "name": "stderr",
          "output_type": "stream",
          "text": [
            "Epoch 120/200: 100%|██████████| 49/49 [00:29<00:00,  1.66it/s, D_loss=1.189, G_loss=1.818, Hybrid=0.100]\n",
            "                                                                     \r"
          ]
        },
        {
          "name": "stdout",
          "output_type": "stream",
          "text": [
            "\n",
            "Validation @ Epoch 120:\n",
            "PSNR: 17.53 dB | SSIM: 0.8440 | LPIPS: 0.2031 | Hybrid: 0.1318\n"
          ]
        },
        {
          "name": "stderr",
          "output_type": "stream",
          "text": [
            "Epoch 121/200: 100%|██████████| 49/49 [00:29<00:00,  1.67it/s, D_loss=0.858, G_loss=1.893, Hybrid=0.101]\n",
            "                                                                     \r"
          ]
        },
        {
          "name": "stdout",
          "output_type": "stream",
          "text": [
            "\n",
            "Validation @ Epoch 121:\n",
            "PSNR: 17.28 dB | SSIM: 0.8436 | LPIPS: 0.1958 | Hybrid: 0.1088\n"
          ]
        },
        {
          "name": "stderr",
          "output_type": "stream",
          "text": [
            "Epoch 122/200: 100%|██████████| 49/49 [00:29<00:00,  1.67it/s, D_loss=0.826, G_loss=1.765, Hybrid=0.121]\n",
            "                                                                     \r"
          ]
        },
        {
          "name": "stdout",
          "output_type": "stream",
          "text": [
            "\n",
            "Validation @ Epoch 122:\n",
            "PSNR: 17.61 dB | SSIM: 0.8477 | LPIPS: 0.1917 | Hybrid: 0.1160\n"
          ]
        },
        {
          "name": "stderr",
          "output_type": "stream",
          "text": [
            "Epoch 123/200: 100%|██████████| 49/49 [00:29<00:00,  1.66it/s, D_loss=0.773, G_loss=1.943, Hybrid=0.096]\n",
            "                                                                     \r"
          ]
        },
        {
          "name": "stdout",
          "output_type": "stream",
          "text": [
            "\n",
            "Validation @ Epoch 123:\n",
            "PSNR: 17.41 dB | SSIM: 0.8467 | LPIPS: 0.1976 | Hybrid: 0.1282\n"
          ]
        },
        {
          "name": "stderr",
          "output_type": "stream",
          "text": [
            "Epoch 124/200: 100%|██████████| 49/49 [00:29<00:00,  1.67it/s, D_loss=0.736, G_loss=1.734, Hybrid=0.103]\n",
            "                                                                     \r"
          ]
        },
        {
          "name": "stdout",
          "output_type": "stream",
          "text": [
            "\n",
            "Validation @ Epoch 124:\n",
            "PSNR: 17.57 dB | SSIM: 0.8527 | LPIPS: 0.1804 | Hybrid: 0.1110\n"
          ]
        },
        {
          "name": "stderr",
          "output_type": "stream",
          "text": [
            "Epoch 125/200: 100%|██████████| 49/49 [00:29<00:00,  1.66it/s, D_loss=0.700, G_loss=1.877, Hybrid=0.110]\n",
            "                                                                     \r"
          ]
        },
        {
          "name": "stdout",
          "output_type": "stream",
          "text": [
            "\n",
            "Validation @ Epoch 125:\n",
            "PSNR: 17.62 dB | SSIM: 0.8485 | LPIPS: 0.1865 | Hybrid: 0.1084\n"
          ]
        },
        {
          "name": "stderr",
          "output_type": "stream",
          "text": [
            "Epoch 126/200: 100%|██████████| 49/49 [00:29<00:00,  1.66it/s, D_loss=0.798, G_loss=1.559, Hybrid=0.123]\n",
            "                                                                     \r"
          ]
        },
        {
          "name": "stdout",
          "output_type": "stream",
          "text": [
            "\n",
            "Validation @ Epoch 126:\n",
            "PSNR: 17.73 dB | SSIM: 0.8539 | LPIPS: 0.1823 | Hybrid: 0.1092\n"
          ]
        },
        {
          "name": "stderr",
          "output_type": "stream",
          "text": [
            "Epoch 127/200: 100%|██████████| 49/49 [00:29<00:00,  1.66it/s, D_loss=0.725, G_loss=2.037, Hybrid=0.149]\n",
            "                                                                     \r"
          ]
        },
        {
          "name": "stdout",
          "output_type": "stream",
          "text": [
            "\n",
            "Validation @ Epoch 127:\n",
            "PSNR: 17.81 dB | SSIM: 0.8556 | LPIPS: 0.1909 | Hybrid: 0.1174\n"
          ]
        },
        {
          "name": "stderr",
          "output_type": "stream",
          "text": [
            "Epoch 128/200: 100%|██████████| 49/49 [00:29<00:00,  1.66it/s, D_loss=0.718, G_loss=1.779, Hybrid=0.135]\n",
            "                                                                     \r"
          ]
        },
        {
          "name": "stdout",
          "output_type": "stream",
          "text": [
            "\n",
            "Validation @ Epoch 128:\n",
            "PSNR: 17.74 dB | SSIM: 0.8534 | LPIPS: 0.1877 | Hybrid: 0.1112\n"
          ]
        },
        {
          "name": "stderr",
          "output_type": "stream",
          "text": [
            "Epoch 129/200: 100%|██████████| 49/49 [00:29<00:00,  1.66it/s, D_loss=0.798, G_loss=1.596, Hybrid=0.109]\n",
            "                                                                     \r"
          ]
        },
        {
          "name": "stdout",
          "output_type": "stream",
          "text": [
            "\n",
            "Validation @ Epoch 129:\n",
            "PSNR: 17.74 dB | SSIM: 0.8508 | LPIPS: 0.1930 | Hybrid: 0.1112\n"
          ]
        },
        {
          "name": "stderr",
          "output_type": "stream",
          "text": [
            "Epoch 130/200: 100%|██████████| 49/49 [00:29<00:00,  1.66it/s, D_loss=0.751, G_loss=2.189, Hybrid=0.150]\n",
            "                                                                     \r"
          ]
        },
        {
          "name": "stdout",
          "output_type": "stream",
          "text": [
            "\n",
            "Validation @ Epoch 130:\n",
            "PSNR: 17.22 dB | SSIM: 0.8487 | LPIPS: 0.1980 | Hybrid: 0.1129\n"
          ]
        },
        {
          "name": "stderr",
          "output_type": "stream",
          "text": [
            "Epoch 131/200: 100%|██████████| 49/49 [00:29<00:00,  1.66it/s, D_loss=0.763, G_loss=1.795, Hybrid=0.097]\n",
            "                                                                     \r"
          ]
        },
        {
          "name": "stdout",
          "output_type": "stream",
          "text": [
            "\n",
            "Validation @ Epoch 131:\n",
            "PSNR: 17.70 dB | SSIM: 0.8497 | LPIPS: 0.1945 | Hybrid: 0.1262\n"
          ]
        },
        {
          "name": "stderr",
          "output_type": "stream",
          "text": [
            "Epoch 132/200: 100%|██████████| 49/49 [00:29<00:00,  1.66it/s, D_loss=0.782, G_loss=1.727, Hybrid=0.142]\n",
            "                                                                     \r"
          ]
        },
        {
          "name": "stdout",
          "output_type": "stream",
          "text": [
            "\n",
            "Validation @ Epoch 132:\n",
            "PSNR: 16.87 dB | SSIM: 0.8305 | LPIPS: 0.2152 | Hybrid: 0.1315\n"
          ]
        },
        {
          "name": "stderr",
          "output_type": "stream",
          "text": [
            "Epoch 133/200: 100%|██████████| 49/49 [00:29<00:00,  1.66it/s, D_loss=0.732, G_loss=1.791, Hybrid=0.151]\n",
            "                                                                     \r"
          ]
        },
        {
          "name": "stdout",
          "output_type": "stream",
          "text": [
            "\n",
            "Validation @ Epoch 133:\n",
            "PSNR: 17.50 dB | SSIM: 0.8462 | LPIPS: 0.1979 | Hybrid: 0.1113\n"
          ]
        },
        {
          "name": "stderr",
          "output_type": "stream",
          "text": [
            "Epoch 134/200: 100%|██████████| 49/49 [00:29<00:00,  1.66it/s, D_loss=0.700, G_loss=1.807, Hybrid=0.147]\n",
            "                                                                     \r"
          ]
        },
        {
          "name": "stdout",
          "output_type": "stream",
          "text": [
            "\n",
            "Validation @ Epoch 134:\n",
            "PSNR: 17.86 dB | SSIM: 0.8536 | LPIPS: 0.1952 | Hybrid: 0.1254\n"
          ]
        },
        {
          "name": "stderr",
          "output_type": "stream",
          "text": [
            "Epoch 135/200: 100%|██████████| 49/49 [00:29<00:00,  1.67it/s, D_loss=0.736, G_loss=1.463, Hybrid=0.114]\n",
            "                                                                     \r"
          ]
        },
        {
          "name": "stdout",
          "output_type": "stream",
          "text": [
            "\n",
            "Validation @ Epoch 135:\n",
            "PSNR: 17.84 dB | SSIM: 0.8541 | LPIPS: 0.1919 | Hybrid: 0.1115\n"
          ]
        },
        {
          "name": "stderr",
          "output_type": "stream",
          "text": [
            "Epoch 136/200: 100%|██████████| 49/49 [00:29<00:00,  1.66it/s, D_loss=0.713, G_loss=1.689, Hybrid=0.101]\n",
            "                                                                     \r"
          ]
        },
        {
          "name": "stdout",
          "output_type": "stream",
          "text": [
            "\n",
            "Validation @ Epoch 136:\n",
            "PSNR: 17.80 dB | SSIM: 0.8536 | LPIPS: 0.1852 | Hybrid: 0.1051\n"
          ]
        },
        {
          "name": "stderr",
          "output_type": "stream",
          "text": [
            "Epoch 137/200: 100%|██████████| 49/49 [00:29<00:00,  1.66it/s, D_loss=0.719, G_loss=1.731, Hybrid=0.098]\n",
            "                                                                     \r"
          ]
        },
        {
          "name": "stdout",
          "output_type": "stream",
          "text": [
            "\n",
            "Validation @ Epoch 137:\n",
            "PSNR: 17.57 dB | SSIM: 0.8488 | LPIPS: 0.2016 | Hybrid: 0.1338\n"
          ]
        },
        {
          "name": "stderr",
          "output_type": "stream",
          "text": [
            "Epoch 138/200: 100%|██████████| 49/49 [00:29<00:00,  1.66it/s, D_loss=0.805, G_loss=1.821, Hybrid=0.164]\n",
            "                                                                     \r"
          ]
        },
        {
          "name": "stdout",
          "output_type": "stream",
          "text": [
            "\n",
            "Validation @ Epoch 138:\n",
            "PSNR: 17.70 dB | SSIM: 0.8519 | LPIPS: 0.1884 | Hybrid: 0.1130\n"
          ]
        },
        {
          "name": "stderr",
          "output_type": "stream",
          "text": [
            "Epoch 139/200: 100%|██████████| 49/49 [00:29<00:00,  1.66it/s, D_loss=0.743, G_loss=1.630, Hybrid=0.126]\n",
            "                                                                     \r"
          ]
        },
        {
          "name": "stdout",
          "output_type": "stream",
          "text": [
            "\n",
            "Validation @ Epoch 139:\n",
            "PSNR: 17.66 dB | SSIM: 0.8546 | LPIPS: 0.1874 | Hybrid: 0.1167\n"
          ]
        },
        {
          "name": "stderr",
          "output_type": "stream",
          "text": [
            "Epoch 140/200: 100%|██████████| 49/49 [00:29<00:00,  1.66it/s, D_loss=0.767, G_loss=1.674, Hybrid=0.104]\n",
            "                                                                     \r"
          ]
        },
        {
          "name": "stdout",
          "output_type": "stream",
          "text": [
            "\n",
            "Validation @ Epoch 140:\n",
            "PSNR: 17.71 dB | SSIM: 0.8487 | LPIPS: 0.1885 | Hybrid: 0.1144\n"
          ]
        },
        {
          "name": "stderr",
          "output_type": "stream",
          "text": [
            "Epoch 141/200: 100%|██████████| 49/49 [00:29<00:00,  1.66it/s, D_loss=0.743, G_loss=2.156, Hybrid=0.111]\n",
            "                                                                     \r"
          ]
        },
        {
          "name": "stdout",
          "output_type": "stream",
          "text": [
            "\n",
            "Validation @ Epoch 141:\n",
            "PSNR: 15.95 dB | SSIM: 0.8193 | LPIPS: 0.2147 | Hybrid: 0.1177\n"
          ]
        },
        {
          "name": "stderr",
          "output_type": "stream",
          "text": [
            "Epoch 142/200: 100%|██████████| 49/49 [00:29<00:00,  1.66it/s, D_loss=0.754, G_loss=1.818, Hybrid=0.121]\n",
            "                                                                     \r"
          ]
        },
        {
          "name": "stdout",
          "output_type": "stream",
          "text": [
            "\n",
            "Validation @ Epoch 142:\n",
            "PSNR: 17.73 dB | SSIM: 0.8500 | LPIPS: 0.1872 | Hybrid: 0.1094\n"
          ]
        },
        {
          "name": "stderr",
          "output_type": "stream",
          "text": [
            "Epoch 143/200: 100%|██████████| 49/49 [00:29<00:00,  1.66it/s, D_loss=0.931, G_loss=2.038, Hybrid=0.109]\n",
            "                                                                     \r"
          ]
        },
        {
          "name": "stdout",
          "output_type": "stream",
          "text": [
            "\n",
            "Validation @ Epoch 143:\n",
            "PSNR: 18.02 dB | SSIM: 0.8593 | LPIPS: 0.1801 | Hybrid: 0.1139\n"
          ]
        },
        {
          "name": "stderr",
          "output_type": "stream",
          "text": [
            "Epoch 144/200: 100%|██████████| 49/49 [00:29<00:00,  1.67it/s, D_loss=0.713, G_loss=1.947, Hybrid=0.158]\n",
            "                                                                     \r"
          ]
        },
        {
          "name": "stdout",
          "output_type": "stream",
          "text": [
            "\n",
            "Validation @ Epoch 144:\n",
            "PSNR: 17.70 dB | SSIM: 0.8516 | LPIPS: 0.1894 | Hybrid: 0.1141\n"
          ]
        },
        {
          "name": "stderr",
          "output_type": "stream",
          "text": [
            "Epoch 145/200: 100%|██████████| 49/49 [00:29<00:00,  1.67it/s, D_loss=0.702, G_loss=2.619, Hybrid=0.169]\n",
            "                                                                     \r"
          ]
        },
        {
          "name": "stdout",
          "output_type": "stream",
          "text": [
            "\n",
            "Validation @ Epoch 145:\n",
            "PSNR: 16.98 dB | SSIM: 0.8370 | LPIPS: 0.2097 | Hybrid: 0.1325\n"
          ]
        },
        {
          "name": "stderr",
          "output_type": "stream",
          "text": [
            "Epoch 146/200: 100%|██████████| 49/49 [00:29<00:00,  1.67it/s, D_loss=0.696, G_loss=1.750, Hybrid=0.096]\n",
            "                                                                     \r"
          ]
        },
        {
          "name": "stdout",
          "output_type": "stream",
          "text": [
            "\n",
            "Validation @ Epoch 146:\n",
            "PSNR: 17.50 dB | SSIM: 0.8539 | LPIPS: 0.1972 | Hybrid: 0.1263\n"
          ]
        },
        {
          "name": "stderr",
          "output_type": "stream",
          "text": [
            "Epoch 147/200: 100%|██████████| 49/49 [00:29<00:00,  1.67it/s, D_loss=0.792, G_loss=1.530, Hybrid=0.104]\n",
            "                                                                     \r"
          ]
        },
        {
          "name": "stdout",
          "output_type": "stream",
          "text": [
            "\n",
            "Validation @ Epoch 147:\n",
            "PSNR: 17.92 dB | SSIM: 0.8552 | LPIPS: 0.1847 | Hybrid: 0.1190\n"
          ]
        },
        {
          "name": "stderr",
          "output_type": "stream",
          "text": [
            "Epoch 148/200: 100%|██████████| 49/49 [00:29<00:00,  1.66it/s, D_loss=0.715, G_loss=1.509, Hybrid=0.100]\n",
            "                                                                     \r"
          ]
        },
        {
          "name": "stdout",
          "output_type": "stream",
          "text": [
            "\n",
            "Validation @ Epoch 148:\n",
            "PSNR: 17.83 dB | SSIM: 0.8556 | LPIPS: 0.1825 | Hybrid: 0.1114\n"
          ]
        },
        {
          "name": "stderr",
          "output_type": "stream",
          "text": [
            "Epoch 149/200: 100%|██████████| 49/49 [00:29<00:00,  1.66it/s, D_loss=0.701, G_loss=1.977, Hybrid=0.147]\n",
            "                                                                     \r"
          ]
        },
        {
          "name": "stdout",
          "output_type": "stream",
          "text": [
            "\n",
            "Validation @ Epoch 149:\n",
            "PSNR: 17.64 dB | SSIM: 0.8525 | LPIPS: 0.1974 | Hybrid: 0.1233\n"
          ]
        },
        {
          "name": "stderr",
          "output_type": "stream",
          "text": [
            "Epoch 150/200: 100%|██████████| 49/49 [00:29<00:00,  1.66it/s, D_loss=0.703, G_loss=1.715, Hybrid=0.120]\n",
            "                                                                     \r"
          ]
        },
        {
          "name": "stdout",
          "output_type": "stream",
          "text": [
            "\n",
            "Validation @ Epoch 150:\n",
            "PSNR: 17.82 dB | SSIM: 0.8593 | LPIPS: 0.1851 | Hybrid: 0.1172\n"
          ]
        },
        {
          "name": "stderr",
          "output_type": "stream",
          "text": [
            "Epoch 151/200: 100%|██████████| 49/49 [00:29<00:00,  1.66it/s, D_loss=0.701, G_loss=2.223, Hybrid=0.146]\n",
            "                                                                     \r"
          ]
        },
        {
          "name": "stdout",
          "output_type": "stream",
          "text": [
            "\n",
            "Validation @ Epoch 151:\n",
            "PSNR: 17.48 dB | SSIM: 0.8462 | LPIPS: 0.1931 | Hybrid: 0.1154\n"
          ]
        },
        {
          "name": "stderr",
          "output_type": "stream",
          "text": [
            "Epoch 152/200: 100%|██████████| 49/49 [00:29<00:00,  1.66it/s, D_loss=0.755, G_loss=1.889, Hybrid=0.150]\n",
            "                                                                     \r"
          ]
        },
        {
          "name": "stdout",
          "output_type": "stream",
          "text": [
            "\n",
            "Validation @ Epoch 152:\n",
            "PSNR: 17.66 dB | SSIM: 0.8496 | LPIPS: 0.1875 | Hybrid: 0.1082\n"
          ]
        },
        {
          "name": "stderr",
          "output_type": "stream",
          "text": [
            "Epoch 153/200: 100%|██████████| 49/49 [00:29<00:00,  1.66it/s, D_loss=0.706, G_loss=1.792, Hybrid=0.146]\n",
            "                                                                     \r"
          ]
        },
        {
          "name": "stdout",
          "output_type": "stream",
          "text": [
            "\n",
            "Validation @ Epoch 153:\n",
            "PSNR: 17.86 dB | SSIM: 0.8560 | LPIPS: 0.1833 | Hybrid: 0.1087\n"
          ]
        },
        {
          "name": "stderr",
          "output_type": "stream",
          "text": [
            "Epoch 154/200: 100%|██████████| 49/49 [00:29<00:00,  1.67it/s, D_loss=0.699, G_loss=2.104, Hybrid=0.151]\n",
            "                                                                     \r"
          ]
        },
        {
          "name": "stdout",
          "output_type": "stream",
          "text": [
            "\n",
            "Validation @ Epoch 154:\n",
            "PSNR: 18.02 dB | SSIM: 0.8584 | LPIPS: 0.1850 | Hybrid: 0.1265\n"
          ]
        },
        {
          "name": "stderr",
          "output_type": "stream",
          "text": [
            "Epoch 155/200: 100%|██████████| 49/49 [00:29<00:00,  1.67it/s, D_loss=0.725, G_loss=1.718, Hybrid=0.104]\n",
            "                                                                     \r"
          ]
        },
        {
          "name": "stdout",
          "output_type": "stream",
          "text": [
            "\n",
            "Validation @ Epoch 155:\n",
            "PSNR: 18.07 dB | SSIM: 0.8580 | LPIPS: 0.1814 | Hybrid: 0.1161\n"
          ]
        },
        {
          "name": "stderr",
          "output_type": "stream",
          "text": [
            "Epoch 156/200: 100%|██████████| 49/49 [00:29<00:00,  1.67it/s, D_loss=0.709, G_loss=1.435, Hybrid=0.094]\n",
            "                                                                     \r"
          ]
        },
        {
          "name": "stdout",
          "output_type": "stream",
          "text": [
            "\n",
            "Validation @ Epoch 156:\n",
            "PSNR: 17.79 dB | SSIM: 0.8572 | LPIPS: 0.1875 | Hybrid: 0.1220\n"
          ]
        },
        {
          "name": "stderr",
          "output_type": "stream",
          "text": [
            "Epoch 157/200: 100%|██████████| 49/49 [00:29<00:00,  1.67it/s, D_loss=0.698, G_loss=1.666, Hybrid=0.154]\n",
            "                                                                     \r"
          ]
        },
        {
          "name": "stdout",
          "output_type": "stream",
          "text": [
            "\n",
            "Validation @ Epoch 157:\n",
            "PSNR: 17.10 dB | SSIM: 0.8437 | LPIPS: 0.2046 | Hybrid: 0.1420\n"
          ]
        },
        {
          "name": "stderr",
          "output_type": "stream",
          "text": [
            "Epoch 158/200: 100%|██████████| 49/49 [00:29<00:00,  1.66it/s, D_loss=0.706, G_loss=1.662, Hybrid=0.140]\n",
            "                                                                     \r"
          ]
        },
        {
          "name": "stdout",
          "output_type": "stream",
          "text": [
            "\n",
            "Validation @ Epoch 158:\n",
            "PSNR: 17.51 dB | SSIM: 0.8502 | LPIPS: 0.1915 | Hybrid: 0.1132\n"
          ]
        },
        {
          "name": "stderr",
          "output_type": "stream",
          "text": [
            "Epoch 159/200: 100%|██████████| 49/49 [00:29<00:00,  1.66it/s, D_loss=0.729, G_loss=1.505, Hybrid=0.100]\n",
            "                                                                     \r"
          ]
        },
        {
          "name": "stdout",
          "output_type": "stream",
          "text": [
            "\n",
            "Validation @ Epoch 159:\n",
            "PSNR: 17.56 dB | SSIM: 0.8456 | LPIPS: 0.1970 | Hybrid: 0.1203\n"
          ]
        },
        {
          "name": "stderr",
          "output_type": "stream",
          "text": [
            "Epoch 160/200: 100%|██████████| 49/49 [00:29<00:00,  1.66it/s, D_loss=0.705, G_loss=1.705, Hybrid=0.124]\n",
            "                                                                     \r"
          ]
        },
        {
          "name": "stdout",
          "output_type": "stream",
          "text": [
            "\n",
            "Validation @ Epoch 160:\n",
            "PSNR: 17.69 dB | SSIM: 0.8555 | LPIPS: 0.1886 | Hybrid: 0.1173\n"
          ]
        },
        {
          "name": "stderr",
          "output_type": "stream",
          "text": [
            "Epoch 161/200: 100%|██████████| 49/49 [00:29<00:00,  1.66it/s, D_loss=0.938, G_loss=1.614, Hybrid=0.120]\n",
            "                                                                     \r"
          ]
        },
        {
          "name": "stdout",
          "output_type": "stream",
          "text": [
            "\n",
            "Validation @ Epoch 161:\n",
            "PSNR: 18.11 dB | SSIM: 0.8634 | LPIPS: 0.1751 | Hybrid: 0.1125\n"
          ]
        },
        {
          "name": "stderr",
          "output_type": "stream",
          "text": [
            "Epoch 162/200: 100%|██████████| 49/49 [00:29<00:00,  1.66it/s, D_loss=0.719, G_loss=1.619, Hybrid=0.107]\n",
            "                                                                     \r"
          ]
        },
        {
          "name": "stdout",
          "output_type": "stream",
          "text": [
            "\n",
            "Validation @ Epoch 162:\n",
            "PSNR: 17.70 dB | SSIM: 0.8494 | LPIPS: 0.1872 | Hybrid: 0.1105\n"
          ]
        },
        {
          "name": "stderr",
          "output_type": "stream",
          "text": [
            "Epoch 163/200: 100%|██████████| 49/49 [00:29<00:00,  1.66it/s, D_loss=0.698, G_loss=1.782, Hybrid=0.133]\n",
            "                                                                     \r"
          ]
        },
        {
          "name": "stdout",
          "output_type": "stream",
          "text": [
            "\n",
            "Validation @ Epoch 163:\n",
            "PSNR: 17.32 dB | SSIM: 0.8453 | LPIPS: 0.2030 | Hybrid: 0.1267\n"
          ]
        },
        {
          "name": "stderr",
          "output_type": "stream",
          "text": [
            "Epoch 164/200: 100%|██████████| 49/49 [00:29<00:00,  1.66it/s, D_loss=0.720, G_loss=1.733, Hybrid=0.091]\n",
            "                                                                     \r"
          ]
        },
        {
          "name": "stdout",
          "output_type": "stream",
          "text": [
            "\n",
            "Validation @ Epoch 164:\n",
            "PSNR: 18.10 dB | SSIM: 0.8593 | LPIPS: 0.1855 | Hybrid: 0.1196\n"
          ]
        },
        {
          "name": "stderr",
          "output_type": "stream",
          "text": [
            "Epoch 165/200: 100%|██████████| 49/49 [00:29<00:00,  1.66it/s, D_loss=0.708, G_loss=1.739, Hybrid=0.129]\n",
            "                                                                     \r"
          ]
        },
        {
          "name": "stdout",
          "output_type": "stream",
          "text": [
            "\n",
            "Validation @ Epoch 165:\n",
            "PSNR: 17.44 dB | SSIM: 0.8469 | LPIPS: 0.1929 | Hybrid: 0.1196\n"
          ]
        },
        {
          "name": "stderr",
          "output_type": "stream",
          "text": [
            "Epoch 166/200: 100%|██████████| 49/49 [00:29<00:00,  1.67it/s, D_loss=0.705, G_loss=1.541, Hybrid=0.105]\n",
            "                                                                     \r"
          ]
        },
        {
          "name": "stdout",
          "output_type": "stream",
          "text": [
            "\n",
            "Validation @ Epoch 166:\n",
            "PSNR: 18.10 dB | SSIM: 0.8599 | LPIPS: 0.1861 | Hybrid: 0.1276\n"
          ]
        },
        {
          "name": "stderr",
          "output_type": "stream",
          "text": [
            "Epoch 167/200: 100%|██████████| 49/49 [00:29<00:00,  1.67it/s, D_loss=0.704, G_loss=1.705, Hybrid=0.101]\n",
            "                                                                     \r"
          ]
        },
        {
          "name": "stdout",
          "output_type": "stream",
          "text": [
            "\n",
            "Validation @ Epoch 167:\n",
            "PSNR: 17.44 dB | SSIM: 0.8506 | LPIPS: 0.1942 | Hybrid: 0.1290\n"
          ]
        },
        {
          "name": "stderr",
          "output_type": "stream",
          "text": [
            "Epoch 168/200: 100%|██████████| 49/49 [00:29<00:00,  1.66it/s, D_loss=0.699, G_loss=1.566, Hybrid=0.124]\n",
            "                                                                     \r"
          ]
        },
        {
          "name": "stdout",
          "output_type": "stream",
          "text": [
            "\n",
            "Validation @ Epoch 168:\n",
            "PSNR: 17.63 dB | SSIM: 0.8497 | LPIPS: 0.2036 | Hybrid: 0.1238\n"
          ]
        },
        {
          "name": "stderr",
          "output_type": "stream",
          "text": [
            "Epoch 169/200: 100%|██████████| 49/49 [00:29<00:00,  1.66it/s, D_loss=0.707, G_loss=1.640, Hybrid=0.145]\n",
            "                                                                     \r"
          ]
        },
        {
          "name": "stdout",
          "output_type": "stream",
          "text": [
            "\n",
            "Validation @ Epoch 169:\n",
            "PSNR: 17.87 dB | SSIM: 0.8548 | LPIPS: 0.1964 | Hybrid: 0.1236\n"
          ]
        },
        {
          "name": "stderr",
          "output_type": "stream",
          "text": [
            "Epoch 170/200: 100%|██████████| 49/49 [00:29<00:00,  1.66it/s, D_loss=0.702, G_loss=1.693, Hybrid=0.147]\n",
            "                                                                     \r"
          ]
        },
        {
          "name": "stdout",
          "output_type": "stream",
          "text": [
            "\n",
            "Validation @ Epoch 170:\n",
            "PSNR: 17.98 dB | SSIM: 0.8521 | LPIPS: 0.1903 | Hybrid: 0.1229\n"
          ]
        },
        {
          "name": "stderr",
          "output_type": "stream",
          "text": [
            "Epoch 171/200: 100%|██████████| 49/49 [00:29<00:00,  1.66it/s, D_loss=6.359, G_loss=1.593, Hybrid=0.128]   \n",
            "                                                                     \r"
          ]
        },
        {
          "name": "stdout",
          "output_type": "stream",
          "text": [
            "\n",
            "Validation @ Epoch 171:\n",
            "PSNR: 17.79 dB | SSIM: 0.8525 | LPIPS: 0.1901 | Hybrid: 0.1193\n"
          ]
        },
        {
          "name": "stderr",
          "output_type": "stream",
          "text": [
            "Epoch 172/200: 100%|██████████| 49/49 [00:29<00:00,  1.67it/s, D_loss=2.663, G_loss=1.615, Hybrid=0.106] \n",
            "                                                                     \r"
          ]
        },
        {
          "name": "stdout",
          "output_type": "stream",
          "text": [
            "\n",
            "Validation @ Epoch 172:\n",
            "PSNR: 17.88 dB | SSIM: 0.8564 | LPIPS: 0.1861 | Hybrid: 0.1175\n"
          ]
        },
        {
          "name": "stderr",
          "output_type": "stream",
          "text": [
            "Epoch 173/200: 100%|██████████| 49/49 [00:29<00:00,  1.66it/s, D_loss=0.978, G_loss=2.154, Hybrid=0.178]\n",
            "                                                                     \r"
          ]
        },
        {
          "name": "stdout",
          "output_type": "stream",
          "text": [
            "\n",
            "Validation @ Epoch 173:\n",
            "PSNR: 17.76 dB | SSIM: 0.8549 | LPIPS: 0.1781 | Hybrid: 0.1146\n"
          ]
        },
        {
          "name": "stderr",
          "output_type": "stream",
          "text": [
            "Epoch 174/200: 100%|██████████| 49/49 [00:29<00:00,  1.66it/s, D_loss=2.677, G_loss=1.521, Hybrid=0.125]\n",
            "                                                                     \r"
          ]
        },
        {
          "name": "stdout",
          "output_type": "stream",
          "text": [
            "\n",
            "Validation @ Epoch 174:\n",
            "PSNR: 17.38 dB | SSIM: 0.8504 | LPIPS: 0.1942 | Hybrid: 0.1216\n"
          ]
        },
        {
          "name": "stderr",
          "output_type": "stream",
          "text": [
            "Epoch 175/200: 100%|██████████| 49/49 [00:29<00:00,  1.66it/s, D_loss=0.983, G_loss=1.827, Hybrid=0.100]\n",
            "                                                                     \r"
          ]
        },
        {
          "name": "stdout",
          "output_type": "stream",
          "text": [
            "\n",
            "Validation @ Epoch 175:\n",
            "PSNR: 17.33 dB | SSIM: 0.8472 | LPIPS: 0.1995 | Hybrid: 0.1385\n"
          ]
        },
        {
          "name": "stderr",
          "output_type": "stream",
          "text": [
            "Epoch 176/200: 100%|██████████| 49/49 [00:29<00:00,  1.66it/s, D_loss=1.599, G_loss=1.563, Hybrid=0.109]\n",
            "                                                                     \r"
          ]
        },
        {
          "name": "stdout",
          "output_type": "stream",
          "text": [
            "\n",
            "Validation @ Epoch 176:\n",
            "PSNR: 17.81 dB | SSIM: 0.8529 | LPIPS: 0.1902 | Hybrid: 0.1186\n"
          ]
        },
        {
          "name": "stderr",
          "output_type": "stream",
          "text": [
            "Epoch 177/200: 100%|██████████| 49/49 [00:29<00:00,  1.66it/s, D_loss=1.644, G_loss=1.801, Hybrid=0.135]\n",
            "                                                                     \r"
          ]
        },
        {
          "name": "stdout",
          "output_type": "stream",
          "text": [
            "\n",
            "Validation @ Epoch 177:\n",
            "PSNR: 17.84 dB | SSIM: 0.8496 | LPIPS: 0.1982 | Hybrid: 0.1276\n"
          ]
        },
        {
          "name": "stderr",
          "output_type": "stream",
          "text": [
            "Epoch 178/200: 100%|██████████| 49/49 [00:29<00:00,  1.67it/s, D_loss=0.755, G_loss=1.627, Hybrid=0.108]\n",
            "                                                                     \r"
          ]
        },
        {
          "name": "stdout",
          "output_type": "stream",
          "text": [
            "\n",
            "Validation @ Epoch 178:\n",
            "PSNR: 17.59 dB | SSIM: 0.8515 | LPIPS: 0.1867 | Hybrid: 0.1093\n"
          ]
        },
        {
          "name": "stderr",
          "output_type": "stream",
          "text": [
            "Epoch 179/200: 100%|██████████| 49/49 [00:29<00:00,  1.66it/s, D_loss=0.874, G_loss=1.703, Hybrid=0.120]\n",
            "                                                                     \r"
          ]
        },
        {
          "name": "stdout",
          "output_type": "stream",
          "text": [
            "\n",
            "Validation @ Epoch 179:\n",
            "PSNR: 17.91 dB | SSIM: 0.8542 | LPIPS: 0.1856 | Hybrid: 0.1174\n"
          ]
        },
        {
          "name": "stderr",
          "output_type": "stream",
          "text": [
            "Epoch 180/200: 100%|██████████| 49/49 [00:29<00:00,  1.67it/s, D_loss=1.234, G_loss=1.610, Hybrid=0.099]\n",
            "                                                                     \r"
          ]
        },
        {
          "name": "stdout",
          "output_type": "stream",
          "text": [
            "\n",
            "Validation @ Epoch 180:\n",
            "PSNR: 18.03 dB | SSIM: 0.8583 | LPIPS: 0.1845 | Hybrid: 0.1305\n"
          ]
        },
        {
          "name": "stderr",
          "output_type": "stream",
          "text": [
            "Epoch 181/200: 100%|██████████| 49/49 [00:29<00:00,  1.67it/s, D_loss=0.866, G_loss=1.583, Hybrid=0.096]\n",
            "                                                                     \r"
          ]
        },
        {
          "name": "stdout",
          "output_type": "stream",
          "text": [
            "\n",
            "Validation @ Epoch 181:\n",
            "PSNR: 17.79 dB | SSIM: 0.8491 | LPIPS: 0.1959 | Hybrid: 0.1319\n"
          ]
        },
        {
          "name": "stderr",
          "output_type": "stream",
          "text": [
            "Epoch 182/200: 100%|██████████| 49/49 [00:29<00:00,  1.66it/s, D_loss=1.449, G_loss=1.807, Hybrid=0.088]\n",
            "                                                                     \r"
          ]
        },
        {
          "name": "stdout",
          "output_type": "stream",
          "text": [
            "\n",
            "Validation @ Epoch 182:\n",
            "PSNR: 17.83 dB | SSIM: 0.8543 | LPIPS: 0.1920 | Hybrid: 0.1245\n"
          ]
        },
        {
          "name": "stderr",
          "output_type": "stream",
          "text": [
            "Epoch 183/200: 100%|██████████| 49/49 [00:29<00:00,  1.66it/s, D_loss=0.911, G_loss=1.566, Hybrid=0.129]\n",
            "                                                                     \r"
          ]
        },
        {
          "name": "stdout",
          "output_type": "stream",
          "text": [
            "\n",
            "Validation @ Epoch 183:\n",
            "PSNR: 17.56 dB | SSIM: 0.8501 | LPIPS: 0.1930 | Hybrid: 0.1156\n"
          ]
        },
        {
          "name": "stderr",
          "output_type": "stream",
          "text": [
            "Epoch 184/200: 100%|██████████| 49/49 [00:29<00:00,  1.66it/s, D_loss=1.334, G_loss=1.625, Hybrid=0.124]\n",
            "                                                                     \r"
          ]
        },
        {
          "name": "stdout",
          "output_type": "stream",
          "text": [
            "\n",
            "Validation @ Epoch 184:\n",
            "PSNR: 17.89 dB | SSIM: 0.8549 | LPIPS: 0.1908 | Hybrid: 0.1210\n"
          ]
        },
        {
          "name": "stderr",
          "output_type": "stream",
          "text": [
            "Epoch 185/200: 100%|██████████| 49/49 [00:29<00:00,  1.66it/s, D_loss=1.001, G_loss=1.743, Hybrid=0.113]\n",
            "                                                                     \r"
          ]
        },
        {
          "name": "stdout",
          "output_type": "stream",
          "text": [
            "\n",
            "Validation @ Epoch 185:\n",
            "PSNR: 17.57 dB | SSIM: 0.8426 | LPIPS: 0.2021 | Hybrid: 0.1294\n"
          ]
        },
        {
          "name": "stderr",
          "output_type": "stream",
          "text": [
            "Epoch 186/200: 100%|██████████| 49/49 [00:29<00:00,  1.66it/s, D_loss=1.190, G_loss=1.622, Hybrid=0.131]\n",
            "                                                                     \r"
          ]
        },
        {
          "name": "stdout",
          "output_type": "stream",
          "text": [
            "\n",
            "Validation @ Epoch 186:\n",
            "PSNR: 17.82 dB | SSIM: 0.8561 | LPIPS: 0.1855 | Hybrid: 0.1230\n"
          ]
        },
        {
          "name": "stderr",
          "output_type": "stream",
          "text": [
            "Epoch 187/200: 100%|██████████| 49/49 [00:29<00:00,  1.66it/s, D_loss=1.920, G_loss=1.929, Hybrid=0.171]\n",
            "                                                                     \r"
          ]
        },
        {
          "name": "stdout",
          "output_type": "stream",
          "text": [
            "\n",
            "Validation @ Epoch 187:\n",
            "PSNR: 17.86 dB | SSIM: 0.8505 | LPIPS: 0.1904 | Hybrid: 0.1289\n"
          ]
        },
        {
          "name": "stderr",
          "output_type": "stream",
          "text": [
            "Epoch 188/200: 100%|██████████| 49/49 [00:29<00:00,  1.66it/s, D_loss=0.826, G_loss=1.812, Hybrid=0.124]\n",
            "                                                                     \r"
          ]
        },
        {
          "name": "stdout",
          "output_type": "stream",
          "text": [
            "\n",
            "Validation @ Epoch 188:\n",
            "PSNR: 17.96 dB | SSIM: 0.8564 | LPIPS: 0.1873 | Hybrid: 0.1242\n"
          ]
        },
        {
          "name": "stderr",
          "output_type": "stream",
          "text": [
            "Epoch 189/200: 100%|██████████| 49/49 [00:29<00:00,  1.66it/s, D_loss=0.968, G_loss=1.430, Hybrid=0.112]\n",
            "                                                                     \r"
          ]
        },
        {
          "name": "stdout",
          "output_type": "stream",
          "text": [
            "\n",
            "Validation @ Epoch 189:\n",
            "PSNR: 18.02 dB | SSIM: 0.8548 | LPIPS: 0.1876 | Hybrid: 0.1187\n"
          ]
        },
        {
          "name": "stderr",
          "output_type": "stream",
          "text": [
            "Epoch 190/200: 100%|██████████| 49/49 [00:29<00:00,  1.66it/s, D_loss=0.744, G_loss=1.712, Hybrid=0.103]\n",
            "                                                                     \r"
          ]
        },
        {
          "name": "stdout",
          "output_type": "stream",
          "text": [
            "\n",
            "Validation @ Epoch 190:\n",
            "PSNR: 17.63 dB | SSIM: 0.8496 | LPIPS: 0.1910 | Hybrid: 0.1217\n"
          ]
        },
        {
          "name": "stderr",
          "output_type": "stream",
          "text": [
            "Epoch 191/200: 100%|██████████| 49/49 [00:29<00:00,  1.66it/s, D_loss=0.921, G_loss=1.407, Hybrid=0.103]\n",
            "                                                                     \r"
          ]
        },
        {
          "name": "stdout",
          "output_type": "stream",
          "text": [
            "\n",
            "Validation @ Epoch 191:\n",
            "PSNR: 18.13 dB | SSIM: 0.8591 | LPIPS: 0.1845 | Hybrid: 0.1198\n"
          ]
        },
        {
          "name": "stderr",
          "output_type": "stream",
          "text": [
            "Epoch 192/200: 100%|██████████| 49/49 [00:29<00:00,  1.66it/s, D_loss=1.304, G_loss=1.860, Hybrid=0.128]\n",
            "                                                                     \r"
          ]
        },
        {
          "name": "stdout",
          "output_type": "stream",
          "text": [
            "\n",
            "Validation @ Epoch 192:\n",
            "PSNR: 18.10 dB | SSIM: 0.8593 | LPIPS: 0.1867 | Hybrid: 0.1238\n"
          ]
        },
        {
          "name": "stderr",
          "output_type": "stream",
          "text": [
            "Epoch 193/200: 100%|██████████| 49/49 [00:29<00:00,  1.67it/s, D_loss=0.769, G_loss=1.428, Hybrid=0.117]\n",
            "                                                                     \r"
          ]
        },
        {
          "name": "stdout",
          "output_type": "stream",
          "text": [
            "\n",
            "Validation @ Epoch 193:\n",
            "PSNR: 17.35 dB | SSIM: 0.8447 | LPIPS: 0.1960 | Hybrid: 0.1238\n"
          ]
        },
        {
          "name": "stderr",
          "output_type": "stream",
          "text": [
            "Epoch 194/200: 100%|██████████| 49/49 [00:29<00:00,  1.67it/s, D_loss=0.860, G_loss=1.429, Hybrid=0.090] \n",
            "                                                                     \r"
          ]
        },
        {
          "name": "stdout",
          "output_type": "stream",
          "text": [
            "\n",
            "Validation @ Epoch 194:\n",
            "PSNR: 17.61 dB | SSIM: 0.8467 | LPIPS: 0.1965 | Hybrid: 0.1236\n"
          ]
        },
        {
          "name": "stderr",
          "output_type": "stream",
          "text": [
            "Epoch 195/200: 100%|██████████| 49/49 [00:29<00:00,  1.67it/s, D_loss=0.914, G_loss=2.087, Hybrid=0.160]\n",
            "                                                                     \r"
          ]
        },
        {
          "name": "stdout",
          "output_type": "stream",
          "text": [
            "\n",
            "Validation @ Epoch 195:\n",
            "PSNR: 17.26 dB | SSIM: 0.8389 | LPIPS: 0.2213 | Hybrid: 0.1488\n"
          ]
        },
        {
          "name": "stderr",
          "output_type": "stream",
          "text": [
            "Epoch 196/200: 100%|██████████| 49/49 [00:29<00:00,  1.67it/s, D_loss=0.794, G_loss=1.413, Hybrid=0.099]\n",
            "                                                                     \r"
          ]
        },
        {
          "name": "stdout",
          "output_type": "stream",
          "text": [
            "\n",
            "Validation @ Epoch 196:\n",
            "PSNR: 17.94 dB | SSIM: 0.8551 | LPIPS: 0.1873 | Hybrid: 0.1251\n"
          ]
        },
        {
          "name": "stderr",
          "output_type": "stream",
          "text": [
            "Epoch 197/200: 100%|██████████| 49/49 [00:29<00:00,  1.67it/s, D_loss=4.156, G_loss=1.550, Hybrid=0.142]\n",
            "                                                                     \r"
          ]
        },
        {
          "name": "stdout",
          "output_type": "stream",
          "text": [
            "\n",
            "Validation @ Epoch 197:\n",
            "PSNR: 17.65 dB | SSIM: 0.8531 | LPIPS: 0.1883 | Hybrid: 0.1223\n"
          ]
        },
        {
          "name": "stderr",
          "output_type": "stream",
          "text": [
            "Epoch 198/200: 100%|██████████| 49/49 [00:29<00:00,  1.66it/s, D_loss=1.008, G_loss=1.535, Hybrid=0.114]\n",
            "                                                                     \r"
          ]
        },
        {
          "name": "stdout",
          "output_type": "stream",
          "text": [
            "\n",
            "Validation @ Epoch 198:\n",
            "PSNR: 17.49 dB | SSIM: 0.8516 | LPIPS: 0.1948 | Hybrid: 0.1369\n"
          ]
        },
        {
          "name": "stderr",
          "output_type": "stream",
          "text": [
            "Epoch 199/200: 100%|██████████| 49/49 [00:29<00:00,  1.65it/s, D_loss=0.821, G_loss=1.938, Hybrid=0.117] \n",
            "                                                                     \r"
          ]
        },
        {
          "name": "stdout",
          "output_type": "stream",
          "text": [
            "\n",
            "Validation @ Epoch 199:\n",
            "PSNR: 17.78 dB | SSIM: 0.8559 | LPIPS: 0.1833 | Hybrid: 0.1141\n"
          ]
        },
        {
          "name": "stderr",
          "output_type": "stream",
          "text": [
            "Epoch 200/200: 100%|██████████| 49/49 [00:29<00:00,  1.66it/s, D_loss=0.971, G_loss=1.986, Hybrid=0.135]\n",
            "                                                                     \r"
          ]
        },
        {
          "name": "stdout",
          "output_type": "stream",
          "text": [
            "\n",
            "Validation @ Epoch 200:\n",
            "PSNR: 17.86 dB | SSIM: 0.8526 | LPIPS: 0.1901 | Hybrid: 0.1209\n",
            "Total training time: 1h 46m 51.19s\n"
          ]
        }
      ],
      "source": [
        "import math\n",
        "import os\n",
        "import time\n",
        "import torch\n",
        "import torch.nn.functional as F\n",
        "from torchmetrics import StructuralSimilarityIndexMeasure as SSIM\n",
        "from torchmetrics import PeakSignalNoiseRatio as PSNR\n",
        "from piq import LPIPS\n",
        "from tqdm import tqdm\n",
        "from torch import nn, optim\n",
        "from torchvision import models\n",
        "from torchvision.utils import save_image\n",
        "\n",
        "class ResidualDenseBlock(nn.Module):\n",
        "    def __init__(self, in_channels=64, growth_rate=32):\n",
        "        super(ResidualDenseBlock, self).__init__()\n",
        "        self.conv1 = nn.Conv2d(in_channels, growth_rate, kernel_size=3, padding=1)\n",
        "        self.conv2 = nn.Conv2d(in_channels + growth_rate, growth_rate, kernel_size=3, padding=1)\n",
        "        self.conv3 = nn.Conv2d(in_channels + 2 * growth_rate, in_channels, kernel_size=3, padding=1)\n",
        "\n",
        "    def forward(self, x):\n",
        "        out1 = torch.relu(self.conv1(x))\n",
        "        out2 = torch.relu(self.conv2(torch.cat([x, out1], dim=1)))\n",
        "        out3 = self.conv3(torch.cat([x, out1, out2], dim=1))\n",
        "        return x + out3\n",
        "\n",
        "class RRDB(nn.Module):\n",
        "    def __init__(self, in_channels=64, beta=0.2):  \n",
        "        super(RRDB, self).__init__()\n",
        "        self.rdb1 = ResidualDenseBlock(in_channels)\n",
        "        self.rdb2 = ResidualDenseBlock(in_channels)\n",
        "        self.rdb3 = ResidualDenseBlock(in_channels)\n",
        "        self.beta = beta  # Scaling factor for residual\n",
        "\n",
        "    def forward(self, x):\n",
        "        residual = self.rdb3(self.rdb2(self.rdb1(x)))\n",
        "        return x + self.beta * residual  # Scaled residual for stability\n",
        "    \n",
        "class Generator(nn.Module):\n",
        "    def __init__(self, num_rrdb=6):\n",
        "        super(Generator, self).__init__()\n",
        "\n",
        "        # Initial feature extraction\n",
        "        self.initial_conv = nn.Sequential(\n",
        "            nn.Conv2d(3, 64, kernel_size=3, padding=1),\n",
        "            nn.ReLU(inplace=True),\n",
        "            nn.Conv2d(64, 64, kernel_size=3, padding=1),\n",
        "            nn.ReLU(inplace=True)\n",
        "        )\n",
        "\n",
        "        # RRDB Blocks\n",
        "        self.rrdb_blocks = nn.Sequential(*[RRDB(64) for _ in range(num_rrdb)])\n",
        "\n",
        "        # Global Residual Path (helps learn overall brightness correction)\n",
        "        self.global_residual = nn.Conv2d(3, 3, kernel_size=3, padding=1)\n",
        "\n",
        "        # Final convolution layers for reconstruction\n",
        "        self.final_conv = nn.Sequential(\n",
        "            nn.Conv2d(64, 64, kernel_size=3, padding=1),\n",
        "            nn.ReLU(inplace=True),\n",
        "            nn.Conv2d(64, 3, kernel_size=3, padding=1)\n",
        "        )\n",
        "\n",
        "    def forward(self, x):\n",
        "        initial_features = self.initial_conv(x)\n",
        "        enhanced_features = self.rrdb_blocks(initial_features)\n",
        "        reconstructed = self.final_conv(enhanced_features)\n",
        "        \n",
        "        # Adding the global residual path\n",
        "        output = reconstructed + self.global_residual(x)\n",
        "        \n",
        "        return torch.sigmoid(output)  # Normalize output to [0,1]\n",
        "    \n",
        "class PatchGANDiscriminator(nn.Module):\n",
        "    def __init__(self, in_channels=3, num_filters=64, num_layers=3):\n",
        "        super(PatchGANDiscriminator, self).__init__()\n",
        "        \n",
        "        # Initial convolutional layer\n",
        "        layers = [\n",
        "            nn.Conv2d(in_channels, num_filters, kernel_size=4, stride=2, padding=1),\n",
        "            nn.LeakyReLU(0.2, inplace=True)\n",
        "        ]\n",
        "        \n",
        "        # Intermediate convolutional layers\n",
        "        for i in range(1, num_layers):\n",
        "            layers += [\n",
        "                nn.Conv2d(num_filters * (2 ** (i - 1)), num_filters * (2 ** i), kernel_size=4, stride=2, padding=1),\n",
        "                nn.InstanceNorm2d(num_filters * (2 ** i)),\n",
        "                nn.LeakyReLU(0.2, inplace=True)\n",
        "            ]\n",
        "        \n",
        "        # Final convolutional layer\n",
        "        layers += [\n",
        "            nn.Conv2d(num_filters * (2 ** (num_layers - 1)), 1, kernel_size=4, stride=1, padding=1)\n",
        "        ]\n",
        "        \n",
        "        self.model = nn.Sequential(*layers)\n",
        "\n",
        "    def forward(self, x):\n",
        "        return self.model(x)  # Output shape: [batch_size, 1, H, W]\n",
        "    \n",
        "class GANLoss(nn.Module):\n",
        "    def __init__(self):\n",
        "        super().__init__()\n",
        "        self.loss = nn.BCEWithLogitsLoss()\n",
        "\n",
        "    def forward(self, pred, target_is_real):\n",
        "        target = torch.ones_like(pred) if target_is_real else torch.zeros_like(pred)\n",
        "        return self.loss(pred, target)\n",
        "\n",
        "class PerceptualLoss(nn.Module):\n",
        "    def __init__(self):\n",
        "        super(PerceptualLoss, self).__init__()\n",
        "        vgg = models.vgg19(pretrained=True).features[:16]  # Use first few layers\n",
        "        for param in vgg.parameters():\n",
        "            param.requires_grad = False  # Freeze VGG model\n",
        "        self.vgg = vgg.eval()\n",
        "        self.criterion = nn.L1Loss()\n",
        "\n",
        "    def forward(self, x, y):\n",
        "        x_features = self.vgg(x)\n",
        "        y_features = self.vgg(y)\n",
        "        return self.criterion(x_features, y_features)\n",
        "    \n",
        "def compute_gradient_penalty(disc, real_samples, fake_samples):\n",
        "    \"\"\"Calculates the gradient penalty loss for WGAN GP\"\"\"\n",
        "    # Random weight term for interpolation between real and fake samples\n",
        "    device = real_samples.device\n",
        "    alpha = torch.rand(real_samples.size(0), 1, 1, 1, device=device)\n",
        "    # Get random interpolation between real and fake samples\n",
        "    interpolates = (alpha * real_samples + ((1 - alpha) * fake_samples)).requires_grad_(True)\n",
        "    d_interpolates = disc(interpolates)\n",
        "    fake = torch.ones_like(d_interpolates)\n",
        "    \n",
        "    # Get gradient w.r.t. interpolates\n",
        "    gradients = torch.autograd.grad(\n",
        "        outputs=d_interpolates,\n",
        "        inputs=interpolates,\n",
        "        grad_outputs=fake,\n",
        "        create_graph=True,\n",
        "        retain_graph=True,\n",
        "        only_inputs=True,\n",
        "    )[0]\n",
        "    gradients = gradients.view(gradients.size(0), -1)\n",
        "    gradient_penalty = ((gradients.norm(2, dim=1) - 1) ** 2).mean()\n",
        "    return gradient_penalty\n",
        "\n",
        "def validate(generator, val_loader, epoch, criterion_perceptual, ssim, psnr, lpips, device):\n",
        "    generator.eval()\n",
        "    val_metrics = {'psnr': 0, 'ssim': 0, 'lpips': 0, 'val_loss': 0}\n",
        "\n",
        "    with torch.no_grad():\n",
        "        for low, high, *_ in tqdm(val_loader, desc=f'Validation Epoch {epoch}', leave=False):\n",
        "            low, high = low.to(device), high.to(device)\n",
        "            fake = generator(low)\n",
        "\n",
        "            # Validation loss (L1 + perceptual)\n",
        "            loss = (10 * F.l1_loss(fake, high) + 0.1 * criterion_perceptual(fake, high)).item()\n",
        "            \n",
        "            # Update metrics\n",
        "            val_metrics['val_loss'] += loss\n",
        "            val_metrics['psnr'] += psnr(fake, high)\n",
        "            val_metrics['ssim'] += ssim(fake, high)\n",
        "            val_metrics['lpips'] += lpips(fake, high)\n",
        "\n",
        "    for k in val_metrics:\n",
        "        val_metrics[k] /= len(val_loader)\n",
        "    return val_metrics\n",
        "\n",
        "class HybridLoss(nn.Module):\n",
        "    def __init__(self, device, total_epochs=200):\n",
        "        super().__init__()\n",
        "        self.lpips = LPIPS(replace_pooling=True).to(device).eval()\n",
        "        self.ssim = SSIM().to(device).eval()\n",
        "        self.total_epochs = total_epochs\n",
        "        self.current_epoch = 0\n",
        "        \n",
        "    def forward(self, pred, target, noise_pred=None, true_noise=None):\n",
        "        \"\"\"Combined loss with dynamic weighting\"\"\"\n",
        "        # Base losses\n",
        "        mse_loss = F.mse_loss(pred, target)  # If noise_pred is not provided, use direct MSE\n",
        "        if noise_pred is not None and true_noise is not None:\n",
        "            mse_loss = F.mse_loss(noise_pred, true_noise)\n",
        "            \n",
        "        lpips_loss = self.lpips(pred, target)\n",
        "        ssim_loss = 1 - self.ssim(pred, target)\n",
        "        \n",
        "        # Dynamic weights (progressively focus more on perceptual quality)\n",
        "        progress = self.current_epoch / self.total_epochs\n",
        "        lpips_w = 0.4  # Fixed high importance for perceptual quality\n",
        "        ssim_w = 0.3 * progress  # Increasing structural importance\n",
        "        mse_w = 1.0 - lpips_w - ssim_w  # Decreasing noise prediction importance\n",
        "        \n",
        "        total_loss = mse_w * mse_loss + lpips_w * lpips_loss + ssim_w * ssim_loss\n",
        "        \n",
        "        # Additional metrics\n",
        "        with torch.no_grad():\n",
        "            psnr = 10 * torch.log10(1 / F.mse_loss(pred, target))\n",
        "            \n",
        "        return total_loss, {\n",
        "            'loss': total_loss.item(),\n",
        "            'mse': mse_loss.item(),\n",
        "            'lpips': lpips_loss.item(),\n",
        "            'ssim': 1 - ssim_loss.item(),\n",
        "            'psnr': psnr.item()\n",
        "        }\n",
        "    \n",
        "def train_gan(\n",
        "    generator,\n",
        "    discriminator,\n",
        "    train_loader,\n",
        "    val_loader,\n",
        "    criterion_gan,\n",
        "    criterion_l1,\n",
        "    criterion_perceptual,\n",
        "    criterion_hybrid,\n",
        "    opt_g,\n",
        "    opt_d,\n",
        "    epochs,\n",
        "    device,\n",
        "    save_dir=\"NOAUG_NONORM_RRDB_CHECKPOINTS\"\n",
        "):\n",
        "    os.makedirs(save_dir, exist_ok=True)\n",
        "    best_ssim = 0\n",
        "    best_psnr = 0\n",
        "    best_lpips = 100\n",
        "    best_hybrid_loss = float('inf')\n",
        "    \n",
        "    # Record training start time\n",
        "    start_time = time.time()\n",
        "\n",
        "    for epoch in range(epochs):\n",
        "        # Update current epoch for hybrid loss\n",
        "        criterion_hybrid.current_epoch = epoch\n",
        "        \n",
        "        # Training phase\n",
        "        generator.train()\n",
        "        discriminator.train()\n",
        "\n",
        "        train_bar = tqdm(train_loader, desc=f'Epoch {epoch+1}/{epochs}')\n",
        "        for low, high, *_ in train_bar:\n",
        "            low, high = low.to(device), high.to(device)\n",
        "\n",
        "            # --- Discriminator Update ---\n",
        "            opt_d.zero_grad()\n",
        "\n",
        "            # Real images\n",
        "            real_pred = discriminator(high)\n",
        "            real_loss = criterion_gan(real_pred, True)\n",
        "\n",
        "            # Fake images\n",
        "            fake = generator(low).detach()\n",
        "            fake_pred = discriminator(fake)\n",
        "            fake_loss = criterion_gan(fake_pred, False)\n",
        "            \n",
        "            gp = compute_gradient_penalty(discriminator, high.data, fake.data)\n",
        "            d_loss = (real_loss + fake_loss) / 2 + 10*gp\n",
        "            d_loss.backward()\n",
        "            opt_d.step()\n",
        "\n",
        "            # --- Generator Update ---\n",
        "            opt_g.zero_grad()\n",
        "            fake = generator(low)\n",
        "            \n",
        "            # GAN loss\n",
        "            g_gan_loss = criterion_gan(discriminator(fake), True)\n",
        "            \n",
        "            # Hybrid loss\n",
        "            hybrid_loss, hybrid_metrics = criterion_hybrid(fake, high)\n",
        "            \n",
        "            # Content loss\n",
        "            g_l1_loss = criterion_l1(fake, high) * 10\n",
        "            g_perc_loss = criterion_perceptual(fake, high) * 0.1\n",
        "            \n",
        "            # Combined generator loss\n",
        "            g_loss = g_gan_loss + 0.5 * hybrid_loss + g_l1_loss + g_perc_loss\n",
        "            g_loss.backward()\n",
        "            opt_g.step()\n",
        "\n",
        "            # Update progress bar\n",
        "            train_bar.set_postfix({\n",
        "                'D_loss': f'{d_loss.item():.3f}',\n",
        "                'G_loss': f'{g_loss.item():.3f}',\n",
        "                'Hybrid': f'{hybrid_loss.item():.3f}'\n",
        "            })\n",
        "\n",
        "        # Validation phase\n",
        "        val_metrics = validate(generator, val_loader, epoch+1, criterion_perceptual, ssim, psnr, lpips, device)\n",
        "        \n",
        "        # Calculate hybrid loss for validation\n",
        "        with torch.no_grad():\n",
        "            # Sample a batch from validation\n",
        "            val_low, val_high = next(iter(val_loader))[:2]\n",
        "            val_low, val_high = val_low.to(device), val_high.to(device)\n",
        "            val_fake = generator(val_low)\n",
        "            \n",
        "            # Compute hybrid loss\n",
        "            val_hybrid_loss, _ = criterion_hybrid(val_fake, val_high)\n",
        "            val_metrics['hybrid_loss'] = val_hybrid_loss.item()\n",
        "\n",
        "        # Print metrics\n",
        "        print(f\"\\nValidation @ Epoch {epoch+1}:\")\n",
        "        print(f\"PSNR: {val_metrics['psnr']:.2f} dB | SSIM: {val_metrics['ssim']:.4f} | LPIPS: {val_metrics['lpips']:.4f} | Hybrid: {val_metrics['hybrid_loss']:.4f}\")\n",
        "\n",
        "        # Save checkpoint for every epoch\n",
        "        torch.save({\n",
        "            'epoch': epoch+1,\n",
        "            'generator': generator.state_dict(),\n",
        "            'discriminator': discriminator.state_dict(),\n",
        "            'opt_g': opt_g.state_dict(),\n",
        "            'opt_d': opt_d.state_dict(),\n",
        "            'metrics': val_metrics\n",
        "        }, os.path.join(save_dir, f'epoch_{epoch+1}.pth'))\n",
        "\n",
        "        # Save best model - Hybrid Loss\n",
        "        if val_metrics['hybrid_loss'] < best_hybrid_loss:\n",
        "            best_hybrid_loss = val_metrics['hybrid_loss']\n",
        "            torch.save(generator.state_dict(), os.path.join(save_dir, 'best_hybrid.pth'))\n",
        "\n",
        "        # Save best model - Combined metrics\n",
        "        if (val_metrics['psnr'] > best_psnr) and (val_metrics['lpips'] < best_lpips) and (val_metrics['ssim'] > best_ssim):\n",
        "            torch.save(generator.state_dict(), os.path.join(save_dir, 'best_model.pth'))\n",
        "\n",
        "        if (val_metrics['lpips'] < best_lpips) and (val_metrics['ssim'] > best_ssim):\n",
        "            torch.save(generator.state_dict(), os.path.join(save_dir, 'best_lpips_ssim.pth'))\n",
        "\n",
        "        if (val_metrics['psnr'] > best_psnr) and (val_metrics['ssim'] > best_ssim):\n",
        "            torch.save(generator.state_dict(), os.path.join(save_dir, 'best_psnr_ssim.pth'))\n",
        "\n",
        "        if (val_metrics['psnr'] > best_psnr) and (val_metrics['lpips'] < best_lpips):\n",
        "            torch.save(generator.state_dict(), os.path.join(save_dir, 'best_psnr_lpips.pth'))\n",
        "                \n",
        "        if val_metrics['ssim'] > best_ssim:\n",
        "            best_ssim = val_metrics['ssim']\n",
        "            torch.save(generator.state_dict(), os.path.join(save_dir, 'best_ssim.pth'))\n",
        "                    \n",
        "        if val_metrics['psnr'] > best_psnr:\n",
        "            best_psnr = val_metrics['psnr']\n",
        "            torch.save(generator.state_dict(), os.path.join(save_dir, 'best_psnr.pth'))\n",
        "\n",
        "        if val_metrics['lpips'] < best_lpips:\n",
        "            best_lpips = val_metrics['lpips']\n",
        "            torch.save(generator.state_dict(), os.path.join(save_dir, 'best_lpips.pth'))\n",
        "\n",
        "        # Sample images\n",
        "        if (epoch+1) % 5 == 0:\n",
        "            with torch.no_grad():\n",
        "                fake = generator(low[:3])  # First 3 samples\n",
        "                save_image(\n",
        "                    torch.cat([low[:3], fake, high[:3]], 0),\n",
        "                    os.path.join(save_dir, f'sample_epoch_{epoch+1}.png'),\n",
        "                    nrow=3,\n",
        "                    normalize=True\n",
        "                )\n",
        "    \n",
        "    # Calculate and print total training time\n",
        "    total_training_time = time.time() - start_time\n",
        "    hours, remainder = divmod(total_training_time, 3600)\n",
        "    minutes, seconds = divmod(remainder, 60)\n",
        "    print(f\"Total training time: {int(hours)}h {int(minutes)}m {seconds:.2f}s\")\n",
        "    \n",
        "    # Save final model with training time information\n",
        "    torch.save({\n",
        "        'generator': generator.state_dict(),\n",
        "        'discriminator': discriminator.state_dict(),\n",
        "        'metrics': {\n",
        "            'best_psnr': best_psnr,\n",
        "            'best_ssim': best_ssim,\n",
        "            'best_lpips': best_lpips,\n",
        "            'best_hybrid_loss': best_hybrid_loss\n",
        "        },\n",
        "        'training_time': total_training_time\n",
        "    }, os.path.join(save_dir, 'final_model.pth'))\n",
        "\n",
        "## Common evaluating Metrics\n",
        "device = torch.device('cuda:2' if torch.cuda.is_available() else 'cpu')\n",
        "\n",
        "# Initialize metrics\n",
        "psnr = PSNR().to(device)\n",
        "ssim = SSIM().to(device)\n",
        "lpips = LPIPS(replace_pooling=True).to(device)\n",
        "\n",
        "# Initialize models and losses\n",
        "generator = Generator().to(device)\n",
        "discriminator = PatchGANDiscriminator().to(device)\n",
        "opt_g = optim.Adam(generator.parameters(), lr=1e-4, betas=(0.5, 0.999))\n",
        "opt_d = optim.Adam(discriminator.parameters(), lr=4e-4, betas=(0.5, 0.999))\n",
        "\n",
        "# Losses\n",
        "criterion_gan = GANLoss().to(device)\n",
        "criterion_l1 = nn.L1Loss().to(device)\n",
        "criterion_perceptual = PerceptualLoss().to(device)\n",
        "criterion_hybrid = HybridLoss(device, total_epochs=200)\n",
        "\n",
        "train_gan(\n",
        "    generator=generator,\n",
        "    discriminator=discriminator,\n",
        "    train_loader=train_loader,\n",
        "    val_loader=val_loader,\n",
        "    criterion_gan=criterion_gan,\n",
        "    criterion_l1=criterion_l1,\n",
        "    criterion_perceptual=criterion_perceptual,\n",
        "    criterion_hybrid=criterion_hybrid,\n",
        "    opt_g=opt_g,\n",
        "    opt_d=opt_d,\n",
        "    epochs=200,\n",
        "    device=device\n",
        ")"
      ]
    },
    {
      "cell_type": "code",
      "execution_count": 6,
      "metadata": {},
      "outputs": [
        {
          "name": "stderr",
          "output_type": "stream",
          "text": [
            "/home/ahansviar2/Deep Learning Project (GAN for Light)/.venv/lib/python3.10/site-packages/torchmetrics/utilities/prints.py:62: FutureWarning: Importing `PeakSignalNoiseRatio` from `torchmetrics` was deprecated and will be removed in 2.0. Import `PeakSignalNoiseRatio` from `torchmetrics.image` instead.\n",
            "  _future_warning(\n",
            "/home/ahansviar2/Deep Learning Project (GAN for Light)/.venv/lib/python3.10/site-packages/torchmetrics/utilities/prints.py:62: FutureWarning: Importing `StructuralSimilarityIndexMeasure` from `torchmetrics` was deprecated and will be removed in 2.0. Import `StructuralSimilarityIndexMeasure` from `torchmetrics.image` instead.\n",
            "  _future_warning(\n",
            "/home/ahansviar2/Deep Learning Project (GAN for Light)/.venv/lib/python3.10/site-packages/torchvision/models/_utils.py:208: UserWarning: The parameter 'pretrained' is deprecated since 0.13 and may be removed in the future, please use 'weights' instead.\n",
            "  warnings.warn(\n",
            "/home/ahansviar2/Deep Learning Project (GAN for Light)/.venv/lib/python3.10/site-packages/torchvision/models/_utils.py:223: UserWarning: Arguments other than a weight enum or `None` for 'weights' are deprecated since 0.13 and may be removed in the future. The current behavior is equivalent to passing `weights=VGG16_Weights.IMAGENET1K_V1`. You can also use `weights=VGG16_Weights.DEFAULT` to get the most up-to-date weights.\n",
            "  warnings.warn(msg)\n",
            "/home/ahansviar2/Deep Learning Project (GAN for Light)/.venv/lib/python3.10/site-packages/torchvision/models/_utils.py:223: UserWarning: Arguments other than a weight enum or `None` for 'weights' are deprecated since 0.13 and may be removed in the future. The current behavior is equivalent to passing `weights=VGG19_Weights.IMAGENET1K_V1`. You can also use `weights=VGG19_Weights.DEFAULT` to get the most up-to-date weights.\n",
            "  warnings.warn(msg)\n"
          ]
        }
      ],
      "source": [
        "import math\n",
        "import os\n",
        "import time\n",
        "import torch\n",
        "import torch.nn.functional as F\n",
        "from torchmetrics import StructuralSimilarityIndexMeasure as SSIM\n",
        "from torchmetrics import PeakSignalNoiseRatio as PSNR\n",
        "from piq import LPIPS\n",
        "from tqdm import tqdm\n",
        "from torch import nn, optim\n",
        "from torchvision import models\n",
        "from torchvision.utils import save_image\n",
        "\n",
        "class ResidualDenseBlock(nn.Module):\n",
        "    def __init__(self, in_channels=64, growth_rate=32):\n",
        "        super(ResidualDenseBlock, self).__init__()\n",
        "        self.conv1 = nn.Conv2d(in_channels, growth_rate, kernel_size=3, padding=1)\n",
        "        self.conv2 = nn.Conv2d(in_channels + growth_rate, growth_rate, kernel_size=3, padding=1)\n",
        "        self.conv3 = nn.Conv2d(in_channels + 2 * growth_rate, in_channels, kernel_size=3, padding=1)\n",
        "\n",
        "    def forward(self, x):\n",
        "        out1 = torch.relu(self.conv1(x))\n",
        "        out2 = torch.relu(self.conv2(torch.cat([x, out1], dim=1)))\n",
        "        out3 = self.conv3(torch.cat([x, out1, out2], dim=1))\n",
        "        return x + out3\n",
        "\n",
        "class RRDB(nn.Module):\n",
        "    def __init__(self, in_channels=64, beta=0.2):  \n",
        "        super(RRDB, self).__init__()\n",
        "        self.rdb1 = ResidualDenseBlock(in_channels)\n",
        "        self.rdb2 = ResidualDenseBlock(in_channels)\n",
        "        self.rdb3 = ResidualDenseBlock(in_channels)\n",
        "        self.beta = beta  # Scaling factor for residual\n",
        "\n",
        "    def forward(self, x):\n",
        "        residual = self.rdb3(self.rdb2(self.rdb1(x)))\n",
        "        return x + self.beta * residual  # Scaled residual for stability\n",
        "    \n",
        "class Generator(nn.Module):\n",
        "    def __init__(self, num_rrdb=6):\n",
        "        super(Generator, self).__init__()\n",
        "\n",
        "        # Initial feature extraction\n",
        "        self.initial_conv = nn.Sequential(\n",
        "            nn.Conv2d(3, 64, kernel_size=3, padding=1),\n",
        "            nn.ReLU(inplace=True),\n",
        "            nn.Conv2d(64, 64, kernel_size=3, padding=1),\n",
        "            nn.ReLU(inplace=True)\n",
        "        )\n",
        "\n",
        "        # RRDB Blocks\n",
        "        self.rrdb_blocks = nn.Sequential(*[RRDB(64) for _ in range(num_rrdb)])\n",
        "\n",
        "        # Global Residual Path (helps learn overall brightness correction)\n",
        "        self.global_residual = nn.Conv2d(3, 3, kernel_size=3, padding=1)\n",
        "\n",
        "        # Final convolution layers for reconstruction\n",
        "        self.final_conv = nn.Sequential(\n",
        "            nn.Conv2d(64, 64, kernel_size=3, padding=1),\n",
        "            nn.ReLU(inplace=True),\n",
        "            nn.Conv2d(64, 3, kernel_size=3, padding=1)\n",
        "        )\n",
        "\n",
        "    def forward(self, x):\n",
        "        initial_features = self.initial_conv(x)\n",
        "        enhanced_features = self.rrdb_blocks(initial_features)\n",
        "        reconstructed = self.final_conv(enhanced_features)\n",
        "        \n",
        "        # Adding the global residual path\n",
        "        output = reconstructed + self.global_residual(x)\n",
        "        \n",
        "        return torch.sigmoid(output)  # Normalize output to [0,1]\n",
        "    \n",
        "class PatchGANDiscriminator(nn.Module):\n",
        "    def __init__(self, in_channels=3, num_filters=64, num_layers=3):\n",
        "        super(PatchGANDiscriminator, self).__init__()\n",
        "        \n",
        "        # Initial convolutional layer\n",
        "        layers = [\n",
        "            nn.Conv2d(in_channels, num_filters, kernel_size=4, stride=2, padding=1),\n",
        "            nn.LeakyReLU(0.2, inplace=True)\n",
        "        ]\n",
        "        \n",
        "        # Intermediate convolutional layers\n",
        "        for i in range(1, num_layers):\n",
        "            layers += [\n",
        "                nn.Conv2d(num_filters * (2 ** (i - 1)), num_filters * (2 ** i), kernel_size=4, stride=2, padding=1),\n",
        "                nn.InstanceNorm2d(num_filters * (2 ** i)),\n",
        "                nn.LeakyReLU(0.2, inplace=True)\n",
        "            ]\n",
        "        \n",
        "        # Final convolutional layer\n",
        "        layers += [\n",
        "            nn.Conv2d(num_filters * (2 ** (num_layers - 1)), 1, kernel_size=4, stride=1, padding=1)\n",
        "        ]\n",
        "        \n",
        "        self.model = nn.Sequential(*layers)\n",
        "\n",
        "    def forward(self, x):\n",
        "        return self.model(x)  # Output shape: [batch_size, 1, H, W]\n",
        "    \n",
        "class GANLoss(nn.Module):\n",
        "    def __init__(self):\n",
        "        super().__init__()\n",
        "        self.loss = nn.BCEWithLogitsLoss()\n",
        "\n",
        "    def forward(self, pred, target_is_real):\n",
        "        target = torch.ones_like(pred) if target_is_real else torch.zeros_like(pred)\n",
        "        return self.loss(pred, target)\n",
        "\n",
        "class PerceptualLoss(nn.Module):\n",
        "    def __init__(self):\n",
        "        super(PerceptualLoss, self).__init__()\n",
        "        vgg = models.vgg19(pretrained=True).features[:16]  # Use first few layers\n",
        "        for param in vgg.parameters():\n",
        "            param.requires_grad = False  # Freeze VGG model\n",
        "        self.vgg = vgg.eval()\n",
        "        self.criterion = nn.L1Loss()\n",
        "\n",
        "    def forward(self, x, y):\n",
        "        x_features = self.vgg(x)\n",
        "        y_features = self.vgg(y)\n",
        "        return self.criterion(x_features, y_features)\n",
        "    \n",
        "def compute_gradient_penalty(disc, real_samples, fake_samples):\n",
        "    \"\"\"Calculates the gradient penalty loss for WGAN GP\"\"\"\n",
        "    # Random weight term for interpolation between real and fake samples\n",
        "    device = real_samples.device\n",
        "    alpha = torch.rand(real_samples.size(0), 1, 1, 1, device=device)\n",
        "    # Get random interpolation between real and fake samples\n",
        "    interpolates = (alpha * real_samples + ((1 - alpha) * fake_samples)).requires_grad_(True)\n",
        "    d_interpolates = disc(interpolates)\n",
        "    fake = torch.ones_like(d_interpolates)\n",
        "    \n",
        "    # Get gradient w.r.t. interpolates\n",
        "    gradients = torch.autograd.grad(\n",
        "        outputs=d_interpolates,\n",
        "        inputs=interpolates,\n",
        "        grad_outputs=fake,\n",
        "        create_graph=True,\n",
        "        retain_graph=True,\n",
        "        only_inputs=True,\n",
        "    )[0]\n",
        "    gradients = gradients.view(gradients.size(0), -1)\n",
        "    gradient_penalty = ((gradients.norm(2, dim=1) - 1) ** 2).mean()\n",
        "    return gradient_penalty\n",
        "\n",
        "def validate(generator, val_loader, epoch, criterion_perceptual, ssim, psnr, lpips, device):\n",
        "    generator.eval()\n",
        "    val_metrics = {'psnr': 0, 'ssim': 0, 'lpips': 0, 'val_loss': 0}\n",
        "\n",
        "    with torch.no_grad():\n",
        "        for low, high, *_ in tqdm(val_loader, desc=f'Validation Epoch {epoch}', leave=False):\n",
        "            low, high = low.to(device), high.to(device)\n",
        "            fake = generator(low)\n",
        "\n",
        "            # Validation loss (L1 + perceptual)\n",
        "            loss = (10 * F.l1_loss(fake, high) + 0.1 * criterion_perceptual(fake, high)).item()\n",
        "            \n",
        "            # Update metrics\n",
        "            val_metrics['val_loss'] += loss\n",
        "            val_metrics['psnr'] += psnr(fake, high)\n",
        "            val_metrics['ssim'] += ssim(fake, high)\n",
        "            val_metrics['lpips'] += lpips(fake, high)\n",
        "\n",
        "    for k in val_metrics:\n",
        "        val_metrics[k] /= len(val_loader)\n",
        "    return val_metrics\n",
        "\n",
        "class HybridLoss(nn.Module):\n",
        "    def __init__(self, device, total_epochs=200):\n",
        "        super().__init__()\n",
        "        self.lpips = LPIPS(replace_pooling=True).to(device).eval()\n",
        "        self.ssim = SSIM().to(device).eval()\n",
        "        self.total_epochs = total_epochs\n",
        "        self.current_epoch = 0\n",
        "        \n",
        "    def forward(self, pred, target, noise_pred=None, true_noise=None):\n",
        "        \"\"\"Combined loss with dynamic weighting\"\"\"\n",
        "        # Base losses\n",
        "        mse_loss = F.mse_loss(pred, target)  # If noise_pred is not provided, use direct MSE\n",
        "        if noise_pred is not None and true_noise is not None:\n",
        "            mse_loss = F.mse_loss(noise_pred, true_noise)\n",
        "            \n",
        "        lpips_loss = self.lpips(pred, target)\n",
        "        ssim_loss = 1 - self.ssim(pred, target)\n",
        "        \n",
        "        # Dynamic weights (progressively focus more on perceptual quality)\n",
        "        progress = self.current_epoch / self.total_epochs\n",
        "        lpips_w = 0.4  # Fixed high importance for perceptual quality\n",
        "        ssim_w = 0.3 * progress  # Increasing structural importance\n",
        "        mse_w = 1.0 - lpips_w - ssim_w  # Decreasing noise prediction importance\n",
        "        \n",
        "        total_loss = mse_w * mse_loss + lpips_w * lpips_loss + ssim_w * ssim_loss\n",
        "        \n",
        "        # Additional metrics\n",
        "        with torch.no_grad():\n",
        "            psnr = 10 * torch.log10(1 / F.mse_loss(pred, target))\n",
        "            \n",
        "        return total_loss, {\n",
        "            'loss': total_loss.item(),\n",
        "            'mse': mse_loss.item(),\n",
        "            'lpips': lpips_loss.item(),\n",
        "            'ssim': 1 - ssim_loss.item(),\n",
        "            'psnr': psnr.item()\n",
        "        }\n",
        "    \n",
        "def train_gan(\n",
        "    generator,\n",
        "    discriminator,\n",
        "    train_loader,\n",
        "    val_loader,\n",
        "    criterion_gan,\n",
        "    criterion_l1,\n",
        "    criterion_perceptual,\n",
        "    criterion_hybrid,\n",
        "    opt_g,\n",
        "    opt_d,\n",
        "    epochs,\n",
        "    device,\n",
        "    save_dir=\"NOAUG_NONORM_RRDB_CHECKPOINTS\"\n",
        "):\n",
        "    os.makedirs(save_dir, exist_ok=True)\n",
        "    best_ssim = 0\n",
        "    best_psnr = 0\n",
        "    best_lpips = 100\n",
        "    best_hybrid_loss = float('inf')\n",
        "    \n",
        "    # Record training start time\n",
        "    start_time = time.time()\n",
        "\n",
        "    for epoch in range(epochs):\n",
        "        # Update current epoch for hybrid loss\n",
        "        criterion_hybrid.current_epoch = epoch\n",
        "        \n",
        "        # Training phase\n",
        "        generator.train()\n",
        "        discriminator.train()\n",
        "\n",
        "        train_bar = tqdm(train_loader, desc=f'Epoch {epoch+1}/{epochs}')\n",
        "        for low, high, *_ in train_bar:\n",
        "            low, high = low.to(device), high.to(device)\n",
        "\n",
        "            # --- Discriminator Update ---\n",
        "            opt_d.zero_grad()\n",
        "\n",
        "            # Real images\n",
        "            real_pred = discriminator(high)\n",
        "            real_loss = criterion_gan(real_pred, True)\n",
        "\n",
        "            # Fake images\n",
        "            fake = generator(low).detach()\n",
        "            fake_pred = discriminator(fake)\n",
        "            fake_loss = criterion_gan(fake_pred, False)\n",
        "            \n",
        "            gp = compute_gradient_penalty(discriminator, high.data, fake.data)\n",
        "            d_loss = (real_loss + fake_loss) / 2 + 10*gp\n",
        "            d_loss.backward()\n",
        "            opt_d.step()\n",
        "\n",
        "            # --- Generator Update ---\n",
        "            opt_g.zero_grad()\n",
        "            fake = generator(low)\n",
        "            \n",
        "            # GAN loss\n",
        "            g_gan_loss = criterion_gan(discriminator(fake), True)\n",
        "            \n",
        "            # Hybrid loss\n",
        "            hybrid_loss, hybrid_metrics = criterion_hybrid(fake, high)\n",
        "            \n",
        "            # Content loss\n",
        "            g_l1_loss = criterion_l1(fake, high) * 10\n",
        "            g_perc_loss = criterion_perceptual(fake, high) * 0.1\n",
        "            \n",
        "            # Combined generator loss\n",
        "            g_loss = g_gan_loss + 0.5 * hybrid_loss + g_l1_loss + g_perc_loss\n",
        "            g_loss.backward()\n",
        "            opt_g.step()\n",
        "\n",
        "            # Update progress bar\n",
        "            train_bar.set_postfix({\n",
        "                'D_loss': f'{d_loss.item():.3f}',\n",
        "                'G_loss': f'{g_loss.item():.3f}',\n",
        "                'Hybrid': f'{hybrid_loss.item():.3f}'\n",
        "            })\n",
        "\n",
        "        # Validation phase\n",
        "        val_metrics = validate(generator, val_loader, epoch+1, criterion_perceptual, ssim, psnr, lpips, device)\n",
        "        \n",
        "        # Calculate hybrid loss for validation\n",
        "        with torch.no_grad():\n",
        "            # Sample a batch from validation\n",
        "            val_low, val_high = next(iter(val_loader))[:2]\n",
        "            val_low, val_high = val_low.to(device), val_high.to(device)\n",
        "            val_fake = generator(val_low)\n",
        "            \n",
        "            # Compute hybrid loss\n",
        "            val_hybrid_loss, _ = criterion_hybrid(val_fake, val_high)\n",
        "            val_metrics['hybrid_loss'] = val_hybrid_loss.item()\n",
        "\n",
        "        # Print metrics\n",
        "        print(f\"\\nValidation @ Epoch {epoch+1}:\")\n",
        "        print(f\"PSNR: {val_metrics['psnr']:.2f} dB | SSIM: {val_metrics['ssim']:.4f} | LPIPS: {val_metrics['lpips']:.4f} | Hybrid: {val_metrics['hybrid_loss']:.4f}\")\n",
        "\n",
        "        # Save checkpoint for every epoch\n",
        "        torch.save({\n",
        "            'epoch': epoch+1,\n",
        "            'generator': generator.state_dict(),\n",
        "            'discriminator': discriminator.state_dict(),\n",
        "            'opt_g': opt_g.state_dict(),\n",
        "            'opt_d': opt_d.state_dict(),\n",
        "            'metrics': val_metrics\n",
        "        }, os.path.join(save_dir, f'epoch_{epoch+1}.pth'))\n",
        "\n",
        "        # Save best model - Hybrid Loss\n",
        "        if val_metrics['hybrid_loss'] < best_hybrid_loss:\n",
        "            best_hybrid_loss = val_metrics['hybrid_loss']\n",
        "            torch.save(generator.state_dict(), os.path.join(save_dir, 'best_hybrid.pth'))\n",
        "\n",
        "        # Save best model - Combined metrics\n",
        "        if (val_metrics['psnr'] > best_psnr) and (val_metrics['lpips'] < best_lpips) and (val_metrics['ssim'] > best_ssim):\n",
        "            torch.save(generator.state_dict(), os.path.join(save_dir, 'best_model.pth'))\n",
        "\n",
        "        if (val_metrics['lpips'] < best_lpips) and (val_metrics['ssim'] > best_ssim):\n",
        "            torch.save(generator.state_dict(), os.path.join(save_dir, 'best_lpips_ssim.pth'))\n",
        "\n",
        "        if (val_metrics['psnr'] > best_psnr) and (val_metrics['ssim'] > best_ssim):\n",
        "            torch.save(generator.state_dict(), os.path.join(save_dir, 'best_psnr_ssim.pth'))\n",
        "\n",
        "        if (val_metrics['psnr'] > best_psnr) and (val_metrics['lpips'] < best_lpips):\n",
        "            torch.save(generator.state_dict(), os.path.join(save_dir, 'best_psnr_lpips.pth'))\n",
        "                \n",
        "        if val_metrics['ssim'] > best_ssim:\n",
        "            best_ssim = val_metrics['ssim']\n",
        "            torch.save(generator.state_dict(), os.path.join(save_dir, 'best_ssim.pth'))\n",
        "                    \n",
        "        if val_metrics['psnr'] > best_psnr:\n",
        "            best_psnr = val_metrics['psnr']\n",
        "            torch.save(generator.state_dict(), os.path.join(save_dir, 'best_psnr.pth'))\n",
        "\n",
        "        if val_metrics['lpips'] < best_lpips:\n",
        "            best_lpips = val_metrics['lpips']\n",
        "            torch.save(generator.state_dict(), os.path.join(save_dir, 'best_lpips.pth'))\n",
        "\n",
        "        # Sample images\n",
        "        if (epoch+1) % 5 == 0:\n",
        "            with torch.no_grad():\n",
        "                fake = generator(low[:3])  # First 3 samples\n",
        "                save_image(\n",
        "                    torch.cat([low[:3], fake, high[:3]], 0),\n",
        "                    os.path.join(save_dir, f'sample_epoch_{epoch+1}.png'),\n",
        "                    nrow=3,\n",
        "                    normalize=True\n",
        "                )\n",
        "    \n",
        "    # Calculate and print total training time\n",
        "    total_training_time = time.time() - start_time\n",
        "    hours, remainder = divmod(total_training_time, 3600)\n",
        "    minutes, seconds = divmod(remainder, 60)\n",
        "    print(f\"Total training time: {int(hours)}h {int(minutes)}m {seconds:.2f}s\")\n",
        "    \n",
        "    # Save final model with training time information\n",
        "    torch.save({\n",
        "        'generator': generator.state_dict(),\n",
        "        'discriminator': discriminator.state_dict(),\n",
        "        'metrics': {\n",
        "            'best_psnr': best_psnr,\n",
        "            'best_ssim': best_ssim,\n",
        "            'best_lpips': best_lpips,\n",
        "            'best_hybrid_loss': best_hybrid_loss\n",
        "        },\n",
        "        'training_time': total_training_time\n",
        "    }, os.path.join(save_dir, 'final_model.pth'))\n",
        "\n",
        "## Common evaluating Metrics\n",
        "device = torch.device('cuda:2' if torch.cuda.is_available() else 'cpu')\n",
        "\n",
        "# Initialize metrics\n",
        "psnr = PSNR().to(device)\n",
        "ssim = SSIM().to(device)\n",
        "lpips = LPIPS(replace_pooling=True).to(device)\n",
        "\n",
        "# Initialize models and losses\n",
        "generator = Generator().to(device)\n",
        "discriminator = PatchGANDiscriminator().to(device)\n",
        "opt_g = optim.Adam(generator.parameters(), lr=1e-4, betas=(0.5, 0.999))\n",
        "opt_d = optim.Adam(discriminator.parameters(), lr=4e-4, betas=(0.5, 0.999))\n",
        "\n",
        "# Losses\n",
        "criterion_gan = GANLoss().to(device)\n",
        "criterion_l1 = nn.L1Loss().to(device)\n",
        "criterion_perceptual = PerceptualLoss().to(device)\n",
        "criterion_hybrid = HybridLoss(device, total_epochs=200)"
      ]
    },
    {
      "cell_type": "code",
      "execution_count": 8,
      "metadata": {},
      "outputs": [
        {
          "name": "stderr",
          "output_type": "stream",
          "text": [
            "Testing: 100%|██████████| 15/15 [00:11<00:00,  1.26it/s]\n"
          ]
        },
        {
          "data": {
            "text/plain": [
              "{'psnr': 18.60611368815104,\n",
              " 'ssim': 0.829342778523763,\n",
              " 'lpips': 0.19140979448954265,\n",
              " 'samples': ['RRDB_not_normalized_result/sample_00.png',\n",
              "  'RRDB_not_normalized_result/sample_01.png',\n",
              "  'RRDB_not_normalized_result/sample_02.png',\n",
              "  'RRDB_not_normalized_result/sample_03.png',\n",
              "  'RRDB_not_normalized_result/sample_04.png',\n",
              "  'RRDB_not_normalized_result/sample_05.png',\n",
              "  'RRDB_not_normalized_result/sample_06.png',\n",
              "  'RRDB_not_normalized_result/sample_07.png',\n",
              "  'RRDB_not_normalized_result/sample_08.png',\n",
              "  'RRDB_not_normalized_result/sample_09.png',\n",
              "  'RRDB_not_normalized_result/sample_10.png',\n",
              "  'RRDB_not_normalized_result/sample_11.png',\n",
              "  'RRDB_not_normalized_result/sample_12.png',\n",
              "  'RRDB_not_normalized_result/sample_13.png',\n",
              "  'RRDB_not_normalized_result/sample_14.png']}"
            ]
          },
          "execution_count": 8,
          "metadata": {},
          "output_type": "execute_result"
        }
      ],
      "source": [
        "def add_labels_to_image(image_tensor, labels):\n",
        "    \"\"\"\n",
        "    Add text labels to an image tensor\n",
        "    Args:\n",
        "        image_tensor: Tensor of shape (C, H, W)\n",
        "        labels: List of strings for each section\n",
        "    Returns:\n",
        "        Labeled PIL Image\n",
        "    \"\"\"\n",
        "    # Convert tensor to PIL Image\n",
        "    image = transforms.ToPILImage()(image_tensor.cpu())\n",
        "\n",
        "    # Create drawing context\n",
        "    draw = ImageDraw.Draw(image)\n",
        "\n",
        "    try:\n",
        "        font = ImageFont.truetype(\"arial.ttf\", 20)\n",
        "    except:\n",
        "        font = ImageFont.load_default()\n",
        "\n",
        "    # Calculate section widths\n",
        "    width = image.width\n",
        "    section_width = width // len(labels)\n",
        "\n",
        "    # Add labels to each section\n",
        "    for i, label in enumerate(labels):\n",
        "        # Get text bounding box (modern Pillow)\n",
        "        left, top, right, bottom = draw.textbbox((0, 0), label, font=font)\n",
        "        text_width = right - left\n",
        "        text_height = bottom - top\n",
        "\n",
        "        x = i * section_width + (section_width - text_width) // 2\n",
        "        draw.text((x, 10), label, font=font, fill=\"white\")\n",
        "\n",
        "    return image\n",
        "\n",
        "def evaluate_model(generator, test_loader, device, save_samples=True, sample_dir=\"RRDB_not_normalized_result\"):\n",
        "    # Initialize metrics\n",
        "    psnr = PSNR().to(device)\n",
        "    ssim = SSIM().to(device)\n",
        "    lpips = LPIPS(replace_pooling=True).to(device)\n",
        "\n",
        "    metrics = {\n",
        "        'psnr': 0.0,\n",
        "        'ssim': 0.0,\n",
        "        'lpips': 0.0,\n",
        "        'samples': []\n",
        "    }\n",
        "\n",
        "    if save_samples:\n",
        "        os.makedirs(sample_dir, exist_ok=True)\n",
        "\n",
        "    generator.eval()\n",
        "    sample_counter = 0\n",
        "    with torch.no_grad():\n",
        "        for i, (low, high, *_) in enumerate(tqdm(test_loader, desc=\"Testing\")):\n",
        "            low, high = low.to(device), high.to(device)\n",
        "            fake = generator(low)\n",
        "\n",
        "            # Update metrics\n",
        "            metrics['psnr'] += psnr(fake, high) * low.size(0)\n",
        "            metrics['ssim'] += ssim(fake, high) * low.size(0)\n",
        "            metrics['lpips'] += lpips(fake, high) * low.size(0)\n",
        "\n",
        "            # Save ALL samples with labels\n",
        "            if save_samples:\n",
        "                for img_idx in range(low.size(0)):\n",
        "                    # Create horizontal comparison\n",
        "                    comparison = torch.cat([\n",
        "                        low[img_idx],\n",
        "                        fake[img_idx],\n",
        "                        high[img_idx]\n",
        "                    ], dim=-1)\n",
        "\n",
        "                    # Convert to labeled image\n",
        "                    labeled_img = add_labels_to_image(\n",
        "                        comparison,\n",
        "                        [\"Low Light Input\", \"Generated Output\", \"Ground Truth\"]\n",
        "                    )\n",
        "\n",
        "                    # Save image\n",
        "                    sample_path = os.path.join(sample_dir, f\"sample_{sample_counter:02d}.png\")\n",
        "                    labeled_img.save(sample_path)\n",
        "                    metrics['samples'].append(sample_path)\n",
        "                    sample_counter += 1\n",
        "\n",
        "                    if sample_counter >= 15:\n",
        "                        break\n",
        "\n",
        "    # Calculate average metrics\n",
        "    total_samples = min(15, len(test_loader.dataset))\n",
        "    \n",
        "    metrics['psnr'] = float(metrics['psnr'].item())\n",
        "    metrics['ssim'] = float(metrics['ssim'].item())\n",
        "    metrics['lpips'] = float(metrics['lpips'].item())\n",
        "    \n",
        "    metrics['psnr'] /= total_samples\n",
        "    metrics['ssim'] /= total_samples\n",
        "    metrics['lpips'] /= total_samples\n",
        "\n",
        "    return metrics\n",
        "\n",
        "generator = Generator().to(device)\n",
        "generator.load_state_dict(torch.load(\"NOAUG_NONORM_RRDB_CHECKPOINTS/best_psnr_ssim.pth\"))\n",
        "\n",
        "# Running evaluation\n",
        "test_metrics = evaluate_model(\n",
        "        generator=generator,\n",
        "        test_loader=test_loader,  # Your prepared test loader\n",
        "        device=device,\n",
        "        save_samples=True,\n",
        "    )\n",
        "\n",
        "test_metrics"
      ]
    }
  ],
  "metadata": {
    "colab": {
      "provenance": []
    },
    "kernelspec": {
      "display_name": ".venv",
      "language": "python",
      "name": "python3"
    },
    "language_info": {
      "codemirror_mode": {
        "name": "ipython",
        "version": 3
      },
      "file_extension": ".py",
      "mimetype": "text/x-python",
      "name": "python",
      "nbconvert_exporter": "python",
      "pygments_lexer": "ipython3",
      "version": "3.10.12"
    },
    "widgets": {
      "application/vnd.jupyter.widget-state+json": {
        "581b12bc469a450e92c9ace7583453ea": {
          "model_module": "@jupyter-widgets/base",
          "model_module_version": "1.2.0",
          "model_name": "LayoutModel",
          "state": {
            "_model_module": "@jupyter-widgets/base",
            "_model_module_version": "1.2.0",
            "_model_name": "LayoutModel",
            "_view_count": null,
            "_view_module": "@jupyter-widgets/base",
            "_view_module_version": "1.2.0",
            "_view_name": "LayoutView",
            "align_content": null,
            "align_items": null,
            "align_self": null,
            "border": null,
            "bottom": null,
            "display": null,
            "flex": null,
            "flex_flow": null,
            "grid_area": null,
            "grid_auto_columns": null,
            "grid_auto_flow": null,
            "grid_auto_rows": null,
            "grid_column": null,
            "grid_gap": null,
            "grid_row": null,
            "grid_template_areas": null,
            "grid_template_columns": null,
            "grid_template_rows": null,
            "height": null,
            "justify_content": null,
            "justify_items": null,
            "left": null,
            "margin": null,
            "max_height": null,
            "max_width": null,
            "min_height": null,
            "min_width": null,
            "object_fit": null,
            "object_position": null,
            "order": null,
            "overflow": null,
            "overflow_x": null,
            "overflow_y": null,
            "padding": null,
            "right": null,
            "top": null,
            "visibility": null,
            "width": null
          }
        },
        "68a90f67a4d64e52a12dfb164b94dd5f": {
          "model_module": "@jupyter-widgets/controls",
          "model_module_version": "1.5.0",
          "model_name": "ButtonStyleModel",
          "state": {
            "_model_module": "@jupyter-widgets/controls",
            "_model_module_version": "1.5.0",
            "_model_name": "ButtonStyleModel",
            "_view_count": null,
            "_view_module": "@jupyter-widgets/base",
            "_view_module_version": "1.2.0",
            "_view_name": "StyleView",
            "button_color": null,
            "font_weight": ""
          }
        },
        "ba39a0ede4bc468f935b270069c4891d": {
          "model_module": "@jupyter-widgets/controls",
          "model_module_version": "1.5.0",
          "model_name": "FileUploadModel",
          "state": {
            "_counter": 7,
            "_dom_classes": [],
            "_model_module": "@jupyter-widgets/controls",
            "_model_module_version": "1.5.0",
            "_model_name": "FileUploadModel",
            "_view_count": null,
            "_view_module": "@jupyter-widgets/controls",
            "_view_module_version": "1.5.0",
            "_view_name": "FileUploadView",
            "accept": "image/*",
            "button_style": "",
            "data": [
              null
            ],
            "description": "Upload",
            "description_tooltip": null,
            "disabled": false,
            "error": "",
            "icon": "upload",
            "layout": "IPY_MODEL_581b12bc469a450e92c9ace7583453ea",
            "metadata": [
              {
                "lastModified": 1743833649773,
                "name": "test_2.jpg",
                "size": 61333,
                "type": "image/jpeg"
              }
            ],
            "multiple": false,
            "style": "IPY_MODEL_68a90f67a4d64e52a12dfb164b94dd5f"
          }
        }
      }
    }
  },
  "nbformat": 4,
  "nbformat_minor": 0
}
