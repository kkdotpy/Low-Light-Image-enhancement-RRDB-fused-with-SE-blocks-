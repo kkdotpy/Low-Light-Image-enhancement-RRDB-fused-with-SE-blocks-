{
  "cells": [
    {
      "cell_type": "markdown",
      "metadata": {},
      "source": [
        "# Initiation"
      ]
    },
    {
      "cell_type": "code",
      "execution_count": 1,
      "metadata": {
        "id": "0soa9rXuWN4z"
      },
      "outputs": [],
      "source": [
        "import os\n",
        "import random\n",
        "import numpy as np\n",
        "import torch\n",
        "import torch.nn as nn\n",
        "from torch.utils.data import Dataset, DataLoader, random_split\n",
        "from torchvision import transforms\n",
        "import matplotlib.pyplot as plt\n",
        "from tqdm import tqdm\n",
        "from torchmetrics import PeakSignalNoiseRatio as PSNR, StructuralSimilarityIndexMeasure as SSIM\n",
        "from piq import LPIPS\n",
        "import os\n",
        "import torch.nn.functional as F\n",
        "from torchvision.models import vgg19\n",
        "from torchvision.utils import save_image\n",
        "from torchvision.datasets import DatasetFolder\n",
        "from datetime import datetime\n",
        "from sklearn.model_selection import train_test_split\n",
        "from torchvision import transforms\n",
        "from PIL import Image, ImageDraw, ImageFont\n",
        "from copy import deepcopy\n",
        "import time\n",
        "\n",
        "import os\n",
        "import numpy as np\n",
        "import torch\n",
        "from torch.utils.data import Dataset, DataLoader\n",
        "import torchvision.transforms as transforms\n",
        "from PIL import Image\n",
        "import torch.nn as nn\n",
        "import torchvision.models as models\n",
        "import torch.nn.functional as F\n",
        "import torch.optim as optim\n",
        "import io\n",
        "from torchmetrics import PeakSignalNoiseRatio as PSNR, StructuralSimilarityIndexMeasure as SSIM\n",
        "from piq import LPIPS\n",
        "import ipywidgets as widgets\n",
        "from IPython.display import display, clear_output\n",
        "import matplotlib.pyplot as plt\n",
        "from tqdm import tqdm\n",
        "from torch.optim.lr_scheduler import LambdaLR\n",
        "from torchvision.utils import save_image\n",
        "import random\n"
      ]
    },
    {
      "cell_type": "code",
      "execution_count": 2,
      "metadata": {
        "id": "EVq1eL9_fwQj"
      },
      "outputs": [],
      "source": [
        "def set_seed(seed=42):\n",
        "    \"\"\"Set all random seeds for reproducibility.\"\"\"\n",
        "    random.seed(seed)\n",
        "    np.random.seed(seed)\n",
        "    torch.manual_seed(seed)\n",
        "    torch.cuda.manual_seed(seed)\n",
        "    torch.cuda.manual_seed_all(seed)  # if using multi-GPU\n",
        "    torch.backends.cudnn.deterministic = True\n",
        "    torch.backends.cudnn.benchmark = False\n",
        "\n",
        "# Set the seed (choose any number you like)\n",
        "set_seed(42)"
      ]
    },
    {
      "cell_type": "markdown",
      "metadata": {
        "id": "nIvEtsp7pjOq"
      },
      "source": [
        "# DataLoaders\n"
      ]
    },
    {
      "cell_type": "code",
      "execution_count": 3,
      "metadata": {},
      "outputs": [],
      "source": [
        "# Your existing dataset code\n",
        "dataset_path1 = r\"/home/ahansviar2/Deep Learning Project (GAN for Light)/downloaded_images\"\n",
        "train_path = f'{dataset_path1}/train'\n",
        "val_path = f'{dataset_path1}/val'\n",
        "test_path = f'{dataset_path1}/test'"
      ]
    },
    {
      "cell_type": "code",
      "execution_count": 4,
      "metadata": {},
      "outputs": [],
      "source": [
        "class CleanDataset(Dataset):\n",
        "    def __init__(self, root_dir, target_transform=None):\n",
        "        self.root_dir = root_dir\n",
        "        self.target_transform = target_transform\n",
        "        self.low_dir = os.path.join(root_dir, \"low\")\n",
        "        self.high_dir = os.path.join(root_dir, \"high\")\n",
        "        self.image_names = sorted(os.listdir(self.low_dir))\n",
        "\n",
        "    def __len__(self):\n",
        "        return len(self.image_names)\n",
        "\n",
        "    def __getitem__(self, idx):\n",
        "        low_img_path = os.path.join(self.low_dir, self.image_names[idx])\n",
        "        high_img_path = os.path.join(self.high_dir, self.image_names[idx])\n",
        "\n",
        "        low_img = Image.open(low_img_path).convert(\"RGB\")\n",
        "        high_img = Image.open(high_img_path).convert(\"RGB\")\n",
        "\n",
        "        if self.target_transform:\n",
        "            low_img = self.target_transform(low_img)\n",
        "            high_img = self.target_transform(high_img)\n",
        "            \n",
        "            \n",
        "        low_filename = os.path.basename(low_img_path)\n",
        "        high_filename = os.path.basename(high_img_path)\n",
        "        \n",
        "        return low_img, high_img, low_filename, high_filename\n",
        "\n",
        "target_transform = transforms.Compose([\n",
        "    transforms.Resize((256, 256)),\n",
        "    transforms.ToTensor(),\n",
        "    transforms.Normalize((0.5, 0.5, 0.5), (0.5, 0.5, 0.5)),\n",
        "])\n",
        "\n",
        "train_dataset = CleanDataset(\n",
        "    root_dir=train_path, \n",
        "    target_transform = target_transform\n",
        ")\n",
        "\n",
        "val_dataset = CleanDataset(\n",
        "    root_dir=val_path,\n",
        "    target_transform = target_transform\n",
        ")\n",
        "\n",
        "test_dataset = CleanDataset(root_dir=test_path, target_transform = target_transform)\n",
        "\n",
        "batch_size = 8\n",
        "train_loader = DataLoader(\n",
        "    train_dataset,\n",
        "    batch_size=batch_size,\n",
        "    shuffle=True,\n",
        "    num_workers=2,\n",
        "    pin_memory=True   # Speeds up transfer to GPU\n",
        ")\n",
        "\n",
        "val_loader = DataLoader(\n",
        "    val_dataset,\n",
        "    batch_size=batch_size,\n",
        "    shuffle=False,         # No need for validation\n",
        "    num_workers=2,\n",
        "    pin_memory=True\n",
        ")\n",
        "\n",
        "test_loader = DataLoader(\n",
        "    test_dataset,\n",
        "    batch_size=1,       # Often use batch_size=1 for testing\n",
        "    shuffle=False,\n",
        "    num_workers=1\n",
        ")"
      ]
    },
    {
      "cell_type": "markdown",
      "metadata": {},
      "source": [
        "# Run Data"
      ]
    },
    {
      "cell_type": "code",
      "execution_count": 5,
      "metadata": {},
      "outputs": [
        {
          "name": "stdout",
          "output_type": "stream",
          "text": [
            "Using device: cuda:4\n"
          ]
        }
      ],
      "source": [
        "device = torch.device(\"cuda:4\" if torch.cuda.is_available() else \"cpu\")\n",
        "print(f\"Using device: {device}\")"
      ]
    },
    {
      "cell_type": "markdown",
      "metadata": {},
      "source": [
        "# MODEL ARCHITECTURE"
      ]
    },
    {
      "cell_type": "markdown",
      "metadata": {},
      "source": [
        "## RRDB GAN"
      ]
    },
    {
      "cell_type": "code",
      "execution_count": 6,
      "metadata": {
        "id": "78F5mzcafwQu",
        "outputId": "d50aa3d1-0846-484d-af6a-53f0bc60ea1c"
      },
      "outputs": [
        {
          "name": "stderr",
          "output_type": "stream",
          "text": [
            "/home/ahansviar2/Deep Learning Project (GAN for Light)/.venv/lib/python3.10/site-packages/torchmetrics/utilities/prints.py:62: FutureWarning: Importing `PeakSignalNoiseRatio` from `torchmetrics` was deprecated and will be removed in 2.0. Import `PeakSignalNoiseRatio` from `torchmetrics.image` instead.\n",
            "  _future_warning(\n",
            "/home/ahansviar2/Deep Learning Project (GAN for Light)/.venv/lib/python3.10/site-packages/torchmetrics/utilities/prints.py:62: FutureWarning: Importing `StructuralSimilarityIndexMeasure` from `torchmetrics` was deprecated and will be removed in 2.0. Import `StructuralSimilarityIndexMeasure` from `torchmetrics.image` instead.\n",
            "  _future_warning(\n",
            "/home/ahansviar2/Deep Learning Project (GAN for Light)/.venv/lib/python3.10/site-packages/torchvision/models/_utils.py:208: UserWarning: The parameter 'pretrained' is deprecated since 0.13 and may be removed in the future, please use 'weights' instead.\n",
            "  warnings.warn(\n",
            "/home/ahansviar2/Deep Learning Project (GAN for Light)/.venv/lib/python3.10/site-packages/torchvision/models/_utils.py:223: UserWarning: Arguments other than a weight enum or `None` for 'weights' are deprecated since 0.13 and may be removed in the future. The current behavior is equivalent to passing `weights=VGG16_Weights.IMAGENET1K_V1`. You can also use `weights=VGG16_Weights.DEFAULT` to get the most up-to-date weights.\n",
            "  warnings.warn(msg)\n",
            "/home/ahansviar2/Deep Learning Project (GAN for Light)/.venv/lib/python3.10/site-packages/torchvision/models/_utils.py:223: UserWarning: Arguments other than a weight enum or `None` for 'weights' are deprecated since 0.13 and may be removed in the future. The current behavior is equivalent to passing `weights=VGG19_Weights.IMAGENET1K_V1`. You can also use `weights=VGG19_Weights.DEFAULT` to get the most up-to-date weights.\n",
            "  warnings.warn(msg)\n",
            "Epoch 1/200: 100%|██████████| 49/49 [00:21<00:00,  2.28it/s, D_loss=505.263, G_loss=4.273, Hybrid=0.328]  \n",
            "                                                                   \r"
          ]
        },
        {
          "name": "stdout",
          "output_type": "stream",
          "text": [
            "\n",
            "Validation @ Epoch 1:\n",
            "PSNR: 13.04 dB | SSIM: 0.0276 | LPIPS: 0.5806 | Hybrid: 0.3686\n"
          ]
        },
        {
          "name": "stderr",
          "output_type": "stream",
          "text": [
            "Epoch 2/200: 100%|██████████| 49/49 [00:21<00:00,  2.33it/s, D_loss=754.016, G_loss=4.056, Hybrid=0.282]  \n",
            "                                                                   \r"
          ]
        },
        {
          "name": "stdout",
          "output_type": "stream",
          "text": [
            "\n",
            "Validation @ Epoch 2:\n",
            "PSNR: 13.03 dB | SSIM: 0.0276 | LPIPS: 0.5810 | Hybrid: 0.3700\n"
          ]
        },
        {
          "name": "stderr",
          "output_type": "stream",
          "text": [
            "Epoch 3/200: 100%|██████████| 49/49 [00:23<00:00,  2.12it/s, D_loss=2033.781, G_loss=4.642, Hybrid=0.353] \n",
            "                                                                   \r"
          ]
        },
        {
          "name": "stdout",
          "output_type": "stream",
          "text": [
            "\n",
            "Validation @ Epoch 3:\n",
            "PSNR: 13.04 dB | SSIM: 0.0279 | LPIPS: 0.5800 | Hybrid: 0.3707\n"
          ]
        },
        {
          "name": "stderr",
          "output_type": "stream",
          "text": [
            "Epoch 4/200: 100%|██████████| 49/49 [00:23<00:00,  2.12it/s, D_loss=327.381, G_loss=5.390, Hybrid=0.379] \n",
            "                                                                   \r"
          ]
        },
        {
          "name": "stdout",
          "output_type": "stream",
          "text": [
            "\n",
            "Validation @ Epoch 4:\n",
            "PSNR: 13.07 dB | SSIM: 0.0304 | LPIPS: 0.5784 | Hybrid: 0.3704\n"
          ]
        },
        {
          "name": "stderr",
          "output_type": "stream",
          "text": [
            "Epoch 5/200: 100%|██████████| 49/49 [00:23<00:00,  2.11it/s, D_loss=14.419, G_loss=4.683, Hybrid=0.359]  \n",
            "                                                                   \r"
          ]
        },
        {
          "name": "stdout",
          "output_type": "stream",
          "text": [
            "\n",
            "Validation @ Epoch 5:\n",
            "PSNR: 13.09 dB | SSIM: 0.0341 | LPIPS: 0.5676 | Hybrid: 0.3578\n"
          ]
        },
        {
          "name": "stderr",
          "output_type": "stream",
          "text": [
            "Epoch 6/200: 100%|██████████| 49/49 [00:23<00:00,  2.11it/s, D_loss=2.276, G_loss=4.268, Hybrid=0.343]  \n",
            "                                                                   \r"
          ]
        },
        {
          "name": "stdout",
          "output_type": "stream",
          "text": [
            "\n",
            "Validation @ Epoch 6:\n",
            "PSNR: 13.10 dB | SSIM: 0.0317 | LPIPS: 0.5776 | Hybrid: 0.3727\n"
          ]
        },
        {
          "name": "stderr",
          "output_type": "stream",
          "text": [
            "Epoch 7/200: 100%|██████████| 49/49 [00:23<00:00,  2.11it/s, D_loss=33.993, G_loss=4.600, Hybrid=0.364] \n",
            "                                                                   \r"
          ]
        },
        {
          "name": "stdout",
          "output_type": "stream",
          "text": [
            "\n",
            "Validation @ Epoch 7:\n",
            "PSNR: 13.08 dB | SSIM: 0.0316 | LPIPS: 0.5796 | Hybrid: 0.3773\n"
          ]
        },
        {
          "name": "stderr",
          "output_type": "stream",
          "text": [
            "Epoch 8/200: 100%|██████████| 49/49 [00:23<00:00,  2.11it/s, D_loss=55.926, G_loss=3.976, Hybrid=0.339]  \n",
            "                                                                   \r"
          ]
        },
        {
          "name": "stdout",
          "output_type": "stream",
          "text": [
            "\n",
            "Validation @ Epoch 8:\n",
            "PSNR: 13.11 dB | SSIM: 0.0344 | LPIPS: 0.5746 | Hybrid: 0.3690\n"
          ]
        },
        {
          "name": "stderr",
          "output_type": "stream",
          "text": [
            "Epoch 9/200: 100%|██████████| 49/49 [00:23<00:00,  2.11it/s, D_loss=1332.496, G_loss=5.154, Hybrid=0.407] \n",
            "                                                                   \r"
          ]
        },
        {
          "name": "stdout",
          "output_type": "stream",
          "text": [
            "\n",
            "Validation @ Epoch 9:\n",
            "PSNR: 13.09 dB | SSIM: 0.0297 | LPIPS: 0.5792 | Hybrid: 0.3781\n"
          ]
        },
        {
          "name": "stderr",
          "output_type": "stream",
          "text": [
            "Epoch 10/200: 100%|██████████| 49/49 [00:23<00:00,  2.11it/s, D_loss=120.621, G_loss=4.700, Hybrid=0.378]  \n",
            "                                                                    \r"
          ]
        },
        {
          "name": "stdout",
          "output_type": "stream",
          "text": [
            "\n",
            "Validation @ Epoch 10:\n",
            "PSNR: 13.14 dB | SSIM: 0.0354 | LPIPS: 0.5741 | Hybrid: 0.3761\n"
          ]
        },
        {
          "name": "stderr",
          "output_type": "stream",
          "text": [
            "Epoch 11/200: 100%|██████████| 49/49 [00:23<00:00,  2.11it/s, D_loss=32.558, G_loss=4.146, Hybrid=0.307] \n",
            "                                                                    \r"
          ]
        },
        {
          "name": "stdout",
          "output_type": "stream",
          "text": [
            "\n",
            "Validation @ Epoch 11:\n",
            "PSNR: 13.33 dB | SSIM: 0.0560 | LPIPS: 0.5510 | Hybrid: 0.3625\n"
          ]
        },
        {
          "name": "stderr",
          "output_type": "stream",
          "text": [
            "Epoch 12/200: 100%|██████████| 49/49 [00:23<00:00,  2.10it/s, D_loss=25.079, G_loss=4.458, Hybrid=0.361] \n",
            "                                                                    \r"
          ]
        },
        {
          "name": "stdout",
          "output_type": "stream",
          "text": [
            "\n",
            "Validation @ Epoch 12:\n",
            "PSNR: 13.10 dB | SSIM: 0.0302 | LPIPS: 0.5789 | Hybrid: 0.3813\n"
          ]
        },
        {
          "name": "stderr",
          "output_type": "stream",
          "text": [
            "Epoch 13/200: 100%|██████████| 49/49 [00:23<00:00,  2.11it/s, D_loss=56.167, G_loss=4.669, Hybrid=0.348] \n",
            "                                                                    \r"
          ]
        },
        {
          "name": "stdout",
          "output_type": "stream",
          "text": [
            "\n",
            "Validation @ Epoch 13:\n",
            "PSNR: 13.16 dB | SSIM: 0.0402 | LPIPS: 0.5611 | Hybrid: 0.3692\n"
          ]
        },
        {
          "name": "stderr",
          "output_type": "stream",
          "text": [
            "Epoch 14/200: 100%|██████████| 49/49 [00:23<00:00,  2.11it/s, D_loss=1.339, G_loss=4.343, Hybrid=0.344]  \n",
            "                                                                    \r"
          ]
        },
        {
          "name": "stdout",
          "output_type": "stream",
          "text": [
            "\n",
            "Validation @ Epoch 14:\n",
            "PSNR: 13.18 dB | SSIM: 0.0454 | LPIPS: 0.5461 | Hybrid: 0.3511\n"
          ]
        },
        {
          "name": "stderr",
          "output_type": "stream",
          "text": [
            "Epoch 15/200: 100%|██████████| 49/49 [00:23<00:00,  2.11it/s, D_loss=1.046, G_loss=4.676, Hybrid=0.354] \n",
            "                                                                    \r"
          ]
        },
        {
          "name": "stdout",
          "output_type": "stream",
          "text": [
            "\n",
            "Validation @ Epoch 15:\n",
            "PSNR: 13.61 dB | SSIM: 0.1058 | LPIPS: 0.4944 | Hybrid: 0.3179\n"
          ]
        },
        {
          "name": "stderr",
          "output_type": "stream",
          "text": [
            "Epoch 16/200: 100%|██████████| 49/49 [00:23<00:00,  2.11it/s, D_loss=1.918, G_loss=4.060, Hybrid=0.296] \n",
            "                                                                    \r"
          ]
        },
        {
          "name": "stdout",
          "output_type": "stream",
          "text": [
            "\n",
            "Validation @ Epoch 16:\n",
            "PSNR: 13.63 dB | SSIM: 0.1078 | LPIPS: 0.5104 | Hybrid: 0.3291\n"
          ]
        },
        {
          "name": "stderr",
          "output_type": "stream",
          "text": [
            "Epoch 17/200: 100%|██████████| 49/49 [00:23<00:00,  2.11it/s, D_loss=12.638, G_loss=3.149, Hybrid=0.284]\n",
            "                                                                    \r"
          ]
        },
        {
          "name": "stdout",
          "output_type": "stream",
          "text": [
            "\n",
            "Validation @ Epoch 17:\n",
            "PSNR: 13.70 dB | SSIM: 0.1148 | LPIPS: 0.4930 | Hybrid: 0.3167\n"
          ]
        },
        {
          "name": "stderr",
          "output_type": "stream",
          "text": [
            "Epoch 18/200: 100%|██████████| 49/49 [00:23<00:00,  2.11it/s, D_loss=7.501, G_loss=4.646, Hybrid=0.345] \n",
            "                                                                    \r"
          ]
        },
        {
          "name": "stdout",
          "output_type": "stream",
          "text": [
            "\n",
            "Validation @ Epoch 18:\n",
            "PSNR: 13.31 dB | SSIM: 0.0829 | LPIPS: 0.5362 | Hybrid: 0.3204\n"
          ]
        },
        {
          "name": "stderr",
          "output_type": "stream",
          "text": [
            "Epoch 19/200: 100%|██████████| 49/49 [00:23<00:00,  2.11it/s, D_loss=31.010, G_loss=4.729, Hybrid=0.359]\n",
            "                                                                    \r"
          ]
        },
        {
          "name": "stdout",
          "output_type": "stream",
          "text": [
            "\n",
            "Validation @ Epoch 19:\n",
            "PSNR: 13.61 dB | SSIM: 0.1084 | LPIPS: 0.5030 | Hybrid: 0.3359\n"
          ]
        },
        {
          "name": "stderr",
          "output_type": "stream",
          "text": [
            "Epoch 20/200: 100%|██████████| 49/49 [00:20<00:00,  2.34it/s, D_loss=7.149, G_loss=4.549, Hybrid=0.363] \n",
            "                                                                    \r"
          ]
        },
        {
          "name": "stdout",
          "output_type": "stream",
          "text": [
            "\n",
            "Validation @ Epoch 20:\n",
            "PSNR: 13.35 dB | SSIM: 0.0625 | LPIPS: 0.5347 | Hybrid: 0.3624\n"
          ]
        },
        {
          "name": "stderr",
          "output_type": "stream",
          "text": [
            "Epoch 21/200: 100%|██████████| 49/49 [00:21<00:00,  2.33it/s, D_loss=3.285, G_loss=3.962, Hybrid=0.369] \n",
            "                                                                    \r"
          ]
        },
        {
          "name": "stdout",
          "output_type": "stream",
          "text": [
            "\n",
            "Validation @ Epoch 21:\n",
            "PSNR: 13.03 dB | SSIM: 0.0272 | LPIPS: 0.5820 | Hybrid: 0.3930\n"
          ]
        },
        {
          "name": "stderr",
          "output_type": "stream",
          "text": [
            "Epoch 22/200: 100%|██████████| 49/49 [00:20<00:00,  2.37it/s, D_loss=2.175, G_loss=4.887, Hybrid=0.377] \n",
            "                                                                    \r"
          ]
        },
        {
          "name": "stdout",
          "output_type": "stream",
          "text": [
            "\n",
            "Validation @ Epoch 22:\n",
            "PSNR: 13.03 dB | SSIM: 0.0275 | LPIPS: 0.5825 | Hybrid: 0.3945\n"
          ]
        },
        {
          "name": "stderr",
          "output_type": "stream",
          "text": [
            "Epoch 23/200: 100%|██████████| 49/49 [00:20<00:00,  2.37it/s, D_loss=2.788, G_loss=4.793, Hybrid=0.405] \n",
            "                                                                    \r"
          ]
        },
        {
          "name": "stdout",
          "output_type": "stream",
          "text": [
            "\n",
            "Validation @ Epoch 23:\n",
            "PSNR: 13.03 dB | SSIM: 0.0275 | LPIPS: 0.5825 | Hybrid: 0.3957\n"
          ]
        },
        {
          "name": "stderr",
          "output_type": "stream",
          "text": [
            "Epoch 24/200: 100%|██████████| 49/49 [00:20<00:00,  2.37it/s, D_loss=2.656, G_loss=5.752, Hybrid=0.423] \n",
            "                                                                    \r"
          ]
        },
        {
          "name": "stdout",
          "output_type": "stream",
          "text": [
            "\n",
            "Validation @ Epoch 24:\n",
            "PSNR: 13.03 dB | SSIM: 0.0275 | LPIPS: 0.5825 | Hybrid: 0.3969\n"
          ]
        },
        {
          "name": "stderr",
          "output_type": "stream",
          "text": [
            "Epoch 25/200: 100%|██████████| 49/49 [00:20<00:00,  2.37it/s, D_loss=4.898, G_loss=5.179, Hybrid=0.410] \n",
            "                                                                    \r"
          ]
        },
        {
          "name": "stdout",
          "output_type": "stream",
          "text": [
            "\n",
            "Validation @ Epoch 25:\n",
            "PSNR: 13.03 dB | SSIM: 0.0275 | LPIPS: 0.5825 | Hybrid: 0.3981\n"
          ]
        },
        {
          "name": "stderr",
          "output_type": "stream",
          "text": [
            "Epoch 26/200: 100%|██████████| 49/49 [00:20<00:00,  2.38it/s, D_loss=1.761, G_loss=5.118, Hybrid=0.400] \n",
            "                                                                    \r"
          ]
        },
        {
          "name": "stdout",
          "output_type": "stream",
          "text": [
            "\n",
            "Validation @ Epoch 26:\n",
            "PSNR: 13.03 dB | SSIM: 0.0275 | LPIPS: 0.5825 | Hybrid: 0.3993\n"
          ]
        },
        {
          "name": "stderr",
          "output_type": "stream",
          "text": [
            "Epoch 27/200: 100%|██████████| 49/49 [00:20<00:00,  2.37it/s, D_loss=9.854, G_loss=5.256, Hybrid=0.409] \n",
            "                                                                    \r"
          ]
        },
        {
          "name": "stdout",
          "output_type": "stream",
          "text": [
            "\n",
            "Validation @ Epoch 27:\n",
            "PSNR: 13.03 dB | SSIM: 0.0275 | LPIPS: 0.5825 | Hybrid: 0.4005\n"
          ]
        },
        {
          "name": "stderr",
          "output_type": "stream",
          "text": [
            "Epoch 28/200: 100%|██████████| 49/49 [00:20<00:00,  2.37it/s, D_loss=1.430, G_loss=4.002, Hybrid=0.342] \n",
            "                                                                    \r"
          ]
        },
        {
          "name": "stdout",
          "output_type": "stream",
          "text": [
            "\n",
            "Validation @ Epoch 28:\n",
            "PSNR: 13.03 dB | SSIM: 0.0275 | LPIPS: 0.5825 | Hybrid: 0.4017\n"
          ]
        },
        {
          "name": "stderr",
          "output_type": "stream",
          "text": [
            "Epoch 29/200: 100%|██████████| 49/49 [00:20<00:00,  2.37it/s, D_loss=2.500, G_loss=4.949, Hybrid=0.416] \n",
            "                                                                    \r"
          ]
        },
        {
          "name": "stdout",
          "output_type": "stream",
          "text": [
            "\n",
            "Validation @ Epoch 29:\n",
            "PSNR: 13.03 dB | SSIM: 0.0275 | LPIPS: 0.5825 | Hybrid: 0.4029\n"
          ]
        },
        {
          "name": "stderr",
          "output_type": "stream",
          "text": [
            "Epoch 30/200: 100%|██████████| 49/49 [00:20<00:00,  2.38it/s, D_loss=4.390, G_loss=4.975, Hybrid=0.393] \n",
            "                                                                    \r"
          ]
        },
        {
          "name": "stdout",
          "output_type": "stream",
          "text": [
            "\n",
            "Validation @ Epoch 30:\n",
            "PSNR: 13.03 dB | SSIM: 0.0275 | LPIPS: 0.5825 | Hybrid: 0.4041\n"
          ]
        },
        {
          "name": "stderr",
          "output_type": "stream",
          "text": [
            "Epoch 31/200: 100%|██████████| 49/49 [00:20<00:00,  2.37it/s, D_loss=5.955, G_loss=5.140, Hybrid=0.399] \n",
            "                                                                    \r"
          ]
        },
        {
          "name": "stdout",
          "output_type": "stream",
          "text": [
            "\n",
            "Validation @ Epoch 31:\n",
            "PSNR: 13.03 dB | SSIM: 0.0275 | LPIPS: 0.5825 | Hybrid: 0.4053\n"
          ]
        },
        {
          "name": "stderr",
          "output_type": "stream",
          "text": [
            "Epoch 32/200: 100%|██████████| 49/49 [00:20<00:00,  2.37it/s, D_loss=3.037, G_loss=4.432, Hybrid=0.377] \n",
            "                                                                    \r"
          ]
        },
        {
          "name": "stdout",
          "output_type": "stream",
          "text": [
            "\n",
            "Validation @ Epoch 32:\n",
            "PSNR: 13.03 dB | SSIM: 0.0275 | LPIPS: 0.5825 | Hybrid: 0.4065\n"
          ]
        },
        {
          "name": "stderr",
          "output_type": "stream",
          "text": [
            "Epoch 33/200: 100%|██████████| 49/49 [00:20<00:00,  2.38it/s, D_loss=1.833, G_loss=4.677, Hybrid=0.394] \n",
            "                                                                    \r"
          ]
        },
        {
          "name": "stdout",
          "output_type": "stream",
          "text": [
            "\n",
            "Validation @ Epoch 33:\n",
            "PSNR: 13.03 dB | SSIM: 0.0275 | LPIPS: 0.5825 | Hybrid: 0.4077\n"
          ]
        },
        {
          "name": "stderr",
          "output_type": "stream",
          "text": [
            "Epoch 34/200: 100%|██████████| 49/49 [00:20<00:00,  2.38it/s, D_loss=15.305, G_loss=4.821, Hybrid=0.387]\n",
            "                                                                    \r"
          ]
        },
        {
          "name": "stdout",
          "output_type": "stream",
          "text": [
            "\n",
            "Validation @ Epoch 34:\n",
            "PSNR: 13.03 dB | SSIM: 0.0275 | LPIPS: 0.5825 | Hybrid: 0.4089\n"
          ]
        },
        {
          "name": "stderr",
          "output_type": "stream",
          "text": [
            "Epoch 35/200: 100%|██████████| 49/49 [00:20<00:00,  2.37it/s, D_loss=1.408, G_loss=4.516, Hybrid=0.382] \n",
            "                                                                    \r"
          ]
        },
        {
          "name": "stdout",
          "output_type": "stream",
          "text": [
            "\n",
            "Validation @ Epoch 35:\n",
            "PSNR: 13.03 dB | SSIM: 0.0275 | LPIPS: 0.5825 | Hybrid: 0.4101\n"
          ]
        },
        {
          "name": "stderr",
          "output_type": "stream",
          "text": [
            "Epoch 36/200: 100%|██████████| 49/49 [00:20<00:00,  2.38it/s, D_loss=1.680, G_loss=4.278, Hybrid=0.366] \n",
            "                                                                    \r"
          ]
        },
        {
          "name": "stdout",
          "output_type": "stream",
          "text": [
            "\n",
            "Validation @ Epoch 36:\n",
            "PSNR: 13.03 dB | SSIM: 0.0275 | LPIPS: 0.5825 | Hybrid: 0.4113\n"
          ]
        },
        {
          "name": "stderr",
          "output_type": "stream",
          "text": [
            "Epoch 37/200: 100%|██████████| 49/49 [00:20<00:00,  2.37it/s, D_loss=4.336, G_loss=4.515, Hybrid=0.371] \n",
            "                                                                    \r"
          ]
        },
        {
          "name": "stdout",
          "output_type": "stream",
          "text": [
            "\n",
            "Validation @ Epoch 37:\n",
            "PSNR: 13.03 dB | SSIM: 0.0275 | LPIPS: 0.5825 | Hybrid: 0.4126\n"
          ]
        },
        {
          "name": "stderr",
          "output_type": "stream",
          "text": [
            "Epoch 38/200: 100%|██████████| 49/49 [00:20<00:00,  2.38it/s, D_loss=0.721, G_loss=4.865, Hybrid=0.401] \n",
            "                                                                    \r"
          ]
        },
        {
          "name": "stdout",
          "output_type": "stream",
          "text": [
            "\n",
            "Validation @ Epoch 38:\n",
            "PSNR: 13.03 dB | SSIM: 0.0275 | LPIPS: 0.5825 | Hybrid: 0.4138\n"
          ]
        },
        {
          "name": "stderr",
          "output_type": "stream",
          "text": [
            "Epoch 39/200: 100%|██████████| 49/49 [00:20<00:00,  2.37it/s, D_loss=1.137, G_loss=4.191, Hybrid=0.385] \n",
            "                                                                    \r"
          ]
        },
        {
          "name": "stdout",
          "output_type": "stream",
          "text": [
            "\n",
            "Validation @ Epoch 39:\n",
            "PSNR: 13.03 dB | SSIM: 0.0275 | LPIPS: 0.5826 | Hybrid: 0.4150\n"
          ]
        },
        {
          "name": "stderr",
          "output_type": "stream",
          "text": [
            "Epoch 40/200: 100%|██████████| 49/49 [00:20<00:00,  2.38it/s, D_loss=3.217, G_loss=4.368, Hybrid=0.375] \n",
            "                                                                    \r"
          ]
        },
        {
          "name": "stdout",
          "output_type": "stream",
          "text": [
            "\n",
            "Validation @ Epoch 40:\n",
            "PSNR: 13.03 dB | SSIM: 0.0275 | LPIPS: 0.5826 | Hybrid: 0.4162\n"
          ]
        },
        {
          "name": "stderr",
          "output_type": "stream",
          "text": [
            "Epoch 41/200: 100%|██████████| 49/49 [00:20<00:00,  2.38it/s, D_loss=5.308, G_loss=4.112, Hybrid=0.392] \n",
            "                                                                    \r"
          ]
        },
        {
          "name": "stdout",
          "output_type": "stream",
          "text": [
            "\n",
            "Validation @ Epoch 41:\n",
            "PSNR: 13.03 dB | SSIM: 0.0275 | LPIPS: 0.5826 | Hybrid: 0.4174\n"
          ]
        },
        {
          "name": "stderr",
          "output_type": "stream",
          "text": [
            "Epoch 42/200: 100%|██████████| 49/49 [00:20<00:00,  2.38it/s, D_loss=0.931, G_loss=4.384, Hybrid=0.378] \n",
            "                                                                    \r"
          ]
        },
        {
          "name": "stdout",
          "output_type": "stream",
          "text": [
            "\n",
            "Validation @ Epoch 42:\n",
            "PSNR: 13.03 dB | SSIM: 0.0275 | LPIPS: 0.5826 | Hybrid: 0.4186\n"
          ]
        },
        {
          "name": "stderr",
          "output_type": "stream",
          "text": [
            "Epoch 43/200: 100%|██████████| 49/49 [00:20<00:00,  2.38it/s, D_loss=2.724, G_loss=4.424, Hybrid=0.363] \n",
            "                                                                    \r"
          ]
        },
        {
          "name": "stdout",
          "output_type": "stream",
          "text": [
            "\n",
            "Validation @ Epoch 43:\n",
            "PSNR: 13.03 dB | SSIM: 0.0275 | LPIPS: 0.5826 | Hybrid: 0.4198\n"
          ]
        },
        {
          "name": "stderr",
          "output_type": "stream",
          "text": [
            "Epoch 44/200: 100%|██████████| 49/49 [00:20<00:00,  2.38it/s, D_loss=1.374, G_loss=4.375, Hybrid=0.374] \n",
            "                                                                    \r"
          ]
        },
        {
          "name": "stdout",
          "output_type": "stream",
          "text": [
            "\n",
            "Validation @ Epoch 44:\n",
            "PSNR: 13.03 dB | SSIM: 0.0275 | LPIPS: 0.5826 | Hybrid: 0.4210\n"
          ]
        },
        {
          "name": "stderr",
          "output_type": "stream",
          "text": [
            "Epoch 45/200: 100%|██████████| 49/49 [00:20<00:00,  2.38it/s, D_loss=1.439, G_loss=4.640, Hybrid=0.368] \n",
            "                                                                    \r"
          ]
        },
        {
          "name": "stdout",
          "output_type": "stream",
          "text": [
            "\n",
            "Validation @ Epoch 45:\n",
            "PSNR: 13.03 dB | SSIM: 0.0275 | LPIPS: 0.5826 | Hybrid: 0.4222\n"
          ]
        },
        {
          "name": "stderr",
          "output_type": "stream",
          "text": [
            "Epoch 46/200: 100%|██████████| 49/49 [00:20<00:00,  2.38it/s, D_loss=0.829, G_loss=5.224, Hybrid=0.422] \n",
            "                                                                    \r"
          ]
        },
        {
          "name": "stdout",
          "output_type": "stream",
          "text": [
            "\n",
            "Validation @ Epoch 46:\n",
            "PSNR: 13.03 dB | SSIM: 0.0275 | LPIPS: 0.5826 | Hybrid: 0.4234\n"
          ]
        },
        {
          "name": "stderr",
          "output_type": "stream",
          "text": [
            "Epoch 47/200: 100%|██████████| 49/49 [00:20<00:00,  2.38it/s, D_loss=12.669, G_loss=4.348, Hybrid=0.384]\n",
            "                                                                    \r"
          ]
        },
        {
          "name": "stdout",
          "output_type": "stream",
          "text": [
            "\n",
            "Validation @ Epoch 47:\n",
            "PSNR: 13.03 dB | SSIM: 0.0275 | LPIPS: 0.5826 | Hybrid: 0.4246\n"
          ]
        },
        {
          "name": "stderr",
          "output_type": "stream",
          "text": [
            "Epoch 48/200: 100%|██████████| 49/49 [00:20<00:00,  2.38it/s, D_loss=0.924, G_loss=5.062, Hybrid=0.448] \n",
            "                                                                    \r"
          ]
        },
        {
          "name": "stdout",
          "output_type": "stream",
          "text": [
            "\n",
            "Validation @ Epoch 48:\n",
            "PSNR: 13.03 dB | SSIM: 0.0275 | LPIPS: 0.5826 | Hybrid: 0.4258\n"
          ]
        },
        {
          "name": "stderr",
          "output_type": "stream",
          "text": [
            "Epoch 49/200: 100%|██████████| 49/49 [00:20<00:00,  2.38it/s, D_loss=7.997, G_loss=4.900, Hybrid=0.447] \n",
            "                                                                    \r"
          ]
        },
        {
          "name": "stdout",
          "output_type": "stream",
          "text": [
            "\n",
            "Validation @ Epoch 49:\n",
            "PSNR: 13.03 dB | SSIM: 0.0275 | LPIPS: 0.5826 | Hybrid: 0.4270\n"
          ]
        },
        {
          "name": "stderr",
          "output_type": "stream",
          "text": [
            "Epoch 50/200: 100%|██████████| 49/49 [00:20<00:00,  2.38it/s, D_loss=2.137, G_loss=4.783, Hybrid=0.416] \n",
            "                                                                    \r"
          ]
        },
        {
          "name": "stdout",
          "output_type": "stream",
          "text": [
            "\n",
            "Validation @ Epoch 50:\n",
            "PSNR: 13.03 dB | SSIM: 0.0275 | LPIPS: 0.5826 | Hybrid: 0.4282\n"
          ]
        },
        {
          "name": "stderr",
          "output_type": "stream",
          "text": [
            "Epoch 51/200: 100%|██████████| 49/49 [00:20<00:00,  2.38it/s, D_loss=0.850, G_loss=4.081, Hybrid=0.388] \n",
            "                                                                    \r"
          ]
        },
        {
          "name": "stdout",
          "output_type": "stream",
          "text": [
            "\n",
            "Validation @ Epoch 51:\n",
            "PSNR: 13.03 dB | SSIM: 0.0275 | LPIPS: 0.5826 | Hybrid: 0.4294\n"
          ]
        },
        {
          "name": "stderr",
          "output_type": "stream",
          "text": [
            "Epoch 52/200: 100%|██████████| 49/49 [00:20<00:00,  2.38it/s, D_loss=1.644, G_loss=4.542, Hybrid=0.393]\n",
            "                                                                    \r"
          ]
        },
        {
          "name": "stdout",
          "output_type": "stream",
          "text": [
            "\n",
            "Validation @ Epoch 52:\n",
            "PSNR: 13.03 dB | SSIM: 0.0275 | LPIPS: 0.5826 | Hybrid: 0.4306\n"
          ]
        },
        {
          "name": "stderr",
          "output_type": "stream",
          "text": [
            "Epoch 53/200: 100%|██████████| 49/49 [00:20<00:00,  2.38it/s, D_loss=0.724, G_loss=4.673, Hybrid=0.393] \n",
            "                                                                    \r"
          ]
        },
        {
          "name": "stdout",
          "output_type": "stream",
          "text": [
            "\n",
            "Validation @ Epoch 53:\n",
            "PSNR: 13.03 dB | SSIM: 0.0275 | LPIPS: 0.5826 | Hybrid: 0.4318\n"
          ]
        },
        {
          "name": "stderr",
          "output_type": "stream",
          "text": [
            "Epoch 54/200: 100%|██████████| 49/49 [00:20<00:00,  2.39it/s, D_loss=0.770, G_loss=5.046, Hybrid=0.400]\n",
            "                                                                    \r"
          ]
        },
        {
          "name": "stdout",
          "output_type": "stream",
          "text": [
            "\n",
            "Validation @ Epoch 54:\n",
            "PSNR: 13.03 dB | SSIM: 0.0275 | LPIPS: 0.5826 | Hybrid: 0.4330\n"
          ]
        },
        {
          "name": "stderr",
          "output_type": "stream",
          "text": [
            "Epoch 55/200: 100%|██████████| 49/49 [00:20<00:00,  2.38it/s, D_loss=2.261, G_loss=4.396, Hybrid=0.389]\n",
            "                                                                    \r"
          ]
        },
        {
          "name": "stdout",
          "output_type": "stream",
          "text": [
            "\n",
            "Validation @ Epoch 55:\n",
            "PSNR: 13.03 dB | SSIM: 0.0275 | LPIPS: 0.5826 | Hybrid: 0.4342\n"
          ]
        },
        {
          "name": "stderr",
          "output_type": "stream",
          "text": [
            "Epoch 56/200: 100%|██████████| 49/49 [00:20<00:00,  2.38it/s, D_loss=792.058, G_loss=4.475, Hybrid=0.419]\n",
            "                                                                    \r"
          ]
        },
        {
          "name": "stdout",
          "output_type": "stream",
          "text": [
            "\n",
            "Validation @ Epoch 56:\n",
            "PSNR: 13.03 dB | SSIM: 0.0275 | LPIPS: 0.5826 | Hybrid: 0.4354\n"
          ]
        },
        {
          "name": "stderr",
          "output_type": "stream",
          "text": [
            "Epoch 57/200: 100%|██████████| 49/49 [00:20<00:00,  2.38it/s, D_loss=0.866, G_loss=4.446, Hybrid=0.376]  \n",
            "                                                                    \r"
          ]
        },
        {
          "name": "stdout",
          "output_type": "stream",
          "text": [
            "\n",
            "Validation @ Epoch 57:\n",
            "PSNR: 13.03 dB | SSIM: 0.0275 | LPIPS: 0.5826 | Hybrid: 0.4366\n"
          ]
        },
        {
          "name": "stderr",
          "output_type": "stream",
          "text": [
            "Epoch 58/200: 100%|██████████| 49/49 [00:20<00:00,  2.38it/s, D_loss=8.520, G_loss=4.340, Hybrid=0.421] \n",
            "                                                                    \r"
          ]
        },
        {
          "name": "stdout",
          "output_type": "stream",
          "text": [
            "\n",
            "Validation @ Epoch 58:\n",
            "PSNR: 13.03 dB | SSIM: 0.0275 | LPIPS: 0.5826 | Hybrid: 0.4378\n"
          ]
        },
        {
          "name": "stderr",
          "output_type": "stream",
          "text": [
            "Epoch 59/200: 100%|██████████| 49/49 [00:20<00:00,  2.38it/s, D_loss=0.947, G_loss=4.312, Hybrid=0.425]\n",
            "                                                                    \r"
          ]
        },
        {
          "name": "stdout",
          "output_type": "stream",
          "text": [
            "\n",
            "Validation @ Epoch 59:\n",
            "PSNR: 13.03 dB | SSIM: 0.0275 | LPIPS: 0.5826 | Hybrid: 0.4390\n"
          ]
        },
        {
          "name": "stderr",
          "output_type": "stream",
          "text": [
            "Epoch 60/200: 100%|██████████| 49/49 [00:20<00:00,  2.38it/s, D_loss=1.063, G_loss=4.660, Hybrid=0.428]\n",
            "                                                                    \r"
          ]
        },
        {
          "name": "stdout",
          "output_type": "stream",
          "text": [
            "\n",
            "Validation @ Epoch 60:\n",
            "PSNR: 13.03 dB | SSIM: 0.0275 | LPIPS: 0.5826 | Hybrid: 0.4402\n"
          ]
        },
        {
          "name": "stderr",
          "output_type": "stream",
          "text": [
            "Epoch 61/200: 100%|██████████| 49/49 [00:20<00:00,  2.38it/s, D_loss=0.782, G_loss=4.242, Hybrid=0.402]\n",
            "                                                                    \r"
          ]
        },
        {
          "name": "stdout",
          "output_type": "stream",
          "text": [
            "\n",
            "Validation @ Epoch 61:\n",
            "PSNR: 13.03 dB | SSIM: 0.0275 | LPIPS: 0.5826 | Hybrid: 0.4414\n"
          ]
        },
        {
          "name": "stderr",
          "output_type": "stream",
          "text": [
            "Epoch 62/200: 100%|██████████| 49/49 [00:20<00:00,  2.38it/s, D_loss=2.166, G_loss=4.766, Hybrid=0.442]\n",
            "                                                                    \r"
          ]
        },
        {
          "name": "stdout",
          "output_type": "stream",
          "text": [
            "\n",
            "Validation @ Epoch 62:\n",
            "PSNR: 13.03 dB | SSIM: 0.0275 | LPIPS: 0.5826 | Hybrid: 0.4426\n"
          ]
        },
        {
          "name": "stderr",
          "output_type": "stream",
          "text": [
            "Epoch 63/200: 100%|██████████| 49/49 [00:20<00:00,  2.38it/s, D_loss=2.565, G_loss=4.403, Hybrid=0.394]\n",
            "                                                                    \r"
          ]
        },
        {
          "name": "stdout",
          "output_type": "stream",
          "text": [
            "\n",
            "Validation @ Epoch 63:\n",
            "PSNR: 13.03 dB | SSIM: 0.0275 | LPIPS: 0.5826 | Hybrid: 0.4438\n"
          ]
        },
        {
          "name": "stderr",
          "output_type": "stream",
          "text": [
            "Epoch 64/200: 100%|██████████| 49/49 [00:20<00:00,  2.38it/s, D_loss=6.199, G_loss=4.998, Hybrid=0.435]\n",
            "                                                                    \r"
          ]
        },
        {
          "name": "stdout",
          "output_type": "stream",
          "text": [
            "\n",
            "Validation @ Epoch 64:\n",
            "PSNR: 13.03 dB | SSIM: 0.0275 | LPIPS: 0.5826 | Hybrid: 0.4450\n"
          ]
        },
        {
          "name": "stderr",
          "output_type": "stream",
          "text": [
            "Epoch 65/200: 100%|██████████| 49/49 [00:20<00:00,  2.37it/s, D_loss=0.742, G_loss=4.123, Hybrid=0.417]\n",
            "                                                                    \r"
          ]
        },
        {
          "name": "stdout",
          "output_type": "stream",
          "text": [
            "\n",
            "Validation @ Epoch 65:\n",
            "PSNR: 13.03 dB | SSIM: 0.0275 | LPIPS: 0.5826 | Hybrid: 0.4462\n"
          ]
        },
        {
          "name": "stderr",
          "output_type": "stream",
          "text": [
            "Epoch 66/200: 100%|██████████| 49/49 [00:20<00:00,  2.36it/s, D_loss=1.363, G_loss=4.713, Hybrid=0.417]\n",
            "                                                                    \r"
          ]
        },
        {
          "name": "stdout",
          "output_type": "stream",
          "text": [
            "\n",
            "Validation @ Epoch 66:\n",
            "PSNR: 13.03 dB | SSIM: 0.0275 | LPIPS: 0.5826 | Hybrid: 0.4474\n"
          ]
        },
        {
          "name": "stderr",
          "output_type": "stream",
          "text": [
            "Epoch 67/200: 100%|██████████| 49/49 [00:20<00:00,  2.38it/s, D_loss=2.503, G_loss=4.986, Hybrid=0.445]\n",
            "                                                                    \r"
          ]
        },
        {
          "name": "stdout",
          "output_type": "stream",
          "text": [
            "\n",
            "Validation @ Epoch 67:\n",
            "PSNR: 13.03 dB | SSIM: 0.0275 | LPIPS: 0.5826 | Hybrid: 0.4486\n"
          ]
        },
        {
          "name": "stderr",
          "output_type": "stream",
          "text": [
            "Epoch 68/200: 100%|██████████| 49/49 [00:20<00:00,  2.38it/s, D_loss=1.899, G_loss=4.715, Hybrid=0.436]\n",
            "                                                                    \r"
          ]
        },
        {
          "name": "stdout",
          "output_type": "stream",
          "text": [
            "\n",
            "Validation @ Epoch 68:\n",
            "PSNR: 13.03 dB | SSIM: 0.0275 | LPIPS: 0.5826 | Hybrid: 0.4498\n"
          ]
        },
        {
          "name": "stderr",
          "output_type": "stream",
          "text": [
            "Epoch 69/200: 100%|██████████| 49/49 [00:20<00:00,  2.38it/s, D_loss=0.921, G_loss=4.170, Hybrid=0.353]\n",
            "                                                                    \r"
          ]
        },
        {
          "name": "stdout",
          "output_type": "stream",
          "text": [
            "\n",
            "Validation @ Epoch 69:\n",
            "PSNR: 13.03 dB | SSIM: 0.0275 | LPIPS: 0.5826 | Hybrid: 0.4510\n"
          ]
        },
        {
          "name": "stderr",
          "output_type": "stream",
          "text": [
            "Epoch 70/200: 100%|██████████| 49/49 [00:20<00:00,  2.38it/s, D_loss=0.808, G_loss=5.068, Hybrid=0.437]\n",
            "                                                                    \r"
          ]
        },
        {
          "name": "stdout",
          "output_type": "stream",
          "text": [
            "\n",
            "Validation @ Epoch 70:\n",
            "PSNR: 13.03 dB | SSIM: 0.0275 | LPIPS: 0.5826 | Hybrid: 0.4522\n"
          ]
        },
        {
          "name": "stderr",
          "output_type": "stream",
          "text": [
            "Epoch 71/200: 100%|██████████| 49/49 [00:20<00:00,  2.37it/s, D_loss=1.011, G_loss=4.515, Hybrid=0.443]\n",
            "                                                                    \r"
          ]
        },
        {
          "name": "stdout",
          "output_type": "stream",
          "text": [
            "\n",
            "Validation @ Epoch 71:\n",
            "PSNR: 13.03 dB | SSIM: 0.0275 | LPIPS: 0.5826 | Hybrid: 0.4534\n"
          ]
        },
        {
          "name": "stderr",
          "output_type": "stream",
          "text": [
            "Epoch 72/200: 100%|██████████| 49/49 [00:20<00:00,  2.37it/s, D_loss=1.356, G_loss=3.736, Hybrid=0.396]\n",
            "                                                                    \r"
          ]
        },
        {
          "name": "stdout",
          "output_type": "stream",
          "text": [
            "\n",
            "Validation @ Epoch 72:\n",
            "PSNR: 13.03 dB | SSIM: 0.0275 | LPIPS: 0.5826 | Hybrid: 0.4546\n"
          ]
        },
        {
          "name": "stderr",
          "output_type": "stream",
          "text": [
            "Epoch 73/200: 100%|██████████| 49/49 [00:20<00:00,  2.37it/s, D_loss=1.774, G_loss=4.978, Hybrid=0.435]\n",
            "                                                                    \r"
          ]
        },
        {
          "name": "stdout",
          "output_type": "stream",
          "text": [
            "\n",
            "Validation @ Epoch 73:\n",
            "PSNR: 13.03 dB | SSIM: 0.0275 | LPIPS: 0.5826 | Hybrid: 0.4558\n"
          ]
        },
        {
          "name": "stderr",
          "output_type": "stream",
          "text": [
            "Epoch 74/200: 100%|██████████| 49/49 [00:20<00:00,  2.39it/s, D_loss=0.730, G_loss=5.257, Hybrid=0.454]\n",
            "                                                                    \r"
          ]
        },
        {
          "name": "stdout",
          "output_type": "stream",
          "text": [
            "\n",
            "Validation @ Epoch 74:\n",
            "PSNR: 13.03 dB | SSIM: 0.0275 | LPIPS: 0.5826 | Hybrid: 0.4570\n"
          ]
        },
        {
          "name": "stderr",
          "output_type": "stream",
          "text": [
            "Epoch 75/200: 100%|██████████| 49/49 [00:20<00:00,  2.37it/s, D_loss=0.712, G_loss=5.286, Hybrid=0.456]\n",
            "                                                                    \r"
          ]
        },
        {
          "name": "stdout",
          "output_type": "stream",
          "text": [
            "\n",
            "Validation @ Epoch 75:\n",
            "PSNR: 13.03 dB | SSIM: 0.0275 | LPIPS: 0.5826 | Hybrid: 0.4582\n"
          ]
        },
        {
          "name": "stderr",
          "output_type": "stream",
          "text": [
            "Epoch 76/200: 100%|██████████| 49/49 [00:20<00:00,  2.38it/s, D_loss=0.783, G_loss=5.202, Hybrid=0.465]\n",
            "                                                                    \r"
          ]
        },
        {
          "name": "stdout",
          "output_type": "stream",
          "text": [
            "\n",
            "Validation @ Epoch 76:\n",
            "PSNR: 13.03 dB | SSIM: 0.0275 | LPIPS: 0.5826 | Hybrid: 0.4594\n"
          ]
        },
        {
          "name": "stderr",
          "output_type": "stream",
          "text": [
            "Epoch 77/200: 100%|██████████| 49/49 [00:20<00:00,  2.38it/s, D_loss=0.706, G_loss=5.303, Hybrid=0.477]\n",
            "                                                                    \r"
          ]
        },
        {
          "name": "stdout",
          "output_type": "stream",
          "text": [
            "\n",
            "Validation @ Epoch 77:\n",
            "PSNR: 13.03 dB | SSIM: 0.0275 | LPIPS: 0.5826 | Hybrid: 0.4606\n"
          ]
        },
        {
          "name": "stderr",
          "output_type": "stream",
          "text": [
            "Epoch 78/200: 100%|██████████| 49/49 [00:20<00:00,  2.38it/s, D_loss=1.159, G_loss=4.593, Hybrid=0.452]\n",
            "                                                                    \r"
          ]
        },
        {
          "name": "stdout",
          "output_type": "stream",
          "text": [
            "\n",
            "Validation @ Epoch 78:\n",
            "PSNR: 13.03 dB | SSIM: 0.0275 | LPIPS: 0.5826 | Hybrid: 0.4618\n"
          ]
        },
        {
          "name": "stderr",
          "output_type": "stream",
          "text": [
            "Epoch 79/200: 100%|██████████| 49/49 [00:20<00:00,  2.38it/s, D_loss=0.713, G_loss=5.333, Hybrid=0.482]\n",
            "                                                                    \r"
          ]
        },
        {
          "name": "stdout",
          "output_type": "stream",
          "text": [
            "\n",
            "Validation @ Epoch 79:\n",
            "PSNR: 13.03 dB | SSIM: 0.0275 | LPIPS: 0.5826 | Hybrid: 0.4630\n"
          ]
        },
        {
          "name": "stderr",
          "output_type": "stream",
          "text": [
            "Epoch 80/200: 100%|██████████| 49/49 [00:20<00:00,  2.38it/s, D_loss=0.714, G_loss=4.816, Hybrid=0.447]\n",
            "                                                                    \r"
          ]
        },
        {
          "name": "stdout",
          "output_type": "stream",
          "text": [
            "\n",
            "Validation @ Epoch 80:\n",
            "PSNR: 13.03 dB | SSIM: 0.0275 | LPIPS: 0.5826 | Hybrid: 0.4642\n"
          ]
        },
        {
          "name": "stderr",
          "output_type": "stream",
          "text": [
            "Epoch 81/200: 100%|██████████| 49/49 [00:20<00:00,  2.38it/s, D_loss=1.477, G_loss=4.930, Hybrid=0.440]\n",
            "                                                                    \r"
          ]
        },
        {
          "name": "stdout",
          "output_type": "stream",
          "text": [
            "\n",
            "Validation @ Epoch 81:\n",
            "PSNR: 13.03 dB | SSIM: 0.0275 | LPIPS: 0.5826 | Hybrid: 0.4654\n"
          ]
        },
        {
          "name": "stderr",
          "output_type": "stream",
          "text": [
            "Epoch 82/200: 100%|██████████| 49/49 [00:20<00:00,  2.38it/s, D_loss=0.760, G_loss=4.884, Hybrid=0.447]\n",
            "                                                                    \r"
          ]
        },
        {
          "name": "stdout",
          "output_type": "stream",
          "text": [
            "\n",
            "Validation @ Epoch 82:\n",
            "PSNR: 13.03 dB | SSIM: 0.0275 | LPIPS: 0.5826 | Hybrid: 0.4667\n"
          ]
        },
        {
          "name": "stderr",
          "output_type": "stream",
          "text": [
            "Epoch 83/200: 100%|██████████| 49/49 [00:20<00:00,  2.38it/s, D_loss=2.444, G_loss=4.371, Hybrid=0.443]\n",
            "                                                                    \r"
          ]
        },
        {
          "name": "stdout",
          "output_type": "stream",
          "text": [
            "\n",
            "Validation @ Epoch 83:\n",
            "PSNR: 13.03 dB | SSIM: 0.0275 | LPIPS: 0.5826 | Hybrid: 0.4679\n"
          ]
        },
        {
          "name": "stderr",
          "output_type": "stream",
          "text": [
            "Epoch 84/200: 100%|██████████| 49/49 [00:20<00:00,  2.38it/s, D_loss=2.124, G_loss=5.327, Hybrid=0.468]\n",
            "                                                                    \r"
          ]
        },
        {
          "name": "stdout",
          "output_type": "stream",
          "text": [
            "\n",
            "Validation @ Epoch 84:\n",
            "PSNR: 13.03 dB | SSIM: 0.0275 | LPIPS: 0.5826 | Hybrid: 0.4691\n"
          ]
        },
        {
          "name": "stderr",
          "output_type": "stream",
          "text": [
            "Epoch 85/200: 100%|██████████| 49/49 [00:20<00:00,  2.38it/s, D_loss=0.698, G_loss=4.251, Hybrid=0.445]\n",
            "                                                                    \r"
          ]
        },
        {
          "name": "stdout",
          "output_type": "stream",
          "text": [
            "\n",
            "Validation @ Epoch 85:\n",
            "PSNR: 13.03 dB | SSIM: 0.0275 | LPIPS: 0.5826 | Hybrid: 0.4703\n"
          ]
        },
        {
          "name": "stderr",
          "output_type": "stream",
          "text": [
            "Epoch 86/200: 100%|██████████| 49/49 [00:20<00:00,  2.38it/s, D_loss=0.714, G_loss=5.103, Hybrid=0.476]\n",
            "                                                                    \r"
          ]
        },
        {
          "name": "stdout",
          "output_type": "stream",
          "text": [
            "\n",
            "Validation @ Epoch 86:\n",
            "PSNR: 13.03 dB | SSIM: 0.0275 | LPIPS: 0.5826 | Hybrid: 0.4715\n"
          ]
        },
        {
          "name": "stderr",
          "output_type": "stream",
          "text": [
            "Epoch 87/200: 100%|██████████| 49/49 [00:20<00:00,  2.38it/s, D_loss=0.709, G_loss=4.851, Hybrid=0.475]\n",
            "                                                                    \r"
          ]
        },
        {
          "name": "stdout",
          "output_type": "stream",
          "text": [
            "\n",
            "Validation @ Epoch 87:\n",
            "PSNR: 13.03 dB | SSIM: 0.0275 | LPIPS: 0.5826 | Hybrid: 0.4727\n"
          ]
        },
        {
          "name": "stderr",
          "output_type": "stream",
          "text": [
            "Epoch 88/200: 100%|██████████| 49/49 [00:20<00:00,  2.38it/s, D_loss=0.731, G_loss=4.644, Hybrid=0.475]\n",
            "                                                                    \r"
          ]
        },
        {
          "name": "stdout",
          "output_type": "stream",
          "text": [
            "\n",
            "Validation @ Epoch 88:\n",
            "PSNR: 13.03 dB | SSIM: 0.0275 | LPIPS: 0.5826 | Hybrid: 0.4739\n"
          ]
        },
        {
          "name": "stderr",
          "output_type": "stream",
          "text": [
            "Epoch 89/200: 100%|██████████| 49/49 [00:20<00:00,  2.38it/s, D_loss=0.744, G_loss=5.170, Hybrid=0.447]\n",
            "                                                                    \r"
          ]
        },
        {
          "name": "stdout",
          "output_type": "stream",
          "text": [
            "\n",
            "Validation @ Epoch 89:\n",
            "PSNR: 13.03 dB | SSIM: 0.0275 | LPIPS: 0.5826 | Hybrid: 0.4751\n"
          ]
        },
        {
          "name": "stderr",
          "output_type": "stream",
          "text": [
            "Epoch 90/200: 100%|██████████| 49/49 [00:20<00:00,  2.38it/s, D_loss=0.715, G_loss=3.787, Hybrid=0.420]\n",
            "                                                                    \r"
          ]
        },
        {
          "name": "stdout",
          "output_type": "stream",
          "text": [
            "\n",
            "Validation @ Epoch 90:\n",
            "PSNR: 13.03 dB | SSIM: 0.0275 | LPIPS: 0.5826 | Hybrid: 0.4763\n"
          ]
        },
        {
          "name": "stderr",
          "output_type": "stream",
          "text": [
            "Epoch 91/200: 100%|██████████| 49/49 [00:20<00:00,  2.37it/s, D_loss=0.707, G_loss=5.574, Hybrid=0.500]\n",
            "                                                                    \r"
          ]
        },
        {
          "name": "stdout",
          "output_type": "stream",
          "text": [
            "\n",
            "Validation @ Epoch 91:\n",
            "PSNR: 13.03 dB | SSIM: 0.0275 | LPIPS: 0.5826 | Hybrid: 0.4775\n"
          ]
        },
        {
          "name": "stderr",
          "output_type": "stream",
          "text": [
            "Epoch 92/200: 100%|██████████| 49/49 [00:20<00:00,  2.38it/s, D_loss=0.766, G_loss=5.040, Hybrid=0.475]\n",
            "                                                                    \r"
          ]
        },
        {
          "name": "stdout",
          "output_type": "stream",
          "text": [
            "\n",
            "Validation @ Epoch 92:\n",
            "PSNR: 13.03 dB | SSIM: 0.0275 | LPIPS: 0.5826 | Hybrid: 0.4787\n"
          ]
        },
        {
          "name": "stderr",
          "output_type": "stream",
          "text": [
            "Epoch 93/200: 100%|██████████| 49/49 [00:20<00:00,  2.37it/s, D_loss=0.770, G_loss=4.505, Hybrid=0.463]\n",
            "                                                                    \r"
          ]
        },
        {
          "name": "stdout",
          "output_type": "stream",
          "text": [
            "\n",
            "Validation @ Epoch 93:\n",
            "PSNR: 13.03 dB | SSIM: 0.0275 | LPIPS: 0.5826 | Hybrid: 0.4799\n"
          ]
        },
        {
          "name": "stderr",
          "output_type": "stream",
          "text": [
            "Epoch 94/200: 100%|██████████| 49/49 [00:20<00:00,  2.38it/s, D_loss=0.705, G_loss=3.834, Hybrid=0.417]\n",
            "                                                                    \r"
          ]
        },
        {
          "name": "stdout",
          "output_type": "stream",
          "text": [
            "\n",
            "Validation @ Epoch 94:\n",
            "PSNR: 13.03 dB | SSIM: 0.0275 | LPIPS: 0.5826 | Hybrid: 0.4811\n"
          ]
        },
        {
          "name": "stderr",
          "output_type": "stream",
          "text": [
            "Epoch 95/200: 100%|██████████| 49/49 [00:20<00:00,  2.38it/s, D_loss=0.699, G_loss=4.818, Hybrid=0.476]\n",
            "                                                                    \r"
          ]
        },
        {
          "name": "stdout",
          "output_type": "stream",
          "text": [
            "\n",
            "Validation @ Epoch 95:\n",
            "PSNR: 13.03 dB | SSIM: 0.0275 | LPIPS: 0.5826 | Hybrid: 0.4823\n"
          ]
        },
        {
          "name": "stderr",
          "output_type": "stream",
          "text": [
            "Epoch 96/200: 100%|██████████| 49/49 [00:20<00:00,  2.38it/s, D_loss=2.276, G_loss=5.180, Hybrid=0.473]\n",
            "                                                                    \r"
          ]
        },
        {
          "name": "stdout",
          "output_type": "stream",
          "text": [
            "\n",
            "Validation @ Epoch 96:\n",
            "PSNR: 13.03 dB | SSIM: 0.0275 | LPIPS: 0.5826 | Hybrid: 0.4835\n"
          ]
        },
        {
          "name": "stderr",
          "output_type": "stream",
          "text": [
            "Epoch 97/200: 100%|██████████| 49/49 [00:20<00:00,  2.39it/s, D_loss=0.701, G_loss=4.817, Hybrid=0.464]\n",
            "                                                                    \r"
          ]
        },
        {
          "name": "stdout",
          "output_type": "stream",
          "text": [
            "\n",
            "Validation @ Epoch 97:\n",
            "PSNR: 13.03 dB | SSIM: 0.0275 | LPIPS: 0.5826 | Hybrid: 0.4847\n"
          ]
        },
        {
          "name": "stderr",
          "output_type": "stream",
          "text": [
            "Epoch 98/200: 100%|██████████| 49/49 [00:20<00:00,  2.38it/s, D_loss=0.771, G_loss=3.755, Hybrid=0.453]\n",
            "                                                                    \r"
          ]
        },
        {
          "name": "stdout",
          "output_type": "stream",
          "text": [
            "\n",
            "Validation @ Epoch 98:\n",
            "PSNR: 13.03 dB | SSIM: 0.0275 | LPIPS: 0.5826 | Hybrid: 0.4859\n"
          ]
        },
        {
          "name": "stderr",
          "output_type": "stream",
          "text": [
            "Epoch 99/200: 100%|██████████| 49/49 [00:20<00:00,  2.38it/s, D_loss=0.719, G_loss=4.948, Hybrid=0.456]\n",
            "                                                                    \r"
          ]
        },
        {
          "name": "stdout",
          "output_type": "stream",
          "text": [
            "\n",
            "Validation @ Epoch 99:\n",
            "PSNR: 13.03 dB | SSIM: 0.0275 | LPIPS: 0.5826 | Hybrid: 0.4871\n"
          ]
        },
        {
          "name": "stderr",
          "output_type": "stream",
          "text": [
            "Epoch 100/200: 100%|██████████| 49/49 [00:20<00:00,  2.38it/s, D_loss=0.725, G_loss=3.952, Hybrid=0.440]\n",
            "                                                                     \r"
          ]
        },
        {
          "name": "stdout",
          "output_type": "stream",
          "text": [
            "\n",
            "Validation @ Epoch 100:\n",
            "PSNR: 13.03 dB | SSIM: 0.0275 | LPIPS: 0.5826 | Hybrid: 0.4883\n"
          ]
        },
        {
          "name": "stderr",
          "output_type": "stream",
          "text": [
            "Epoch 101/200: 100%|██████████| 49/49 [00:20<00:00,  2.38it/s, D_loss=0.858, G_loss=4.371, Hybrid=0.448]\n",
            "                                                                     \r"
          ]
        },
        {
          "name": "stdout",
          "output_type": "stream",
          "text": [
            "\n",
            "Validation @ Epoch 101:\n",
            "PSNR: 13.03 dB | SSIM: 0.0275 | LPIPS: 0.5826 | Hybrid: 0.4895\n"
          ]
        },
        {
          "name": "stderr",
          "output_type": "stream",
          "text": [
            "Epoch 102/200: 100%|██████████| 49/49 [00:20<00:00,  2.38it/s, D_loss=0.713, G_loss=4.549, Hybrid=0.473]\n",
            "                                                                     \r"
          ]
        },
        {
          "name": "stdout",
          "output_type": "stream",
          "text": [
            "\n",
            "Validation @ Epoch 102:\n",
            "PSNR: 13.03 dB | SSIM: 0.0275 | LPIPS: 0.5826 | Hybrid: 0.4907\n"
          ]
        },
        {
          "name": "stderr",
          "output_type": "stream",
          "text": [
            "Epoch 103/200: 100%|██████████| 49/49 [00:20<00:00,  2.38it/s, D_loss=0.721, G_loss=5.072, Hybrid=0.498]\n",
            "                                                                     \r"
          ]
        },
        {
          "name": "stdout",
          "output_type": "stream",
          "text": [
            "\n",
            "Validation @ Epoch 103:\n",
            "PSNR: 13.03 dB | SSIM: 0.0275 | LPIPS: 0.5826 | Hybrid: 0.4919\n"
          ]
        },
        {
          "name": "stderr",
          "output_type": "stream",
          "text": [
            "Epoch 104/200: 100%|██████████| 49/49 [00:20<00:00,  2.38it/s, D_loss=0.760, G_loss=5.354, Hybrid=0.494]\n",
            "                                                                     \r"
          ]
        },
        {
          "name": "stdout",
          "output_type": "stream",
          "text": [
            "\n",
            "Validation @ Epoch 104:\n",
            "PSNR: 13.03 dB | SSIM: 0.0275 | LPIPS: 0.5826 | Hybrid: 0.4931\n"
          ]
        },
        {
          "name": "stderr",
          "output_type": "stream",
          "text": [
            "Epoch 105/200: 100%|██████████| 49/49 [00:20<00:00,  2.39it/s, D_loss=0.732, G_loss=4.945, Hybrid=0.496]\n",
            "                                                                     \r"
          ]
        },
        {
          "name": "stdout",
          "output_type": "stream",
          "text": [
            "\n",
            "Validation @ Epoch 105:\n",
            "PSNR: 13.03 dB | SSIM: 0.0275 | LPIPS: 0.5826 | Hybrid: 0.4943\n"
          ]
        },
        {
          "name": "stderr",
          "output_type": "stream",
          "text": [
            "Epoch 106/200: 100%|██████████| 49/49 [00:20<00:00,  2.39it/s, D_loss=0.744, G_loss=5.103, Hybrid=0.477]\n",
            "                                                                     \r"
          ]
        },
        {
          "name": "stdout",
          "output_type": "stream",
          "text": [
            "\n",
            "Validation @ Epoch 106:\n",
            "PSNR: 13.03 dB | SSIM: 0.0275 | LPIPS: 0.5826 | Hybrid: 0.4955\n"
          ]
        },
        {
          "name": "stderr",
          "output_type": "stream",
          "text": [
            "Epoch 107/200: 100%|██████████| 49/49 [00:20<00:00,  2.38it/s, D_loss=1.692, G_loss=5.560, Hybrid=0.516]   \n",
            "                                                                     \r"
          ]
        },
        {
          "name": "stdout",
          "output_type": "stream",
          "text": [
            "\n",
            "Validation @ Epoch 107:\n",
            "PSNR: 13.03 dB | SSIM: 0.0275 | LPIPS: 0.5826 | Hybrid: 0.4967\n"
          ]
        },
        {
          "name": "stderr",
          "output_type": "stream",
          "text": [
            "Epoch 108/200: 100%|██████████| 49/49 [00:20<00:00,  2.38it/s, D_loss=1.135, G_loss=6.017, Hybrid=0.497]\n",
            "                                                                     \r"
          ]
        },
        {
          "name": "stdout",
          "output_type": "stream",
          "text": [
            "\n",
            "Validation @ Epoch 108:\n",
            "PSNR: 13.03 dB | SSIM: 0.0275 | LPIPS: 0.5826 | Hybrid: 0.4979\n"
          ]
        },
        {
          "name": "stderr",
          "output_type": "stream",
          "text": [
            "Epoch 109/200: 100%|██████████| 49/49 [00:20<00:00,  2.39it/s, D_loss=1.022, G_loss=5.094, Hybrid=0.500]\n",
            "                                                                     \r"
          ]
        },
        {
          "name": "stdout",
          "output_type": "stream",
          "text": [
            "\n",
            "Validation @ Epoch 109:\n",
            "PSNR: 13.03 dB | SSIM: 0.0275 | LPIPS: 0.5826 | Hybrid: 0.4991\n"
          ]
        },
        {
          "name": "stderr",
          "output_type": "stream",
          "text": [
            "Epoch 110/200: 100%|██████████| 49/49 [00:20<00:00,  2.38it/s, D_loss=1.096, G_loss=4.910, Hybrid=0.504]\n",
            "                                                                     \r"
          ]
        },
        {
          "name": "stdout",
          "output_type": "stream",
          "text": [
            "\n",
            "Validation @ Epoch 110:\n",
            "PSNR: 13.03 dB | SSIM: 0.0275 | LPIPS: 0.5826 | Hybrid: 0.5003\n"
          ]
        },
        {
          "name": "stderr",
          "output_type": "stream",
          "text": [
            "Epoch 111/200: 100%|██████████| 49/49 [00:20<00:00,  2.38it/s, D_loss=0.738, G_loss=4.638, Hybrid=0.480]\n",
            "                                                                     \r"
          ]
        },
        {
          "name": "stdout",
          "output_type": "stream",
          "text": [
            "\n",
            "Validation @ Epoch 111:\n",
            "PSNR: 13.03 dB | SSIM: 0.0275 | LPIPS: 0.5826 | Hybrid: 0.5015\n"
          ]
        },
        {
          "name": "stderr",
          "output_type": "stream",
          "text": [
            "Epoch 112/200: 100%|██████████| 49/49 [00:20<00:00,  2.38it/s, D_loss=0.724, G_loss=4.555, Hybrid=0.486]\n",
            "                                                                     \r"
          ]
        },
        {
          "name": "stdout",
          "output_type": "stream",
          "text": [
            "\n",
            "Validation @ Epoch 112:\n",
            "PSNR: 13.03 dB | SSIM: 0.0275 | LPIPS: 0.5826 | Hybrid: 0.5027\n"
          ]
        },
        {
          "name": "stderr",
          "output_type": "stream",
          "text": [
            "Epoch 113/200: 100%|██████████| 49/49 [00:20<00:00,  2.36it/s, D_loss=0.697, G_loss=4.986, Hybrid=0.496]\n",
            "                                                                     \r"
          ]
        },
        {
          "name": "stdout",
          "output_type": "stream",
          "text": [
            "\n",
            "Validation @ Epoch 113:\n",
            "PSNR: 13.03 dB | SSIM: 0.0275 | LPIPS: 0.5826 | Hybrid: 0.5039\n"
          ]
        },
        {
          "name": "stderr",
          "output_type": "stream",
          "text": [
            "Epoch 114/200: 100%|██████████| 49/49 [00:20<00:00,  2.38it/s, D_loss=0.733, G_loss=4.549, Hybrid=0.474]\n",
            "                                                                     \r"
          ]
        },
        {
          "name": "stdout",
          "output_type": "stream",
          "text": [
            "\n",
            "Validation @ Epoch 114:\n",
            "PSNR: 13.03 dB | SSIM: 0.0275 | LPIPS: 0.5826 | Hybrid: 0.5051\n"
          ]
        },
        {
          "name": "stderr",
          "output_type": "stream",
          "text": [
            "Epoch 115/200: 100%|██████████| 49/49 [00:20<00:00,  2.38it/s, D_loss=0.708, G_loss=4.372, Hybrid=0.474]\n",
            "                                                                     \r"
          ]
        },
        {
          "name": "stdout",
          "output_type": "stream",
          "text": [
            "\n",
            "Validation @ Epoch 115:\n",
            "PSNR: 13.03 dB | SSIM: 0.0275 | LPIPS: 0.5826 | Hybrid: 0.5063\n"
          ]
        },
        {
          "name": "stderr",
          "output_type": "stream",
          "text": [
            "Epoch 116/200: 100%|██████████| 49/49 [00:20<00:00,  2.39it/s, D_loss=0.916, G_loss=3.924, Hybrid=0.457]\n",
            "                                                                     \r"
          ]
        },
        {
          "name": "stdout",
          "output_type": "stream",
          "text": [
            "\n",
            "Validation @ Epoch 116:\n",
            "PSNR: 13.03 dB | SSIM: 0.0275 | LPIPS: 0.5826 | Hybrid: 0.5075\n"
          ]
        },
        {
          "name": "stderr",
          "output_type": "stream",
          "text": [
            "Epoch 117/200: 100%|██████████| 49/49 [00:20<00:00,  2.39it/s, D_loss=0.732, G_loss=5.007, Hybrid=0.492]\n",
            "                                                                     \r"
          ]
        },
        {
          "name": "stdout",
          "output_type": "stream",
          "text": [
            "\n",
            "Validation @ Epoch 117:\n",
            "PSNR: 13.03 dB | SSIM: 0.0275 | LPIPS: 0.5826 | Hybrid: 0.5087\n"
          ]
        },
        {
          "name": "stderr",
          "output_type": "stream",
          "text": [
            "Epoch 118/200: 100%|██████████| 49/49 [00:20<00:00,  2.38it/s, D_loss=0.861, G_loss=4.869, Hybrid=0.510]\n",
            "                                                                     \r"
          ]
        },
        {
          "name": "stdout",
          "output_type": "stream",
          "text": [
            "\n",
            "Validation @ Epoch 118:\n",
            "PSNR: 13.03 dB | SSIM: 0.0275 | LPIPS: 0.5826 | Hybrid: 0.5099\n"
          ]
        },
        {
          "name": "stderr",
          "output_type": "stream",
          "text": [
            "Epoch 119/200: 100%|██████████| 49/49 [00:20<00:00,  2.38it/s, D_loss=0.704, G_loss=3.916, Hybrid=0.448]\n",
            "                                                                     \r"
          ]
        },
        {
          "name": "stdout",
          "output_type": "stream",
          "text": [
            "\n",
            "Validation @ Epoch 119:\n",
            "PSNR: 13.03 dB | SSIM: 0.0275 | LPIPS: 0.5826 | Hybrid: 0.5111\n"
          ]
        },
        {
          "name": "stderr",
          "output_type": "stream",
          "text": [
            "Epoch 120/200: 100%|██████████| 49/49 [00:20<00:00,  2.38it/s, D_loss=0.763, G_loss=4.563, Hybrid=0.493]\n",
            "                                                                     \r"
          ]
        },
        {
          "name": "stdout",
          "output_type": "stream",
          "text": [
            "\n",
            "Validation @ Epoch 120:\n",
            "PSNR: 13.03 dB | SSIM: 0.0275 | LPIPS: 0.5826 | Hybrid: 0.5123\n"
          ]
        },
        {
          "name": "stderr",
          "output_type": "stream",
          "text": [
            "Epoch 121/200: 100%|██████████| 49/49 [00:20<00:00,  2.38it/s, D_loss=0.990, G_loss=4.112, Hybrid=0.493]\n",
            "                                                                     \r"
          ]
        },
        {
          "name": "stdout",
          "output_type": "stream",
          "text": [
            "\n",
            "Validation @ Epoch 121:\n",
            "PSNR: 13.03 dB | SSIM: 0.0275 | LPIPS: 0.5826 | Hybrid: 0.5135\n"
          ]
        },
        {
          "name": "stderr",
          "output_type": "stream",
          "text": [
            "Epoch 122/200: 100%|██████████| 49/49 [00:20<00:00,  2.39it/s, D_loss=0.708, G_loss=4.545, Hybrid=0.484]\n",
            "                                                                     \r"
          ]
        },
        {
          "name": "stdout",
          "output_type": "stream",
          "text": [
            "\n",
            "Validation @ Epoch 122:\n",
            "PSNR: 13.03 dB | SSIM: 0.0275 | LPIPS: 0.5826 | Hybrid: 0.5147\n"
          ]
        },
        {
          "name": "stderr",
          "output_type": "stream",
          "text": [
            "Epoch 123/200: 100%|██████████| 49/49 [00:20<00:00,  2.38it/s, D_loss=0.701, G_loss=4.356, Hybrid=0.490]\n",
            "                                                                     \r"
          ]
        },
        {
          "name": "stdout",
          "output_type": "stream",
          "text": [
            "\n",
            "Validation @ Epoch 123:\n",
            "PSNR: 13.03 dB | SSIM: 0.0275 | LPIPS: 0.5826 | Hybrid: 0.5159\n"
          ]
        },
        {
          "name": "stderr",
          "output_type": "stream",
          "text": [
            "Epoch 124/200: 100%|██████████| 49/49 [00:20<00:00,  2.38it/s, D_loss=0.701, G_loss=4.265, Hybrid=0.490]\n",
            "                                                                     \r"
          ]
        },
        {
          "name": "stdout",
          "output_type": "stream",
          "text": [
            "\n",
            "Validation @ Epoch 124:\n",
            "PSNR: 13.03 dB | SSIM: 0.0275 | LPIPS: 0.5826 | Hybrid: 0.5171\n"
          ]
        },
        {
          "name": "stderr",
          "output_type": "stream",
          "text": [
            "Epoch 125/200: 100%|██████████| 49/49 [00:20<00:00,  2.39it/s, D_loss=0.705, G_loss=4.746, Hybrid=0.490]\n",
            "                                                                     \r"
          ]
        },
        {
          "name": "stdout",
          "output_type": "stream",
          "text": [
            "\n",
            "Validation @ Epoch 125:\n",
            "PSNR: 13.03 dB | SSIM: 0.0275 | LPIPS: 0.5826 | Hybrid: 0.5183\n"
          ]
        },
        {
          "name": "stderr",
          "output_type": "stream",
          "text": [
            "Epoch 126/200: 100%|██████████| 49/49 [00:20<00:00,  2.38it/s, D_loss=0.780, G_loss=5.109, Hybrid=0.530]\n",
            "                                                                     \r"
          ]
        },
        {
          "name": "stdout",
          "output_type": "stream",
          "text": [
            "\n",
            "Validation @ Epoch 126:\n",
            "PSNR: 13.03 dB | SSIM: 0.0275 | LPIPS: 0.5826 | Hybrid: 0.5195\n"
          ]
        },
        {
          "name": "stderr",
          "output_type": "stream",
          "text": [
            "Epoch 127/200: 100%|██████████| 49/49 [00:20<00:00,  2.38it/s, D_loss=0.714, G_loss=4.408, Hybrid=0.489]\n",
            "                                                                     \r"
          ]
        },
        {
          "name": "stdout",
          "output_type": "stream",
          "text": [
            "\n",
            "Validation @ Epoch 127:\n",
            "PSNR: 13.03 dB | SSIM: 0.0275 | LPIPS: 0.5826 | Hybrid: 0.5207\n"
          ]
        },
        {
          "name": "stderr",
          "output_type": "stream",
          "text": [
            "Epoch 128/200: 100%|██████████| 49/49 [00:20<00:00,  2.38it/s, D_loss=0.700, G_loss=4.424, Hybrid=0.476]\n",
            "                                                                     \r"
          ]
        },
        {
          "name": "stdout",
          "output_type": "stream",
          "text": [
            "\n",
            "Validation @ Epoch 128:\n",
            "PSNR: 13.03 dB | SSIM: 0.0275 | LPIPS: 0.5826 | Hybrid: 0.5220\n"
          ]
        },
        {
          "name": "stderr",
          "output_type": "stream",
          "text": [
            "Epoch 129/200: 100%|██████████| 49/49 [00:20<00:00,  2.39it/s, D_loss=0.710, G_loss=4.338, Hybrid=0.458]\n",
            "                                                                     \r"
          ]
        },
        {
          "name": "stdout",
          "output_type": "stream",
          "text": [
            "\n",
            "Validation @ Epoch 129:\n",
            "PSNR: 13.03 dB | SSIM: 0.0275 | LPIPS: 0.5826 | Hybrid: 0.5232\n"
          ]
        },
        {
          "name": "stderr",
          "output_type": "stream",
          "text": [
            "Epoch 130/200: 100%|██████████| 49/49 [00:20<00:00,  2.38it/s, D_loss=0.704, G_loss=4.390, Hybrid=0.498]\n",
            "                                                                     \r"
          ]
        },
        {
          "name": "stdout",
          "output_type": "stream",
          "text": [
            "\n",
            "Validation @ Epoch 130:\n",
            "PSNR: 13.03 dB | SSIM: 0.0275 | LPIPS: 0.5826 | Hybrid: 0.5244\n"
          ]
        },
        {
          "name": "stderr",
          "output_type": "stream",
          "text": [
            "Epoch 131/200: 100%|██████████| 49/49 [00:20<00:00,  2.38it/s, D_loss=0.699, G_loss=5.155, Hybrid=0.512]\n",
            "                                                                     \r"
          ]
        },
        {
          "name": "stdout",
          "output_type": "stream",
          "text": [
            "\n",
            "Validation @ Epoch 131:\n",
            "PSNR: 13.03 dB | SSIM: 0.0275 | LPIPS: 0.5826 | Hybrid: 0.5256\n"
          ]
        },
        {
          "name": "stderr",
          "output_type": "stream",
          "text": [
            "Epoch 132/200: 100%|██████████| 49/49 [00:20<00:00,  2.39it/s, D_loss=0.704, G_loss=4.043, Hybrid=0.477]\n",
            "                                                                     \r"
          ]
        },
        {
          "name": "stdout",
          "output_type": "stream",
          "text": [
            "\n",
            "Validation @ Epoch 132:\n",
            "PSNR: 13.03 dB | SSIM: 0.0275 | LPIPS: 0.5826 | Hybrid: 0.5268\n"
          ]
        },
        {
          "name": "stderr",
          "output_type": "stream",
          "text": [
            "Epoch 133/200: 100%|██████████| 49/49 [00:20<00:00,  2.38it/s, D_loss=0.747, G_loss=4.453, Hybrid=0.510]\n",
            "                                                                     \r"
          ]
        },
        {
          "name": "stdout",
          "output_type": "stream",
          "text": [
            "\n",
            "Validation @ Epoch 133:\n",
            "PSNR: 13.03 dB | SSIM: 0.0275 | LPIPS: 0.5826 | Hybrid: 0.5280\n"
          ]
        },
        {
          "name": "stderr",
          "output_type": "stream",
          "text": [
            "Epoch 134/200: 100%|██████████| 49/49 [00:20<00:00,  2.38it/s, D_loss=0.706, G_loss=4.474, Hybrid=0.483]\n",
            "                                                                     \r"
          ]
        },
        {
          "name": "stdout",
          "output_type": "stream",
          "text": [
            "\n",
            "Validation @ Epoch 134:\n",
            "PSNR: 13.03 dB | SSIM: 0.0275 | LPIPS: 0.5826 | Hybrid: 0.5292\n"
          ]
        },
        {
          "name": "stderr",
          "output_type": "stream",
          "text": [
            "Epoch 135/200: 100%|██████████| 49/49 [00:20<00:00,  2.38it/s, D_loss=0.727, G_loss=5.005, Hybrid=0.498]\n",
            "                                                                     \r"
          ]
        },
        {
          "name": "stdout",
          "output_type": "stream",
          "text": [
            "\n",
            "Validation @ Epoch 135:\n",
            "PSNR: 13.03 dB | SSIM: 0.0275 | LPIPS: 0.5826 | Hybrid: 0.5304\n"
          ]
        },
        {
          "name": "stderr",
          "output_type": "stream",
          "text": [
            "Epoch 136/200: 100%|██████████| 49/49 [00:20<00:00,  2.38it/s, D_loss=0.697, G_loss=4.479, Hybrid=0.508]\n",
            "                                                                     \r"
          ]
        },
        {
          "name": "stdout",
          "output_type": "stream",
          "text": [
            "\n",
            "Validation @ Epoch 136:\n",
            "PSNR: 13.03 dB | SSIM: 0.0275 | LPIPS: 0.5826 | Hybrid: 0.5316\n"
          ]
        },
        {
          "name": "stderr",
          "output_type": "stream",
          "text": [
            "Epoch 137/200: 100%|██████████| 49/49 [00:20<00:00,  2.38it/s, D_loss=0.737, G_loss=4.531, Hybrid=0.484]\n",
            "                                                                     \r"
          ]
        },
        {
          "name": "stdout",
          "output_type": "stream",
          "text": [
            "\n",
            "Validation @ Epoch 137:\n",
            "PSNR: 13.03 dB | SSIM: 0.0275 | LPIPS: 0.5826 | Hybrid: 0.5328\n"
          ]
        },
        {
          "name": "stderr",
          "output_type": "stream",
          "text": [
            "Epoch 138/200: 100%|██████████| 49/49 [00:20<00:00,  2.38it/s, D_loss=0.710, G_loss=4.743, Hybrid=0.489]\n",
            "                                                                     \r"
          ]
        },
        {
          "name": "stdout",
          "output_type": "stream",
          "text": [
            "\n",
            "Validation @ Epoch 138:\n",
            "PSNR: 13.03 dB | SSIM: 0.0275 | LPIPS: 0.5826 | Hybrid: 0.5340\n"
          ]
        },
        {
          "name": "stderr",
          "output_type": "stream",
          "text": [
            "Epoch 139/200: 100%|██████████| 49/49 [00:20<00:00,  2.39it/s, D_loss=0.735, G_loss=3.627, Hybrid=0.447]\n",
            "                                                                     \r"
          ]
        },
        {
          "name": "stdout",
          "output_type": "stream",
          "text": [
            "\n",
            "Validation @ Epoch 139:\n",
            "PSNR: 13.03 dB | SSIM: 0.0275 | LPIPS: 0.5826 | Hybrid: 0.5352\n"
          ]
        },
        {
          "name": "stderr",
          "output_type": "stream",
          "text": [
            "Epoch 140/200: 100%|██████████| 49/49 [00:20<00:00,  2.38it/s, D_loss=0.713, G_loss=4.743, Hybrid=0.517]\n",
            "                                                                     \r"
          ]
        },
        {
          "name": "stdout",
          "output_type": "stream",
          "text": [
            "\n",
            "Validation @ Epoch 140:\n",
            "PSNR: 13.03 dB | SSIM: 0.0275 | LPIPS: 0.5826 | Hybrid: 0.5364\n"
          ]
        },
        {
          "name": "stderr",
          "output_type": "stream",
          "text": [
            "Epoch 141/200: 100%|██████████| 49/49 [00:20<00:00,  2.39it/s, D_loss=0.719, G_loss=4.402, Hybrid=0.484]\n",
            "                                                                     \r"
          ]
        },
        {
          "name": "stdout",
          "output_type": "stream",
          "text": [
            "\n",
            "Validation @ Epoch 141:\n",
            "PSNR: 13.03 dB | SSIM: 0.0275 | LPIPS: 0.5826 | Hybrid: 0.5376\n"
          ]
        },
        {
          "name": "stderr",
          "output_type": "stream",
          "text": [
            "Epoch 142/200: 100%|██████████| 49/49 [00:20<00:00,  2.38it/s, D_loss=0.732, G_loss=5.196, Hybrid=0.524]\n",
            "                                                                     \r"
          ]
        },
        {
          "name": "stdout",
          "output_type": "stream",
          "text": [
            "\n",
            "Validation @ Epoch 142:\n",
            "PSNR: 13.03 dB | SSIM: 0.0275 | LPIPS: 0.5826 | Hybrid: 0.5388\n"
          ]
        },
        {
          "name": "stderr",
          "output_type": "stream",
          "text": [
            "Epoch 143/200: 100%|██████████| 49/49 [00:20<00:00,  2.38it/s, D_loss=0.716, G_loss=4.697, Hybrid=0.525]\n",
            "                                                                     \r"
          ]
        },
        {
          "name": "stdout",
          "output_type": "stream",
          "text": [
            "\n",
            "Validation @ Epoch 143:\n",
            "PSNR: 13.03 dB | SSIM: 0.0275 | LPIPS: 0.5826 | Hybrid: 0.5400\n"
          ]
        },
        {
          "name": "stderr",
          "output_type": "stream",
          "text": [
            "Epoch 144/200: 100%|██████████| 49/49 [00:20<00:00,  2.38it/s, D_loss=0.712, G_loss=4.329, Hybrid=0.507]\n",
            "                                                                     \r"
          ]
        },
        {
          "name": "stdout",
          "output_type": "stream",
          "text": [
            "\n",
            "Validation @ Epoch 144:\n",
            "PSNR: 13.03 dB | SSIM: 0.0275 | LPIPS: 0.5826 | Hybrid: 0.5412\n"
          ]
        },
        {
          "name": "stderr",
          "output_type": "stream",
          "text": [
            "Epoch 145/200: 100%|██████████| 49/49 [00:20<00:00,  2.37it/s, D_loss=0.723, G_loss=4.866, Hybrid=0.535]\n",
            "                                                                     \r"
          ]
        },
        {
          "name": "stdout",
          "output_type": "stream",
          "text": [
            "\n",
            "Validation @ Epoch 145:\n",
            "PSNR: 13.03 dB | SSIM: 0.0275 | LPIPS: 0.5826 | Hybrid: 0.5424\n"
          ]
        },
        {
          "name": "stderr",
          "output_type": "stream",
          "text": [
            "Epoch 146/200: 100%|██████████| 49/49 [00:20<00:00,  2.39it/s, D_loss=0.699, G_loss=4.470, Hybrid=0.529]\n",
            "                                                                     \r"
          ]
        },
        {
          "name": "stdout",
          "output_type": "stream",
          "text": [
            "\n",
            "Validation @ Epoch 146:\n",
            "PSNR: 13.03 dB | SSIM: 0.0275 | LPIPS: 0.5826 | Hybrid: 0.5436\n"
          ]
        },
        {
          "name": "stderr",
          "output_type": "stream",
          "text": [
            "Epoch 147/200: 100%|██████████| 49/49 [00:20<00:00,  2.39it/s, D_loss=0.710, G_loss=4.451, Hybrid=0.535]\n",
            "                                                                     \r"
          ]
        },
        {
          "name": "stdout",
          "output_type": "stream",
          "text": [
            "\n",
            "Validation @ Epoch 147:\n",
            "PSNR: 13.03 dB | SSIM: 0.0275 | LPIPS: 0.5826 | Hybrid: 0.5448\n"
          ]
        },
        {
          "name": "stderr",
          "output_type": "stream",
          "text": [
            "Epoch 148/200: 100%|██████████| 49/49 [00:20<00:00,  2.38it/s, D_loss=0.698, G_loss=4.600, Hybrid=0.527]\n",
            "                                                                     \r"
          ]
        },
        {
          "name": "stdout",
          "output_type": "stream",
          "text": [
            "\n",
            "Validation @ Epoch 148:\n",
            "PSNR: 13.03 dB | SSIM: 0.0275 | LPIPS: 0.5826 | Hybrid: 0.5460\n"
          ]
        },
        {
          "name": "stderr",
          "output_type": "stream",
          "text": [
            "Epoch 149/200: 100%|██████████| 49/49 [00:20<00:00,  2.39it/s, D_loss=0.703, G_loss=4.950, Hybrid=0.519]\n",
            "                                                                     \r"
          ]
        },
        {
          "name": "stdout",
          "output_type": "stream",
          "text": [
            "\n",
            "Validation @ Epoch 149:\n",
            "PSNR: 13.03 dB | SSIM: 0.0275 | LPIPS: 0.5826 | Hybrid: 0.5472\n"
          ]
        },
        {
          "name": "stderr",
          "output_type": "stream",
          "text": [
            "Epoch 150/200: 100%|██████████| 49/49 [00:20<00:00,  2.38it/s, D_loss=0.706, G_loss=4.042, Hybrid=0.521]\n",
            "                                                                     \r"
          ]
        },
        {
          "name": "stdout",
          "output_type": "stream",
          "text": [
            "\n",
            "Validation @ Epoch 150:\n",
            "PSNR: 13.03 dB | SSIM: 0.0275 | LPIPS: 0.5826 | Hybrid: 0.5484\n"
          ]
        },
        {
          "name": "stderr",
          "output_type": "stream",
          "text": [
            "Epoch 151/200: 100%|██████████| 49/49 [00:20<00:00,  2.38it/s, D_loss=0.702, G_loss=4.746, Hybrid=0.513]\n",
            "                                                                     \r"
          ]
        },
        {
          "name": "stdout",
          "output_type": "stream",
          "text": [
            "\n",
            "Validation @ Epoch 151:\n",
            "PSNR: 13.03 dB | SSIM: 0.0275 | LPIPS: 0.5826 | Hybrid: 0.5496\n"
          ]
        },
        {
          "name": "stderr",
          "output_type": "stream",
          "text": [
            "Epoch 152/200: 100%|██████████| 49/49 [00:20<00:00,  2.39it/s, D_loss=0.697, G_loss=5.123, Hybrid=0.540]\n",
            "                                                                     \r"
          ]
        },
        {
          "name": "stdout",
          "output_type": "stream",
          "text": [
            "\n",
            "Validation @ Epoch 152:\n",
            "PSNR: 13.03 dB | SSIM: 0.0275 | LPIPS: 0.5826 | Hybrid: 0.5508\n"
          ]
        },
        {
          "name": "stderr",
          "output_type": "stream",
          "text": [
            "Epoch 153/200: 100%|██████████| 49/49 [00:20<00:00,  2.38it/s, D_loss=0.699, G_loss=5.091, Hybrid=0.542]\n",
            "                                                                     \r"
          ]
        },
        {
          "name": "stdout",
          "output_type": "stream",
          "text": [
            "\n",
            "Validation @ Epoch 153:\n",
            "PSNR: 13.03 dB | SSIM: 0.0275 | LPIPS: 0.5826 | Hybrid: 0.5520\n"
          ]
        },
        {
          "name": "stderr",
          "output_type": "stream",
          "text": [
            "Epoch 154/200: 100%|██████████| 49/49 [00:20<00:00,  2.39it/s, D_loss=0.693, G_loss=4.500, Hybrid=0.501]\n",
            "                                                                     \r"
          ]
        },
        {
          "name": "stdout",
          "output_type": "stream",
          "text": [
            "\n",
            "Validation @ Epoch 154:\n",
            "PSNR: 13.03 dB | SSIM: 0.0275 | LPIPS: 0.5826 | Hybrid: 0.5532\n"
          ]
        },
        {
          "name": "stderr",
          "output_type": "stream",
          "text": [
            "Epoch 155/200: 100%|██████████| 49/49 [00:20<00:00,  2.38it/s, D_loss=0.700, G_loss=5.029, Hybrid=0.516]\n",
            "                                                                     \r"
          ]
        },
        {
          "name": "stdout",
          "output_type": "stream",
          "text": [
            "\n",
            "Validation @ Epoch 155:\n",
            "PSNR: 13.03 dB | SSIM: 0.0275 | LPIPS: 0.5826 | Hybrid: 0.5544\n"
          ]
        },
        {
          "name": "stderr",
          "output_type": "stream",
          "text": [
            "Epoch 156/200: 100%|██████████| 49/49 [00:20<00:00,  2.39it/s, D_loss=0.696, G_loss=4.736, Hybrid=0.510]\n",
            "                                                                     \r"
          ]
        },
        {
          "name": "stdout",
          "output_type": "stream",
          "text": [
            "\n",
            "Validation @ Epoch 156:\n",
            "PSNR: 13.03 dB | SSIM: 0.0275 | LPIPS: 0.5826 | Hybrid: 0.5556\n"
          ]
        },
        {
          "name": "stderr",
          "output_type": "stream",
          "text": [
            "Epoch 157/200: 100%|██████████| 49/49 [00:20<00:00,  2.38it/s, D_loss=0.701, G_loss=5.046, Hybrid=0.534]\n",
            "                                                                     \r"
          ]
        },
        {
          "name": "stdout",
          "output_type": "stream",
          "text": [
            "\n",
            "Validation @ Epoch 157:\n",
            "PSNR: 13.03 dB | SSIM: 0.0275 | LPIPS: 0.5826 | Hybrid: 0.5568\n"
          ]
        },
        {
          "name": "stderr",
          "output_type": "stream",
          "text": [
            "Epoch 158/200: 100%|██████████| 49/49 [00:20<00:00,  2.38it/s, D_loss=0.712, G_loss=4.721, Hybrid=0.510]\n",
            "                                                                     \r"
          ]
        },
        {
          "name": "stdout",
          "output_type": "stream",
          "text": [
            "\n",
            "Validation @ Epoch 158:\n",
            "PSNR: 13.03 dB | SSIM: 0.0275 | LPIPS: 0.5826 | Hybrid: 0.5580\n"
          ]
        },
        {
          "name": "stderr",
          "output_type": "stream",
          "text": [
            "Epoch 159/200: 100%|██████████| 49/49 [00:20<00:00,  2.37it/s, D_loss=0.724, G_loss=3.879, Hybrid=0.504]\n",
            "                                                                     \r"
          ]
        },
        {
          "name": "stdout",
          "output_type": "stream",
          "text": [
            "\n",
            "Validation @ Epoch 159:\n",
            "PSNR: 13.03 dB | SSIM: 0.0275 | LPIPS: 0.5826 | Hybrid: 0.5592\n"
          ]
        },
        {
          "name": "stderr",
          "output_type": "stream",
          "text": [
            "Epoch 160/200: 100%|██████████| 49/49 [00:20<00:00,  2.37it/s, D_loss=0.693, G_loss=4.147, Hybrid=0.498]\n",
            "                                                                     \r"
          ]
        },
        {
          "name": "stdout",
          "output_type": "stream",
          "text": [
            "\n",
            "Validation @ Epoch 160:\n",
            "PSNR: 13.03 dB | SSIM: 0.0275 | LPIPS: 0.5826 | Hybrid: 0.5604\n"
          ]
        },
        {
          "name": "stderr",
          "output_type": "stream",
          "text": [
            "Epoch 161/200: 100%|██████████| 49/49 [00:20<00:00,  2.37it/s, D_loss=0.694, G_loss=4.617, Hybrid=0.539]\n",
            "                                                                     \r"
          ]
        },
        {
          "name": "stdout",
          "output_type": "stream",
          "text": [
            "\n",
            "Validation @ Epoch 161:\n",
            "PSNR: 13.03 dB | SSIM: 0.0275 | LPIPS: 0.5826 | Hybrid: 0.5616\n"
          ]
        },
        {
          "name": "stderr",
          "output_type": "stream",
          "text": [
            "Epoch 162/200: 100%|██████████| 49/49 [00:20<00:00,  2.36it/s, D_loss=0.695, G_loss=4.277, Hybrid=0.510]\n",
            "                                                                     \r"
          ]
        },
        {
          "name": "stdout",
          "output_type": "stream",
          "text": [
            "\n",
            "Validation @ Epoch 162:\n",
            "PSNR: 13.03 dB | SSIM: 0.0275 | LPIPS: 0.5826 | Hybrid: 0.5628\n"
          ]
        },
        {
          "name": "stderr",
          "output_type": "stream",
          "text": [
            "Epoch 163/200: 100%|██████████| 49/49 [00:20<00:00,  2.38it/s, D_loss=0.720, G_loss=5.455, Hybrid=0.580]\n",
            "                                                                     \r"
          ]
        },
        {
          "name": "stdout",
          "output_type": "stream",
          "text": [
            "\n",
            "Validation @ Epoch 163:\n",
            "PSNR: 13.03 dB | SSIM: 0.0275 | LPIPS: 0.5826 | Hybrid: 0.5640\n"
          ]
        },
        {
          "name": "stderr",
          "output_type": "stream",
          "text": [
            "Epoch 164/200: 100%|██████████| 49/49 [00:20<00:00,  2.38it/s, D_loss=0.707, G_loss=4.517, Hybrid=0.515]\n",
            "                                                                     \r"
          ]
        },
        {
          "name": "stdout",
          "output_type": "stream",
          "text": [
            "\n",
            "Validation @ Epoch 164:\n",
            "PSNR: 13.03 dB | SSIM: 0.0275 | LPIPS: 0.5826 | Hybrid: 0.5652\n"
          ]
        },
        {
          "name": "stderr",
          "output_type": "stream",
          "text": [
            "Epoch 165/200: 100%|██████████| 49/49 [00:20<00:00,  2.38it/s, D_loss=0.716, G_loss=4.528, Hybrid=0.521]\n",
            "                                                                     \r"
          ]
        },
        {
          "name": "stdout",
          "output_type": "stream",
          "text": [
            "\n",
            "Validation @ Epoch 165:\n",
            "PSNR: 13.03 dB | SSIM: 0.0275 | LPIPS: 0.5826 | Hybrid: 0.5664\n"
          ]
        },
        {
          "name": "stderr",
          "output_type": "stream",
          "text": [
            "Epoch 166/200: 100%|██████████| 49/49 [00:20<00:00,  2.38it/s, D_loss=0.694, G_loss=4.618, Hybrid=0.547]\n",
            "                                                                     \r"
          ]
        },
        {
          "name": "stdout",
          "output_type": "stream",
          "text": [
            "\n",
            "Validation @ Epoch 166:\n",
            "PSNR: 13.03 dB | SSIM: 0.0275 | LPIPS: 0.5826 | Hybrid: 0.5676\n"
          ]
        },
        {
          "name": "stderr",
          "output_type": "stream",
          "text": [
            "Epoch 167/200: 100%|██████████| 49/49 [00:20<00:00,  2.37it/s, D_loss=0.692, G_loss=5.098, Hybrid=0.571]\n",
            "                                                                     \r"
          ]
        },
        {
          "name": "stdout",
          "output_type": "stream",
          "text": [
            "\n",
            "Validation @ Epoch 167:\n",
            "PSNR: 13.03 dB | SSIM: 0.0275 | LPIPS: 0.5826 | Hybrid: 0.5688\n"
          ]
        },
        {
          "name": "stderr",
          "output_type": "stream",
          "text": [
            "Epoch 168/200: 100%|██████████| 49/49 [00:20<00:00,  2.38it/s, D_loss=0.701, G_loss=4.833, Hybrid=0.544]\n",
            "                                                                     \r"
          ]
        },
        {
          "name": "stdout",
          "output_type": "stream",
          "text": [
            "\n",
            "Validation @ Epoch 168:\n",
            "PSNR: 13.03 dB | SSIM: 0.0275 | LPIPS: 0.5826 | Hybrid: 0.5700\n"
          ]
        },
        {
          "name": "stderr",
          "output_type": "stream",
          "text": [
            "Epoch 169/200: 100%|██████████| 49/49 [00:20<00:00,  2.38it/s, D_loss=0.692, G_loss=4.507, Hybrid=0.521]\n",
            "                                                                     \r"
          ]
        },
        {
          "name": "stdout",
          "output_type": "stream",
          "text": [
            "\n",
            "Validation @ Epoch 169:\n",
            "PSNR: 13.03 dB | SSIM: 0.0275 | LPIPS: 0.5826 | Hybrid: 0.5712\n"
          ]
        },
        {
          "name": "stderr",
          "output_type": "stream",
          "text": [
            "Epoch 170/200: 100%|██████████| 49/49 [00:20<00:00,  2.37it/s, D_loss=0.698, G_loss=4.974, Hybrid=0.566]\n",
            "                                                                     \r"
          ]
        },
        {
          "name": "stdout",
          "output_type": "stream",
          "text": [
            "\n",
            "Validation @ Epoch 170:\n",
            "PSNR: 13.03 dB | SSIM: 0.0275 | LPIPS: 0.5826 | Hybrid: 0.5724\n"
          ]
        },
        {
          "name": "stderr",
          "output_type": "stream",
          "text": [
            "Epoch 171/200: 100%|██████████| 49/49 [00:20<00:00,  2.39it/s, D_loss=0.703, G_loss=4.788, Hybrid=0.554]\n",
            "                                                                     \r"
          ]
        },
        {
          "name": "stdout",
          "output_type": "stream",
          "text": [
            "\n",
            "Validation @ Epoch 171:\n",
            "PSNR: 13.03 dB | SSIM: 0.0275 | LPIPS: 0.5826 | Hybrid: 0.5736\n"
          ]
        },
        {
          "name": "stderr",
          "output_type": "stream",
          "text": [
            "Epoch 172/200: 100%|██████████| 49/49 [00:20<00:00,  2.38it/s, D_loss=0.704, G_loss=6.721, Hybrid=0.621]\n",
            "                                                                     \r"
          ]
        },
        {
          "name": "stdout",
          "output_type": "stream",
          "text": [
            "\n",
            "Validation @ Epoch 172:\n",
            "PSNR: 13.03 dB | SSIM: 0.0275 | LPIPS: 0.5826 | Hybrid: 0.5748\n"
          ]
        },
        {
          "name": "stderr",
          "output_type": "stream",
          "text": [
            "Epoch 173/200: 100%|██████████| 49/49 [00:20<00:00,  2.38it/s, D_loss=0.700, G_loss=5.481, Hybrid=0.568]\n",
            "                                                                     \r"
          ]
        },
        {
          "name": "stdout",
          "output_type": "stream",
          "text": [
            "\n",
            "Validation @ Epoch 173:\n",
            "PSNR: 13.03 dB | SSIM: 0.0275 | LPIPS: 0.5826 | Hybrid: 0.5761\n"
          ]
        },
        {
          "name": "stderr",
          "output_type": "stream",
          "text": [
            "Epoch 174/200: 100%|██████████| 49/49 [00:20<00:00,  2.37it/s, D_loss=0.771, G_loss=5.317, Hybrid=0.589]\n",
            "                                                                     \r"
          ]
        },
        {
          "name": "stdout",
          "output_type": "stream",
          "text": [
            "\n",
            "Validation @ Epoch 174:\n",
            "PSNR: 13.03 dB | SSIM: 0.0275 | LPIPS: 0.5826 | Hybrid: 0.5773\n"
          ]
        },
        {
          "name": "stderr",
          "output_type": "stream",
          "text": [
            "Epoch 175/200: 100%|██████████| 49/49 [00:20<00:00,  2.38it/s, D_loss=645.619, G_loss=4.298, Hybrid=0.567]    \n",
            "                                                                     \r"
          ]
        },
        {
          "name": "stdout",
          "output_type": "stream",
          "text": [
            "\n",
            "Validation @ Epoch 175:\n",
            "PSNR: 13.03 dB | SSIM: 0.0275 | LPIPS: 0.5826 | Hybrid: 0.5785\n"
          ]
        },
        {
          "name": "stderr",
          "output_type": "stream",
          "text": [
            "Epoch 176/200: 100%|██████████| 49/49 [00:20<00:00,  2.38it/s, D_loss=195.918, G_loss=4.306, Hybrid=0.547]  \n",
            "                                                                     \r"
          ]
        },
        {
          "name": "stdout",
          "output_type": "stream",
          "text": [
            "\n",
            "Validation @ Epoch 176:\n",
            "PSNR: 13.03 dB | SSIM: 0.0275 | LPIPS: 0.5826 | Hybrid: 0.5797\n"
          ]
        },
        {
          "name": "stderr",
          "output_type": "stream",
          "text": [
            "Epoch 177/200: 100%|██████████| 49/49 [00:20<00:00,  2.38it/s, D_loss=77.008, G_loss=3.764, Hybrid=0.544]   \n",
            "                                                                     \r"
          ]
        },
        {
          "name": "stdout",
          "output_type": "stream",
          "text": [
            "\n",
            "Validation @ Epoch 177:\n",
            "PSNR: 13.03 dB | SSIM: 0.0275 | LPIPS: 0.5826 | Hybrid: 0.5809\n"
          ]
        },
        {
          "name": "stderr",
          "output_type": "stream",
          "text": [
            "Epoch 178/200: 100%|██████████| 49/49 [00:20<00:00,  2.38it/s, D_loss=1329.302, G_loss=5.367, Hybrid=0.575] \n",
            "                                                                     \r"
          ]
        },
        {
          "name": "stdout",
          "output_type": "stream",
          "text": [
            "\n",
            "Validation @ Epoch 178:\n",
            "PSNR: 13.03 dB | SSIM: 0.0275 | LPIPS: 0.5826 | Hybrid: 0.5821\n"
          ]
        },
        {
          "name": "stderr",
          "output_type": "stream",
          "text": [
            "Epoch 179/200: 100%|██████████| 49/49 [00:20<00:00,  2.38it/s, D_loss=5700.922, G_loss=4.342, Hybrid=0.556]\n",
            "                                                                     \r"
          ]
        },
        {
          "name": "stdout",
          "output_type": "stream",
          "text": [
            "\n",
            "Validation @ Epoch 179:\n",
            "PSNR: 13.03 dB | SSIM: 0.0275 | LPIPS: 0.5826 | Hybrid: 0.5833\n"
          ]
        },
        {
          "name": "stderr",
          "output_type": "stream",
          "text": [
            "Epoch 180/200: 100%|██████████| 49/49 [00:20<00:00,  2.38it/s, D_loss=112.964, G_loss=4.467, Hybrid=0.522]  \n",
            "                                                                     \r"
          ]
        },
        {
          "name": "stdout",
          "output_type": "stream",
          "text": [
            "\n",
            "Validation @ Epoch 180:\n",
            "PSNR: 13.03 dB | SSIM: 0.0275 | LPIPS: 0.5826 | Hybrid: 0.5845\n"
          ]
        },
        {
          "name": "stderr",
          "output_type": "stream",
          "text": [
            "Epoch 181/200: 100%|██████████| 49/49 [00:20<00:00,  2.38it/s, D_loss=158.722, G_loss=4.769, Hybrid=0.536] \n",
            "                                                                     \r"
          ]
        },
        {
          "name": "stdout",
          "output_type": "stream",
          "text": [
            "\n",
            "Validation @ Epoch 181:\n",
            "PSNR: 13.03 dB | SSIM: 0.0275 | LPIPS: 0.5826 | Hybrid: 0.5857\n"
          ]
        },
        {
          "name": "stderr",
          "output_type": "stream",
          "text": [
            "Epoch 182/200: 100%|██████████| 49/49 [00:20<00:00,  2.38it/s, D_loss=107.783, G_loss=4.379, Hybrid=0.554] \n",
            "                                                                     \r"
          ]
        },
        {
          "name": "stdout",
          "output_type": "stream",
          "text": [
            "\n",
            "Validation @ Epoch 182:\n",
            "PSNR: 13.03 dB | SSIM: 0.0275 | LPIPS: 0.5826 | Hybrid: 0.5869\n"
          ]
        },
        {
          "name": "stderr",
          "output_type": "stream",
          "text": [
            "Epoch 183/200: 100%|██████████| 49/49 [00:20<00:00,  2.38it/s, D_loss=12.696, G_loss=5.337, Hybrid=0.585]  \n",
            "                                                                     \r"
          ]
        },
        {
          "name": "stdout",
          "output_type": "stream",
          "text": [
            "\n",
            "Validation @ Epoch 183:\n",
            "PSNR: 13.03 dB | SSIM: 0.0275 | LPIPS: 0.5826 | Hybrid: 0.5881\n"
          ]
        },
        {
          "name": "stderr",
          "output_type": "stream",
          "text": [
            "Epoch 184/200: 100%|██████████| 49/49 [00:20<00:00,  2.38it/s, D_loss=280.722, G_loss=4.394, Hybrid=0.549] \n",
            "                                                                     \r"
          ]
        },
        {
          "name": "stdout",
          "output_type": "stream",
          "text": [
            "\n",
            "Validation @ Epoch 184:\n",
            "PSNR: 13.03 dB | SSIM: 0.0275 | LPIPS: 0.5826 | Hybrid: 0.5893\n"
          ]
        },
        {
          "name": "stderr",
          "output_type": "stream",
          "text": [
            "Epoch 185/200: 100%|██████████| 49/49 [00:20<00:00,  2.38it/s, D_loss=1849.429, G_loss=4.314, Hybrid=0.529]\n",
            "                                                                     \r"
          ]
        },
        {
          "name": "stdout",
          "output_type": "stream",
          "text": [
            "\n",
            "Validation @ Epoch 185:\n",
            "PSNR: 13.03 dB | SSIM: 0.0275 | LPIPS: 0.5826 | Hybrid: 0.5905\n"
          ]
        },
        {
          "name": "stderr",
          "output_type": "stream",
          "text": [
            "Epoch 186/200: 100%|██████████| 49/49 [00:20<00:00,  2.38it/s, D_loss=5.480, G_loss=5.287, Hybrid=0.591]   \n",
            "                                                                     \r"
          ]
        },
        {
          "name": "stdout",
          "output_type": "stream",
          "text": [
            "\n",
            "Validation @ Epoch 186:\n",
            "PSNR: 13.03 dB | SSIM: 0.0275 | LPIPS: 0.5826 | Hybrid: 0.5917\n"
          ]
        },
        {
          "name": "stderr",
          "output_type": "stream",
          "text": [
            "Epoch 187/200: 100%|██████████| 49/49 [00:20<00:00,  2.38it/s, D_loss=129.512, G_loss=5.540, Hybrid=0.592] \n",
            "                                                                     \r"
          ]
        },
        {
          "name": "stdout",
          "output_type": "stream",
          "text": [
            "\n",
            "Validation @ Epoch 187:\n",
            "PSNR: 13.03 dB | SSIM: 0.0275 | LPIPS: 0.5826 | Hybrid: 0.5929\n"
          ]
        },
        {
          "name": "stderr",
          "output_type": "stream",
          "text": [
            "Epoch 188/200: 100%|██████████| 49/49 [00:20<00:00,  2.38it/s, D_loss=61.735, G_loss=5.088, Hybrid=0.574]  \n",
            "                                                                     \r"
          ]
        },
        {
          "name": "stdout",
          "output_type": "stream",
          "text": [
            "\n",
            "Validation @ Epoch 188:\n",
            "PSNR: 13.03 dB | SSIM: 0.0275 | LPIPS: 0.5826 | Hybrid: 0.5941\n"
          ]
        },
        {
          "name": "stderr",
          "output_type": "stream",
          "text": [
            "Epoch 189/200: 100%|██████████| 49/49 [00:20<00:00,  2.38it/s, D_loss=8.964, G_loss=5.047, Hybrid=0.579]   \n",
            "                                                                     \r"
          ]
        },
        {
          "name": "stdout",
          "output_type": "stream",
          "text": [
            "\n",
            "Validation @ Epoch 189:\n",
            "PSNR: 13.03 dB | SSIM: 0.0275 | LPIPS: 0.5826 | Hybrid: 0.5953\n"
          ]
        },
        {
          "name": "stderr",
          "output_type": "stream",
          "text": [
            "Epoch 190/200: 100%|██████████| 49/49 [00:20<00:00,  2.38it/s, D_loss=33.535, G_loss=5.221, Hybrid=0.598] \n",
            "                                                                     \r"
          ]
        },
        {
          "name": "stdout",
          "output_type": "stream",
          "text": [
            "\n",
            "Validation @ Epoch 190:\n",
            "PSNR: 13.03 dB | SSIM: 0.0275 | LPIPS: 0.5826 | Hybrid: 0.5965\n"
          ]
        },
        {
          "name": "stderr",
          "output_type": "stream",
          "text": [
            "Epoch 191/200: 100%|██████████| 49/49 [00:20<00:00,  2.38it/s, D_loss=278.729, G_loss=4.574, Hybrid=0.548]  \n",
            "                                                                     \r"
          ]
        },
        {
          "name": "stdout",
          "output_type": "stream",
          "text": [
            "\n",
            "Validation @ Epoch 191:\n",
            "PSNR: 13.03 dB | SSIM: 0.0275 | LPIPS: 0.5826 | Hybrid: 0.5977\n"
          ]
        },
        {
          "name": "stderr",
          "output_type": "stream",
          "text": [
            "Epoch 192/200: 100%|██████████| 49/49 [00:20<00:00,  2.38it/s, D_loss=116.463, G_loss=4.561, Hybrid=0.565]  \n",
            "                                                                     \r"
          ]
        },
        {
          "name": "stdout",
          "output_type": "stream",
          "text": [
            "\n",
            "Validation @ Epoch 192:\n",
            "PSNR: 13.03 dB | SSIM: 0.0275 | LPIPS: 0.5826 | Hybrid: 0.5989\n"
          ]
        },
        {
          "name": "stderr",
          "output_type": "stream",
          "text": [
            "Epoch 193/200: 100%|██████████| 49/49 [00:20<00:00,  2.38it/s, D_loss=61.579, G_loss=4.633, Hybrid=0.552]  \n",
            "                                                                     \r"
          ]
        },
        {
          "name": "stdout",
          "output_type": "stream",
          "text": [
            "\n",
            "Validation @ Epoch 193:\n",
            "PSNR: 13.03 dB | SSIM: 0.0275 | LPIPS: 0.5826 | Hybrid: 0.6001\n"
          ]
        },
        {
          "name": "stderr",
          "output_type": "stream",
          "text": [
            "Epoch 194/200: 100%|██████████| 49/49 [00:20<00:00,  2.38it/s, D_loss=20.239, G_loss=5.037, Hybrid=0.603]  \n",
            "                                                                     \r"
          ]
        },
        {
          "name": "stdout",
          "output_type": "stream",
          "text": [
            "\n",
            "Validation @ Epoch 194:\n",
            "PSNR: 13.03 dB | SSIM: 0.0275 | LPIPS: 0.5826 | Hybrid: 0.6013\n"
          ]
        },
        {
          "name": "stderr",
          "output_type": "stream",
          "text": [
            "Epoch 195/200: 100%|██████████| 49/49 [00:20<00:00,  2.37it/s, D_loss=5.474, G_loss=4.742, Hybrid=0.586]  \n",
            "                                                                     \r"
          ]
        },
        {
          "name": "stdout",
          "output_type": "stream",
          "text": [
            "\n",
            "Validation @ Epoch 195:\n",
            "PSNR: 13.03 dB | SSIM: 0.0275 | LPIPS: 0.5826 | Hybrid: 0.6025\n"
          ]
        },
        {
          "name": "stderr",
          "output_type": "stream",
          "text": [
            "Epoch 196/200: 100%|██████████| 49/49 [00:20<00:00,  2.38it/s, D_loss=284.518, G_loss=5.156, Hybrid=0.583] \n",
            "                                                                     \r"
          ]
        },
        {
          "name": "stdout",
          "output_type": "stream",
          "text": [
            "\n",
            "Validation @ Epoch 196:\n",
            "PSNR: 13.03 dB | SSIM: 0.0275 | LPIPS: 0.5826 | Hybrid: 0.6037\n"
          ]
        },
        {
          "name": "stderr",
          "output_type": "stream",
          "text": [
            "Epoch 197/200: 100%|██████████| 49/49 [00:23<00:00,  2.12it/s, D_loss=152.071, G_loss=4.693, Hybrid=0.585] \n",
            "                                                                     \r"
          ]
        },
        {
          "name": "stdout",
          "output_type": "stream",
          "text": [
            "\n",
            "Validation @ Epoch 197:\n",
            "PSNR: 13.03 dB | SSIM: 0.0275 | LPIPS: 0.5826 | Hybrid: 0.6049\n"
          ]
        },
        {
          "name": "stderr",
          "output_type": "stream",
          "text": [
            "Epoch 198/200: 100%|██████████| 49/49 [00:23<00:00,  2.10it/s, D_loss=336.064, G_loss=5.529, Hybrid=0.598]\n",
            "                                                                     \r"
          ]
        },
        {
          "name": "stdout",
          "output_type": "stream",
          "text": [
            "\n",
            "Validation @ Epoch 198:\n",
            "PSNR: 13.03 dB | SSIM: 0.0275 | LPIPS: 0.5826 | Hybrid: 0.6061\n"
          ]
        },
        {
          "name": "stderr",
          "output_type": "stream",
          "text": [
            "Epoch 199/200: 100%|██████████| 49/49 [00:23<00:00,  2.09it/s, D_loss=30.504, G_loss=5.186, Hybrid=0.571] \n",
            "                                                                     \r"
          ]
        },
        {
          "name": "stdout",
          "output_type": "stream",
          "text": [
            "\n",
            "Validation @ Epoch 199:\n",
            "PSNR: 13.03 dB | SSIM: 0.0275 | LPIPS: 0.5826 | Hybrid: 0.6073\n"
          ]
        },
        {
          "name": "stderr",
          "output_type": "stream",
          "text": [
            "Epoch 200/200: 100%|██████████| 49/49 [00:21<00:00,  2.30it/s, D_loss=16.058, G_loss=4.242, Hybrid=0.564]  \n",
            "                                                                     \r"
          ]
        },
        {
          "name": "stdout",
          "output_type": "stream",
          "text": [
            "\n",
            "Validation @ Epoch 200:\n",
            "PSNR: 13.03 dB | SSIM: 0.0275 | LPIPS: 0.5826 | Hybrid: 0.6085\n",
            "Total training time: 1h 27m 17.55s\n"
          ]
        }
      ],
      "source": [
        "import math\n",
        "import os\n",
        "import time\n",
        "import torch\n",
        "import torch.nn.functional as F\n",
        "from torchmetrics import StructuralSimilarityIndexMeasure as SSIM\n",
        "from torchmetrics import PeakSignalNoiseRatio as PSNR\n",
        "from piq import LPIPS\n",
        "from tqdm import tqdm\n",
        "from torch import nn, optim\n",
        "from torchvision import models\n",
        "from torchvision.utils import save_image\n",
        "\n",
        "#SE Blocks:\n",
        "\n",
        "class SEBlock(nn.Module):\n",
        "    \"\"\"Squeeze-and-Excitation block for channel attention\"\"\"\n",
        "\n",
        "    def __init__(self, channels, reduction=16):\n",
        "        super().__init__()\n",
        "        self.avg_pool = nn.AdaptiveAvgPool2d(1)\n",
        "        self.fc = nn.Sequential(\n",
        "            nn.Linear(channels, channels // reduction),\n",
        "            nn.ReLU(),\n",
        "            nn.Linear(channels // reduction, channels),\n",
        "            nn.Sigmoid()\n",
        "        )\n",
        "\n",
        "    def forward(self, x):\n",
        "        b, c, _, _ = x.size()\n",
        "        y = self.avg_pool(x).view(b, c)\n",
        "        y = self.fc(y).view(b, c, 1, 1)\n",
        "        return x * y\n",
        "\n",
        "\n",
        "# Residual-in-Residual Dense Block (RRDB)\n",
        "\n",
        "class RRDB(nn.Module):\n",
        "    \"\"\"Residual-in-Residual Dense Block\"\"\"\n",
        "    def __init__(self, channels):\n",
        "        super().__init__()\n",
        "        self.conv1 = nn.Conv2d(channels, channels, 3, padding=1)\n",
        "        self.conv2 = nn.Conv2d(channels*2, channels, 3, padding=1)\n",
        "        self.conv3 = nn.Conv2d(channels*3, channels, 3, padding=1)\n",
        "        self.lrelu = nn.LeakyReLU(0.2)\n",
        "        self.se = SEBlock(channels)\n",
        "\n",
        "    def forward(self, x):\n",
        "        out1 = self.lrelu(self.conv1(x))\n",
        "        out2 = self.lrelu(self.conv2(torch.cat([x, out1], 1)))\n",
        "        out3 = self.conv3(torch.cat([x, out1, out2], 1))\n",
        "        return self.se(out3 * 0.2 + x)  # Residual scaling\n",
        "\n",
        "class Generator(nn.Module):\n",
        "    def __init__(self, num_rrdb=6):\n",
        "        super(Generator, self).__init__()\n",
        "\n",
        "        # Initial feature extraction\n",
        "        self.initial_conv = nn.Sequential(\n",
        "            nn.Conv2d(3, 64, kernel_size=3, padding=1),\n",
        "            nn.ReLU(inplace=True),\n",
        "            nn.Conv2d(64, 64, kernel_size=3, padding=1),\n",
        "            nn.ReLU(inplace=True)\n",
        "        )\n",
        "\n",
        "        # RRDB Blocks\n",
        "        self.rrdb_blocks = nn.Sequential(*[RRDB(64) for _ in range(num_rrdb)])\n",
        "\n",
        "        # Global Residual Path (helps learn overall brightness correction)\n",
        "        self.global_residual = nn.Conv2d(3, 3, kernel_size=3, padding=1)\n",
        "\n",
        "        # Final convolution layers for reconstruction\n",
        "        self.final_conv = nn.Sequential(\n",
        "            nn.Conv2d(64, 64, kernel_size=3, padding=1),\n",
        "            nn.ReLU(inplace=True),\n",
        "            nn.Conv2d(64, 3, kernel_size=3, padding=1)\n",
        "        )\n",
        "\n",
        "    def forward(self, x):\n",
        "        initial_features = self.initial_conv(x)\n",
        "        enhanced_features = self.rrdb_blocks(initial_features)\n",
        "        reconstructed = self.final_conv(enhanced_features)\n",
        "        \n",
        "        # Adding the global residual path\n",
        "        output = reconstructed + self.global_residual(x)\n",
        "        \n",
        "        return torch.sigmoid(output)  # Normalize output to [0,1]\n",
        "    \n",
        "class PatchGANDiscriminator(nn.Module):\n",
        "    def __init__(self, in_channels=3, num_filters=64, num_layers=3):\n",
        "        super(PatchGANDiscriminator, self).__init__()\n",
        "        \n",
        "        # Initial convolutional layer\n",
        "        layers = [\n",
        "            nn.Conv2d(in_channels, num_filters, kernel_size=4, stride=2, padding=1),\n",
        "            nn.LeakyReLU(0.2, inplace=True)\n",
        "        ]\n",
        "        \n",
        "        # Intermediate convolutional layers\n",
        "        for i in range(1, num_layers):\n",
        "            layers += [\n",
        "                nn.Conv2d(num_filters * (2 ** (i - 1)), num_filters * (2 ** i), kernel_size=4, stride=2, padding=1),\n",
        "                nn.InstanceNorm2d(num_filters * (2 ** i)),\n",
        "                nn.LeakyReLU(0.2, inplace=True)\n",
        "            ]\n",
        "        \n",
        "        # Final convolutional layer\n",
        "        layers += [\n",
        "            nn.Conv2d(num_filters * (2 ** (num_layers - 1)), 1, kernel_size=4, stride=1, padding=1)\n",
        "        ]\n",
        "        \n",
        "        self.model = nn.Sequential(*layers)\n",
        "\n",
        "    def forward(self, x):\n",
        "        return self.model(x)  # Output shape: [batch_size, 1, H, W]\n",
        "    \n",
        "class GANLoss(nn.Module):\n",
        "    def __init__(self):\n",
        "        super().__init__()\n",
        "        self.loss = nn.BCEWithLogitsLoss()\n",
        "\n",
        "    def forward(self, pred, target_is_real):\n",
        "        target = torch.ones_like(pred) if target_is_real else torch.zeros_like(pred)\n",
        "        return self.loss(pred, target)\n",
        "\n",
        "class PerceptualLoss(nn.Module):\n",
        "    def __init__(self):\n",
        "        super(PerceptualLoss, self).__init__()\n",
        "        vgg = models.vgg19(pretrained=True).features[:16]  # Use first few layers\n",
        "        for param in vgg.parameters():\n",
        "            param.requires_grad = False  # Freeze VGG model\n",
        "        self.vgg = vgg.eval()\n",
        "        self.criterion = nn.L1Loss()\n",
        "\n",
        "    def forward(self, x, y):\n",
        "        x_features = self.vgg(x)\n",
        "        y_features = self.vgg(y)\n",
        "        return self.criterion(x_features, y_features)\n",
        "    \n",
        "def compute_gradient_penalty(disc, real_samples, fake_samples):\n",
        "    \"\"\"Calculates the gradient penalty loss for WGAN GP\"\"\"\n",
        "    # Random weight term for interpolation between real and fake samples\n",
        "    device = real_samples.device\n",
        "    alpha = torch.rand(real_samples.size(0), 1, 1, 1, device=device)\n",
        "    # Get random interpolation between real and fake samples\n",
        "    interpolates = (alpha * real_samples + ((1 - alpha) * fake_samples)).requires_grad_(True)\n",
        "    d_interpolates = disc(interpolates)\n",
        "    fake = torch.ones_like(d_interpolates)\n",
        "    \n",
        "    # Get gradient w.r.t. interpolates\n",
        "    gradients = torch.autograd.grad(\n",
        "        outputs=d_interpolates,\n",
        "        inputs=interpolates,\n",
        "        grad_outputs=fake,\n",
        "        create_graph=True,\n",
        "        retain_graph=True,\n",
        "        only_inputs=True,\n",
        "    )[0]\n",
        "    gradients = gradients.view(gradients.size(0), -1)\n",
        "    gradient_penalty = ((gradients.norm(2, dim=1) - 1) ** 2).mean()\n",
        "    return gradient_penalty\n",
        "\n",
        "def validate(generator, val_loader, epoch, criterion_perceptual, ssim, psnr, lpips, device):\n",
        "    generator.eval()\n",
        "    val_metrics = {'psnr': 0, 'ssim': 0, 'lpips': 0, 'val_loss': 0}\n",
        "\n",
        "    with torch.no_grad():\n",
        "        for low, high, *_ in tqdm(val_loader, desc=f'Validation Epoch {epoch}', leave=False):\n",
        "            low, high = low.to(device), high.to(device)\n",
        "            fake = generator(low)\n",
        "\n",
        "            # Validation loss (L1 + perceptual)\n",
        "            loss = (10 * F.l1_loss(fake, high) + 0.1 * criterion_perceptual(fake, high)).item()\n",
        "            \n",
        "            # Update metrics\n",
        "            val_metrics['val_loss'] += loss\n",
        "            val_metrics['psnr'] += psnr(fake, high)\n",
        "            val_metrics['ssim'] += ssim(fake, high)\n",
        "            val_metrics['lpips'] += lpips(fake, high)\n",
        "\n",
        "    for k in val_metrics:\n",
        "        val_metrics[k] /= len(val_loader)\n",
        "    return val_metrics\n",
        "\n",
        "class HybridLoss(nn.Module):\n",
        "    def __init__(self, device, total_epochs=200):\n",
        "        super().__init__()\n",
        "        self.lpips = LPIPS(replace_pooling=True).to(device).eval()\n",
        "        self.ssim = SSIM().to(device).eval()\n",
        "        self.total_epochs = total_epochs\n",
        "        self.current_epoch = 0\n",
        "        \n",
        "    def forward(self, pred, target, noise_pred=None, true_noise=None):\n",
        "        \"\"\"Combined loss with dynamic weighting\"\"\"\n",
        "        # Base losses\n",
        "        mse_loss = F.mse_loss(pred, target)  # If noise_pred is not provided, use direct MSE\n",
        "        if noise_pred is not None and true_noise is not None:\n",
        "            mse_loss = F.mse_loss(noise_pred, true_noise)\n",
        "            \n",
        "        lpips_loss = self.lpips(pred, target)\n",
        "        ssim_loss = 1 - self.ssim(pred, target)\n",
        "        \n",
        "        # Dynamic weights (progressively focus more on perceptual quality)\n",
        "        progress = self.current_epoch / self.total_epochs\n",
        "        lpips_w = 0.4  # Fixed high importance for perceptual quality\n",
        "        ssim_w = 0.3 * progress  # Increasing structural importance\n",
        "        mse_w = 1.0 - lpips_w - ssim_w  # Decreasing noise prediction importance\n",
        "        \n",
        "        total_loss = mse_w * mse_loss + lpips_w * lpips_loss + ssim_w * ssim_loss\n",
        "        \n",
        "        # Additional metrics\n",
        "        with torch.no_grad():\n",
        "            psnr = 10 * torch.log10(1 / F.mse_loss(pred, target))\n",
        "            \n",
        "        return total_loss, {\n",
        "            'loss': total_loss.item(),\n",
        "            'mse': mse_loss.item(),\n",
        "            'lpips': lpips_loss.item(),\n",
        "            'ssim': 1 - ssim_loss.item(),\n",
        "            'psnr': psnr.item()\n",
        "        }\n",
        "    \n",
        "def train_gan(\n",
        "    generator,\n",
        "    discriminator,\n",
        "    train_loader,\n",
        "    val_loader,\n",
        "    criterion_gan,\n",
        "    criterion_l1,\n",
        "    criterion_perceptual,\n",
        "    criterion_hybrid,\n",
        "    opt_g,\n",
        "    opt_d,\n",
        "    epochs,\n",
        "    device,\n",
        "    save_dir=\"NOAUG_RRDB_SE_CHECKPOINTS\"\n",
        "):\n",
        "    os.makedirs(save_dir, exist_ok=True)\n",
        "    best_ssim = 0\n",
        "    best_psnr = 0\n",
        "    best_lpips = 100\n",
        "    best_hybrid_loss = float('inf')\n",
        "    \n",
        "    # Record training start time\n",
        "    start_time = time.time()\n",
        "\n",
        "    for epoch in range(epochs):\n",
        "        # Update current epoch for hybrid loss\n",
        "        criterion_hybrid.current_epoch = epoch\n",
        "        \n",
        "        # Training phase\n",
        "        generator.train()\n",
        "        discriminator.train()\n",
        "\n",
        "        train_bar = tqdm(train_loader, desc=f'Epoch {epoch+1}/{epochs}')\n",
        "        for low, high, *_ in train_bar:\n",
        "            low, high = low.to(device), high.to(device)\n",
        "\n",
        "            # --- Discriminator Update ---\n",
        "            opt_d.zero_grad()\n",
        "\n",
        "            # Real images\n",
        "            real_pred = discriminator(high)\n",
        "            real_loss = criterion_gan(real_pred, True)\n",
        "\n",
        "            # Fake images\n",
        "            fake = generator(low).detach()\n",
        "            fake_pred = discriminator(fake)\n",
        "            fake_loss = criterion_gan(fake_pred, False)\n",
        "            \n",
        "            gp = compute_gradient_penalty(discriminator, high.data, fake.data)\n",
        "            d_loss = (real_loss + fake_loss) / 2 + 10*gp\n",
        "            d_loss.backward()\n",
        "            opt_d.step()\n",
        "\n",
        "            # --- Generator Update ---\n",
        "            opt_g.zero_grad()\n",
        "            fake = generator(low)\n",
        "            \n",
        "            # GAN loss\n",
        "            g_gan_loss = criterion_gan(discriminator(fake), True)\n",
        "            \n",
        "            # Hybrid loss\n",
        "            hybrid_loss, hybrid_metrics = criterion_hybrid(fake, high)\n",
        "            \n",
        "            # Content loss\n",
        "            g_l1_loss = criterion_l1(fake, high) * 10\n",
        "            g_perc_loss = criterion_perceptual(fake, high) * 0.1\n",
        "            \n",
        "            # Combined generator loss\n",
        "            g_loss = g_gan_loss + 0.5 * hybrid_loss + g_l1_loss + g_perc_loss\n",
        "            g_loss.backward()\n",
        "            opt_g.step()\n",
        "\n",
        "            # Update progress bar\n",
        "            train_bar.set_postfix({\n",
        "                'D_loss': f'{d_loss.item():.3f}',\n",
        "                'G_loss': f'{g_loss.item():.3f}',\n",
        "                'Hybrid': f'{hybrid_loss.item():.3f}'\n",
        "            })\n",
        "\n",
        "        # Validation phase\n",
        "        val_metrics = validate(generator, val_loader, epoch+1, criterion_perceptual, ssim, psnr, lpips, device)\n",
        "        \n",
        "        # Calculate hybrid loss for validation\n",
        "        with torch.no_grad():\n",
        "            # Sample a batch from validation\n",
        "            val_low, val_high = next(iter(val_loader))[:2]\n",
        "            val_low, val_high = val_low.to(device), val_high.to(device)\n",
        "            val_fake = generator(val_low)\n",
        "            \n",
        "            # Compute hybrid loss\n",
        "            val_hybrid_loss, _ = criterion_hybrid(val_fake, val_high)\n",
        "            val_metrics['hybrid_loss'] = val_hybrid_loss.item()\n",
        "\n",
        "        # Print metrics\n",
        "        print(f\"\\nValidation @ Epoch {epoch+1}:\")\n",
        "        print(f\"PSNR: {val_metrics['psnr']:.2f} dB | SSIM: {val_metrics['ssim']:.4f} | LPIPS: {val_metrics['lpips']:.4f} | Hybrid: {val_metrics['hybrid_loss']:.4f}\")\n",
        "\n",
        "        # Save checkpoint for every epoch\n",
        "        torch.save({\n",
        "            'epoch': epoch+1,\n",
        "            'generator': generator.state_dict(),\n",
        "            'discriminator': discriminator.state_dict(),\n",
        "            'opt_g': opt_g.state_dict(),\n",
        "            'opt_d': opt_d.state_dict(),\n",
        "            'metrics': val_metrics\n",
        "        }, os.path.join(save_dir, f'epoch_{epoch+1}.pth'))\n",
        "\n",
        "        # Save best model - Hybrid Loss\n",
        "        if val_metrics['hybrid_loss'] < best_hybrid_loss:\n",
        "            best_hybrid_loss = val_metrics['hybrid_loss']\n",
        "            torch.save(generator.state_dict(), os.path.join(save_dir, 'best_hybrid.pth'))\n",
        "\n",
        "        # Save best model - Combined metrics\n",
        "        if (val_metrics['psnr'] > best_psnr) and (val_metrics['lpips'] < best_lpips) and (val_metrics['ssim'] > best_ssim):\n",
        "            torch.save(generator.state_dict(), os.path.join(save_dir, 'best_model.pth'))\n",
        "\n",
        "        if (val_metrics['lpips'] < best_lpips) and (val_metrics['ssim'] > best_ssim):\n",
        "            torch.save(generator.state_dict(), os.path.join(save_dir, 'best_lpips_ssim.pth'))\n",
        "\n",
        "        if (val_metrics['psnr'] > best_psnr) and (val_metrics['ssim'] > best_ssim):\n",
        "            torch.save(generator.state_dict(), os.path.join(save_dir, 'best_psnr_ssim.pth'))\n",
        "\n",
        "        if (val_metrics['psnr'] > best_psnr) and (val_metrics['lpips'] < best_lpips):\n",
        "            torch.save(generator.state_dict(), os.path.join(save_dir, 'best_psnr_lpips.pth'))\n",
        "                \n",
        "        if val_metrics['ssim'] > best_ssim:\n",
        "            best_ssim = val_metrics['ssim']\n",
        "            torch.save(generator.state_dict(), os.path.join(save_dir, 'best_ssim.pth'))\n",
        "                    \n",
        "        if val_metrics['psnr'] > best_psnr:\n",
        "            best_psnr = val_metrics['psnr']\n",
        "            torch.save(generator.state_dict(), os.path.join(save_dir, 'best_psnr.pth'))\n",
        "\n",
        "        if val_metrics['lpips'] < best_lpips:\n",
        "            best_lpips = val_metrics['lpips']\n",
        "            torch.save(generator.state_dict(), os.path.join(save_dir, 'best_lpips.pth'))\n",
        "\n",
        "        # Sample images\n",
        "        if (epoch+1) % 5 == 0:\n",
        "            with torch.no_grad():\n",
        "                fake = generator(low[:3])  # First 3 samples\n",
        "                save_image(\n",
        "                    torch.cat([low[:3], fake, high[:3]], 0),\n",
        "                    os.path.join(save_dir, f'sample_epoch_{epoch+1}.png'),\n",
        "                    nrow=3,\n",
        "                    normalize=True\n",
        "                )\n",
        "    \n",
        "    # Calculate and print total training time\n",
        "    total_training_time = time.time() - start_time\n",
        "    hours, remainder = divmod(total_training_time, 3600)\n",
        "    minutes, seconds = divmod(remainder, 60)\n",
        "    print(f\"Total training time: {int(hours)}h {int(minutes)}m {seconds:.2f}s\")\n",
        "    \n",
        "    # Save final model with training time information\n",
        "    torch.save({\n",
        "        'generator': generator.state_dict(),\n",
        "        'discriminator': discriminator.state_dict(),\n",
        "        'metrics': {\n",
        "            'best_psnr': best_psnr,\n",
        "            'best_ssim': best_ssim,\n",
        "            'best_lpips': best_lpips,\n",
        "            'best_hybrid_loss': best_hybrid_loss\n",
        "        },\n",
        "        'training_time': total_training_time\n",
        "    }, os.path.join(save_dir, 'final_model.pth'))\n",
        "\n",
        "## Common evaluating Metrics\n",
        "device = torch.device('cuda:4' if torch.cuda.is_available() else 'cpu')\n",
        "\n",
        "# Initialize metrics\n",
        "psnr = PSNR().to(device)\n",
        "ssim = SSIM().to(device)\n",
        "lpips = LPIPS(replace_pooling=True).to(device)\n",
        "\n",
        "# Initialize models and losses\n",
        "generator = Generator().to(device)\n",
        "discriminator = PatchGANDiscriminator().to(device)\n",
        "opt_g = optim.Adam(generator.parameters(), lr=1e-4, betas=(0.5, 0.999))\n",
        "opt_d = optim.Adam(discriminator.parameters(), lr=4e-4, betas=(0.5, 0.999))\n",
        "\n",
        "# Losses\n",
        "criterion_gan = GANLoss().to(device)\n",
        "criterion_l1 = nn.L1Loss().to(device)\n",
        "criterion_perceptual = PerceptualLoss().to(device)\n",
        "criterion_hybrid = HybridLoss(device, total_epochs=200)\n",
        "\n",
        "train_gan(\n",
        "    generator=generator,\n",
        "    discriminator=discriminator,\n",
        "    train_loader=train_loader,\n",
        "    val_loader=val_loader,\n",
        "    criterion_gan=criterion_gan,\n",
        "    criterion_l1=criterion_l1,\n",
        "    criterion_perceptual=criterion_perceptual,\n",
        "    criterion_hybrid=criterion_hybrid,\n",
        "    opt_g=opt_g,\n",
        "    opt_d=opt_d,\n",
        "    epochs=200,\n",
        "    device=device\n",
        ")"
      ]
    },
    {
      "cell_type": "code",
      "execution_count": 8,
      "metadata": {},
      "outputs": [
        {
          "name": "stderr",
          "output_type": "stream",
          "text": [
            "Testing: 100%|██████████| 15/15 [00:09<00:00,  1.55it/s]\n"
          ]
        },
        {
          "data": {
            "text/plain": [
              "{'psnr': tensor(13.4157, device='cuda:4'),\n",
              " 'ssim': tensor(0.5168, device='cuda:4'),\n",
              " 'lpips': tensor(0.6003, device='cuda:4'),\n",
              " 'samples': ['RRDB_SE_normalized_result/sample_0000.png',\n",
              "  'RRDB_SE_normalized_result/sample_0001.png',\n",
              "  'RRDB_SE_normalized_result/sample_0002.png',\n",
              "  'RRDB_SE_normalized_result/sample_0003.png',\n",
              "  'RRDB_SE_normalized_result/sample_0004.png',\n",
              "  'RRDB_SE_normalized_result/sample_0005.png',\n",
              "  'RRDB_SE_normalized_result/sample_0006.png',\n",
              "  'RRDB_SE_normalized_result/sample_0007.png',\n",
              "  'RRDB_SE_normalized_result/sample_0008.png',\n",
              "  'RRDB_SE_normalized_result/sample_0009.png',\n",
              "  'RRDB_SE_normalized_result/sample_0010.png',\n",
              "  'RRDB_SE_normalized_result/sample_0011.png',\n",
              "  'RRDB_SE_normalized_result/sample_0012.png',\n",
              "  'RRDB_SE_normalized_result/sample_0013.png',\n",
              "  'RRDB_SE_normalized_result/sample_0014.png']}"
            ]
          },
          "execution_count": 8,
          "metadata": {},
          "output_type": "execute_result"
        }
      ],
      "source": [
        "def unnormalize_tensor(tensor):\n",
        "    \"\"\"Unnormalize a tensor normalized with mean (0.5, 0.5, 0.5) and std (0.5, 0.5, 0.5)\"\"\"\n",
        "    return (tensor * 0.5) + 0.5\n",
        "\n",
        "def add_labels_to_image(image_tensor, labels):\n",
        "    \"\"\"\n",
        "    Add text labels to an image tensor\n",
        "    Args:\n",
        "        image_tensor: Tensor of shape (C, H, W)\n",
        "        labels: List of strings for each section\n",
        "    Returns:\n",
        "        Labeled PIL Image\n",
        "    \"\"\"\n",
        "    # Convert tensor to PIL Image\n",
        "    image = transforms.ToPILImage()(image_tensor.cpu())\n",
        "\n",
        "    # Create drawing context\n",
        "    draw = ImageDraw.Draw(image)\n",
        "\n",
        "    try:\n",
        "        font = ImageFont.truetype(\"arial.ttf\", 20)\n",
        "    except:\n",
        "        font = ImageFont.load_default()\n",
        "\n",
        "    # Calculate section widths\n",
        "    width = image.width\n",
        "    section_width = width // len(labels)\n",
        "\n",
        "    # Add labels to each section\n",
        "    for i, label in enumerate(labels):\n",
        "        # Get text bounding box (modern Pillow)\n",
        "        left, top, right, bottom = draw.textbbox((0, 0), label, font=font)\n",
        "        text_width = right - left\n",
        "        text_height = bottom - top\n",
        "\n",
        "        x = i * section_width + (section_width - text_width) // 2\n",
        "        draw.text((x, 10), label, font=font, fill=\"white\")\n",
        "\n",
        "    return image\n",
        "\n",
        "def evaluate_model(generator, test_loader, device, save_samples=True, sample_dir=\"RRDB_SE_normalized_result\"):\n",
        "    # Initialize metrics\n",
        "    psnr = PSNR().to(device)\n",
        "    ssim = SSIM().to(device)\n",
        "    lpips = LPIPS(replace_pooling=True).to(device)\n",
        "\n",
        "    metrics = {\n",
        "        'psnr': 0.0,\n",
        "        'ssim': 0.0,\n",
        "        'lpips': 0.0,\n",
        "        'samples': []\n",
        "    }\n",
        "\n",
        "    if save_samples:\n",
        "        os.makedirs(sample_dir, exist_ok=True)\n",
        "\n",
        "    generator.eval()\n",
        "    sample_counter = 0\n",
        "    with torch.no_grad():\n",
        "        for i, (low, high, *_) in enumerate(tqdm(test_loader, desc=\"Testing\")):\n",
        "            low, high = low.to(device), high.to(device)\n",
        "            \n",
        "            # Generate enhanced images\n",
        "            fake = generator(low)\n",
        "            \n",
        "            # Unnormalize for correct metrics calculation and visualization\n",
        "            low_unnorm = unnormalize_tensor(low.clone())\n",
        "            high_unnorm = unnormalize_tensor(high.clone())\n",
        "            fake_unnorm = unnormalize_tensor(fake.clone())\n",
        "            \n",
        "            # Update metrics using unnormalized images\n",
        "            metrics['psnr'] += psnr(fake_unnorm, high_unnorm)\n",
        "            metrics['ssim'] += ssim(fake_unnorm, high_unnorm)\n",
        "            metrics['lpips'] += lpips(fake_unnorm, high_unnorm)\n",
        "\n",
        "            # Save samples with labels\n",
        "            if save_samples and sample_counter < 15:\n",
        "                for img_idx in range(low.size(0)):\n",
        "                    if sample_counter >= 15:\n",
        "                        break\n",
        "                        \n",
        "                    # Create horizontal comparison with unnormalized images\n",
        "                    comparison = torch.cat([\n",
        "                        low_unnorm[img_idx],\n",
        "                        fake_unnorm[img_idx],\n",
        "                        high_unnorm[img_idx]\n",
        "                    ], dim=-1)\n",
        "\n",
        "                    # Convert to labeled image\n",
        "                    labeled_img = add_labels_to_image(\n",
        "                        comparison,\n",
        "                        [\"Low Light Input\", \"Generated Output\", \"Ground Truth\"]\n",
        "                    )\n",
        "\n",
        "                    # Save image\n",
        "                    sample_path = os.path.join(sample_dir, f\"sample_{sample_counter:04d}.png\")\n",
        "                    labeled_img.save(sample_path)\n",
        "                    metrics['samples'].append(sample_path)\n",
        "                    sample_counter += 1\n",
        "\n",
        "    # Calculate average metrics\n",
        "    num_samples = len(test_loader)\n",
        "    metrics['psnr'] /= num_samples\n",
        "    metrics['ssim'] /= num_samples\n",
        "    metrics['lpips'] /= num_samples\n",
        "\n",
        "    return metrics\n",
        "\n",
        "generator = Generator().to(device)\n",
        "generator.load_state_dict(torch.load(\"NOAUG_RRDB_SE_CHECKPOINTS/best_psnr.pth\"))\n",
        "\n",
        "# Running evaluation\n",
        "test_metrics = evaluate_model(\n",
        "        generator=generator,\n",
        "        test_loader=test_loader,  # Your prepared test loader\n",
        "        device=device,\n",
        "        save_samples=True,\n",
        "    )\n",
        "\n",
        "test_metrics"
      ]
    }
  ],
  "metadata": {
    "colab": {
      "provenance": []
    },
    "kernelspec": {
      "display_name": ".venv",
      "language": "python",
      "name": "python3"
    },
    "language_info": {
      "codemirror_mode": {
        "name": "ipython",
        "version": 3
      },
      "file_extension": ".py",
      "mimetype": "text/x-python",
      "name": "python",
      "nbconvert_exporter": "python",
      "pygments_lexer": "ipython3",
      "version": "3.10.12"
    },
    "widgets": {
      "application/vnd.jupyter.widget-state+json": {
        "581b12bc469a450e92c9ace7583453ea": {
          "model_module": "@jupyter-widgets/base",
          "model_module_version": "1.2.0",
          "model_name": "LayoutModel",
          "state": {
            "_model_module": "@jupyter-widgets/base",
            "_model_module_version": "1.2.0",
            "_model_name": "LayoutModel",
            "_view_count": null,
            "_view_module": "@jupyter-widgets/base",
            "_view_module_version": "1.2.0",
            "_view_name": "LayoutView",
            "align_content": null,
            "align_items": null,
            "align_self": null,
            "border": null,
            "bottom": null,
            "display": null,
            "flex": null,
            "flex_flow": null,
            "grid_area": null,
            "grid_auto_columns": null,
            "grid_auto_flow": null,
            "grid_auto_rows": null,
            "grid_column": null,
            "grid_gap": null,
            "grid_row": null,
            "grid_template_areas": null,
            "grid_template_columns": null,
            "grid_template_rows": null,
            "height": null,
            "justify_content": null,
            "justify_items": null,
            "left": null,
            "margin": null,
            "max_height": null,
            "max_width": null,
            "min_height": null,
            "min_width": null,
            "object_fit": null,
            "object_position": null,
            "order": null,
            "overflow": null,
            "overflow_x": null,
            "overflow_y": null,
            "padding": null,
            "right": null,
            "top": null,
            "visibility": null,
            "width": null
          }
        },
        "68a90f67a4d64e52a12dfb164b94dd5f": {
          "model_module": "@jupyter-widgets/controls",
          "model_module_version": "1.5.0",
          "model_name": "ButtonStyleModel",
          "state": {
            "_model_module": "@jupyter-widgets/controls",
            "_model_module_version": "1.5.0",
            "_model_name": "ButtonStyleModel",
            "_view_count": null,
            "_view_module": "@jupyter-widgets/base",
            "_view_module_version": "1.2.0",
            "_view_name": "StyleView",
            "button_color": null,
            "font_weight": ""
          }
        },
        "ba39a0ede4bc468f935b270069c4891d": {
          "model_module": "@jupyter-widgets/controls",
          "model_module_version": "1.5.0",
          "model_name": "FileUploadModel",
          "state": {
            "_counter": 7,
            "_dom_classes": [],
            "_model_module": "@jupyter-widgets/controls",
            "_model_module_version": "1.5.0",
            "_model_name": "FileUploadModel",
            "_view_count": null,
            "_view_module": "@jupyter-widgets/controls",
            "_view_module_version": "1.5.0",
            "_view_name": "FileUploadView",
            "accept": "image/*",
            "button_style": "",
            "data": [
              null
            ],
            "description": "Upload",
            "description_tooltip": null,
            "disabled": false,
            "error": "",
            "icon": "upload",
            "layout": "IPY_MODEL_581b12bc469a450e92c9ace7583453ea",
            "metadata": [
              {
                "lastModified": 1743833649773,
                "name": "test_2.jpg",
                "size": 61333,
                "type": "image/jpeg"
              }
            ],
            "multiple": false,
            "style": "IPY_MODEL_68a90f67a4d64e52a12dfb164b94dd5f"
          }
        }
      }
    }
  },
  "nbformat": 4,
  "nbformat_minor": 0
}
