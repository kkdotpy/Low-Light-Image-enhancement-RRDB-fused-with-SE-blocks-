{
  "cells": [
    {
      "cell_type": "markdown",
      "metadata": {},
      "source": [
        "# Initiation"
      ]
    },
    {
      "cell_type": "code",
      "execution_count": 34,
      "metadata": {
        "id": "0soa9rXuWN4z"
      },
      "outputs": [],
      "source": [
        "import os\n",
        "import random\n",
        "import numpy as np\n",
        "import torch\n",
        "import torch.nn as nn\n",
        "from torch.utils.data import Dataset, DataLoader, random_split\n",
        "from torchvision import transforms\n",
        "import matplotlib.pyplot as plt\n",
        "from tqdm import tqdm\n",
        "from torchmetrics import PeakSignalNoiseRatio as PSNR, StructuralSimilarityIndexMeasure as SSIM\n",
        "from piq import LPIPS\n",
        "import os\n",
        "import torch.nn.functional as F\n",
        "from torchvision.models import vgg19\n",
        "from torchvision.utils import save_image\n",
        "from torchvision.datasets import DatasetFolder\n",
        "from datetime import datetime\n",
        "from sklearn.model_selection import train_test_split\n",
        "from torchvision import transforms\n",
        "from PIL import Image, ImageDraw, ImageFont\n",
        "from copy import deepcopy\n",
        "import time\n",
        "\n",
        "import os\n",
        "import numpy as np\n",
        "import torch\n",
        "from torch.utils.data import Dataset, DataLoader\n",
        "import torchvision.transforms as transforms\n",
        "from PIL import Image\n",
        "import torch.nn as nn\n",
        "import torchvision.models as models\n",
        "import torch.nn.functional as F\n",
        "import torch.optim as optim\n",
        "import io\n",
        "from torchmetrics import PeakSignalNoiseRatio as PSNR, StructuralSimilarityIndexMeasure as SSIM\n",
        "from piq import LPIPS\n",
        "import ipywidgets as widgets\n",
        "from IPython.display import display, clear_output\n",
        "import matplotlib.pyplot as plt\n",
        "from tqdm import tqdm\n",
        "from torch.optim.lr_scheduler import LambdaLR\n",
        "from torchvision.utils import save_image\n",
        "import random\n"
      ]
    },
    {
      "cell_type": "code",
      "execution_count": 35,
      "metadata": {
        "id": "EVq1eL9_fwQj"
      },
      "outputs": [],
      "source": [
        "def set_seed(seed=42):\n",
        "    \"\"\"Set all random seeds for reproducibility.\"\"\"\n",
        "    random.seed(seed)\n",
        "    np.random.seed(seed)\n",
        "    torch.manual_seed(seed)\n",
        "    torch.cuda.manual_seed(seed)\n",
        "    torch.cuda.manual_seed_all(seed)  # if using multi-GPU\n",
        "    torch.backends.cudnn.deterministic = True\n",
        "    torch.backends.cudnn.benchmark = False\n",
        "\n",
        "# Set the seed (choose any number you like)\n",
        "set_seed(42)"
      ]
    },
    {
      "cell_type": "markdown",
      "metadata": {
        "id": "nIvEtsp7pjOq"
      },
      "source": [
        "# DataLoaders\n"
      ]
    },
    {
      "cell_type": "code",
      "execution_count": 36,
      "metadata": {},
      "outputs": [],
      "source": [
        "# Your existing dataset code\n",
        "dataset_path1 = r\"/home/ahansviar2/Deep Learning Project (GAN for Light)/downloaded_images\"\n",
        "train_path = f'{dataset_path1}/train'\n",
        "val_path = f'{dataset_path1}/val'\n",
        "test_path = f'{dataset_path1}/test'"
      ]
    },
    {
      "cell_type": "code",
      "execution_count": 37,
      "metadata": {},
      "outputs": [],
      "source": [
        "class CleanDataset(Dataset):\n",
        "    def __init__(self, root_dir, target_transform=None):\n",
        "        self.root_dir = root_dir\n",
        "        self.target_transform = target_transform\n",
        "        self.low_dir = os.path.join(root_dir, \"low\")\n",
        "        self.high_dir = os.path.join(root_dir, \"high\")\n",
        "        self.image_names = sorted(os.listdir(self.low_dir))\n",
        "\n",
        "    def __len__(self):\n",
        "        return len(self.image_names)\n",
        "\n",
        "    def __getitem__(self, idx):\n",
        "        low_img_path = os.path.join(self.low_dir, self.image_names[idx])\n",
        "        high_img_path = os.path.join(self.high_dir, self.image_names[idx])\n",
        "\n",
        "        low_img = Image.open(low_img_path).convert(\"RGB\")\n",
        "        high_img = Image.open(high_img_path).convert(\"RGB\")\n",
        "\n",
        "        if self.target_transform:\n",
        "            low_img = self.target_transform(low_img)\n",
        "            high_img = self.target_transform(high_img)\n",
        "            \n",
        "            \n",
        "        low_filename = os.path.basename(low_img_path)\n",
        "        high_filename = os.path.basename(high_img_path)\n",
        "        \n",
        "        return low_img, high_img, low_filename, high_filename\n",
        "\n",
        "target_transform = transforms.Compose([\n",
        "    transforms.Resize((256, 256)),\n",
        "    transforms.ToTensor(),\n",
        "    transforms.Normalize((0.5, 0.5, 0.5), (0.5, 0.5, 0.5)),\n",
        "])\n",
        "\n",
        "train_dataset = CleanDataset(\n",
        "    root_dir=train_path, \n",
        "    target_transform = target_transform\n",
        ")\n",
        "\n",
        "val_dataset = CleanDataset(\n",
        "    root_dir=val_path,\n",
        "    target_transform = target_transform\n",
        ")\n",
        "\n",
        "test_dataset = CleanDataset(root_dir=test_path, target_transform = target_transform)\n",
        "\n",
        "batch_size = 8\n",
        "train_loader = DataLoader(\n",
        "    train_dataset,\n",
        "    batch_size=batch_size,\n",
        "    shuffle=True,\n",
        "    num_workers=2,\n",
        "    pin_memory=True   # Speeds up transfer to GPU\n",
        ")\n",
        "\n",
        "val_loader = DataLoader(\n",
        "    val_dataset,\n",
        "    batch_size=batch_size,\n",
        "    shuffle=False,         # No need for validation\n",
        "    num_workers=2,\n",
        "    pin_memory=True\n",
        ")\n",
        "\n",
        "test_loader = DataLoader(\n",
        "    test_dataset,\n",
        "    batch_size=1,       # Often use batch_size=1 for testing\n",
        "    shuffle=False,\n",
        "    num_workers=1\n",
        ")"
      ]
    },
    {
      "cell_type": "markdown",
      "metadata": {},
      "source": [
        "# Run Data"
      ]
    },
    {
      "cell_type": "code",
      "execution_count": 38,
      "metadata": {},
      "outputs": [
        {
          "name": "stdout",
          "output_type": "stream",
          "text": [
            "Using device: cuda:3\n"
          ]
        }
      ],
      "source": [
        "device = torch.device(\"cuda:3\" if torch.cuda.is_available() else \"cpu\")\n",
        "print(f\"Using device: {device}\")"
      ]
    },
    {
      "cell_type": "markdown",
      "metadata": {},
      "source": [
        "# MODEL ARCHITECTURE"
      ]
    },
    {
      "cell_type": "markdown",
      "metadata": {},
      "source": [
        "## RRDB GAN"
      ]
    },
    {
      "cell_type": "code",
      "execution_count": 21,
      "metadata": {
        "id": "78F5mzcafwQu",
        "outputId": "d50aa3d1-0846-484d-af6a-53f0bc60ea1c"
      },
      "outputs": [
        {
          "name": "stderr",
          "output_type": "stream",
          "text": [
            "Epoch 1/200: 100%|██████████| 49/49 [00:29<00:00,  1.68it/s, D_loss=648.754, G_loss=4.644, Hybrid=0.400]   \n",
            "                                                                   \r"
          ]
        },
        {
          "name": "stdout",
          "output_type": "stream",
          "text": [
            "\n",
            "Validation @ Epoch 1:\n",
            "PSNR: 12.94 dB | SSIM: 0.0240 | LPIPS: 0.7064 | Hybrid: 0.3759\n"
          ]
        },
        {
          "name": "stderr",
          "output_type": "stream",
          "text": [
            "Epoch 2/200: 100%|██████████| 49/49 [00:29<00:00,  1.67it/s, D_loss=49.403, G_loss=4.713, Hybrid=0.323]  \n",
            "                                                                   \r"
          ]
        },
        {
          "name": "stdout",
          "output_type": "stream",
          "text": [
            "\n",
            "Validation @ Epoch 2:\n",
            "PSNR: 13.09 dB | SSIM: 0.0320 | LPIPS: 0.5768 | Hybrid: 0.3686\n"
          ]
        },
        {
          "name": "stderr",
          "output_type": "stream",
          "text": [
            "Epoch 3/200: 100%|██████████| 49/49 [00:29<00:00,  1.66it/s, D_loss=2.963, G_loss=4.310, Hybrid=0.322]     \n",
            "                                                                   \r"
          ]
        },
        {
          "name": "stdout",
          "output_type": "stream",
          "text": [
            "\n",
            "Validation @ Epoch 3:\n",
            "PSNR: 13.08 dB | SSIM: 0.0294 | LPIPS: 0.5798 | Hybrid: 0.3706\n"
          ]
        },
        {
          "name": "stderr",
          "output_type": "stream",
          "text": [
            "Epoch 4/200: 100%|██████████| 49/49 [00:29<00:00,  1.66it/s, D_loss=801.683, G_loss=6.461, Hybrid=0.421]   \n",
            "                                                                   \r"
          ]
        },
        {
          "name": "stdout",
          "output_type": "stream",
          "text": [
            "\n",
            "Validation @ Epoch 4:\n",
            "PSNR: 13.05 dB | SSIM: 0.0282 | LPIPS: 0.5817 | Hybrid: 0.3729\n"
          ]
        },
        {
          "name": "stderr",
          "output_type": "stream",
          "text": [
            "Epoch 5/200: 100%|██████████| 49/49 [00:29<00:00,  1.66it/s, D_loss=478.959, G_loss=4.718, Hybrid=0.357]   \n",
            "                                                                   \r"
          ]
        },
        {
          "name": "stdout",
          "output_type": "stream",
          "text": [
            "\n",
            "Validation @ Epoch 5:\n",
            "PSNR: 13.08 dB | SSIM: 0.0293 | LPIPS: 0.5808 | Hybrid: 0.3740\n"
          ]
        },
        {
          "name": "stderr",
          "output_type": "stream",
          "text": [
            "Epoch 6/200: 100%|██████████| 49/49 [00:29<00:00,  1.66it/s, D_loss=338.808, G_loss=4.500, Hybrid=0.357]   \n",
            "                                                                   \r"
          ]
        },
        {
          "name": "stdout",
          "output_type": "stream",
          "text": [
            "\n",
            "Validation @ Epoch 6:\n",
            "PSNR: 13.08 dB | SSIM: 0.0292 | LPIPS: 0.5811 | Hybrid: 0.3752\n"
          ]
        },
        {
          "name": "stderr",
          "output_type": "stream",
          "text": [
            "Epoch 7/200: 100%|██████████| 49/49 [00:29<00:00,  1.66it/s, D_loss=145.398, G_loss=4.034, Hybrid=0.324]  \n",
            "                                                                   \r"
          ]
        },
        {
          "name": "stdout",
          "output_type": "stream",
          "text": [
            "\n",
            "Validation @ Epoch 7:\n",
            "PSNR: 13.08 dB | SSIM: 0.0293 | LPIPS: 0.5809 | Hybrid: 0.3763\n"
          ]
        },
        {
          "name": "stderr",
          "output_type": "stream",
          "text": [
            "Epoch 8/200: 100%|██████████| 49/49 [00:29<00:00,  1.65it/s, D_loss=79.129, G_loss=3.774, Hybrid=0.317]  \n",
            "                                                                   \r"
          ]
        },
        {
          "name": "stdout",
          "output_type": "stream",
          "text": [
            "\n",
            "Validation @ Epoch 8:\n",
            "PSNR: 13.14 dB | SSIM: 0.0329 | LPIPS: 0.5779 | Hybrid: 0.3738\n"
          ]
        },
        {
          "name": "stderr",
          "output_type": "stream",
          "text": [
            "Epoch 9/200: 100%|██████████| 49/49 [00:29<00:00,  1.66it/s, D_loss=629.001, G_loss=4.116, Hybrid=0.331]\n",
            "                                                                   \r"
          ]
        },
        {
          "name": "stdout",
          "output_type": "stream",
          "text": [
            "\n",
            "Validation @ Epoch 9:\n",
            "PSNR: 13.05 dB | SSIM: 0.0281 | LPIPS: 0.5820 | Hybrid: 0.3789\n"
          ]
        },
        {
          "name": "stderr",
          "output_type": "stream",
          "text": [
            "Epoch 10/200: 100%|██████████| 49/49 [00:29<00:00,  1.66it/s, D_loss=19.164, G_loss=4.576, Hybrid=0.349] \n",
            "                                                                    \r"
          ]
        },
        {
          "name": "stdout",
          "output_type": "stream",
          "text": [
            "\n",
            "Validation @ Epoch 10:\n",
            "PSNR: 13.06 dB | SSIM: 0.0284 | LPIPS: 0.5818 | Hybrid: 0.3801\n"
          ]
        },
        {
          "name": "stderr",
          "output_type": "stream",
          "text": [
            "Epoch 11/200: 100%|██████████| 49/49 [00:29<00:00,  1.66it/s, D_loss=66.903, G_loss=4.799, Hybrid=0.375] \n",
            "                                                                    \r"
          ]
        },
        {
          "name": "stdout",
          "output_type": "stream",
          "text": [
            "\n",
            "Validation @ Epoch 11:\n",
            "PSNR: 13.09 dB | SSIM: 0.0295 | LPIPS: 0.5811 | Hybrid: 0.3812\n"
          ]
        },
        {
          "name": "stderr",
          "output_type": "stream",
          "text": [
            "Epoch 12/200: 100%|██████████| 49/49 [00:29<00:00,  1.66it/s, D_loss=53.579, G_loss=4.237, Hybrid=0.350]  \n",
            "                                                                    \r"
          ]
        },
        {
          "name": "stdout",
          "output_type": "stream",
          "text": [
            "\n",
            "Validation @ Epoch 12:\n",
            "PSNR: 13.09 dB | SSIM: 0.0298 | LPIPS: 0.5807 | Hybrid: 0.3822\n"
          ]
        },
        {
          "name": "stderr",
          "output_type": "stream",
          "text": [
            "Epoch 13/200: 100%|██████████| 49/49 [00:29<00:00,  1.66it/s, D_loss=34.550, G_loss=4.410, Hybrid=0.346]  \n",
            "                                                                    \r"
          ]
        },
        {
          "name": "stdout",
          "output_type": "stream",
          "text": [
            "\n",
            "Validation @ Epoch 13:\n",
            "PSNR: 13.20 dB | SSIM: 0.0457 | LPIPS: 0.5276 | Hybrid: 0.3488\n"
          ]
        },
        {
          "name": "stderr",
          "output_type": "stream",
          "text": [
            "Epoch 14/200: 100%|██████████| 49/49 [00:29<00:00,  1.66it/s, D_loss=3.799, G_loss=4.823, Hybrid=0.377]   \n",
            "                                                                    \r"
          ]
        },
        {
          "name": "stdout",
          "output_type": "stream",
          "text": [
            "\n",
            "Validation @ Epoch 14:\n",
            "PSNR: 13.10 dB | SSIM: 0.0304 | LPIPS: 0.5802 | Hybrid: 0.3843\n"
          ]
        },
        {
          "name": "stderr",
          "output_type": "stream",
          "text": [
            "Epoch 15/200: 100%|██████████| 49/49 [00:29<00:00,  1.66it/s, D_loss=4.913, G_loss=5.429, Hybrid=0.397]  \n",
            "                                                                    \r"
          ]
        },
        {
          "name": "stdout",
          "output_type": "stream",
          "text": [
            "\n",
            "Validation @ Epoch 15:\n",
            "PSNR: 13.18 dB | SSIM: 0.0378 | LPIPS: 0.5618 | Hybrid: 0.3765\n"
          ]
        },
        {
          "name": "stderr",
          "output_type": "stream",
          "text": [
            "Epoch 16/200: 100%|██████████| 49/49 [00:29<00:00,  1.66it/s, D_loss=3.989, G_loss=5.099, Hybrid=0.394]  \n",
            "                                                                    \r"
          ]
        },
        {
          "name": "stdout",
          "output_type": "stream",
          "text": [
            "\n",
            "Validation @ Epoch 16:\n",
            "PSNR: 13.14 dB | SSIM: 0.0329 | LPIPS: 0.5780 | Hybrid: 0.3837\n"
          ]
        },
        {
          "name": "stderr",
          "output_type": "stream",
          "text": [
            "Epoch 17/200: 100%|██████████| 49/49 [00:29<00:00,  1.66it/s, D_loss=32.646, G_loss=4.321, Hybrid=0.305] \n",
            "                                                                    \r"
          ]
        },
        {
          "name": "stdout",
          "output_type": "stream",
          "text": [
            "\n",
            "Validation @ Epoch 17:\n",
            "PSNR: 13.08 dB | SSIM: 0.0588 | LPIPS: 0.4826 | Hybrid: 0.2774\n"
          ]
        },
        {
          "name": "stderr",
          "output_type": "stream",
          "text": [
            "Epoch 18/200: 100%|██████████| 49/49 [00:29<00:00,  1.65it/s, D_loss=1.242, G_loss=5.169, Hybrid=0.369]  \n",
            "                                                                    \r"
          ]
        },
        {
          "name": "stdout",
          "output_type": "stream",
          "text": [
            "\n",
            "Validation @ Epoch 18:\n",
            "PSNR: 12.99 dB | SSIM: 0.0561 | LPIPS: 0.4803 | Hybrid: 0.2637\n"
          ]
        },
        {
          "name": "stderr",
          "output_type": "stream",
          "text": [
            "Epoch 19/200: 100%|██████████| 49/49 [00:29<00:00,  1.65it/s, D_loss=5.293, G_loss=4.298, Hybrid=0.297]  \n",
            "                                                                    \r"
          ]
        },
        {
          "name": "stdout",
          "output_type": "stream",
          "text": [
            "\n",
            "Validation @ Epoch 19:\n",
            "PSNR: 13.52 dB | SSIM: 0.0993 | LPIPS: 0.4753 | Hybrid: 0.3180\n"
          ]
        },
        {
          "name": "stderr",
          "output_type": "stream",
          "text": [
            "Epoch 20/200: 100%|██████████| 49/49 [00:29<00:00,  1.65it/s, D_loss=12.423, G_loss=4.822, Hybrid=0.317] \n",
            "                                                                    \r"
          ]
        },
        {
          "name": "stdout",
          "output_type": "stream",
          "text": [
            "\n",
            "Validation @ Epoch 20:\n",
            "PSNR: 12.62 dB | SSIM: 0.0342 | LPIPS: 0.5237 | Hybrid: 0.2825\n"
          ]
        },
        {
          "name": "stderr",
          "output_type": "stream",
          "text": [
            "Epoch 21/200: 100%|██████████| 49/49 [00:29<00:00,  1.65it/s, D_loss=55.574, G_loss=3.867, Hybrid=0.268] \n",
            "                                                                    \r"
          ]
        },
        {
          "name": "stdout",
          "output_type": "stream",
          "text": [
            "\n",
            "Validation @ Epoch 21:\n",
            "PSNR: 13.43 dB | SSIM: 0.0748 | LPIPS: 0.5080 | Hybrid: 0.3564\n"
          ]
        },
        {
          "name": "stderr",
          "output_type": "stream",
          "text": [
            "Epoch 22/200: 100%|██████████| 49/49 [00:29<00:00,  1.65it/s, D_loss=3.009, G_loss=4.086, Hybrid=0.313]  \n",
            "                                                                    \r"
          ]
        },
        {
          "name": "stdout",
          "output_type": "stream",
          "text": [
            "\n",
            "Validation @ Epoch 22:\n",
            "PSNR: 13.37 dB | SSIM: 0.0870 | LPIPS: 0.4286 | Hybrid: 0.2629\n"
          ]
        },
        {
          "name": "stderr",
          "output_type": "stream",
          "text": [
            "Epoch 23/200: 100%|██████████| 49/49 [00:29<00:00,  1.65it/s, D_loss=11.047, G_loss=4.027, Hybrid=0.295] \n",
            "                                                                    \r"
          ]
        },
        {
          "name": "stdout",
          "output_type": "stream",
          "text": [
            "\n",
            "Validation @ Epoch 23:\n",
            "PSNR: 13.33 dB | SSIM: 0.0871 | LPIPS: 0.4230 | Hybrid: 0.2451\n"
          ]
        },
        {
          "name": "stderr",
          "output_type": "stream",
          "text": [
            "Epoch 24/200: 100%|██████████| 49/49 [00:29<00:00,  1.65it/s, D_loss=2.844, G_loss=4.318, Hybrid=0.316]  \n",
            "                                                                    \r"
          ]
        },
        {
          "name": "stdout",
          "output_type": "stream",
          "text": [
            "\n",
            "Validation @ Epoch 24:\n",
            "PSNR: 13.56 dB | SSIM: 0.1048 | LPIPS: 0.4365 | Hybrid: 0.3001\n"
          ]
        },
        {
          "name": "stderr",
          "output_type": "stream",
          "text": [
            "Epoch 25/200: 100%|██████████| 49/49 [00:29<00:00,  1.65it/s, D_loss=2.391, G_loss=4.374, Hybrid=0.328]  \n",
            "                                                                    \r"
          ]
        },
        {
          "name": "stdout",
          "output_type": "stream",
          "text": [
            "\n",
            "Validation @ Epoch 25:\n",
            "PSNR: 13.53 dB | SSIM: 0.1033 | LPIPS: 0.4383 | Hybrid: 0.2769\n"
          ]
        },
        {
          "name": "stderr",
          "output_type": "stream",
          "text": [
            "Epoch 26/200: 100%|██████████| 49/49 [00:29<00:00,  1.65it/s, D_loss=8.339, G_loss=4.176, Hybrid=0.335]  \n",
            "                                                                    \r"
          ]
        },
        {
          "name": "stdout",
          "output_type": "stream",
          "text": [
            "\n",
            "Validation @ Epoch 26:\n",
            "PSNR: 13.44 dB | SSIM: 0.0763 | LPIPS: 0.5119 | Hybrid: 0.3621\n"
          ]
        },
        {
          "name": "stderr",
          "output_type": "stream",
          "text": [
            "Epoch 27/200: 100%|██████████| 49/49 [00:29<00:00,  1.65it/s, D_loss=1.143, G_loss=4.585, Hybrid=0.288]  \n",
            "                                                                    \r"
          ]
        },
        {
          "name": "stdout",
          "output_type": "stream",
          "text": [
            "\n",
            "Validation @ Epoch 27:\n",
            "PSNR: 13.46 dB | SSIM: 0.0847 | LPIPS: 0.4729 | Hybrid: 0.3353\n"
          ]
        },
        {
          "name": "stderr",
          "output_type": "stream",
          "text": [
            "Epoch 28/200: 100%|██████████| 49/49 [00:29<00:00,  1.66it/s, D_loss=1.205, G_loss=4.718, Hybrid=0.380]  \n",
            "                                                                    \r"
          ]
        },
        {
          "name": "stdout",
          "output_type": "stream",
          "text": [
            "\n",
            "Validation @ Epoch 28:\n",
            "PSNR: 13.56 dB | SSIM: 0.1090 | LPIPS: 0.4349 | Hybrid: 0.2863\n"
          ]
        },
        {
          "name": "stderr",
          "output_type": "stream",
          "text": [
            "Epoch 29/200: 100%|██████████| 49/49 [00:29<00:00,  1.66it/s, D_loss=72.731, G_loss=5.242, Hybrid=0.407] \n",
            "                                                                    \r"
          ]
        },
        {
          "name": "stdout",
          "output_type": "stream",
          "text": [
            "\n",
            "Validation @ Epoch 29:\n",
            "PSNR: 13.38 dB | SSIM: 0.0651 | LPIPS: 0.4984 | Hybrid: 0.3611\n"
          ]
        },
        {
          "name": "stderr",
          "output_type": "stream",
          "text": [
            "Epoch 30/200: 100%|██████████| 49/49 [00:29<00:00,  1.65it/s, D_loss=29.314, G_loss=4.427, Hybrid=0.302]\n",
            "                                                                    \r"
          ]
        },
        {
          "name": "stdout",
          "output_type": "stream",
          "text": [
            "\n",
            "Validation @ Epoch 30:\n",
            "PSNR: 13.43 dB | SSIM: 0.0842 | LPIPS: 0.4873 | Hybrid: 0.3474\n"
          ]
        },
        {
          "name": "stderr",
          "output_type": "stream",
          "text": [
            "Epoch 31/200: 100%|██████████| 49/49 [00:29<00:00,  1.65it/s, D_loss=4.881, G_loss=3.890, Hybrid=0.276]  \n",
            "                                                                    \r"
          ]
        },
        {
          "name": "stdout",
          "output_type": "stream",
          "text": [
            "\n",
            "Validation @ Epoch 31:\n",
            "PSNR: 13.47 dB | SSIM: 0.1140 | LPIPS: 0.4109 | Hybrid: 0.2710\n"
          ]
        },
        {
          "name": "stderr",
          "output_type": "stream",
          "text": [
            "Epoch 32/200: 100%|██████████| 49/49 [00:29<00:00,  1.65it/s, D_loss=0.790, G_loss=4.459, Hybrid=0.345] \n",
            "                                                                    \r"
          ]
        },
        {
          "name": "stdout",
          "output_type": "stream",
          "text": [
            "\n",
            "Validation @ Epoch 32:\n",
            "PSNR: 13.33 dB | SSIM: 0.0608 | LPIPS: 0.5263 | Hybrid: 0.3797\n"
          ]
        },
        {
          "name": "stderr",
          "output_type": "stream",
          "text": [
            "Epoch 33/200: 100%|██████████| 49/49 [00:29<00:00,  1.65it/s, D_loss=5.288, G_loss=3.601, Hybrid=0.253]  \n",
            "                                                                    \r"
          ]
        },
        {
          "name": "stdout",
          "output_type": "stream",
          "text": [
            "\n",
            "Validation @ Epoch 33:\n",
            "PSNR: 13.59 dB | SSIM: 0.1051 | LPIPS: 0.4266 | Hybrid: 0.3110\n"
          ]
        },
        {
          "name": "stderr",
          "output_type": "stream",
          "text": [
            "Epoch 34/200: 100%|██████████| 49/49 [00:29<00:00,  1.65it/s, D_loss=2.157, G_loss=4.364, Hybrid=0.299] \n",
            "                                                                    \r"
          ]
        },
        {
          "name": "stdout",
          "output_type": "stream",
          "text": [
            "\n",
            "Validation @ Epoch 34:\n",
            "PSNR: 13.60 dB | SSIM: 0.1131 | LPIPS: 0.4283 | Hybrid: 0.3007\n"
          ]
        },
        {
          "name": "stderr",
          "output_type": "stream",
          "text": [
            "Epoch 35/200: 100%|██████████| 49/49 [00:29<00:00,  1.65it/s, D_loss=12.784, G_loss=4.822, Hybrid=0.355] \n",
            "                                                                    \r"
          ]
        },
        {
          "name": "stdout",
          "output_type": "stream",
          "text": [
            "\n",
            "Validation @ Epoch 35:\n",
            "PSNR: 13.29 dB | SSIM: 0.0462 | LPIPS: 0.5471 | Hybrid: 0.3940\n"
          ]
        },
        {
          "name": "stderr",
          "output_type": "stream",
          "text": [
            "Epoch 36/200: 100%|██████████| 49/49 [00:29<00:00,  1.65it/s, D_loss=15.499, G_loss=4.134, Hybrid=0.313]\n",
            "                                                                    \r"
          ]
        },
        {
          "name": "stdout",
          "output_type": "stream",
          "text": [
            "\n",
            "Validation @ Epoch 36:\n",
            "PSNR: 13.58 dB | SSIM: 0.1106 | LPIPS: 0.4252 | Hybrid: 0.2962\n"
          ]
        },
        {
          "name": "stderr",
          "output_type": "stream",
          "text": [
            "Epoch 37/200: 100%|██████████| 49/49 [00:29<00:00,  1.65it/s, D_loss=2.899, G_loss=3.506, Hybrid=0.284] \n",
            "                                                                    \r"
          ]
        },
        {
          "name": "stdout",
          "output_type": "stream",
          "text": [
            "\n",
            "Validation @ Epoch 37:\n",
            "PSNR: 13.60 dB | SSIM: 0.1134 | LPIPS: 0.4037 | Hybrid: 0.2878\n"
          ]
        },
        {
          "name": "stderr",
          "output_type": "stream",
          "text": [
            "Epoch 38/200: 100%|██████████| 49/49 [00:29<00:00,  1.65it/s, D_loss=2.499, G_loss=3.932, Hybrid=0.290]  \n",
            "                                                                    \r"
          ]
        },
        {
          "name": "stdout",
          "output_type": "stream",
          "text": [
            "\n",
            "Validation @ Epoch 38:\n",
            "PSNR: 13.51 dB | SSIM: 0.0951 | LPIPS: 0.4606 | Hybrid: 0.3433\n"
          ]
        },
        {
          "name": "stderr",
          "output_type": "stream",
          "text": [
            "Epoch 39/200: 100%|██████████| 49/49 [00:29<00:00,  1.65it/s, D_loss=3.685, G_loss=5.625, Hybrid=0.349] \n",
            "                                                                    \r"
          ]
        },
        {
          "name": "stdout",
          "output_type": "stream",
          "text": [
            "\n",
            "Validation @ Epoch 39:\n",
            "PSNR: 13.59 dB | SSIM: 0.1079 | LPIPS: 0.4315 | Hybrid: 0.3167\n"
          ]
        },
        {
          "name": "stderr",
          "output_type": "stream",
          "text": [
            "Epoch 40/200: 100%|██████████| 49/49 [00:29<00:00,  1.65it/s, D_loss=213.834, G_loss=4.730, Hybrid=0.319]\n",
            "                                                                    \r"
          ]
        },
        {
          "name": "stdout",
          "output_type": "stream",
          "text": [
            "\n",
            "Validation @ Epoch 40:\n",
            "PSNR: 13.52 dB | SSIM: 0.0942 | LPIPS: 0.4543 | Hybrid: 0.3452\n"
          ]
        },
        {
          "name": "stderr",
          "output_type": "stream",
          "text": [
            "Epoch 41/200: 100%|██████████| 49/49 [00:29<00:00,  1.65it/s, D_loss=10.079, G_loss=3.545, Hybrid=0.296]\n",
            "                                                                    \r"
          ]
        },
        {
          "name": "stdout",
          "output_type": "stream",
          "text": [
            "\n",
            "Validation @ Epoch 41:\n",
            "PSNR: 13.50 dB | SSIM: 0.0928 | LPIPS: 0.4592 | Hybrid: 0.3478\n"
          ]
        },
        {
          "name": "stderr",
          "output_type": "stream",
          "text": [
            "Epoch 42/200: 100%|██████████| 49/49 [00:29<00:00,  1.65it/s, D_loss=1.199, G_loss=4.089, Hybrid=0.278] \n",
            "                                                                    \r"
          ]
        },
        {
          "name": "stdout",
          "output_type": "stream",
          "text": [
            "\n",
            "Validation @ Epoch 42:\n",
            "PSNR: 13.56 dB | SSIM: 0.1066 | LPIPS: 0.4393 | Hybrid: 0.3328\n"
          ]
        },
        {
          "name": "stderr",
          "output_type": "stream",
          "text": [
            "Epoch 43/200: 100%|██████████| 49/49 [00:29<00:00,  1.65it/s, D_loss=1.666, G_loss=4.688, Hybrid=0.327] \n",
            "                                                                    \r"
          ]
        },
        {
          "name": "stdout",
          "output_type": "stream",
          "text": [
            "\n",
            "Validation @ Epoch 43:\n",
            "PSNR: 13.64 dB | SSIM: 0.1163 | LPIPS: 0.4215 | Hybrid: 0.3125\n"
          ]
        },
        {
          "name": "stderr",
          "output_type": "stream",
          "text": [
            "Epoch 44/200: 100%|██████████| 49/49 [00:29<00:00,  1.65it/s, D_loss=2.465, G_loss=4.449, Hybrid=0.323] \n",
            "                                                                    \r"
          ]
        },
        {
          "name": "stdout",
          "output_type": "stream",
          "text": [
            "\n",
            "Validation @ Epoch 44:\n",
            "PSNR: 13.61 dB | SSIM: 0.1076 | LPIPS: 0.4411 | Hybrid: 0.3452\n"
          ]
        },
        {
          "name": "stderr",
          "output_type": "stream",
          "text": [
            "Epoch 45/200: 100%|██████████| 49/49 [00:29<00:00,  1.65it/s, D_loss=13.844, G_loss=3.041, Hybrid=0.227]\n",
            "                                                                    \r"
          ]
        },
        {
          "name": "stdout",
          "output_type": "stream",
          "text": [
            "\n",
            "Validation @ Epoch 45:\n",
            "PSNR: 13.52 dB | SSIM: 0.0950 | LPIPS: 0.4430 | Hybrid: 0.3459\n"
          ]
        },
        {
          "name": "stderr",
          "output_type": "stream",
          "text": [
            "Epoch 46/200: 100%|██████████| 49/49 [00:29<00:00,  1.65it/s, D_loss=74.950, G_loss=5.220, Hybrid=0.394] \n",
            "                                                                    \r"
          ]
        },
        {
          "name": "stdout",
          "output_type": "stream",
          "text": [
            "\n",
            "Validation @ Epoch 46:\n",
            "PSNR: 13.40 dB | SSIM: 0.0677 | LPIPS: 0.4878 | Hybrid: 0.3828\n"
          ]
        },
        {
          "name": "stderr",
          "output_type": "stream",
          "text": [
            "Epoch 47/200: 100%|██████████| 49/49 [00:29<00:00,  1.65it/s, D_loss=3.986, G_loss=4.158, Hybrid=0.295]  \n",
            "                                                                    \r"
          ]
        },
        {
          "name": "stdout",
          "output_type": "stream",
          "text": [
            "\n",
            "Validation @ Epoch 47:\n",
            "PSNR: 13.55 dB | SSIM: 0.0982 | LPIPS: 0.4442 | Hybrid: 0.3467\n"
          ]
        },
        {
          "name": "stderr",
          "output_type": "stream",
          "text": [
            "Epoch 48/200: 100%|██████████| 49/49 [00:29<00:00,  1.65it/s, D_loss=1.413, G_loss=4.370, Hybrid=0.344] \n",
            "                                                                    \r"
          ]
        },
        {
          "name": "stdout",
          "output_type": "stream",
          "text": [
            "\n",
            "Validation @ Epoch 48:\n",
            "PSNR: 13.63 dB | SSIM: 0.1127 | LPIPS: 0.4202 | Hybrid: 0.3352\n"
          ]
        },
        {
          "name": "stderr",
          "output_type": "stream",
          "text": [
            "Epoch 49/200: 100%|██████████| 49/49 [00:29<00:00,  1.65it/s, D_loss=11.280, G_loss=4.406, Hybrid=0.322] \n",
            "                                                                    \r"
          ]
        },
        {
          "name": "stdout",
          "output_type": "stream",
          "text": [
            "\n",
            "Validation @ Epoch 49:\n",
            "PSNR: 13.62 dB | SSIM: 0.1128 | LPIPS: 0.4155 | Hybrid: 0.3173\n"
          ]
        },
        {
          "name": "stderr",
          "output_type": "stream",
          "text": [
            "Epoch 50/200: 100%|██████████| 49/49 [00:29<00:00,  1.66it/s, D_loss=3.455, G_loss=4.606, Hybrid=0.315]  \n",
            "                                                                    \r"
          ]
        },
        {
          "name": "stdout",
          "output_type": "stream",
          "text": [
            "\n",
            "Validation @ Epoch 50:\n",
            "PSNR: 13.52 dB | SSIM: 0.0944 | LPIPS: 0.4633 | Hybrid: 0.3634\n"
          ]
        },
        {
          "name": "stderr",
          "output_type": "stream",
          "text": [
            "Epoch 51/200: 100%|██████████| 49/49 [00:29<00:00,  1.66it/s, D_loss=5.256, G_loss=3.963, Hybrid=0.308]  \n",
            "                                                                    \r"
          ]
        },
        {
          "name": "stdout",
          "output_type": "stream",
          "text": [
            "\n",
            "Validation @ Epoch 51:\n",
            "PSNR: 13.46 dB | SSIM: 0.1050 | LPIPS: 0.4287 | Hybrid: 0.3001\n"
          ]
        },
        {
          "name": "stderr",
          "output_type": "stream",
          "text": [
            "Epoch 52/200: 100%|██████████| 49/49 [00:29<00:00,  1.66it/s, D_loss=1.247, G_loss=3.748, Hybrid=0.297]  \n",
            "                                                                    \r"
          ]
        },
        {
          "name": "stdout",
          "output_type": "stream",
          "text": [
            "\n",
            "Validation @ Epoch 52:\n",
            "PSNR: 13.53 dB | SSIM: 0.0931 | LPIPS: 0.4526 | Hybrid: 0.3571\n"
          ]
        },
        {
          "name": "stderr",
          "output_type": "stream",
          "text": [
            "Epoch 53/200: 100%|██████████| 49/49 [00:29<00:00,  1.66it/s, D_loss=1.548, G_loss=4.554, Hybrid=0.322] \n",
            "                                                                    \r"
          ]
        },
        {
          "name": "stdout",
          "output_type": "stream",
          "text": [
            "\n",
            "Validation @ Epoch 53:\n",
            "PSNR: 13.62 dB | SSIM: 0.1216 | LPIPS: 0.4180 | Hybrid: 0.3058\n"
          ]
        },
        {
          "name": "stderr",
          "output_type": "stream",
          "text": [
            "Epoch 54/200: 100%|██████████| 49/49 [00:29<00:00,  1.66it/s, D_loss=1.117, G_loss=3.984, Hybrid=0.300] \n",
            "                                                                    \r"
          ]
        },
        {
          "name": "stdout",
          "output_type": "stream",
          "text": [
            "\n",
            "Validation @ Epoch 54:\n",
            "PSNR: 13.56 dB | SSIM: 0.1084 | LPIPS: 0.4425 | Hybrid: 0.3422\n"
          ]
        },
        {
          "name": "stderr",
          "output_type": "stream",
          "text": [
            "Epoch 55/200: 100%|██████████| 49/49 [00:29<00:00,  1.66it/s, D_loss=1.718, G_loss=3.701, Hybrid=0.255] \n",
            "                                                                    \r"
          ]
        },
        {
          "name": "stdout",
          "output_type": "stream",
          "text": [
            "\n",
            "Validation @ Epoch 55:\n",
            "PSNR: 13.65 dB | SSIM: 0.1243 | LPIPS: 0.3886 | Hybrid: 0.2899\n"
          ]
        },
        {
          "name": "stderr",
          "output_type": "stream",
          "text": [
            "Epoch 56/200: 100%|██████████| 49/49 [00:29<00:00,  1.66it/s, D_loss=1.418, G_loss=3.769, Hybrid=0.273]  \n",
            "                                                                    \r"
          ]
        },
        {
          "name": "stdout",
          "output_type": "stream",
          "text": [
            "\n",
            "Validation @ Epoch 56:\n",
            "PSNR: 13.64 dB | SSIM: 0.1229 | LPIPS: 0.3957 | Hybrid: 0.2888\n"
          ]
        },
        {
          "name": "stderr",
          "output_type": "stream",
          "text": [
            "Epoch 57/200: 100%|██████████| 49/49 [00:29<00:00,  1.66it/s, D_loss=6.451, G_loss=3.840, Hybrid=0.328]  \n",
            "                                                                    \r"
          ]
        },
        {
          "name": "stdout",
          "output_type": "stream",
          "text": [
            "\n",
            "Validation @ Epoch 57:\n",
            "PSNR: 13.60 dB | SSIM: 0.1226 | LPIPS: 0.4258 | Hybrid: 0.3391\n"
          ]
        },
        {
          "name": "stderr",
          "output_type": "stream",
          "text": [
            "Epoch 58/200: 100%|██████████| 49/49 [00:29<00:00,  1.65it/s, D_loss=36.666, G_loss=3.634, Hybrid=0.345]\n",
            "                                                                    \r"
          ]
        },
        {
          "name": "stdout",
          "output_type": "stream",
          "text": [
            "\n",
            "Validation @ Epoch 58:\n",
            "PSNR: 13.43 dB | SSIM: 0.0679 | LPIPS: 0.5007 | Hybrid: 0.4034\n"
          ]
        },
        {
          "name": "stderr",
          "output_type": "stream",
          "text": [
            "Epoch 59/200: 100%|██████████| 49/49 [00:29<00:00,  1.66it/s, D_loss=1.342, G_loss=4.279, Hybrid=0.321] \n",
            "                                                                    \r"
          ]
        },
        {
          "name": "stdout",
          "output_type": "stream",
          "text": [
            "\n",
            "Validation @ Epoch 59:\n",
            "PSNR: 13.49 dB | SSIM: 0.0789 | LPIPS: 0.4691 | Hybrid: 0.3865\n"
          ]
        },
        {
          "name": "stderr",
          "output_type": "stream",
          "text": [
            "Epoch 60/200: 100%|██████████| 49/49 [00:29<00:00,  1.65it/s, D_loss=5.351, G_loss=4.942, Hybrid=0.353] \n",
            "                                                                    \r"
          ]
        },
        {
          "name": "stdout",
          "output_type": "stream",
          "text": [
            "\n",
            "Validation @ Epoch 60:\n",
            "PSNR: 13.61 dB | SSIM: 0.1067 | LPIPS: 0.4397 | Hybrid: 0.3605\n"
          ]
        },
        {
          "name": "stderr",
          "output_type": "stream",
          "text": [
            "Epoch 61/200: 100%|██████████| 49/49 [00:29<00:00,  1.65it/s, D_loss=6.834, G_loss=4.299, Hybrid=0.308] \n",
            "                                                                    \r"
          ]
        },
        {
          "name": "stdout",
          "output_type": "stream",
          "text": [
            "\n",
            "Validation @ Epoch 61:\n",
            "PSNR: 13.62 dB | SSIM: 0.1085 | LPIPS: 0.4353 | Hybrid: 0.3495\n"
          ]
        },
        {
          "name": "stderr",
          "output_type": "stream",
          "text": [
            "Epoch 62/200: 100%|██████████| 49/49 [00:29<00:00,  1.65it/s, D_loss=1.310, G_loss=3.479, Hybrid=0.255] \n",
            "                                                                    \r"
          ]
        },
        {
          "name": "stdout",
          "output_type": "stream",
          "text": [
            "\n",
            "Validation @ Epoch 62:\n",
            "PSNR: 13.67 dB | SSIM: 0.1222 | LPIPS: 0.3978 | Hybrid: 0.3255\n"
          ]
        },
        {
          "name": "stderr",
          "output_type": "stream",
          "text": [
            "Epoch 63/200: 100%|██████████| 49/49 [00:29<00:00,  1.65it/s, D_loss=35.245, G_loss=3.258, Hybrid=0.286]\n",
            "                                                                    \r"
          ]
        },
        {
          "name": "stdout",
          "output_type": "stream",
          "text": [
            "\n",
            "Validation @ Epoch 63:\n",
            "PSNR: 13.68 dB | SSIM: 0.1224 | LPIPS: 0.3976 | Hybrid: 0.3161\n"
          ]
        },
        {
          "name": "stderr",
          "output_type": "stream",
          "text": [
            "Epoch 64/200: 100%|██████████| 49/49 [00:29<00:00,  1.65it/s, D_loss=2.060, G_loss=4.112, Hybrid=0.308] \n",
            "                                                                    \r"
          ]
        },
        {
          "name": "stdout",
          "output_type": "stream",
          "text": [
            "\n",
            "Validation @ Epoch 64:\n",
            "PSNR: 13.69 dB | SSIM: 0.1289 | LPIPS: 0.4021 | Hybrid: 0.3218\n"
          ]
        },
        {
          "name": "stderr",
          "output_type": "stream",
          "text": [
            "Epoch 65/200: 100%|██████████| 49/49 [00:29<00:00,  1.65it/s, D_loss=1.654, G_loss=4.187, Hybrid=0.303] \n",
            "                                                                    \r"
          ]
        },
        {
          "name": "stdout",
          "output_type": "stream",
          "text": [
            "\n",
            "Validation @ Epoch 65:\n",
            "PSNR: 13.60 dB | SSIM: 0.1074 | LPIPS: 0.4648 | Hybrid: 0.3822\n"
          ]
        },
        {
          "name": "stderr",
          "output_type": "stream",
          "text": [
            "Epoch 66/200: 100%|██████████| 49/49 [00:29<00:00,  1.65it/s, D_loss=17.903, G_loss=4.489, Hybrid=0.359]\n",
            "                                                                    \r"
          ]
        },
        {
          "name": "stdout",
          "output_type": "stream",
          "text": [
            "\n",
            "Validation @ Epoch 66:\n",
            "PSNR: 13.48 dB | SSIM: 0.0745 | LPIPS: 0.4815 | Hybrid: 0.4014\n"
          ]
        },
        {
          "name": "stderr",
          "output_type": "stream",
          "text": [
            "Epoch 67/200: 100%|██████████| 49/49 [00:29<00:00,  1.65it/s, D_loss=2.714, G_loss=4.555, Hybrid=0.338]  \n",
            "                                                                    \r"
          ]
        },
        {
          "name": "stdout",
          "output_type": "stream",
          "text": [
            "\n",
            "Validation @ Epoch 67:\n",
            "PSNR: 13.69 dB | SSIM: 0.1262 | LPIPS: 0.3878 | Hybrid: 0.3108\n"
          ]
        },
        {
          "name": "stderr",
          "output_type": "stream",
          "text": [
            "Epoch 68/200: 100%|██████████| 49/49 [00:29<00:00,  1.65it/s, D_loss=0.891, G_loss=4.661, Hybrid=0.348] \n",
            "                                                                    \r"
          ]
        },
        {
          "name": "stdout",
          "output_type": "stream",
          "text": [
            "\n",
            "Validation @ Epoch 68:\n",
            "PSNR: 13.65 dB | SSIM: 0.1133 | LPIPS: 0.4221 | Hybrid: 0.3538\n"
          ]
        },
        {
          "name": "stderr",
          "output_type": "stream",
          "text": [
            "Epoch 69/200: 100%|██████████| 49/49 [00:29<00:00,  1.65it/s, D_loss=1.397, G_loss=5.259, Hybrid=0.404]  \n",
            "                                                                    \r"
          ]
        },
        {
          "name": "stdout",
          "output_type": "stream",
          "text": [
            "\n",
            "Validation @ Epoch 69:\n",
            "PSNR: 13.63 dB | SSIM: 0.1157 | LPIPS: 0.4102 | Hybrid: 0.3351\n"
          ]
        },
        {
          "name": "stderr",
          "output_type": "stream",
          "text": [
            "Epoch 70/200: 100%|██████████| 49/49 [00:29<00:00,  1.65it/s, D_loss=71.798, G_loss=3.342, Hybrid=0.317]\n",
            "                                                                    \r"
          ]
        },
        {
          "name": "stdout",
          "output_type": "stream",
          "text": [
            "\n",
            "Validation @ Epoch 70:\n",
            "PSNR: 13.66 dB | SSIM: 0.1127 | LPIPS: 0.4025 | Hybrid: 0.3467\n"
          ]
        },
        {
          "name": "stderr",
          "output_type": "stream",
          "text": [
            "Epoch 71/200: 100%|██████████| 49/49 [00:29<00:00,  1.65it/s, D_loss=12.491, G_loss=4.169, Hybrid=0.349]\n",
            "                                                                    \r"
          ]
        },
        {
          "name": "stdout",
          "output_type": "stream",
          "text": [
            "\n",
            "Validation @ Epoch 71:\n",
            "PSNR: 13.67 dB | SSIM: 0.1245 | LPIPS: 0.3984 | Hybrid: 0.3166\n"
          ]
        },
        {
          "name": "stderr",
          "output_type": "stream",
          "text": [
            "Epoch 72/200: 100%|██████████| 49/49 [00:29<00:00,  1.65it/s, D_loss=4.127, G_loss=4.110, Hybrid=0.303] \n",
            "                                                                    \r"
          ]
        },
        {
          "name": "stdout",
          "output_type": "stream",
          "text": [
            "\n",
            "Validation @ Epoch 72:\n",
            "PSNR: 13.37 dB | SSIM: 0.0606 | LPIPS: 0.5155 | Hybrid: 0.4252\n"
          ]
        },
        {
          "name": "stderr",
          "output_type": "stream",
          "text": [
            "Epoch 73/200: 100%|██████████| 49/49 [00:29<00:00,  1.65it/s, D_loss=1.041, G_loss=4.733, Hybrid=0.370] \n",
            "                                                                    \r"
          ]
        },
        {
          "name": "stdout",
          "output_type": "stream",
          "text": [
            "\n",
            "Validation @ Epoch 73:\n",
            "PSNR: 13.70 dB | SSIM: 0.1269 | LPIPS: 0.3852 | Hybrid: 0.3052\n"
          ]
        },
        {
          "name": "stderr",
          "output_type": "stream",
          "text": [
            "Epoch 74/200: 100%|██████████| 49/49 [00:29<00:00,  1.65it/s, D_loss=95.856, G_loss=4.563, Hybrid=0.373]\n",
            "                                                                    \r"
          ]
        },
        {
          "name": "stdout",
          "output_type": "stream",
          "text": [
            "\n",
            "Validation @ Epoch 74:\n",
            "PSNR: 13.68 dB | SSIM: 0.1179 | LPIPS: 0.4113 | Hybrid: 0.3486\n"
          ]
        },
        {
          "name": "stderr",
          "output_type": "stream",
          "text": [
            "Epoch 75/200: 100%|██████████| 49/49 [00:29<00:00,  1.65it/s, D_loss=1.061, G_loss=4.743, Hybrid=0.346]  \n",
            "                                                                    \r"
          ]
        },
        {
          "name": "stdout",
          "output_type": "stream",
          "text": [
            "\n",
            "Validation @ Epoch 75:\n",
            "PSNR: 13.65 dB | SSIM: 0.1130 | LPIPS: 0.4118 | Hybrid: 0.3507\n"
          ]
        },
        {
          "name": "stderr",
          "output_type": "stream",
          "text": [
            "Epoch 76/200: 100%|██████████| 49/49 [00:29<00:00,  1.65it/s, D_loss=3.680, G_loss=3.884, Hybrid=0.336] \n",
            "                                                                    \r"
          ]
        },
        {
          "name": "stdout",
          "output_type": "stream",
          "text": [
            "\n",
            "Validation @ Epoch 76:\n",
            "PSNR: 13.69 dB | SSIM: 0.1331 | LPIPS: 0.3643 | Hybrid: 0.2833\n"
          ]
        },
        {
          "name": "stderr",
          "output_type": "stream",
          "text": [
            "Epoch 77/200: 100%|██████████| 49/49 [00:29<00:00,  1.65it/s, D_loss=6.633, G_loss=4.781, Hybrid=0.394] \n",
            "                                                                    \r"
          ]
        },
        {
          "name": "stdout",
          "output_type": "stream",
          "text": [
            "\n",
            "Validation @ Epoch 77:\n",
            "PSNR: 13.72 dB | SSIM: 0.1290 | LPIPS: 0.3953 | Hybrid: 0.3237\n"
          ]
        },
        {
          "name": "stderr",
          "output_type": "stream",
          "text": [
            "Epoch 78/200: 100%|██████████| 49/49 [00:29<00:00,  1.65it/s, D_loss=0.871, G_loss=3.777, Hybrid=0.346] \n",
            "                                                                    \r"
          ]
        },
        {
          "name": "stdout",
          "output_type": "stream",
          "text": [
            "\n",
            "Validation @ Epoch 78:\n",
            "PSNR: 13.57 dB | SSIM: 0.1054 | LPIPS: 0.4301 | Hybrid: 0.3562\n"
          ]
        },
        {
          "name": "stderr",
          "output_type": "stream",
          "text": [
            "Epoch 79/200: 100%|██████████| 49/49 [00:29<00:00,  1.65it/s, D_loss=9.502, G_loss=4.060, Hybrid=0.319] \n",
            "                                                                    \r"
          ]
        },
        {
          "name": "stdout",
          "output_type": "stream",
          "text": [
            "\n",
            "Validation @ Epoch 79:\n",
            "PSNR: 13.70 dB | SSIM: 0.1263 | LPIPS: 0.3935 | Hybrid: 0.3214\n"
          ]
        },
        {
          "name": "stderr",
          "output_type": "stream",
          "text": [
            "Epoch 80/200: 100%|██████████| 49/49 [00:29<00:00,  1.65it/s, D_loss=8.422, G_loss=4.431, Hybrid=0.353] \n",
            "                                                                    \r"
          ]
        },
        {
          "name": "stdout",
          "output_type": "stream",
          "text": [
            "\n",
            "Validation @ Epoch 80:\n",
            "PSNR: 13.71 dB | SSIM: 0.1329 | LPIPS: 0.3705 | Hybrid: 0.3051\n"
          ]
        },
        {
          "name": "stderr",
          "output_type": "stream",
          "text": [
            "Epoch 81/200: 100%|██████████| 49/49 [00:29<00:00,  1.65it/s, D_loss=0.759, G_loss=5.182, Hybrid=0.400] \n",
            "                                                                    \r"
          ]
        },
        {
          "name": "stdout",
          "output_type": "stream",
          "text": [
            "\n",
            "Validation @ Epoch 81:\n",
            "PSNR: 13.73 dB | SSIM: 0.1335 | LPIPS: 0.3745 | Hybrid: 0.3035\n"
          ]
        },
        {
          "name": "stderr",
          "output_type": "stream",
          "text": [
            "Epoch 82/200: 100%|██████████| 49/49 [00:29<00:00,  1.65it/s, D_loss=2.466, G_loss=5.012, Hybrid=0.392] \n",
            "                                                                    \r"
          ]
        },
        {
          "name": "stdout",
          "output_type": "stream",
          "text": [
            "\n",
            "Validation @ Epoch 82:\n",
            "PSNR: 13.71 dB | SSIM: 0.1284 | LPIPS: 0.3999 | Hybrid: 0.3357\n"
          ]
        },
        {
          "name": "stderr",
          "output_type": "stream",
          "text": [
            "Epoch 83/200: 100%|██████████| 49/49 [00:29<00:00,  1.65it/s, D_loss=2.500, G_loss=3.948, Hybrid=0.348] \n",
            "                                                                    \r"
          ]
        },
        {
          "name": "stdout",
          "output_type": "stream",
          "text": [
            "\n",
            "Validation @ Epoch 83:\n",
            "PSNR: 13.66 dB | SSIM: 0.1342 | LPIPS: 0.3711 | Hybrid: 0.2989\n"
          ]
        },
        {
          "name": "stderr",
          "output_type": "stream",
          "text": [
            "Epoch 84/200: 100%|██████████| 49/49 [00:29<00:00,  1.65it/s, D_loss=1.441, G_loss=4.181, Hybrid=0.300] \n",
            "                                                                    \r"
          ]
        },
        {
          "name": "stdout",
          "output_type": "stream",
          "text": [
            "\n",
            "Validation @ Epoch 84:\n",
            "PSNR: 13.73 dB | SSIM: 0.1337 | LPIPS: 0.3678 | Hybrid: 0.3003\n"
          ]
        },
        {
          "name": "stderr",
          "output_type": "stream",
          "text": [
            "Epoch 85/200: 100%|██████████| 49/49 [00:29<00:00,  1.65it/s, D_loss=1.955, G_loss=4.182, Hybrid=0.353] \n",
            "                                                                    \r"
          ]
        },
        {
          "name": "stdout",
          "output_type": "stream",
          "text": [
            "\n",
            "Validation @ Epoch 85:\n",
            "PSNR: 13.72 dB | SSIM: 0.1282 | LPIPS: 0.3886 | Hybrid: 0.3283\n"
          ]
        },
        {
          "name": "stderr",
          "output_type": "stream",
          "text": [
            "Epoch 86/200: 100%|██████████| 49/49 [00:29<00:00,  1.65it/s, D_loss=0.807, G_loss=2.975, Hybrid=0.235] \n",
            "                                                                    \r"
          ]
        },
        {
          "name": "stdout",
          "output_type": "stream",
          "text": [
            "\n",
            "Validation @ Epoch 86:\n",
            "PSNR: 13.71 dB | SSIM: 0.1236 | LPIPS: 0.4054 | Hybrid: 0.3591\n"
          ]
        },
        {
          "name": "stderr",
          "output_type": "stream",
          "text": [
            "Epoch 87/200: 100%|██████████| 49/49 [00:29<00:00,  1.65it/s, D_loss=8.789, G_loss=4.255, Hybrid=0.352]\n",
            "                                                                    \r"
          ]
        },
        {
          "name": "stdout",
          "output_type": "stream",
          "text": [
            "\n",
            "Validation @ Epoch 87:\n",
            "PSNR: 13.66 dB | SSIM: 0.1171 | LPIPS: 0.4208 | Hybrid: 0.3740\n"
          ]
        },
        {
          "name": "stderr",
          "output_type": "stream",
          "text": [
            "Epoch 88/200: 100%|██████████| 49/49 [00:29<00:00,  1.65it/s, D_loss=1.631, G_loss=5.218, Hybrid=0.402] \n",
            "                                                                    \r"
          ]
        },
        {
          "name": "stdout",
          "output_type": "stream",
          "text": [
            "\n",
            "Validation @ Epoch 88:\n",
            "PSNR: 13.68 dB | SSIM: 0.1209 | LPIPS: 0.4186 | Hybrid: 0.3654\n"
          ]
        },
        {
          "name": "stderr",
          "output_type": "stream",
          "text": [
            "Epoch 89/200: 100%|██████████| 49/49 [00:29<00:00,  1.65it/s, D_loss=8.718, G_loss=3.958, Hybrid=0.357] \n",
            "                                                                    \r"
          ]
        },
        {
          "name": "stdout",
          "output_type": "stream",
          "text": [
            "\n",
            "Validation @ Epoch 89:\n",
            "PSNR: 13.74 dB | SSIM: 0.1384 | LPIPS: 0.3703 | Hybrid: 0.3083\n"
          ]
        },
        {
          "name": "stderr",
          "output_type": "stream",
          "text": [
            "Epoch 90/200: 100%|██████████| 49/49 [00:29<00:00,  1.65it/s, D_loss=5.150, G_loss=4.390, Hybrid=0.355]\n",
            "                                                                    \r"
          ]
        },
        {
          "name": "stdout",
          "output_type": "stream",
          "text": [
            "\n",
            "Validation @ Epoch 90:\n",
            "PSNR: 13.63 dB | SSIM: 0.1090 | LPIPS: 0.4518 | Hybrid: 0.3905\n"
          ]
        },
        {
          "name": "stderr",
          "output_type": "stream",
          "text": [
            "Epoch 91/200: 100%|██████████| 49/49 [00:29<00:00,  1.65it/s, D_loss=22.126, G_loss=3.451, Hybrid=0.326]\n",
            "                                                                    \r"
          ]
        },
        {
          "name": "stdout",
          "output_type": "stream",
          "text": [
            "\n",
            "Validation @ Epoch 91:\n",
            "PSNR: 13.74 dB | SSIM: 0.1345 | LPIPS: 0.3757 | Hybrid: 0.3036\n"
          ]
        },
        {
          "name": "stderr",
          "output_type": "stream",
          "text": [
            "Epoch 92/200: 100%|██████████| 49/49 [00:29<00:00,  1.65it/s, D_loss=0.825, G_loss=4.308, Hybrid=0.342] \n",
            "                                                                    \r"
          ]
        },
        {
          "name": "stdout",
          "output_type": "stream",
          "text": [
            "\n",
            "Validation @ Epoch 92:\n",
            "PSNR: 13.71 dB | SSIM: 0.1307 | LPIPS: 0.3877 | Hybrid: 0.3391\n"
          ]
        },
        {
          "name": "stderr",
          "output_type": "stream",
          "text": [
            "Epoch 93/200: 100%|██████████| 49/49 [00:29<00:00,  1.65it/s, D_loss=1.125, G_loss=5.259, Hybrid=0.396] \n",
            "                                                                    \r"
          ]
        },
        {
          "name": "stdout",
          "output_type": "stream",
          "text": [
            "\n",
            "Validation @ Epoch 93:\n",
            "PSNR: 13.69 dB | SSIM: 0.1230 | LPIPS: 0.4141 | Hybrid: 0.3555\n"
          ]
        },
        {
          "name": "stderr",
          "output_type": "stream",
          "text": [
            "Epoch 94/200: 100%|██████████| 49/49 [00:29<00:00,  1.65it/s, D_loss=0.861, G_loss=4.235, Hybrid=0.360] \n",
            "                                                                    \r"
          ]
        },
        {
          "name": "stdout",
          "output_type": "stream",
          "text": [
            "\n",
            "Validation @ Epoch 94:\n",
            "PSNR: 13.74 dB | SSIM: 0.1361 | LPIPS: 0.3766 | Hybrid: 0.3247\n"
          ]
        },
        {
          "name": "stderr",
          "output_type": "stream",
          "text": [
            "Epoch 95/200: 100%|██████████| 49/49 [00:29<00:00,  1.65it/s, D_loss=0.951, G_loss=4.865, Hybrid=0.383] \n",
            "                                                                    \r"
          ]
        },
        {
          "name": "stdout",
          "output_type": "stream",
          "text": [
            "\n",
            "Validation @ Epoch 95:\n",
            "PSNR: 13.72 dB | SSIM: 0.1253 | LPIPS: 0.3825 | Hybrid: 0.3450\n"
          ]
        },
        {
          "name": "stderr",
          "output_type": "stream",
          "text": [
            "Epoch 96/200: 100%|██████████| 49/49 [00:29<00:00,  1.65it/s, D_loss=8.858, G_loss=3.778, Hybrid=0.286] \n",
            "                                                                    \r"
          ]
        },
        {
          "name": "stdout",
          "output_type": "stream",
          "text": [
            "\n",
            "Validation @ Epoch 96:\n",
            "PSNR: 13.68 dB | SSIM: 0.1174 | LPIPS: 0.4078 | Hybrid: 0.3777\n"
          ]
        },
        {
          "name": "stderr",
          "output_type": "stream",
          "text": [
            "Epoch 97/200: 100%|██████████| 49/49 [00:29<00:00,  1.65it/s, D_loss=0.769, G_loss=4.060, Hybrid=0.343] \n",
            "                                                                    \r"
          ]
        },
        {
          "name": "stdout",
          "output_type": "stream",
          "text": [
            "\n",
            "Validation @ Epoch 97:\n",
            "PSNR: 13.67 dB | SSIM: 0.1125 | LPIPS: 0.4124 | Hybrid: 0.3749\n"
          ]
        },
        {
          "name": "stderr",
          "output_type": "stream",
          "text": [
            "Epoch 98/200: 100%|██████████| 49/49 [00:29<00:00,  1.65it/s, D_loss=0.739, G_loss=5.171, Hybrid=0.418] \n",
            "                                                                    \r"
          ]
        },
        {
          "name": "stdout",
          "output_type": "stream",
          "text": [
            "\n",
            "Validation @ Epoch 98:\n",
            "PSNR: 13.66 dB | SSIM: 0.1091 | LPIPS: 0.4178 | Hybrid: 0.3857\n"
          ]
        },
        {
          "name": "stderr",
          "output_type": "stream",
          "text": [
            "Epoch 99/200: 100%|██████████| 49/49 [00:29<00:00,  1.65it/s, D_loss=2.184, G_loss=3.473, Hybrid=0.287] \n",
            "                                                                    \r"
          ]
        },
        {
          "name": "stdout",
          "output_type": "stream",
          "text": [
            "\n",
            "Validation @ Epoch 99:\n",
            "PSNR: 13.68 dB | SSIM: 0.1203 | LPIPS: 0.4159 | Hybrid: 0.3776\n"
          ]
        },
        {
          "name": "stderr",
          "output_type": "stream",
          "text": [
            "Epoch 100/200: 100%|██████████| 49/49 [00:29<00:00,  1.65it/s, D_loss=0.985, G_loss=4.529, Hybrid=0.335] \n",
            "                                                                     \r"
          ]
        },
        {
          "name": "stdout",
          "output_type": "stream",
          "text": [
            "\n",
            "Validation @ Epoch 100:\n",
            "PSNR: 13.74 dB | SSIM: 0.1350 | LPIPS: 0.3704 | Hybrid: 0.3172\n"
          ]
        },
        {
          "name": "stderr",
          "output_type": "stream",
          "text": [
            "Epoch 101/200: 100%|██████████| 49/49 [00:29<00:00,  1.65it/s, D_loss=1.448, G_loss=3.672, Hybrid=0.349] \n",
            "                                                                     \r"
          ]
        },
        {
          "name": "stdout",
          "output_type": "stream",
          "text": [
            "\n",
            "Validation @ Epoch 101:\n",
            "PSNR: 13.64 dB | SSIM: 0.1353 | LPIPS: 0.3747 | Hybrid: 0.2841\n"
          ]
        },
        {
          "name": "stderr",
          "output_type": "stream",
          "text": [
            "Epoch 102/200: 100%|██████████| 49/49 [00:29<00:00,  1.65it/s, D_loss=39.104, G_loss=4.579, Hybrid=0.375]\n",
            "                                                                     \r"
          ]
        },
        {
          "name": "stdout",
          "output_type": "stream",
          "text": [
            "\n",
            "Validation @ Epoch 102:\n",
            "PSNR: 13.71 dB | SSIM: 0.1230 | LPIPS: 0.4006 | Hybrid: 0.3612\n"
          ]
        },
        {
          "name": "stderr",
          "output_type": "stream",
          "text": [
            "Epoch 103/200: 100%|██████████| 49/49 [00:29<00:00,  1.65it/s, D_loss=2.127, G_loss=4.960, Hybrid=0.421]\n",
            "                                                                     \r"
          ]
        },
        {
          "name": "stdout",
          "output_type": "stream",
          "text": [
            "\n",
            "Validation @ Epoch 103:\n",
            "PSNR: 13.71 dB | SSIM: 0.1231 | LPIPS: 0.4149 | Hybrid: 0.3747\n"
          ]
        },
        {
          "name": "stderr",
          "output_type": "stream",
          "text": [
            "Epoch 104/200: 100%|██████████| 49/49 [00:29<00:00,  1.65it/s, D_loss=0.768, G_loss=3.274, Hybrid=0.314]  \n",
            "                                                                     \r"
          ]
        },
        {
          "name": "stdout",
          "output_type": "stream",
          "text": [
            "\n",
            "Validation @ Epoch 104:\n",
            "PSNR: 13.70 dB | SSIM: 0.1250 | LPIPS: 0.4010 | Hybrid: 0.3573\n"
          ]
        },
        {
          "name": "stderr",
          "output_type": "stream",
          "text": [
            "Epoch 105/200: 100%|██████████| 49/49 [00:29<00:00,  1.65it/s, D_loss=1.143, G_loss=3.603, Hybrid=0.307] \n",
            "                                                                     \r"
          ]
        },
        {
          "name": "stdout",
          "output_type": "stream",
          "text": [
            "\n",
            "Validation @ Epoch 105:\n",
            "PSNR: 13.68 dB | SSIM: 0.1152 | LPIPS: 0.4108 | Hybrid: 0.3792\n"
          ]
        },
        {
          "name": "stderr",
          "output_type": "stream",
          "text": [
            "Epoch 106/200: 100%|██████████| 49/49 [00:29<00:00,  1.65it/s, D_loss=0.818, G_loss=4.467, Hybrid=0.377] \n",
            "                                                                     \r"
          ]
        },
        {
          "name": "stdout",
          "output_type": "stream",
          "text": [
            "\n",
            "Validation @ Epoch 106:\n",
            "PSNR: 13.67 dB | SSIM: 0.1316 | LPIPS: 0.3901 | Hybrid: 0.3334\n"
          ]
        },
        {
          "name": "stderr",
          "output_type": "stream",
          "text": [
            "Epoch 107/200: 100%|██████████| 49/49 [00:29<00:00,  1.65it/s, D_loss=2.594, G_loss=3.383, Hybrid=0.317]  \n",
            "                                                                     \r"
          ]
        },
        {
          "name": "stdout",
          "output_type": "stream",
          "text": [
            "\n",
            "Validation @ Epoch 107:\n",
            "PSNR: 13.76 dB | SSIM: 0.1361 | LPIPS: 0.3774 | Hybrid: 0.3429\n"
          ]
        },
        {
          "name": "stderr",
          "output_type": "stream",
          "text": [
            "Epoch 108/200: 100%|██████████| 49/49 [00:29<00:00,  1.65it/s, D_loss=0.749, G_loss=4.489, Hybrid=0.330] \n",
            "                                                                     \r"
          ]
        },
        {
          "name": "stdout",
          "output_type": "stream",
          "text": [
            "\n",
            "Validation @ Epoch 108:\n",
            "PSNR: 13.69 dB | SSIM: 0.1227 | LPIPS: 0.4127 | Hybrid: 0.3770\n"
          ]
        },
        {
          "name": "stderr",
          "output_type": "stream",
          "text": [
            "Epoch 109/200: 100%|██████████| 49/49 [00:29<00:00,  1.65it/s, D_loss=0.753, G_loss=4.516, Hybrid=0.372] \n",
            "                                                                     \r"
          ]
        },
        {
          "name": "stdout",
          "output_type": "stream",
          "text": [
            "\n",
            "Validation @ Epoch 109:\n",
            "PSNR: 13.72 dB | SSIM: 0.1364 | LPIPS: 0.3785 | Hybrid: 0.3280\n"
          ]
        },
        {
          "name": "stderr",
          "output_type": "stream",
          "text": [
            "Epoch 110/200: 100%|██████████| 49/49 [00:29<00:00,  1.65it/s, D_loss=0.841, G_loss=3.954, Hybrid=0.378] \n",
            "                                                                     \r"
          ]
        },
        {
          "name": "stdout",
          "output_type": "stream",
          "text": [
            "\n",
            "Validation @ Epoch 110:\n",
            "PSNR: 13.69 dB | SSIM: 0.1175 | LPIPS: 0.4096 | Hybrid: 0.3840\n"
          ]
        },
        {
          "name": "stderr",
          "output_type": "stream",
          "text": [
            "Epoch 111/200: 100%|██████████| 49/49 [00:29<00:00,  1.65it/s, D_loss=2.432, G_loss=3.949, Hybrid=0.385]\n",
            "                                                                     \r"
          ]
        },
        {
          "name": "stdout",
          "output_type": "stream",
          "text": [
            "\n",
            "Validation @ Epoch 111:\n",
            "PSNR: 13.76 dB | SSIM: 0.1393 | LPIPS: 0.3879 | Hybrid: 0.3432\n"
          ]
        },
        {
          "name": "stderr",
          "output_type": "stream",
          "text": [
            "Epoch 112/200: 100%|██████████| 49/49 [00:29<00:00,  1.65it/s, D_loss=0.769, G_loss=3.792, Hybrid=0.339] \n",
            "                                                                     \r"
          ]
        },
        {
          "name": "stdout",
          "output_type": "stream",
          "text": [
            "\n",
            "Validation @ Epoch 112:\n",
            "PSNR: 13.74 dB | SSIM: 0.1407 | LPIPS: 0.3654 | Hybrid: 0.3182\n"
          ]
        },
        {
          "name": "stderr",
          "output_type": "stream",
          "text": [
            "Epoch 113/200: 100%|██████████| 49/49 [00:29<00:00,  1.65it/s, D_loss=0.792, G_loss=4.209, Hybrid=0.380] \n",
            "                                                                     \r"
          ]
        },
        {
          "name": "stdout",
          "output_type": "stream",
          "text": [
            "\n",
            "Validation @ Epoch 113:\n",
            "PSNR: 13.77 dB | SSIM: 0.1469 | LPIPS: 0.3756 | Hybrid: 0.3200\n"
          ]
        },
        {
          "name": "stderr",
          "output_type": "stream",
          "text": [
            "Epoch 114/200: 100%|██████████| 49/49 [00:29<00:00,  1.65it/s, D_loss=0.944, G_loss=4.508, Hybrid=0.398] \n",
            "                                                                     \r"
          ]
        },
        {
          "name": "stdout",
          "output_type": "stream",
          "text": [
            "\n",
            "Validation @ Epoch 114:\n",
            "PSNR: 13.68 dB | SSIM: 0.1344 | LPIPS: 0.4014 | Hybrid: 0.3487\n"
          ]
        },
        {
          "name": "stderr",
          "output_type": "stream",
          "text": [
            "Epoch 115/200: 100%|██████████| 49/49 [00:29<00:00,  1.65it/s, D_loss=0.739, G_loss=4.441, Hybrid=0.383]\n",
            "                                                                     \r"
          ]
        },
        {
          "name": "stdout",
          "output_type": "stream",
          "text": [
            "\n",
            "Validation @ Epoch 115:\n",
            "PSNR: 13.76 dB | SSIM: 0.1430 | LPIPS: 0.3687 | Hybrid: 0.3094\n"
          ]
        },
        {
          "name": "stderr",
          "output_type": "stream",
          "text": [
            "Epoch 116/200: 100%|██████████| 49/49 [00:29<00:00,  1.65it/s, D_loss=2.517, G_loss=4.249, Hybrid=0.405] \n",
            "                                                                     \r"
          ]
        },
        {
          "name": "stdout",
          "output_type": "stream",
          "text": [
            "\n",
            "Validation @ Epoch 116:\n",
            "PSNR: 13.78 dB | SSIM: 0.1418 | LPIPS: 0.3713 | Hybrid: 0.3178\n"
          ]
        },
        {
          "name": "stderr",
          "output_type": "stream",
          "text": [
            "Epoch 117/200: 100%|██████████| 49/49 [00:29<00:00,  1.65it/s, D_loss=1.100, G_loss=4.197, Hybrid=0.378]\n",
            "                                                                     \r"
          ]
        },
        {
          "name": "stdout",
          "output_type": "stream",
          "text": [
            "\n",
            "Validation @ Epoch 117:\n",
            "PSNR: 13.79 dB | SSIM: 0.1396 | LPIPS: 0.3814 | Hybrid: 0.3380\n"
          ]
        },
        {
          "name": "stderr",
          "output_type": "stream",
          "text": [
            "Epoch 118/200: 100%|██████████| 49/49 [00:29<00:00,  1.65it/s, D_loss=0.757, G_loss=4.696, Hybrid=0.392] \n",
            "                                                                     \r"
          ]
        },
        {
          "name": "stdout",
          "output_type": "stream",
          "text": [
            "\n",
            "Validation @ Epoch 118:\n",
            "PSNR: 13.73 dB | SSIM: 0.1329 | LPIPS: 0.3912 | Hybrid: 0.3690\n"
          ]
        },
        {
          "name": "stderr",
          "output_type": "stream",
          "text": [
            "Epoch 119/200: 100%|██████████| 49/49 [00:29<00:00,  1.65it/s, D_loss=3.375, G_loss=3.736, Hybrid=0.340] \n",
            "                                                                     \r"
          ]
        },
        {
          "name": "stdout",
          "output_type": "stream",
          "text": [
            "\n",
            "Validation @ Epoch 119:\n",
            "PSNR: 13.75 dB | SSIM: 0.1283 | LPIPS: 0.3993 | Hybrid: 0.3751\n"
          ]
        },
        {
          "name": "stderr",
          "output_type": "stream",
          "text": [
            "Epoch 120/200: 100%|██████████| 49/49 [00:29<00:00,  1.65it/s, D_loss=0.806, G_loss=4.659, Hybrid=0.382]\n",
            "                                                                     \r"
          ]
        },
        {
          "name": "stdout",
          "output_type": "stream",
          "text": [
            "\n",
            "Validation @ Epoch 120:\n",
            "PSNR: 13.78 dB | SSIM: 0.1414 | LPIPS: 0.3614 | Hybrid: 0.3269\n"
          ]
        },
        {
          "name": "stderr",
          "output_type": "stream",
          "text": [
            "Epoch 121/200: 100%|██████████| 49/49 [00:29<00:00,  1.65it/s, D_loss=0.739, G_loss=4.026, Hybrid=0.329]\n",
            "                                                                     \r"
          ]
        },
        {
          "name": "stdout",
          "output_type": "stream",
          "text": [
            "\n",
            "Validation @ Epoch 121:\n",
            "PSNR: 13.77 dB | SSIM: 0.1434 | LPIPS: 0.3766 | Hybrid: 0.3335\n"
          ]
        },
        {
          "name": "stderr",
          "output_type": "stream",
          "text": [
            "Epoch 122/200: 100%|██████████| 49/49 [00:29<00:00,  1.65it/s, D_loss=0.842, G_loss=4.845, Hybrid=0.413] \n",
            "                                                                     \r"
          ]
        },
        {
          "name": "stdout",
          "output_type": "stream",
          "text": [
            "\n",
            "Validation @ Epoch 122:\n",
            "PSNR: 13.78 dB | SSIM: 0.1418 | LPIPS: 0.3707 | Hybrid: 0.3364\n"
          ]
        },
        {
          "name": "stderr",
          "output_type": "stream",
          "text": [
            "Epoch 123/200: 100%|██████████| 49/49 [00:29<00:00,  1.65it/s, D_loss=5.560, G_loss=3.882, Hybrid=0.387] \n",
            "                                                                     \r"
          ]
        },
        {
          "name": "stdout",
          "output_type": "stream",
          "text": [
            "\n",
            "Validation @ Epoch 123:\n",
            "PSNR: 13.78 dB | SSIM: 0.1388 | LPIPS: 0.3754 | Hybrid: 0.3472\n"
          ]
        },
        {
          "name": "stderr",
          "output_type": "stream",
          "text": [
            "Epoch 124/200: 100%|██████████| 49/49 [00:29<00:00,  1.65it/s, D_loss=1.065, G_loss=3.709, Hybrid=0.324] \n",
            "                                                                     \r"
          ]
        },
        {
          "name": "stdout",
          "output_type": "stream",
          "text": [
            "\n",
            "Validation @ Epoch 124:\n",
            "PSNR: 13.73 dB | SSIM: 0.1228 | LPIPS: 0.3897 | Hybrid: 0.3774\n"
          ]
        },
        {
          "name": "stderr",
          "output_type": "stream",
          "text": [
            "Epoch 125/200: 100%|██████████| 49/49 [00:29<00:00,  1.65it/s, D_loss=0.962, G_loss=5.087, Hybrid=0.435] \n",
            "                                                                     \r"
          ]
        },
        {
          "name": "stdout",
          "output_type": "stream",
          "text": [
            "\n",
            "Validation @ Epoch 125:\n",
            "PSNR: 13.66 dB | SSIM: 0.1224 | LPIPS: 0.4142 | Hybrid: 0.4026\n"
          ]
        },
        {
          "name": "stderr",
          "output_type": "stream",
          "text": [
            "Epoch 126/200: 100%|██████████| 49/49 [00:29<00:00,  1.65it/s, D_loss=0.857, G_loss=5.308, Hybrid=0.476]\n",
            "                                                                     \r"
          ]
        },
        {
          "name": "stdout",
          "output_type": "stream",
          "text": [
            "\n",
            "Validation @ Epoch 126:\n",
            "PSNR: 13.70 dB | SSIM: 0.1198 | LPIPS: 0.4055 | Hybrid: 0.3918\n"
          ]
        },
        {
          "name": "stderr",
          "output_type": "stream",
          "text": [
            "Epoch 127/200: 100%|██████████| 49/49 [00:29<00:00,  1.65it/s, D_loss=3.772, G_loss=4.709, Hybrid=0.439]\n",
            "                                                                     \r"
          ]
        },
        {
          "name": "stdout",
          "output_type": "stream",
          "text": [
            "\n",
            "Validation @ Epoch 127:\n",
            "PSNR: 13.73 dB | SSIM: 0.1265 | LPIPS: 0.4017 | Hybrid: 0.3857\n"
          ]
        },
        {
          "name": "stderr",
          "output_type": "stream",
          "text": [
            "Epoch 128/200: 100%|██████████| 49/49 [00:29<00:00,  1.65it/s, D_loss=0.880, G_loss=4.242, Hybrid=0.375]\n",
            "                                                                     \r"
          ]
        },
        {
          "name": "stdout",
          "output_type": "stream",
          "text": [
            "\n",
            "Validation @ Epoch 128:\n",
            "PSNR: 13.77 dB | SSIM: 0.1473 | LPIPS: 0.3826 | Hybrid: 0.3407\n"
          ]
        },
        {
          "name": "stderr",
          "output_type": "stream",
          "text": [
            "Epoch 129/200: 100%|██████████| 49/49 [00:29<00:00,  1.65it/s, D_loss=0.723, G_loss=4.179, Hybrid=0.382] \n",
            "                                                                     \r"
          ]
        },
        {
          "name": "stdout",
          "output_type": "stream",
          "text": [
            "\n",
            "Validation @ Epoch 129:\n",
            "PSNR: 13.71 dB | SSIM: 0.1197 | LPIPS: 0.4058 | Hybrid: 0.3900\n"
          ]
        },
        {
          "name": "stderr",
          "output_type": "stream",
          "text": [
            "Epoch 130/200: 100%|██████████| 49/49 [00:29<00:00,  1.65it/s, D_loss=0.787, G_loss=3.465, Hybrid=0.303]\n",
            "                                                                     \r"
          ]
        },
        {
          "name": "stdout",
          "output_type": "stream",
          "text": [
            "\n",
            "Validation @ Epoch 130:\n",
            "PSNR: 13.75 dB | SSIM: 0.1332 | LPIPS: 0.3901 | Hybrid: 0.3667\n"
          ]
        },
        {
          "name": "stderr",
          "output_type": "stream",
          "text": [
            "Epoch 131/200: 100%|██████████| 49/49 [00:29<00:00,  1.65it/s, D_loss=0.953, G_loss=5.050, Hybrid=0.412] \n",
            "                                                                     \r"
          ]
        },
        {
          "name": "stdout",
          "output_type": "stream",
          "text": [
            "\n",
            "Validation @ Epoch 131:\n",
            "PSNR: 13.77 dB | SSIM: 0.1436 | LPIPS: 0.3811 | Hybrid: 0.3474\n"
          ]
        },
        {
          "name": "stderr",
          "output_type": "stream",
          "text": [
            "Epoch 132/200: 100%|██████████| 49/49 [00:29<00:00,  1.65it/s, D_loss=0.745, G_loss=2.927, Hybrid=0.327]\n",
            "                                                                     \r"
          ]
        },
        {
          "name": "stdout",
          "output_type": "stream",
          "text": [
            "\n",
            "Validation @ Epoch 132:\n",
            "PSNR: 13.75 dB | SSIM: 0.1341 | LPIPS: 0.3758 | Hybrid: 0.3596\n"
          ]
        },
        {
          "name": "stderr",
          "output_type": "stream",
          "text": [
            "Epoch 133/200: 100%|██████████| 49/49 [00:29<00:00,  1.65it/s, D_loss=0.754, G_loss=3.678, Hybrid=0.314]\n",
            "                                                                     \r"
          ]
        },
        {
          "name": "stdout",
          "output_type": "stream",
          "text": [
            "\n",
            "Validation @ Epoch 133:\n",
            "PSNR: 13.77 dB | SSIM: 0.1464 | LPIPS: 0.3619 | Hybrid: 0.3172\n"
          ]
        },
        {
          "name": "stderr",
          "output_type": "stream",
          "text": [
            "Epoch 134/200: 100%|██████████| 49/49 [00:29<00:00,  1.65it/s, D_loss=1.574, G_loss=4.964, Hybrid=0.432]\n",
            "                                                                     \r"
          ]
        },
        {
          "name": "stdout",
          "output_type": "stream",
          "text": [
            "\n",
            "Validation @ Epoch 134:\n",
            "PSNR: 13.68 dB | SSIM: 0.1119 | LPIPS: 0.4296 | Hybrid: 0.4248\n"
          ]
        },
        {
          "name": "stderr",
          "output_type": "stream",
          "text": [
            "Epoch 135/200: 100%|██████████| 49/49 [00:29<00:00,  1.65it/s, D_loss=0.764, G_loss=4.153, Hybrid=0.351]\n",
            "                                                                     \r"
          ]
        },
        {
          "name": "stdout",
          "output_type": "stream",
          "text": [
            "\n",
            "Validation @ Epoch 135:\n",
            "PSNR: 13.75 dB | SSIM: 0.1519 | LPIPS: 0.3683 | Hybrid: 0.3249\n"
          ]
        },
        {
          "name": "stderr",
          "output_type": "stream",
          "text": [
            "Epoch 136/200: 100%|██████████| 49/49 [00:29<00:00,  1.65it/s, D_loss=0.789, G_loss=3.841, Hybrid=0.379]\n",
            "                                                                     \r"
          ]
        },
        {
          "name": "stdout",
          "output_type": "stream",
          "text": [
            "\n",
            "Validation @ Epoch 136:\n",
            "PSNR: 13.81 dB | SSIM: 0.1457 | LPIPS: 0.3856 | Hybrid: 0.3644\n"
          ]
        },
        {
          "name": "stderr",
          "output_type": "stream",
          "text": [
            "Epoch 137/200: 100%|██████████| 49/49 [00:29<00:00,  1.65it/s, D_loss=0.747, G_loss=4.033, Hybrid=0.394]\n",
            "                                                                     \r"
          ]
        },
        {
          "name": "stdout",
          "output_type": "stream",
          "text": [
            "\n",
            "Validation @ Epoch 137:\n",
            "PSNR: 13.74 dB | SSIM: 0.1304 | LPIPS: 0.3925 | Hybrid: 0.3807\n"
          ]
        },
        {
          "name": "stderr",
          "output_type": "stream",
          "text": [
            "Epoch 138/200: 100%|██████████| 49/49 [00:29<00:00,  1.65it/s, D_loss=1.404, G_loss=3.890, Hybrid=0.323]\n",
            "                                                                     \r"
          ]
        },
        {
          "name": "stdout",
          "output_type": "stream",
          "text": [
            "\n",
            "Validation @ Epoch 138:\n",
            "PSNR: 13.79 dB | SSIM: 0.1386 | LPIPS: 0.3879 | Hybrid: 0.3827\n"
          ]
        },
        {
          "name": "stderr",
          "output_type": "stream",
          "text": [
            "Epoch 139/200: 100%|██████████| 49/49 [00:29<00:00,  1.65it/s, D_loss=1.472, G_loss=4.419, Hybrid=0.401]\n",
            "                                                                     \r"
          ]
        },
        {
          "name": "stdout",
          "output_type": "stream",
          "text": [
            "\n",
            "Validation @ Epoch 139:\n",
            "PSNR: 13.75 dB | SSIM: 0.1304 | LPIPS: 0.3924 | Hybrid: 0.3809\n"
          ]
        },
        {
          "name": "stderr",
          "output_type": "stream",
          "text": [
            "Epoch 140/200: 100%|██████████| 49/49 [00:29<00:00,  1.65it/s, D_loss=0.738, G_loss=3.882, Hybrid=0.381]\n",
            "                                                                     \r"
          ]
        },
        {
          "name": "stdout",
          "output_type": "stream",
          "text": [
            "\n",
            "Validation @ Epoch 140:\n",
            "PSNR: 13.78 dB | SSIM: 0.1433 | LPIPS: 0.3847 | Hybrid: 0.3461\n"
          ]
        },
        {
          "name": "stderr",
          "output_type": "stream",
          "text": [
            "Epoch 141/200: 100%|██████████| 49/49 [00:29<00:00,  1.65it/s, D_loss=0.758, G_loss=3.975, Hybrid=0.383]\n",
            "                                                                     \r"
          ]
        },
        {
          "name": "stdout",
          "output_type": "stream",
          "text": [
            "\n",
            "Validation @ Epoch 141:\n",
            "PSNR: 13.68 dB | SSIM: 0.1394 | LPIPS: 0.3658 | Hybrid: 0.3229\n"
          ]
        },
        {
          "name": "stderr",
          "output_type": "stream",
          "text": [
            "Epoch 142/200: 100%|██████████| 49/49 [00:29<00:00,  1.65it/s, D_loss=0.914, G_loss=4.533, Hybrid=0.422] \n",
            "                                                                     \r"
          ]
        },
        {
          "name": "stdout",
          "output_type": "stream",
          "text": [
            "\n",
            "Validation @ Epoch 142:\n",
            "PSNR: 13.81 dB | SSIM: 0.1466 | LPIPS: 0.3639 | Hybrid: 0.3508\n"
          ]
        },
        {
          "name": "stderr",
          "output_type": "stream",
          "text": [
            "Epoch 143/200: 100%|██████████| 49/49 [00:29<00:00,  1.65it/s, D_loss=0.744, G_loss=4.080, Hybrid=0.398] \n",
            "                                                                     \r"
          ]
        },
        {
          "name": "stdout",
          "output_type": "stream",
          "text": [
            "\n",
            "Validation @ Epoch 143:\n",
            "PSNR: 13.76 dB | SSIM: 0.1463 | LPIPS: 0.3666 | Hybrid: 0.3312\n"
          ]
        },
        {
          "name": "stderr",
          "output_type": "stream",
          "text": [
            "Epoch 144/200: 100%|██████████| 49/49 [00:29<00:00,  1.65it/s, D_loss=0.705, G_loss=4.422, Hybrid=0.418]\n",
            "                                                                     \r"
          ]
        },
        {
          "name": "stdout",
          "output_type": "stream",
          "text": [
            "\n",
            "Validation @ Epoch 144:\n",
            "PSNR: 13.79 dB | SSIM: 0.1407 | LPIPS: 0.3876 | Hybrid: 0.3679\n"
          ]
        },
        {
          "name": "stderr",
          "output_type": "stream",
          "text": [
            "Epoch 145/200: 100%|██████████| 49/49 [00:29<00:00,  1.65it/s, D_loss=0.731, G_loss=3.303, Hybrid=0.328] \n",
            "                                                                     \r"
          ]
        },
        {
          "name": "stdout",
          "output_type": "stream",
          "text": [
            "\n",
            "Validation @ Epoch 145:\n",
            "PSNR: 13.82 dB | SSIM: 0.1498 | LPIPS: 0.3599 | Hybrid: 0.3252\n"
          ]
        },
        {
          "name": "stderr",
          "output_type": "stream",
          "text": [
            "Epoch 146/200: 100%|██████████| 49/49 [00:29<00:00,  1.65it/s, D_loss=0.725, G_loss=3.681, Hybrid=0.368]\n",
            "                                                                     \r"
          ]
        },
        {
          "name": "stdout",
          "output_type": "stream",
          "text": [
            "\n",
            "Validation @ Epoch 146:\n",
            "PSNR: 13.74 dB | SSIM: 0.1462 | LPIPS: 0.3585 | Hybrid: 0.3192\n"
          ]
        },
        {
          "name": "stderr",
          "output_type": "stream",
          "text": [
            "Epoch 147/200: 100%|██████████| 49/49 [00:29<00:00,  1.64it/s, D_loss=0.793, G_loss=4.424, Hybrid=0.432] \n",
            "                                                                     \r"
          ]
        },
        {
          "name": "stdout",
          "output_type": "stream",
          "text": [
            "\n",
            "Validation @ Epoch 147:\n",
            "PSNR: 13.76 dB | SSIM: 0.1461 | LPIPS: 0.3700 | Hybrid: 0.3266\n"
          ]
        },
        {
          "name": "stderr",
          "output_type": "stream",
          "text": [
            "Epoch 148/200: 100%|██████████| 49/49 [00:29<00:00,  1.64it/s, D_loss=0.747, G_loss=3.974, Hybrid=0.381]\n",
            "                                                                     \r"
          ]
        },
        {
          "name": "stdout",
          "output_type": "stream",
          "text": [
            "\n",
            "Validation @ Epoch 148:\n",
            "PSNR: 13.78 dB | SSIM: 0.1387 | LPIPS: 0.3941 | Hybrid: 0.3977\n"
          ]
        },
        {
          "name": "stderr",
          "output_type": "stream",
          "text": [
            "Epoch 149/200: 100%|██████████| 49/49 [00:29<00:00,  1.65it/s, D_loss=0.723, G_loss=3.893, Hybrid=0.378]\n",
            "                                                                     \r"
          ]
        },
        {
          "name": "stdout",
          "output_type": "stream",
          "text": [
            "\n",
            "Validation @ Epoch 149:\n",
            "PSNR: 13.81 dB | SSIM: 0.1468 | LPIPS: 0.3782 | Hybrid: 0.3605\n"
          ]
        },
        {
          "name": "stderr",
          "output_type": "stream",
          "text": [
            "Epoch 150/200: 100%|██████████| 49/49 [00:29<00:00,  1.64it/s, D_loss=0.741, G_loss=3.908, Hybrid=0.403]\n",
            "                                                                     \r"
          ]
        },
        {
          "name": "stdout",
          "output_type": "stream",
          "text": [
            "\n",
            "Validation @ Epoch 150:\n",
            "PSNR: 13.79 dB | SSIM: 0.1419 | LPIPS: 0.3932 | Hybrid: 0.3809\n"
          ]
        },
        {
          "name": "stderr",
          "output_type": "stream",
          "text": [
            "Epoch 151/200: 100%|██████████| 49/49 [00:29<00:00,  1.65it/s, D_loss=0.709, G_loss=3.752, Hybrid=0.422] \n",
            "                                                                     \r"
          ]
        },
        {
          "name": "stdout",
          "output_type": "stream",
          "text": [
            "\n",
            "Validation @ Epoch 151:\n",
            "PSNR: 13.78 dB | SSIM: 0.1362 | LPIPS: 0.3853 | Hybrid: 0.3893\n"
          ]
        },
        {
          "name": "stderr",
          "output_type": "stream",
          "text": [
            "Epoch 152/200: 100%|██████████| 49/49 [00:29<00:00,  1.64it/s, D_loss=0.830, G_loss=4.476, Hybrid=0.392] \n",
            "                                                                     \r"
          ]
        },
        {
          "name": "stdout",
          "output_type": "stream",
          "text": [
            "\n",
            "Validation @ Epoch 152:\n",
            "PSNR: 13.80 dB | SSIM: 0.1435 | LPIPS: 0.3973 | Hybrid: 0.3885\n"
          ]
        },
        {
          "name": "stderr",
          "output_type": "stream",
          "text": [
            "Epoch 153/200: 100%|██████████| 49/49 [00:29<00:00,  1.65it/s, D_loss=0.727, G_loss=4.813, Hybrid=0.451]\n",
            "                                                                     \r"
          ]
        },
        {
          "name": "stdout",
          "output_type": "stream",
          "text": [
            "\n",
            "Validation @ Epoch 153:\n",
            "PSNR: 13.77 dB | SSIM: 0.1322 | LPIPS: 0.3969 | Hybrid: 0.4090\n"
          ]
        },
        {
          "name": "stderr",
          "output_type": "stream",
          "text": [
            "Epoch 154/200: 100%|██████████| 49/49 [00:29<00:00,  1.65it/s, D_loss=0.769, G_loss=3.914, Hybrid=0.373]\n",
            "                                                                     \r"
          ]
        },
        {
          "name": "stdout",
          "output_type": "stream",
          "text": [
            "\n",
            "Validation @ Epoch 154:\n",
            "PSNR: 13.80 dB | SSIM: 0.1456 | LPIPS: 0.3710 | Hybrid: 0.3678\n"
          ]
        },
        {
          "name": "stderr",
          "output_type": "stream",
          "text": [
            "Epoch 155/200: 100%|██████████| 49/49 [00:29<00:00,  1.65it/s, D_loss=0.712, G_loss=4.723, Hybrid=0.416]\n",
            "                                                                     \r"
          ]
        },
        {
          "name": "stdout",
          "output_type": "stream",
          "text": [
            "\n",
            "Validation @ Epoch 155:\n",
            "PSNR: 13.83 dB | SSIM: 0.1496 | LPIPS: 0.3964 | Hybrid: 0.3709\n"
          ]
        },
        {
          "name": "stderr",
          "output_type": "stream",
          "text": [
            "Epoch 156/200: 100%|██████████| 49/49 [00:29<00:00,  1.65it/s, D_loss=1.166, G_loss=4.479, Hybrid=0.421] \n",
            "                                                                     \r"
          ]
        },
        {
          "name": "stdout",
          "output_type": "stream",
          "text": [
            "\n",
            "Validation @ Epoch 156:\n",
            "PSNR: 13.80 dB | SSIM: 0.1438 | LPIPS: 0.3790 | Hybrid: 0.3751\n"
          ]
        },
        {
          "name": "stderr",
          "output_type": "stream",
          "text": [
            "Epoch 157/200: 100%|██████████| 49/49 [00:29<00:00,  1.65it/s, D_loss=0.751, G_loss=3.785, Hybrid=0.388]\n",
            "                                                                     \r"
          ]
        },
        {
          "name": "stdout",
          "output_type": "stream",
          "text": [
            "\n",
            "Validation @ Epoch 157:\n",
            "PSNR: 13.81 dB | SSIM: 0.1427 | LPIPS: 0.3733 | Hybrid: 0.3605\n"
          ]
        },
        {
          "name": "stderr",
          "output_type": "stream",
          "text": [
            "Epoch 158/200: 100%|██████████| 49/49 [00:29<00:00,  1.65it/s, D_loss=0.733, G_loss=3.725, Hybrid=0.371]\n",
            "                                                                     \r"
          ]
        },
        {
          "name": "stdout",
          "output_type": "stream",
          "text": [
            "\n",
            "Validation @ Epoch 158:\n",
            "PSNR: 13.78 dB | SSIM: 0.1470 | LPIPS: 0.3890 | Hybrid: 0.3653\n"
          ]
        },
        {
          "name": "stderr",
          "output_type": "stream",
          "text": [
            "Epoch 159/200: 100%|██████████| 49/49 [00:29<00:00,  1.64it/s, D_loss=0.731, G_loss=3.698, Hybrid=0.387]\n",
            "                                                                     \r"
          ]
        },
        {
          "name": "stdout",
          "output_type": "stream",
          "text": [
            "\n",
            "Validation @ Epoch 159:\n",
            "PSNR: 13.82 dB | SSIM: 0.1435 | LPIPS: 0.3806 | Hybrid: 0.3688\n"
          ]
        },
        {
          "name": "stderr",
          "output_type": "stream",
          "text": [
            "Epoch 160/200: 100%|██████████| 49/49 [00:29<00:00,  1.65it/s, D_loss=0.767, G_loss=4.301, Hybrid=0.395]\n",
            "                                                                     \r"
          ]
        },
        {
          "name": "stdout",
          "output_type": "stream",
          "text": [
            "\n",
            "Validation @ Epoch 160:\n",
            "PSNR: 13.74 dB | SSIM: 0.1285 | LPIPS: 0.4071 | Hybrid: 0.4137\n"
          ]
        },
        {
          "name": "stderr",
          "output_type": "stream",
          "text": [
            "Epoch 161/200: 100%|██████████| 49/49 [00:29<00:00,  1.65it/s, D_loss=0.721, G_loss=4.066, Hybrid=0.401] \n",
            "                                                                     \r"
          ]
        },
        {
          "name": "stdout",
          "output_type": "stream",
          "text": [
            "\n",
            "Validation @ Epoch 161:\n",
            "PSNR: 13.71 dB | SSIM: 0.1186 | LPIPS: 0.4169 | Hybrid: 0.4325\n"
          ]
        },
        {
          "name": "stderr",
          "output_type": "stream",
          "text": [
            "Epoch 162/200: 100%|██████████| 49/49 [00:29<00:00,  1.65it/s, D_loss=0.708, G_loss=4.154, Hybrid=0.419]\n",
            "                                                                     \r"
          ]
        },
        {
          "name": "stdout",
          "output_type": "stream",
          "text": [
            "\n",
            "Validation @ Epoch 162:\n",
            "PSNR: 13.80 dB | SSIM: 0.1382 | LPIPS: 0.3932 | Hybrid: 0.3910\n"
          ]
        },
        {
          "name": "stderr",
          "output_type": "stream",
          "text": [
            "Epoch 163/200: 100%|██████████| 49/49 [00:29<00:00,  1.65it/s, D_loss=0.772, G_loss=4.781, Hybrid=0.458]\n",
            "                                                                     \r"
          ]
        },
        {
          "name": "stdout",
          "output_type": "stream",
          "text": [
            "\n",
            "Validation @ Epoch 163:\n",
            "PSNR: 13.80 dB | SSIM: 0.1495 | LPIPS: 0.3643 | Hybrid: 0.3467\n"
          ]
        },
        {
          "name": "stderr",
          "output_type": "stream",
          "text": [
            "Epoch 164/200: 100%|██████████| 49/49 [00:29<00:00,  1.65it/s, D_loss=0.892, G_loss=4.394, Hybrid=0.437]\n",
            "                                                                     \r"
          ]
        },
        {
          "name": "stdout",
          "output_type": "stream",
          "text": [
            "\n",
            "Validation @ Epoch 164:\n",
            "PSNR: 13.81 dB | SSIM: 0.1460 | LPIPS: 0.3838 | Hybrid: 0.3712\n"
          ]
        },
        {
          "name": "stderr",
          "output_type": "stream",
          "text": [
            "Epoch 165/200: 100%|██████████| 49/49 [00:29<00:00,  1.65it/s, D_loss=0.790, G_loss=2.931, Hybrid=0.343]\n",
            "                                                                     \r"
          ]
        },
        {
          "name": "stdout",
          "output_type": "stream",
          "text": [
            "\n",
            "Validation @ Epoch 165:\n",
            "PSNR: 13.58 dB | SSIM: 0.1424 | LPIPS: 0.3680 | Hybrid: 0.3188\n"
          ]
        },
        {
          "name": "stderr",
          "output_type": "stream",
          "text": [
            "Epoch 166/200: 100%|██████████| 49/49 [00:29<00:00,  1.65it/s, D_loss=0.705, G_loss=4.249, Hybrid=0.452]\n",
            "                                                                     \r"
          ]
        },
        {
          "name": "stdout",
          "output_type": "stream",
          "text": [
            "\n",
            "Validation @ Epoch 166:\n",
            "PSNR: 13.82 dB | SSIM: 0.1500 | LPIPS: 0.3580 | Hybrid: 0.3422\n"
          ]
        },
        {
          "name": "stderr",
          "output_type": "stream",
          "text": [
            "Epoch 167/200: 100%|██████████| 49/49 [00:29<00:00,  1.64it/s, D_loss=0.730, G_loss=4.400, Hybrid=0.451]\n",
            "                                                                     \r"
          ]
        },
        {
          "name": "stdout",
          "output_type": "stream",
          "text": [
            "\n",
            "Validation @ Epoch 167:\n",
            "PSNR: 13.74 dB | SSIM: 0.1385 | LPIPS: 0.3922 | Hybrid: 0.3894\n"
          ]
        },
        {
          "name": "stderr",
          "output_type": "stream",
          "text": [
            "Epoch 168/200: 100%|██████████| 49/49 [00:29<00:00,  1.65it/s, D_loss=0.764, G_loss=3.643, Hybrid=0.421] \n",
            "                                                                     \r"
          ]
        },
        {
          "name": "stdout",
          "output_type": "stream",
          "text": [
            "\n",
            "Validation @ Epoch 168:\n",
            "PSNR: 13.80 dB | SSIM: 0.1413 | LPIPS: 0.3869 | Hybrid: 0.3892\n"
          ]
        },
        {
          "name": "stderr",
          "output_type": "stream",
          "text": [
            "Epoch 169/200: 100%|██████████| 49/49 [00:29<00:00,  1.64it/s, D_loss=0.854, G_loss=4.658, Hybrid=0.433] \n",
            "                                                                     \r"
          ]
        },
        {
          "name": "stdout",
          "output_type": "stream",
          "text": [
            "\n",
            "Validation @ Epoch 169:\n",
            "PSNR: 13.80 dB | SSIM: 0.1389 | LPIPS: 0.3852 | Hybrid: 0.3962\n"
          ]
        },
        {
          "name": "stderr",
          "output_type": "stream",
          "text": [
            "Epoch 170/200: 100%|██████████| 49/49 [00:29<00:00,  1.65it/s, D_loss=1.460, G_loss=3.979, Hybrid=0.409]\n",
            "                                                                     \r"
          ]
        },
        {
          "name": "stdout",
          "output_type": "stream",
          "text": [
            "\n",
            "Validation @ Epoch 170:\n",
            "PSNR: 13.80 dB | SSIM: 0.1466 | LPIPS: 0.3892 | Hybrid: 0.3851\n"
          ]
        },
        {
          "name": "stderr",
          "output_type": "stream",
          "text": [
            "Epoch 171/200: 100%|██████████| 49/49 [00:29<00:00,  1.64it/s, D_loss=0.762, G_loss=4.712, Hybrid=0.491] \n",
            "                                                                     \r"
          ]
        },
        {
          "name": "stdout",
          "output_type": "stream",
          "text": [
            "\n",
            "Validation @ Epoch 171:\n",
            "PSNR: 13.81 dB | SSIM: 0.1442 | LPIPS: 0.3926 | Hybrid: 0.3883\n"
          ]
        },
        {
          "name": "stderr",
          "output_type": "stream",
          "text": [
            "Epoch 172/200: 100%|██████████| 49/49 [00:29<00:00,  1.64it/s, D_loss=0.998, G_loss=4.473, Hybrid=0.473]\n",
            "                                                                     \r"
          ]
        },
        {
          "name": "stdout",
          "output_type": "stream",
          "text": [
            "\n",
            "Validation @ Epoch 172:\n",
            "PSNR: 13.74 dB | SSIM: 0.1225 | LPIPS: 0.4067 | Hybrid: 0.4378\n"
          ]
        },
        {
          "name": "stderr",
          "output_type": "stream",
          "text": [
            "Epoch 173/200: 100%|██████████| 49/49 [00:29<00:00,  1.65it/s, D_loss=0.723, G_loss=3.727, Hybrid=0.396]\n",
            "                                                                     \r"
          ]
        },
        {
          "name": "stdout",
          "output_type": "stream",
          "text": [
            "\n",
            "Validation @ Epoch 173:\n",
            "PSNR: 13.83 dB | SSIM: 0.1456 | LPIPS: 0.3908 | Hybrid: 0.3863\n"
          ]
        },
        {
          "name": "stderr",
          "output_type": "stream",
          "text": [
            "Epoch 174/200: 100%|██████████| 49/49 [00:29<00:00,  1.65it/s, D_loss=0.700, G_loss=4.447, Hybrid=0.415]\n",
            "                                                                     \r"
          ]
        },
        {
          "name": "stdout",
          "output_type": "stream",
          "text": [
            "\n",
            "Validation @ Epoch 174:\n",
            "PSNR: 13.74 dB | SSIM: 0.1496 | LPIPS: 0.3719 | Hybrid: 0.3709\n"
          ]
        },
        {
          "name": "stderr",
          "output_type": "stream",
          "text": [
            "Epoch 175/200: 100%|██████████| 49/49 [00:29<00:00,  1.65it/s, D_loss=0.831, G_loss=4.245, Hybrid=0.418]\n",
            "                                                                     \r"
          ]
        },
        {
          "name": "stdout",
          "output_type": "stream",
          "text": [
            "\n",
            "Validation @ Epoch 175:\n",
            "PSNR: 13.78 dB | SSIM: 0.1350 | LPIPS: 0.3992 | Hybrid: 0.4058\n"
          ]
        },
        {
          "name": "stderr",
          "output_type": "stream",
          "text": [
            "Epoch 176/200: 100%|██████████| 49/49 [00:29<00:00,  1.64it/s, D_loss=0.721, G_loss=4.650, Hybrid=0.452]\n",
            "                                                                     \r"
          ]
        },
        {
          "name": "stdout",
          "output_type": "stream",
          "text": [
            "\n",
            "Validation @ Epoch 176:\n",
            "PSNR: 13.66 dB | SSIM: 0.1081 | LPIPS: 0.4505 | Hybrid: 0.4651\n"
          ]
        },
        {
          "name": "stderr",
          "output_type": "stream",
          "text": [
            "Epoch 177/200: 100%|██████████| 49/49 [00:29<00:00,  1.65it/s, D_loss=8.347, G_loss=5.738, Hybrid=0.538]  \n",
            "                                                                     \r"
          ]
        },
        {
          "name": "stdout",
          "output_type": "stream",
          "text": [
            "\n",
            "Validation @ Epoch 177:\n",
            "PSNR: 13.83 dB | SSIM: 0.1496 | LPIPS: 0.3851 | Hybrid: 0.3915\n"
          ]
        },
        {
          "name": "stderr",
          "output_type": "stream",
          "text": [
            "Epoch 178/200: 100%|██████████| 49/49 [00:29<00:00,  1.65it/s, D_loss=0.982, G_loss=4.872, Hybrid=0.444] \n",
            "                                                                     \r"
          ]
        },
        {
          "name": "stdout",
          "output_type": "stream",
          "text": [
            "\n",
            "Validation @ Epoch 178:\n",
            "PSNR: 13.84 dB | SSIM: 0.1494 | LPIPS: 0.3695 | Hybrid: 0.3721\n"
          ]
        },
        {
          "name": "stderr",
          "output_type": "stream",
          "text": [
            "Epoch 179/200: 100%|██████████| 49/49 [00:29<00:00,  1.64it/s, D_loss=0.773, G_loss=3.843, Hybrid=0.419] \n",
            "                                                                     \r"
          ]
        },
        {
          "name": "stdout",
          "output_type": "stream",
          "text": [
            "\n",
            "Validation @ Epoch 179:\n",
            "PSNR: 13.84 dB | SSIM: 0.1489 | LPIPS: 0.3698 | Hybrid: 0.3734\n"
          ]
        },
        {
          "name": "stderr",
          "output_type": "stream",
          "text": [
            "Epoch 180/200: 100%|██████████| 49/49 [00:29<00:00,  1.65it/s, D_loss=33.581, G_loss=4.495, Hybrid=0.449]\n",
            "                                                                     \r"
          ]
        },
        {
          "name": "stdout",
          "output_type": "stream",
          "text": [
            "\n",
            "Validation @ Epoch 180:\n",
            "PSNR: 13.81 dB | SSIM: 0.1447 | LPIPS: 0.3851 | Hybrid: 0.3950\n"
          ]
        },
        {
          "name": "stderr",
          "output_type": "stream",
          "text": [
            "Epoch 181/200: 100%|██████████| 49/49 [00:29<00:00,  1.65it/s, D_loss=0.869, G_loss=4.174, Hybrid=0.453]\n",
            "                                                                     \r"
          ]
        },
        {
          "name": "stdout",
          "output_type": "stream",
          "text": [
            "\n",
            "Validation @ Epoch 181:\n",
            "PSNR: 13.82 dB | SSIM: 0.1545 | LPIPS: 0.3690 | Hybrid: 0.3663\n"
          ]
        },
        {
          "name": "stderr",
          "output_type": "stream",
          "text": [
            "Epoch 182/200: 100%|██████████| 49/49 [00:29<00:00,  1.65it/s, D_loss=0.701, G_loss=3.617, Hybrid=0.376]\n",
            "                                                                     \r"
          ]
        },
        {
          "name": "stdout",
          "output_type": "stream",
          "text": [
            "\n",
            "Validation @ Epoch 182:\n",
            "PSNR: 13.66 dB | SSIM: 0.1105 | LPIPS: 0.4243 | Hybrid: 0.4505\n"
          ]
        },
        {
          "name": "stderr",
          "output_type": "stream",
          "text": [
            "Epoch 183/200: 100%|██████████| 49/49 [00:29<00:00,  1.65it/s, D_loss=0.724, G_loss=4.015, Hybrid=0.471]\n",
            "                                                                     \r"
          ]
        },
        {
          "name": "stdout",
          "output_type": "stream",
          "text": [
            "\n",
            "Validation @ Epoch 183:\n",
            "PSNR: 13.82 dB | SSIM: 0.1431 | LPIPS: 0.3880 | Hybrid: 0.4044\n"
          ]
        },
        {
          "name": "stderr",
          "output_type": "stream",
          "text": [
            "Epoch 184/200: 100%|██████████| 49/49 [00:29<00:00,  1.65it/s, D_loss=0.718, G_loss=4.599, Hybrid=0.459]\n",
            "                                                                     \r"
          ]
        },
        {
          "name": "stdout",
          "output_type": "stream",
          "text": [
            "\n",
            "Validation @ Epoch 184:\n",
            "PSNR: 13.80 dB | SSIM: 0.1447 | LPIPS: 0.3718 | Hybrid: 0.3830\n"
          ]
        },
        {
          "name": "stderr",
          "output_type": "stream",
          "text": [
            "Epoch 185/200: 100%|██████████| 49/49 [00:29<00:00,  1.64it/s, D_loss=0.720, G_loss=3.530, Hybrid=0.419]\n",
            "                                                                     \r"
          ]
        },
        {
          "name": "stdout",
          "output_type": "stream",
          "text": [
            "\n",
            "Validation @ Epoch 185:\n",
            "PSNR: 13.83 dB | SSIM: 0.1445 | LPIPS: 0.3875 | Hybrid: 0.4160\n"
          ]
        },
        {
          "name": "stderr",
          "output_type": "stream",
          "text": [
            "Epoch 186/200: 100%|██████████| 49/49 [00:29<00:00,  1.64it/s, D_loss=0.711, G_loss=4.064, Hybrid=0.413]\n",
            "                                                                     \r"
          ]
        },
        {
          "name": "stdout",
          "output_type": "stream",
          "text": [
            "\n",
            "Validation @ Epoch 186:\n",
            "PSNR: 13.83 dB | SSIM: 0.1542 | LPIPS: 0.3689 | Hybrid: 0.3653\n"
          ]
        },
        {
          "name": "stderr",
          "output_type": "stream",
          "text": [
            "Epoch 187/200: 100%|██████████| 49/49 [00:29<00:00,  1.64it/s, D_loss=0.737, G_loss=4.891, Hybrid=0.436]\n",
            "                                                                     \r"
          ]
        },
        {
          "name": "stdout",
          "output_type": "stream",
          "text": [
            "\n",
            "Validation @ Epoch 187:\n",
            "PSNR: 13.83 dB | SSIM: 0.1435 | LPIPS: 0.3794 | Hybrid: 0.4074\n"
          ]
        },
        {
          "name": "stderr",
          "output_type": "stream",
          "text": [
            "Epoch 188/200: 100%|██████████| 49/49 [00:29<00:00,  1.65it/s, D_loss=1.606, G_loss=3.768, Hybrid=0.418]\n",
            "                                                                     \r"
          ]
        },
        {
          "name": "stdout",
          "output_type": "stream",
          "text": [
            "\n",
            "Validation @ Epoch 188:\n",
            "PSNR: 13.79 dB | SSIM: 0.1433 | LPIPS: 0.3925 | Hybrid: 0.3973\n"
          ]
        },
        {
          "name": "stderr",
          "output_type": "stream",
          "text": [
            "Epoch 189/200: 100%|██████████| 49/49 [00:29<00:00,  1.64it/s, D_loss=0.704, G_loss=4.600, Hybrid=0.454]\n",
            "                                                                     \r"
          ]
        },
        {
          "name": "stdout",
          "output_type": "stream",
          "text": [
            "\n",
            "Validation @ Epoch 189:\n",
            "PSNR: 13.78 dB | SSIM: 0.1333 | LPIPS: 0.3991 | Hybrid: 0.4349\n"
          ]
        },
        {
          "name": "stderr",
          "output_type": "stream",
          "text": [
            "Epoch 190/200: 100%|██████████| 49/49 [00:29<00:00,  1.65it/s, D_loss=0.706, G_loss=4.908, Hybrid=0.485]\n",
            "                                                                     \r"
          ]
        },
        {
          "name": "stdout",
          "output_type": "stream",
          "text": [
            "\n",
            "Validation @ Epoch 190:\n",
            "PSNR: 13.66 dB | SSIM: 0.1146 | LPIPS: 0.4354 | Hybrid: 0.4805\n"
          ]
        },
        {
          "name": "stderr",
          "output_type": "stream",
          "text": [
            "Epoch 191/200: 100%|██████████| 49/49 [00:29<00:00,  1.65it/s, D_loss=0.704, G_loss=4.314, Hybrid=0.417]\n",
            "                                                                     \r"
          ]
        },
        {
          "name": "stdout",
          "output_type": "stream",
          "text": [
            "\n",
            "Validation @ Epoch 191:\n",
            "PSNR: 13.77 dB | SSIM: 0.1523 | LPIPS: 0.3576 | Hybrid: 0.3683\n"
          ]
        },
        {
          "name": "stderr",
          "output_type": "stream",
          "text": [
            "Epoch 192/200: 100%|██████████| 49/49 [00:29<00:00,  1.65it/s, D_loss=0.715, G_loss=4.174, Hybrid=0.449]\n",
            "                                                                     \r"
          ]
        },
        {
          "name": "stdout",
          "output_type": "stream",
          "text": [
            "\n",
            "Validation @ Epoch 192:\n",
            "PSNR: 13.79 dB | SSIM: 0.1341 | LPIPS: 0.3979 | Hybrid: 0.4319\n"
          ]
        },
        {
          "name": "stderr",
          "output_type": "stream",
          "text": [
            "Epoch 193/200: 100%|██████████| 49/49 [00:29<00:00,  1.65it/s, D_loss=0.765, G_loss=3.685, Hybrid=0.420]\n",
            "                                                                     \r"
          ]
        },
        {
          "name": "stdout",
          "output_type": "stream",
          "text": [
            "\n",
            "Validation @ Epoch 193:\n",
            "PSNR: 13.79 dB | SSIM: 0.1382 | LPIPS: 0.3837 | Hybrid: 0.4238\n"
          ]
        },
        {
          "name": "stderr",
          "output_type": "stream",
          "text": [
            "Epoch 194/200: 100%|██████████| 49/49 [00:29<00:00,  1.65it/s, D_loss=0.719, G_loss=4.077, Hybrid=0.435]\n",
            "                                                                     \r"
          ]
        },
        {
          "name": "stdout",
          "output_type": "stream",
          "text": [
            "\n",
            "Validation @ Epoch 194:\n",
            "PSNR: 13.80 dB | SSIM: 0.1388 | LPIPS: 0.3896 | Hybrid: 0.3980\n"
          ]
        },
        {
          "name": "stderr",
          "output_type": "stream",
          "text": [
            "Epoch 195/200: 100%|██████████| 49/49 [00:29<00:00,  1.64it/s, D_loss=0.720, G_loss=4.365, Hybrid=0.459]\n",
            "                                                                     \r"
          ]
        },
        {
          "name": "stdout",
          "output_type": "stream",
          "text": [
            "\n",
            "Validation @ Epoch 195:\n",
            "PSNR: 13.83 dB | SSIM: 0.1568 | LPIPS: 0.3629 | Hybrid: 0.3703\n"
          ]
        },
        {
          "name": "stderr",
          "output_type": "stream",
          "text": [
            "Epoch 196/200: 100%|██████████| 49/49 [00:29<00:00,  1.64it/s, D_loss=0.733, G_loss=4.114, Hybrid=0.466]\n",
            "                                                                     \r"
          ]
        },
        {
          "name": "stdout",
          "output_type": "stream",
          "text": [
            "\n",
            "Validation @ Epoch 196:\n",
            "PSNR: 13.80 dB | SSIM: 0.1584 | LPIPS: 0.3694 | Hybrid: 0.3821\n"
          ]
        },
        {
          "name": "stderr",
          "output_type": "stream",
          "text": [
            "Epoch 197/200: 100%|██████████| 49/49 [00:29<00:00,  1.64it/s, D_loss=0.719, G_loss=3.404, Hybrid=0.399]\n",
            "                                                                     \r"
          ]
        },
        {
          "name": "stdout",
          "output_type": "stream",
          "text": [
            "\n",
            "Validation @ Epoch 197:\n",
            "PSNR: 13.73 dB | SSIM: 0.1235 | LPIPS: 0.4073 | Hybrid: 0.4579\n"
          ]
        },
        {
          "name": "stderr",
          "output_type": "stream",
          "text": [
            "Epoch 198/200: 100%|██████████| 49/49 [00:29<00:00,  1.64it/s, D_loss=0.703, G_loss=4.508, Hybrid=0.419]\n",
            "                                                                     \r"
          ]
        },
        {
          "name": "stdout",
          "output_type": "stream",
          "text": [
            "\n",
            "Validation @ Epoch 198:\n",
            "PSNR: 13.84 dB | SSIM: 0.1519 | LPIPS: 0.3795 | Hybrid: 0.3840\n"
          ]
        },
        {
          "name": "stderr",
          "output_type": "stream",
          "text": [
            "Epoch 199/200: 100%|██████████| 49/49 [00:29<00:00,  1.65it/s, D_loss=1.127, G_loss=4.767, Hybrid=0.515] \n",
            "                                                                     \r"
          ]
        },
        {
          "name": "stdout",
          "output_type": "stream",
          "text": [
            "\n",
            "Validation @ Epoch 199:\n",
            "PSNR: 13.79 dB | SSIM: 0.1370 | LPIPS: 0.4054 | Hybrid: 0.4369\n"
          ]
        },
        {
          "name": "stderr",
          "output_type": "stream",
          "text": [
            "Epoch 200/200: 100%|██████████| 49/49 [00:29<00:00,  1.65it/s, D_loss=0.804, G_loss=4.266, Hybrid=0.458]\n",
            "                                                                     \r"
          ]
        },
        {
          "name": "stdout",
          "output_type": "stream",
          "text": [
            "\n",
            "Validation @ Epoch 200:\n",
            "PSNR: 13.86 dB | SSIM: 0.1498 | LPIPS: 0.3804 | Hybrid: 0.4022\n",
            "Total training time: 1h 47m 56.52s\n"
          ]
        }
      ],
      "source": [
        "import math\n",
        "import os\n",
        "import time\n",
        "import torch\n",
        "import torch.nn.functional as F\n",
        "from torchmetrics import StructuralSimilarityIndexMeasure as SSIM\n",
        "from torchmetrics import PeakSignalNoiseRatio as PSNR\n",
        "from piq import LPIPS\n",
        "from tqdm import tqdm\n",
        "from torch import nn, optim\n",
        "from torchvision import models\n",
        "from torchvision.utils import save_image\n",
        "\n",
        "class ResidualDenseBlock(nn.Module):\n",
        "    def __init__(self, in_channels=64, growth_rate=32):\n",
        "        super(ResidualDenseBlock, self).__init__()\n",
        "        self.conv1 = nn.Conv2d(in_channels, growth_rate, kernel_size=3, padding=1)\n",
        "        self.conv2 = nn.Conv2d(in_channels + growth_rate, growth_rate, kernel_size=3, padding=1)\n",
        "        self.conv3 = nn.Conv2d(in_channels + 2 * growth_rate, in_channels, kernel_size=3, padding=1)\n",
        "\n",
        "    def forward(self, x):\n",
        "        out1 = torch.relu(self.conv1(x))\n",
        "        out2 = torch.relu(self.conv2(torch.cat([x, out1], dim=1)))\n",
        "        out3 = self.conv3(torch.cat([x, out1, out2], dim=1))\n",
        "        return x + out3\n",
        "\n",
        "class RRDB(nn.Module):\n",
        "    def __init__(self, in_channels=64, beta=0.2):  \n",
        "        super(RRDB, self).__init__()\n",
        "        self.rdb1 = ResidualDenseBlock(in_channels)\n",
        "        self.rdb2 = ResidualDenseBlock(in_channels)\n",
        "        self.rdb3 = ResidualDenseBlock(in_channels)\n",
        "        self.beta = beta  # Scaling factor for residual\n",
        "\n",
        "    def forward(self, x):\n",
        "        residual = self.rdb3(self.rdb2(self.rdb1(x)))\n",
        "        return x + self.beta * residual  # Scaled residual for stability\n",
        "    \n",
        "class Generator(nn.Module):\n",
        "    def __init__(self, num_rrdb=6):\n",
        "        super(Generator, self).__init__()\n",
        "\n",
        "        # Initial feature extraction\n",
        "        self.initial_conv = nn.Sequential(\n",
        "            nn.Conv2d(3, 64, kernel_size=3, padding=1),\n",
        "            nn.ReLU(inplace=True),\n",
        "            nn.Conv2d(64, 64, kernel_size=3, padding=1),\n",
        "            nn.ReLU(inplace=True)\n",
        "        )\n",
        "\n",
        "        # RRDB Blocks\n",
        "        self.rrdb_blocks = nn.Sequential(*[RRDB(64) for _ in range(num_rrdb)])\n",
        "\n",
        "        # Global Residual Path (helps learn overall brightness correction)\n",
        "        self.global_residual = nn.Conv2d(3, 3, kernel_size=3, padding=1)\n",
        "\n",
        "        # Final convolution layers for reconstruction\n",
        "        self.final_conv = nn.Sequential(\n",
        "            nn.Conv2d(64, 64, kernel_size=3, padding=1),\n",
        "            nn.ReLU(inplace=True),\n",
        "            nn.Conv2d(64, 3, kernel_size=3, padding=1)\n",
        "        )\n",
        "\n",
        "    def forward(self, x):\n",
        "        initial_features = self.initial_conv(x)\n",
        "        enhanced_features = self.rrdb_blocks(initial_features)\n",
        "        reconstructed = self.final_conv(enhanced_features)\n",
        "        \n",
        "        # Adding the global residual path\n",
        "        output = reconstructed + self.global_residual(x)\n",
        "        \n",
        "        return torch.sigmoid(output)  # Normalize output to [0,1]\n",
        "    \n",
        "class PatchGANDiscriminator(nn.Module):\n",
        "    def __init__(self, in_channels=3, num_filters=64, num_layers=3):\n",
        "        super(PatchGANDiscriminator, self).__init__()\n",
        "        \n",
        "        # Initial convolutional layer\n",
        "        layers = [\n",
        "            nn.Conv2d(in_channels, num_filters, kernel_size=4, stride=2, padding=1),\n",
        "            nn.LeakyReLU(0.2, inplace=True)\n",
        "        ]\n",
        "        \n",
        "        # Intermediate convolutional layers\n",
        "        for i in range(1, num_layers):\n",
        "            layers += [\n",
        "                nn.Conv2d(num_filters * (2 ** (i - 1)), num_filters * (2 ** i), kernel_size=4, stride=2, padding=1),\n",
        "                nn.InstanceNorm2d(num_filters * (2 ** i)),\n",
        "                nn.LeakyReLU(0.2, inplace=True)\n",
        "            ]\n",
        "        \n",
        "        # Final convolutional layer\n",
        "        layers += [\n",
        "            nn.Conv2d(num_filters * (2 ** (num_layers - 1)), 1, kernel_size=4, stride=1, padding=1)\n",
        "        ]\n",
        "        \n",
        "        self.model = nn.Sequential(*layers)\n",
        "\n",
        "    def forward(self, x):\n",
        "        return self.model(x)  # Output shape: [batch_size, 1, H, W]\n",
        "    \n",
        "class GANLoss(nn.Module):\n",
        "    def __init__(self):\n",
        "        super().__init__()\n",
        "        self.loss = nn.BCEWithLogitsLoss()\n",
        "\n",
        "    def forward(self, pred, target_is_real):\n",
        "        target = torch.ones_like(pred) if target_is_real else torch.zeros_like(pred)\n",
        "        return self.loss(pred, target)\n",
        "\n",
        "class PerceptualLoss(nn.Module):\n",
        "    def __init__(self):\n",
        "        super(PerceptualLoss, self).__init__()\n",
        "        vgg = models.vgg19(pretrained=True).features[:16]  # Use first few layers\n",
        "        for param in vgg.parameters():\n",
        "            param.requires_grad = False  # Freeze VGG model\n",
        "        self.vgg = vgg.eval()\n",
        "        self.criterion = nn.L1Loss()\n",
        "\n",
        "    def forward(self, x, y):\n",
        "        x_features = self.vgg(x)\n",
        "        y_features = self.vgg(y)\n",
        "        return self.criterion(x_features, y_features)\n",
        "    \n",
        "def compute_gradient_penalty(disc, real_samples, fake_samples):\n",
        "    \"\"\"Calculates the gradient penalty loss for WGAN GP\"\"\"\n",
        "    # Random weight term for interpolation between real and fake samples\n",
        "    device = real_samples.device\n",
        "    alpha = torch.rand(real_samples.size(0), 1, 1, 1, device=device)\n",
        "    # Get random interpolation between real and fake samples\n",
        "    interpolates = (alpha * real_samples + ((1 - alpha) * fake_samples)).requires_grad_(True)\n",
        "    d_interpolates = disc(interpolates)\n",
        "    fake = torch.ones_like(d_interpolates)\n",
        "    \n",
        "    # Get gradient w.r.t. interpolates\n",
        "    gradients = torch.autograd.grad(\n",
        "        outputs=d_interpolates,\n",
        "        inputs=interpolates,\n",
        "        grad_outputs=fake,\n",
        "        create_graph=True,\n",
        "        retain_graph=True,\n",
        "        only_inputs=True,\n",
        "    )[0]\n",
        "    gradients = gradients.view(gradients.size(0), -1)\n",
        "    gradient_penalty = ((gradients.norm(2, dim=1) - 1) ** 2).mean()\n",
        "    return gradient_penalty\n",
        "\n",
        "def validate(generator, val_loader, epoch, criterion_perceptual, ssim, psnr, lpips, device):\n",
        "    generator.eval()\n",
        "    val_metrics = {'psnr': 0, 'ssim': 0, 'lpips': 0, 'val_loss': 0}\n",
        "\n",
        "    with torch.no_grad():\n",
        "        for low, high, *_ in tqdm(val_loader, desc=f'Validation Epoch {epoch}', leave=False):\n",
        "            low, high = low.to(device), high.to(device)\n",
        "            fake = generator(low)\n",
        "\n",
        "            # Validation loss (L1 + perceptual)\n",
        "            loss = (10 * F.l1_loss(fake, high) + 0.1 * criterion_perceptual(fake, high)).item()\n",
        "            \n",
        "            # Update metrics\n",
        "            val_metrics['val_loss'] += loss\n",
        "            val_metrics['psnr'] += psnr(fake, high)\n",
        "            val_metrics['ssim'] += ssim(fake, high)\n",
        "            val_metrics['lpips'] += lpips(fake, high)\n",
        "\n",
        "    for k in val_metrics:\n",
        "        val_metrics[k] /= len(val_loader)\n",
        "    return val_metrics\n",
        "\n",
        "class HybridLoss(nn.Module):\n",
        "    def __init__(self, device, total_epochs=200):\n",
        "        super().__init__()\n",
        "        self.lpips = LPIPS(replace_pooling=True).to(device).eval()\n",
        "        self.ssim = SSIM().to(device).eval()\n",
        "        self.total_epochs = total_epochs\n",
        "        self.current_epoch = 0\n",
        "        \n",
        "    def forward(self, pred, target, noise_pred=None, true_noise=None):\n",
        "        \"\"\"Combined loss with dynamic weighting\"\"\"\n",
        "        # Base losses\n",
        "        mse_loss = F.mse_loss(pred, target)  # If noise_pred is not provided, use direct MSE\n",
        "        if noise_pred is not None and true_noise is not None:\n",
        "            mse_loss = F.mse_loss(noise_pred, true_noise)\n",
        "            \n",
        "        lpips_loss = self.lpips(pred, target)\n",
        "        ssim_loss = 1 - self.ssim(pred, target)\n",
        "        \n",
        "        # Dynamic weights (progressively focus more on perceptual quality)\n",
        "        progress = self.current_epoch / self.total_epochs\n",
        "        lpips_w = 0.4  # Fixed high importance for perceptual quality\n",
        "        ssim_w = 0.3 * progress  # Increasing structural importance\n",
        "        mse_w = 1.0 - lpips_w - ssim_w  # Decreasing noise prediction importance\n",
        "        \n",
        "        total_loss = mse_w * mse_loss + lpips_w * lpips_loss + ssim_w * ssim_loss\n",
        "        \n",
        "        # Additional metrics\n",
        "        with torch.no_grad():\n",
        "            psnr = 10 * torch.log10(1 / F.mse_loss(pred, target))\n",
        "            \n",
        "        return total_loss, {\n",
        "            'loss': total_loss.item(),\n",
        "            'mse': mse_loss.item(),\n",
        "            'lpips': lpips_loss.item(),\n",
        "            'ssim': 1 - ssim_loss.item(),\n",
        "            'psnr': psnr.item()\n",
        "        }\n",
        "    \n",
        "def train_gan(\n",
        "    generator,\n",
        "    discriminator,\n",
        "    train_loader,\n",
        "    val_loader,\n",
        "    criterion_gan,\n",
        "    criterion_l1,\n",
        "    criterion_perceptual,\n",
        "    criterion_hybrid,\n",
        "    opt_g,\n",
        "    opt_d,\n",
        "    epochs,\n",
        "    device,\n",
        "    save_dir=\"NOAUG_RRDB_CHECKPOINTS\"\n",
        "):\n",
        "    os.makedirs(save_dir, exist_ok=True)\n",
        "    best_ssim = 0\n",
        "    best_psnr = 0\n",
        "    best_lpips = 100\n",
        "    best_hybrid_loss = float('inf')\n",
        "    \n",
        "    # Record training start time\n",
        "    start_time = time.time()\n",
        "\n",
        "    for epoch in range(epochs):\n",
        "        # Update current epoch for hybrid loss\n",
        "        criterion_hybrid.current_epoch = epoch\n",
        "        \n",
        "        # Training phase\n",
        "        generator.train()\n",
        "        discriminator.train()\n",
        "\n",
        "        train_bar = tqdm(train_loader, desc=f'Epoch {epoch+1}/{epochs}')\n",
        "        for low, high, *_ in train_bar:\n",
        "            low, high = low.to(device), high.to(device)\n",
        "\n",
        "            # --- Discriminator Update ---\n",
        "            opt_d.zero_grad()\n",
        "\n",
        "            # Real images\n",
        "            real_pred = discriminator(high)\n",
        "            real_loss = criterion_gan(real_pred, True)\n",
        "\n",
        "            # Fake images\n",
        "            fake = generator(low).detach()\n",
        "            fake_pred = discriminator(fake)\n",
        "            fake_loss = criterion_gan(fake_pred, False)\n",
        "            \n",
        "            gp = compute_gradient_penalty(discriminator, high.data, fake.data)\n",
        "            d_loss = (real_loss + fake_loss) / 2 + 10*gp\n",
        "            d_loss.backward()\n",
        "            opt_d.step()\n",
        "\n",
        "            # --- Generator Update ---\n",
        "            opt_g.zero_grad()\n",
        "            fake = generator(low)\n",
        "            \n",
        "            # GAN loss\n",
        "            g_gan_loss = criterion_gan(discriminator(fake), True)\n",
        "            \n",
        "            # Hybrid loss\n",
        "            hybrid_loss, hybrid_metrics = criterion_hybrid(fake, high)\n",
        "            \n",
        "            # Content loss\n",
        "            g_l1_loss = criterion_l1(fake, high) * 10\n",
        "            g_perc_loss = criterion_perceptual(fake, high) * 0.1\n",
        "            \n",
        "            # Combined generator loss\n",
        "            g_loss = g_gan_loss + 0.5 * hybrid_loss + g_l1_loss + g_perc_loss\n",
        "            g_loss.backward()\n",
        "            opt_g.step()\n",
        "\n",
        "            # Update progress bar\n",
        "            train_bar.set_postfix({\n",
        "                'D_loss': f'{d_loss.item():.3f}',\n",
        "                'G_loss': f'{g_loss.item():.3f}',\n",
        "                'Hybrid': f'{hybrid_loss.item():.3f}'\n",
        "            })\n",
        "\n",
        "        # Validation phase\n",
        "        val_metrics = validate(generator, val_loader, epoch+1, criterion_perceptual, ssim, psnr, lpips, device)\n",
        "        \n",
        "        # Calculate hybrid loss for validation\n",
        "        with torch.no_grad():\n",
        "            # Sample a batch from validation\n",
        "            val_low, val_high = next(iter(val_loader))[:2]\n",
        "            val_low, val_high = val_low.to(device), val_high.to(device)\n",
        "            val_fake = generator(val_low)\n",
        "            \n",
        "            # Compute hybrid loss\n",
        "            val_hybrid_loss, _ = criterion_hybrid(val_fake, val_high)\n",
        "            val_metrics['hybrid_loss'] = val_hybrid_loss.item()\n",
        "\n",
        "        # Print metrics\n",
        "        print(f\"\\nValidation @ Epoch {epoch+1}:\")\n",
        "        print(f\"PSNR: {val_metrics['psnr']:.2f} dB | SSIM: {val_metrics['ssim']:.4f} | LPIPS: {val_metrics['lpips']:.4f} | Hybrid: {val_metrics['hybrid_loss']:.4f}\")\n",
        "\n",
        "        # Save checkpoint for every epoch\n",
        "        torch.save({\n",
        "            'epoch': epoch+1,\n",
        "            'generator': generator.state_dict(),\n",
        "            'discriminator': discriminator.state_dict(),\n",
        "            'opt_g': opt_g.state_dict(),\n",
        "            'opt_d': opt_d.state_dict(),\n",
        "            'metrics': val_metrics\n",
        "        }, os.path.join(save_dir, f'epoch_{epoch+1}.pth'))\n",
        "\n",
        "        # Save best model - Hybrid Loss\n",
        "        if val_metrics['hybrid_loss'] < best_hybrid_loss:\n",
        "            best_hybrid_loss = val_metrics['hybrid_loss']\n",
        "            torch.save(generator.state_dict(), os.path.join(save_dir, 'best_hybrid.pth'))\n",
        "\n",
        "        # Save best model - Combined metrics\n",
        "        if (val_metrics['psnr'] > best_psnr) and (val_metrics['lpips'] < best_lpips) and (val_metrics['ssim'] > best_ssim):\n",
        "            torch.save(generator.state_dict(), os.path.join(save_dir, 'best_model.pth'))\n",
        "\n",
        "        if (val_metrics['lpips'] < best_lpips) and (val_metrics['ssim'] > best_ssim):\n",
        "            torch.save(generator.state_dict(), os.path.join(save_dir, 'best_lpips_ssim.pth'))\n",
        "\n",
        "        if (val_metrics['psnr'] > best_psnr) and (val_metrics['ssim'] > best_ssim):\n",
        "            torch.save(generator.state_dict(), os.path.join(save_dir, 'best_psnr_ssim.pth'))\n",
        "\n",
        "        if (val_metrics['psnr'] > best_psnr) and (val_metrics['lpips'] < best_lpips):\n",
        "            torch.save(generator.state_dict(), os.path.join(save_dir, 'best_psnr_lpips.pth'))\n",
        "                \n",
        "        if val_metrics['ssim'] > best_ssim:\n",
        "            best_ssim = val_metrics['ssim']\n",
        "            torch.save(generator.state_dict(), os.path.join(save_dir, 'best_ssim.pth'))\n",
        "                    \n",
        "        if val_metrics['psnr'] > best_psnr:\n",
        "            best_psnr = val_metrics['psnr']\n",
        "            torch.save(generator.state_dict(), os.path.join(save_dir, 'best_psnr.pth'))\n",
        "\n",
        "        if val_metrics['lpips'] < best_lpips:\n",
        "            best_lpips = val_metrics['lpips']\n",
        "            torch.save(generator.state_dict(), os.path.join(save_dir, 'best_lpips.pth'))\n",
        "\n",
        "        # Sample images\n",
        "        if (epoch+1) % 5 == 0:\n",
        "            with torch.no_grad():\n",
        "                fake = generator(low[:3])  # First 3 samples\n",
        "                save_image(\n",
        "                    torch.cat([low[:3], fake, high[:3]], 0),\n",
        "                    os.path.join(save_dir, f'sample_epoch_{epoch+1}.png'),\n",
        "                    nrow=3,\n",
        "                    normalize=True\n",
        "                )\n",
        "    \n",
        "    # Calculate and print total training time\n",
        "    total_training_time = time.time() - start_time\n",
        "    hours, remainder = divmod(total_training_time, 3600)\n",
        "    minutes, seconds = divmod(remainder, 60)\n",
        "    print(f\"Total training time: {int(hours)}h {int(minutes)}m {seconds:.2f}s\")\n",
        "    \n",
        "    # Save final model with training time information\n",
        "    torch.save({\n",
        "        'generator': generator.state_dict(),\n",
        "        'discriminator': discriminator.state_dict(),\n",
        "        'metrics': {\n",
        "            'best_psnr': best_psnr,\n",
        "            'best_ssim': best_ssim,\n",
        "            'best_lpips': best_lpips,\n",
        "            'best_hybrid_loss': best_hybrid_loss\n",
        "        },\n",
        "        'training_time': total_training_time\n",
        "    }, os.path.join(save_dir, 'final_model.pth'))\n",
        "\n",
        "## Common evaluating Metrics\n",
        "device = torch.device('cuda:3' if torch.cuda.is_available() else 'cpu')\n",
        "\n",
        "# Initialize metrics\n",
        "psnr = PSNR().to(device)\n",
        "ssim = SSIM().to(device)\n",
        "lpips = LPIPS(replace_pooling=True).to(device)\n",
        "\n",
        "# Initialize models and losses\n",
        "generator = Generator().to(device)\n",
        "discriminator = PatchGANDiscriminator().to(device)\n",
        "opt_g = optim.Adam(generator.parameters(), lr=1e-4, betas=(0.5, 0.999))\n",
        "opt_d = optim.Adam(discriminator.parameters(), lr=4e-4, betas=(0.5, 0.999))\n",
        "\n",
        "# Losses\n",
        "criterion_gan = GANLoss().to(device)\n",
        "criterion_l1 = nn.L1Loss().to(device)\n",
        "criterion_perceptual = PerceptualLoss().to(device)\n",
        "criterion_hybrid = HybridLoss(device, total_epochs=200)\n",
        "\n",
        "train_gan(\n",
        "    generator=generator,\n",
        "    discriminator=discriminator,\n",
        "    train_loader=train_loader,\n",
        "    val_loader=val_loader,\n",
        "    criterion_gan=criterion_gan,\n",
        "    criterion_l1=criterion_l1,\n",
        "    criterion_perceptual=criterion_perceptual,\n",
        "    criterion_hybrid=criterion_hybrid,\n",
        "    opt_g=opt_g,\n",
        "    opt_d=opt_d,\n",
        "    epochs=200,\n",
        "    device=device\n",
        ")"
      ]
    },
    {
      "cell_type": "code",
      "execution_count": 48,
      "metadata": {},
      "outputs": [
        {
          "name": "stderr",
          "output_type": "stream",
          "text": [
            "Testing: 100%|██████████| 15/15 [00:01<00:00,  9.48it/s]\n"
          ]
        },
        {
          "data": {
            "text/plain": [
              "{'psnr': 13.840113321940104,\n",
              " 'ssim': 0.6547555923461914,\n",
              " 'lpips': 0.37628879547119143,\n",
              " 'samples': ['RRDB_normalized_result/sample_0000.png',\n",
              "  'RRDB_normalized_result/sample_0001.png',\n",
              "  'RRDB_normalized_result/sample_0002.png',\n",
              "  'RRDB_normalized_result/sample_0003.png',\n",
              "  'RRDB_normalized_result/sample_0004.png',\n",
              "  'RRDB_normalized_result/sample_0005.png',\n",
              "  'RRDB_normalized_result/sample_0006.png',\n",
              "  'RRDB_normalized_result/sample_0007.png',\n",
              "  'RRDB_normalized_result/sample_0008.png',\n",
              "  'RRDB_normalized_result/sample_0009.png',\n",
              "  'RRDB_normalized_result/sample_0010.png',\n",
              "  'RRDB_normalized_result/sample_0011.png',\n",
              "  'RRDB_normalized_result/sample_0012.png',\n",
              "  'RRDB_normalized_result/sample_0013.png',\n",
              "  'RRDB_normalized_result/sample_0014.png']}"
            ]
          },
          "execution_count": 48,
          "metadata": {},
          "output_type": "execute_result"
        }
      ],
      "source": [
        "def unnormalize_tensor(tensor):\n",
        "    \"\"\"Unnormalize a tensor normalized with mean (0.5, 0.5, 0.5) and std (0.5, 0.5, 0.5)\"\"\"\n",
        "    return (tensor * 0.5) + 0.5\n",
        "\n",
        "def add_labels_to_image(image_tensor, labels):\n",
        "    \"\"\"\n",
        "    Add text labels to an image tensor\n",
        "    Args:\n",
        "        image_tensor: Tensor of shape (C, H, W)\n",
        "        labels: List of strings for each section\n",
        "    Returns:\n",
        "        Labeled PIL Image\n",
        "    \"\"\"\n",
        "    # Convert tensor to PIL Image\n",
        "    image = transforms.ToPILImage()(image_tensor.cpu())\n",
        "\n",
        "    # Create drawing context\n",
        "    draw = ImageDraw.Draw(image)\n",
        "\n",
        "    try:\n",
        "        font = ImageFont.truetype(\"arial.ttf\", 20)\n",
        "    except:\n",
        "        font = ImageFont.load_default()\n",
        "\n",
        "    # Calculate section widths\n",
        "    width = image.width\n",
        "    section_width = width // len(labels)\n",
        "\n",
        "    # Add labels to each section\n",
        "    for i, label in enumerate(labels):\n",
        "        # Get text bounding box (modern Pillow)\n",
        "        left, top, right, bottom = draw.textbbox((0, 0), label, font=font)\n",
        "        text_width = right - left\n",
        "        text_height = bottom - top\n",
        "\n",
        "        x = i * section_width + (section_width - text_width) // 2\n",
        "        draw.text((x, 10), label, font=font, fill=\"white\")\n",
        "\n",
        "    return image\n",
        "\n",
        "def evaluate_model(generator, test_loader, device, save_samples=True, sample_dir=\"RRDB_normalized_result\"):\n",
        "    # Initialize metrics\n",
        "    psnr = PSNR().to(device)\n",
        "    ssim = SSIM().to(device)\n",
        "    lpips = LPIPS(replace_pooling=True).to(device)\n",
        "\n",
        "    metrics = {\n",
        "        'psnr': 0.0,\n",
        "        'ssim': 0.0,\n",
        "        'lpips': 0.0,\n",
        "        'samples': []\n",
        "    }\n",
        "\n",
        "    if save_samples:\n",
        "        os.makedirs(sample_dir, exist_ok=True)\n",
        "\n",
        "    generator.eval()\n",
        "    sample_counter = 0\n",
        "    with torch.no_grad():\n",
        "        for i, (low, high, *_) in enumerate(tqdm(test_loader, desc=\"Testing\")):\n",
        "            low, high = low.to(device), high.to(device)\n",
        "            \n",
        "            # Generate enhanced images\n",
        "            fake = generator(low)\n",
        "            \n",
        "            # Unnormalize for correct metrics calculation and visualization\n",
        "            low_unnorm = unnormalize_tensor(low.clone())\n",
        "            high_unnorm = unnormalize_tensor(high.clone())\n",
        "            fake_unnorm = unnormalize_tensor(fake.clone())\n",
        "            \n",
        "            # Update metrics using unnormalized images\n",
        "            metrics['psnr'] += psnr(fake_unnorm, high_unnorm)\n",
        "            metrics['ssim'] += ssim(fake_unnorm, high_unnorm)\n",
        "            metrics['lpips'] += lpips(fake_unnorm, high_unnorm)\n",
        "            \n",
        "            metrics['psnr'] = float(metrics['psnr'].item())\n",
        "            metrics['ssim'] = float(metrics['ssim'].item())\n",
        "            metrics['lpips'] = float(metrics['lpips'].item())\n",
        "\n",
        "            # Save samples with labels\n",
        "            if save_samples and sample_counter < 15:\n",
        "                for img_idx in range(low.size(0)):\n",
        "                    if sample_counter >= 15:\n",
        "                        break\n",
        "                        \n",
        "                    # Create horizontal comparison with unnormalized images\n",
        "                    comparison = torch.cat([\n",
        "                        low_unnorm[img_idx],\n",
        "                        fake_unnorm[img_idx],\n",
        "                        high_unnorm[img_idx]\n",
        "                    ], dim=-1)\n",
        "\n",
        "                    # Convert to labeled image\n",
        "                    labeled_img = add_labels_to_image(\n",
        "                        comparison,\n",
        "                        [\"Low Light Input\", \"Generated Output\", \"Ground Truth\"]\n",
        "                    )\n",
        "\n",
        "                    # Save image\n",
        "                    sample_path = os.path.join(sample_dir, f\"sample_{sample_counter:04d}.png\")\n",
        "                    labeled_img.save(sample_path)\n",
        "                    metrics['samples'].append(sample_path)\n",
        "                    sample_counter += 1\n",
        "\n",
        "    # Calculate average metrics\n",
        "    num_samples = len(test_loader)\n",
        "    metrics['psnr'] /= num_samples\n",
        "    metrics['ssim'] /= num_samples\n",
        "    metrics['lpips'] /= num_samples\n",
        "\n",
        "    return metrics\n",
        "\n",
        "generator = Generator().to(device)\n",
        "generator.load_state_dict(torch.load(\"NOAUG_RRDB_CHECKPOINTS/best_lpips_ssim.pth\"))\n",
        "\n",
        "# Running evaluation\n",
        "test_metrics = evaluate_model(\n",
        "        generator=generator,\n",
        "        test_loader=test_loader,  # Your prepared test loader\n",
        "        device=device,\n",
        "        save_samples=True,\n",
        "    )\n",
        "\n",
        "test_metrics"
      ]
    }
  ],
  "metadata": {
    "colab": {
      "provenance": []
    },
    "kernelspec": {
      "display_name": ".venv",
      "language": "python",
      "name": "python3"
    },
    "language_info": {
      "codemirror_mode": {
        "name": "ipython",
        "version": 3
      },
      "file_extension": ".py",
      "mimetype": "text/x-python",
      "name": "python",
      "nbconvert_exporter": "python",
      "pygments_lexer": "ipython3",
      "version": "3.10.12"
    },
    "widgets": {
      "application/vnd.jupyter.widget-state+json": {
        "581b12bc469a450e92c9ace7583453ea": {
          "model_module": "@jupyter-widgets/base",
          "model_module_version": "1.2.0",
          "model_name": "LayoutModel",
          "state": {
            "_model_module": "@jupyter-widgets/base",
            "_model_module_version": "1.2.0",
            "_model_name": "LayoutModel",
            "_view_count": null,
            "_view_module": "@jupyter-widgets/base",
            "_view_module_version": "1.2.0",
            "_view_name": "LayoutView",
            "align_content": null,
            "align_items": null,
            "align_self": null,
            "border": null,
            "bottom": null,
            "display": null,
            "flex": null,
            "flex_flow": null,
            "grid_area": null,
            "grid_auto_columns": null,
            "grid_auto_flow": null,
            "grid_auto_rows": null,
            "grid_column": null,
            "grid_gap": null,
            "grid_row": null,
            "grid_template_areas": null,
            "grid_template_columns": null,
            "grid_template_rows": null,
            "height": null,
            "justify_content": null,
            "justify_items": null,
            "left": null,
            "margin": null,
            "max_height": null,
            "max_width": null,
            "min_height": null,
            "min_width": null,
            "object_fit": null,
            "object_position": null,
            "order": null,
            "overflow": null,
            "overflow_x": null,
            "overflow_y": null,
            "padding": null,
            "right": null,
            "top": null,
            "visibility": null,
            "width": null
          }
        },
        "68a90f67a4d64e52a12dfb164b94dd5f": {
          "model_module": "@jupyter-widgets/controls",
          "model_module_version": "1.5.0",
          "model_name": "ButtonStyleModel",
          "state": {
            "_model_module": "@jupyter-widgets/controls",
            "_model_module_version": "1.5.0",
            "_model_name": "ButtonStyleModel",
            "_view_count": null,
            "_view_module": "@jupyter-widgets/base",
            "_view_module_version": "1.2.0",
            "_view_name": "StyleView",
            "button_color": null,
            "font_weight": ""
          }
        },
        "ba39a0ede4bc468f935b270069c4891d": {
          "model_module": "@jupyter-widgets/controls",
          "model_module_version": "1.5.0",
          "model_name": "FileUploadModel",
          "state": {
            "_counter": 7,
            "_dom_classes": [],
            "_model_module": "@jupyter-widgets/controls",
            "_model_module_version": "1.5.0",
            "_model_name": "FileUploadModel",
            "_view_count": null,
            "_view_module": "@jupyter-widgets/controls",
            "_view_module_version": "1.5.0",
            "_view_name": "FileUploadView",
            "accept": "image/*",
            "button_style": "",
            "data": [
              null
            ],
            "description": "Upload",
            "description_tooltip": null,
            "disabled": false,
            "error": "",
            "icon": "upload",
            "layout": "IPY_MODEL_581b12bc469a450e92c9ace7583453ea",
            "metadata": [
              {
                "lastModified": 1743833649773,
                "name": "test_2.jpg",
                "size": 61333,
                "type": "image/jpeg"
              }
            ],
            "multiple": false,
            "style": "IPY_MODEL_68a90f67a4d64e52a12dfb164b94dd5f"
          }
        }
      }
    }
  },
  "nbformat": 4,
  "nbformat_minor": 0
}
